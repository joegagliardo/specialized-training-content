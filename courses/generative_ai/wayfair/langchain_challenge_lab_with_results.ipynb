{
 "cells": [
  {
   "cell_type": "markdown",
   "metadata": {
    "id": "2ii3ihksojvA"
   },
   "source": [
    "# LangChain Challenge Lab\n",
    "\n",
    "![LangChain Logo](https://github.com/rastringer/promptcraft_notebooks/blob/main/images/langchain.png?raw=1)\n",
    "\n",
    "LangChain is a framework for developing applications infused with LLM magic. In this notebook, we will cover some of its most useful and fun features, including:\n",
    "\n",
    "* Templates\n",
    "* Memory\n",
    "* Working with APIs\n",
    "* Chains\n",
    "* Agents\n",
    "* Vector stores"
   ]
  },
  {
   "cell_type": "markdown",
   "metadata": {
    "id": "fLvQkFXbTd2C"
   },
   "source": [
    "Let's start by importing some packages. It takes a while so be patient and keep looking for the Done message at the end before moving on to the next step."
   ]
  },
  {
   "cell_type": "code",
   "execution_count": 1,
   "metadata": {
    "id": "A2k24lCDonBx",
    "tags": []
   },
   "outputs": [
    {
     "name": "stdout",
     "output_type": "stream",
     "text": [
      "Requirement already up-to-date: google-cloud-aiplatform in /opt/conda/lib/python3.10/site-packages (1.65.0)\n",
      "Requirement already satisfied, skipping upgrade: packaging>=14.3 in /opt/conda/lib/python3.10/site-packages (from google-cloud-aiplatform) (24.1)\n",
      "Requirement already satisfied, skipping upgrade: google-auth<3.0.0dev,>=2.14.1 in /opt/conda/lib/python3.10/site-packages (from google-cloud-aiplatform) (2.32.0)\n",
      "Requirement already satisfied, skipping upgrade: proto-plus<2.0.0dev,>=1.22.3 in /opt/conda/lib/python3.10/site-packages (from google-cloud-aiplatform) (1.24.0)\n",
      "Requirement already satisfied, skipping upgrade: protobuf!=4.21.0,!=4.21.1,!=4.21.2,!=4.21.3,!=4.21.4,!=4.21.5,<6.0.0dev,>=3.20.2 in /opt/conda/lib/python3.10/site-packages (from google-cloud-aiplatform) (3.20.3)\n",
      "Requirement already satisfied, skipping upgrade: google-cloud-storage<3.0.0dev,>=1.32.0 in /opt/conda/lib/python3.10/site-packages (from google-cloud-aiplatform) (2.14.0)\n",
      "Requirement already satisfied, skipping upgrade: pydantic<3 in /opt/conda/lib/python3.10/site-packages (from google-cloud-aiplatform) (1.10.8)\n",
      "Requirement already satisfied, skipping upgrade: google-api-core[grpc]!=2.0.*,!=2.1.*,!=2.2.*,!=2.3.*,!=2.4.*,!=2.5.*,!=2.6.*,!=2.7.*,<3.0.0dev,>=1.34.1 in /opt/conda/lib/python3.10/site-packages (from google-cloud-aiplatform) (1.34.1)\n",
      "Requirement already satisfied, skipping upgrade: google-cloud-resource-manager<3.0.0dev,>=1.3.3 in /opt/conda/lib/python3.10/site-packages (from google-cloud-aiplatform) (1.12.5)\n",
      "Requirement already satisfied, skipping upgrade: google-cloud-bigquery!=3.20.0,<4.0.0dev,>=1.15.0 in /opt/conda/lib/python3.10/site-packages (from google-cloud-aiplatform) (3.25.0)\n",
      "Requirement already satisfied, skipping upgrade: shapely<3.0.0dev in /opt/conda/lib/python3.10/site-packages (from google-cloud-aiplatform) (2.0.5)\n",
      "Requirement already satisfied, skipping upgrade: docstring-parser<1 in /opt/conda/lib/python3.10/site-packages (from google-cloud-aiplatform) (0.16)\n",
      "Requirement already satisfied, skipping upgrade: rsa<5,>=3.1.4 in /opt/conda/lib/python3.10/site-packages (from google-auth<3.0.0dev,>=2.14.1->google-cloud-aiplatform) (4.9)\n",
      "Requirement already satisfied, skipping upgrade: pyasn1-modules>=0.2.1 in /opt/conda/lib/python3.10/site-packages (from google-auth<3.0.0dev,>=2.14.1->google-cloud-aiplatform) (0.4.0)\n",
      "Requirement already satisfied, skipping upgrade: cachetools<6.0,>=2.0.0 in /opt/conda/lib/python3.10/site-packages (from google-auth<3.0.0dev,>=2.14.1->google-cloud-aiplatform) (5.4.0)\n",
      "Requirement already satisfied, skipping upgrade: google-cloud-core<3.0dev,>=2.3.0 in /opt/conda/lib/python3.10/site-packages (from google-cloud-storage<3.0.0dev,>=1.32.0->google-cloud-aiplatform) (2.4.1)\n",
      "Requirement already satisfied, skipping upgrade: google-crc32c<2.0dev,>=1.0 in /opt/conda/lib/python3.10/site-packages (from google-cloud-storage<3.0.0dev,>=1.32.0->google-cloud-aiplatform) (1.5.0)\n",
      "Requirement already satisfied, skipping upgrade: requests<3.0.0dev,>=2.18.0 in /opt/conda/lib/python3.10/site-packages (from google-cloud-storage<3.0.0dev,>=1.32.0->google-cloud-aiplatform) (2.32.3)\n",
      "Requirement already satisfied, skipping upgrade: google-resumable-media>=2.6.0 in /opt/conda/lib/python3.10/site-packages (from google-cloud-storage<3.0.0dev,>=1.32.0->google-cloud-aiplatform) (2.7.1)\n",
      "Requirement already satisfied, skipping upgrade: typing-extensions>=4.2.0 in /opt/conda/lib/python3.10/site-packages (from pydantic<3->google-cloud-aiplatform) (4.12.2)\n",
      "Requirement already satisfied, skipping upgrade: googleapis-common-protos<2.0dev,>=1.56.2 in /opt/conda/lib/python3.10/site-packages (from google-api-core[grpc]!=2.0.*,!=2.1.*,!=2.2.*,!=2.3.*,!=2.4.*,!=2.5.*,!=2.6.*,!=2.7.*,<3.0.0dev,>=1.34.1->google-cloud-aiplatform) (1.63.2)\n",
      "Requirement already satisfied, skipping upgrade: grpcio<2.0dev,>=1.33.2; extra == \"grpc\" in /opt/conda/lib/python3.10/site-packages (from google-api-core[grpc]!=2.0.*,!=2.1.*,!=2.2.*,!=2.3.*,!=2.4.*,!=2.5.*,!=2.6.*,!=2.7.*,<3.0.0dev,>=1.34.1->google-cloud-aiplatform) (1.65.4)\n",
      "Requirement already satisfied, skipping upgrade: grpcio-status<2.0dev,>=1.33.2; extra == \"grpc\" in /opt/conda/lib/python3.10/site-packages (from google-api-core[grpc]!=2.0.*,!=2.1.*,!=2.2.*,!=2.3.*,!=2.4.*,!=2.5.*,!=2.6.*,!=2.7.*,<3.0.0dev,>=1.34.1->google-cloud-aiplatform) (1.48.2)\n",
      "Requirement already satisfied, skipping upgrade: grpc-google-iam-v1<1.0.0dev,>=0.12.4 in /opt/conda/lib/python3.10/site-packages (from google-cloud-resource-manager<3.0.0dev,>=1.3.3->google-cloud-aiplatform) (0.13.1)\n",
      "Requirement already satisfied, skipping upgrade: python-dateutil<3.0dev,>=2.7.2 in /opt/conda/lib/python3.10/site-packages (from google-cloud-bigquery!=3.20.0,<4.0.0dev,>=1.15.0->google-cloud-aiplatform) (2.9.0.post0)\n",
      "Requirement already satisfied, skipping upgrade: numpy<3,>=1.14 in /opt/conda/lib/python3.10/site-packages (from shapely<3.0.0dev->google-cloud-aiplatform) (1.26.4)\n",
      "Requirement already satisfied, skipping upgrade: pyasn1>=0.1.3 in /opt/conda/lib/python3.10/site-packages (from rsa<5,>=3.1.4->google-auth<3.0.0dev,>=2.14.1->google-cloud-aiplatform) (0.6.0)\n",
      "Requirement already satisfied, skipping upgrade: charset-normalizer<4,>=2 in /opt/conda/lib/python3.10/site-packages (from requests<3.0.0dev,>=2.18.0->google-cloud-storage<3.0.0dev,>=1.32.0->google-cloud-aiplatform) (2.0.4)\n",
      "Requirement already satisfied, skipping upgrade: certifi>=2017.4.17 in /opt/conda/lib/python3.10/site-packages (from requests<3.0.0dev,>=2.18.0->google-cloud-storage<3.0.0dev,>=1.32.0->google-cloud-aiplatform) (2024.7.4)\n",
      "Requirement already satisfied, skipping upgrade: idna<4,>=2.5 in /opt/conda/lib/python3.10/site-packages (from requests<3.0.0dev,>=2.18.0->google-cloud-storage<3.0.0dev,>=1.32.0->google-cloud-aiplatform) (3.3)\n",
      "Requirement already satisfied, skipping upgrade: urllib3<3,>=1.21.1 in /opt/conda/lib/python3.10/site-packages (from requests<3.0.0dev,>=2.18.0->google-cloud-storage<3.0.0dev,>=1.32.0->google-cloud-aiplatform) (1.26.19)\n",
      "Requirement already satisfied, skipping upgrade: six>=1.5 in /opt/conda/lib/python3.10/site-packages (from python-dateutil<3.0dev,>=2.7.2->google-cloud-bigquery!=3.20.0,<4.0.0dev,>=1.15.0->google-cloud-aiplatform) (1.16.0)\n",
      "Requirement already satisfied: langchain in /opt/conda/lib/python3.10/site-packages (0.2.16)\n",
      "Requirement already satisfied: langchain-experimental in /opt/conda/lib/python3.10/site-packages (0.0.65)\n",
      "Requirement already satisfied: tenacity!=8.4.0,<9.0.0,>=8.1.0 in /opt/conda/lib/python3.10/site-packages (from langchain) (8.5.0)\n",
      "Requirement already satisfied: langchain-core<0.3.0,>=0.2.38 in /opt/conda/lib/python3.10/site-packages (from langchain) (0.2.38)\n",
      "Requirement already satisfied: SQLAlchemy<3,>=1.4 in /opt/conda/lib/python3.10/site-packages (from langchain) (2.0.31)\n",
      "Requirement already satisfied: requests<3,>=2 in /opt/conda/lib/python3.10/site-packages (from langchain) (2.32.3)\n",
      "Requirement already satisfied: numpy<2,>=1; python_version < \"3.12\" in /opt/conda/lib/python3.10/site-packages (from langchain) (1.26.4)\n",
      "Requirement already satisfied: langchain-text-splitters<0.3.0,>=0.2.0 in /opt/conda/lib/python3.10/site-packages (from langchain) (0.2.4)\n",
      "Requirement already satisfied: langsmith<0.2.0,>=0.1.17 in /opt/conda/lib/python3.10/site-packages (from langchain) (0.1.116)\n",
      "Requirement already satisfied: pydantic<3,>=1 in /opt/conda/lib/python3.10/site-packages (from langchain) (1.10.8)\n",
      "Requirement already satisfied: PyYAML>=5.3 in /opt/conda/lib/python3.10/site-packages (from langchain) (6.0.1)\n",
      "Requirement already satisfied: async-timeout<5.0.0,>=4.0.0; python_version < \"3.11\" in /opt/conda/lib/python3.10/site-packages (from langchain) (4.0.3)\n",
      "Requirement already satisfied: aiohttp<4.0.0,>=3.8.3 in /opt/conda/lib/python3.10/site-packages (from langchain) (3.10.0)\n",
      "Requirement already satisfied: langchain-community<0.3.0,>=0.2.16 in /opt/conda/lib/python3.10/site-packages (from langchain-experimental) (0.2.16)\n",
      "Requirement already satisfied: packaging<25,>=23.2 in /opt/conda/lib/python3.10/site-packages (from langchain-core<0.3.0,>=0.2.38->langchain) (24.1)\n",
      "Requirement already satisfied: typing-extensions>=4.7 in /opt/conda/lib/python3.10/site-packages (from langchain-core<0.3.0,>=0.2.38->langchain) (4.12.2)\n",
      "Requirement already satisfied: jsonpatch<2.0,>=1.33 in /opt/conda/lib/python3.10/site-packages (from langchain-core<0.3.0,>=0.2.38->langchain) (1.33)\n",
      "Requirement already satisfied: greenlet!=0.4.17; python_version < \"3.13\" and (platform_machine == \"aarch64\" or (platform_machine == \"ppc64le\" or (platform_machine == \"x86_64\" or (platform_machine == \"amd64\" or (platform_machine == \"AMD64\" or (platform_machine == \"win32\" or platform_machine == \"WIN32\")))))) in /opt/conda/lib/python3.10/site-packages (from SQLAlchemy<3,>=1.4->langchain) (3.0.3)\n",
      "Requirement already satisfied: idna<4,>=2.5 in /opt/conda/lib/python3.10/site-packages (from requests<3,>=2->langchain) (3.3)\n",
      "Requirement already satisfied: charset-normalizer<4,>=2 in /opt/conda/lib/python3.10/site-packages (from requests<3,>=2->langchain) (2.0.4)\n",
      "Requirement already satisfied: certifi>=2017.4.17 in /opt/conda/lib/python3.10/site-packages (from requests<3,>=2->langchain) (2024.7.4)\n",
      "Requirement already satisfied: urllib3<3,>=1.21.1 in /opt/conda/lib/python3.10/site-packages (from requests<3,>=2->langchain) (1.26.19)\n",
      "Requirement already satisfied: orjson<4.0.0,>=3.9.14 in /opt/conda/lib/python3.10/site-packages (from langsmith<0.2.0,>=0.1.17->langchain) (3.10.7)\n",
      "Requirement already satisfied: httpx<1,>=0.23.0 in /opt/conda/lib/python3.10/site-packages (from langsmith<0.2.0,>=0.1.17->langchain) (0.27.2)\n",
      "Requirement already satisfied: frozenlist>=1.1.1 in /opt/conda/lib/python3.10/site-packages (from aiohttp<4.0.0,>=3.8.3->langchain) (1.4.1)\n",
      "Requirement already satisfied: yarl<2.0,>=1.0 in /opt/conda/lib/python3.10/site-packages (from aiohttp<4.0.0,>=3.8.3->langchain) (1.9.4)\n",
      "Requirement already satisfied: attrs>=17.3.0 in /opt/conda/lib/python3.10/site-packages (from aiohttp<4.0.0,>=3.8.3->langchain) (23.2.0)\n",
      "Requirement already satisfied: aiohappyeyeballs>=2.3.0 in /opt/conda/lib/python3.10/site-packages (from aiohttp<4.0.0,>=3.8.3->langchain) (2.3.4)\n",
      "Requirement already satisfied: aiosignal>=1.1.2 in /opt/conda/lib/python3.10/site-packages (from aiohttp<4.0.0,>=3.8.3->langchain) (1.3.1)\n",
      "Requirement already satisfied: multidict<7.0,>=4.5 in /opt/conda/lib/python3.10/site-packages (from aiohttp<4.0.0,>=3.8.3->langchain) (6.0.5)\n",
      "Requirement already satisfied: dataclasses-json<0.7,>=0.5.7 in /opt/conda/lib/python3.10/site-packages (from langchain-community<0.3.0,>=0.2.16->langchain-experimental) (0.6.7)\n",
      "Requirement already satisfied: jsonpointer>=1.9 in /opt/conda/lib/python3.10/site-packages (from jsonpatch<2.0,>=1.33->langchain-core<0.3.0,>=0.2.38->langchain) (3.0.0)\n",
      "Requirement already satisfied: sniffio in /opt/conda/lib/python3.10/site-packages (from httpx<1,>=0.23.0->langsmith<0.2.0,>=0.1.17->langchain) (1.3.1)\n",
      "Requirement already satisfied: httpcore==1.* in /opt/conda/lib/python3.10/site-packages (from httpx<1,>=0.23.0->langsmith<0.2.0,>=0.1.17->langchain) (1.0.5)\n",
      "Requirement already satisfied: anyio in /opt/conda/lib/python3.10/site-packages (from httpx<1,>=0.23.0->langsmith<0.2.0,>=0.1.17->langchain) (3.7.1)\n",
      "Requirement already satisfied: marshmallow<4.0.0,>=3.18.0 in /opt/conda/lib/python3.10/site-packages (from dataclasses-json<0.7,>=0.5.7->langchain-community<0.3.0,>=0.2.16->langchain-experimental) (3.22.0)\n",
      "Requirement already satisfied: typing-inspect<1,>=0.4.0 in /opt/conda/lib/python3.10/site-packages (from dataclasses-json<0.7,>=0.5.7->langchain-community<0.3.0,>=0.2.16->langchain-experimental) (0.8.0)\n",
      "Requirement already satisfied: h11<0.15,>=0.13 in /opt/conda/lib/python3.10/site-packages (from httpcore==1.*->httpx<1,>=0.23.0->langsmith<0.2.0,>=0.1.17->langchain) (0.14.0)\n",
      "Requirement already satisfied: exceptiongroup; python_version < \"3.11\" in /opt/conda/lib/python3.10/site-packages (from anyio->httpx<1,>=0.23.0->langsmith<0.2.0,>=0.1.17->langchain) (1.2.2)\n",
      "Requirement already satisfied: mypy-extensions>=0.3.0 in /opt/conda/lib/python3.10/site-packages (from typing-inspect<1,>=0.4.0->dataclasses-json<0.7,>=0.5.7->langchain-community<0.3.0,>=0.2.16->langchain-experimental) (1.0.0)\n",
      "Collecting langchain-google-vertexai\n",
      "  Using cached langchain_google_vertexai-1.0.10-py3-none-any.whl (86 kB)\n",
      "Requirement already satisfied, skipping upgrade: google-cloud-aiplatform<2.0.0,>=1.56.0 in /opt/conda/lib/python3.10/site-packages (from langchain-google-vertexai) (1.65.0)\n",
      "Collecting httpx-sse<0.5.0,>=0.4.0\n",
      "  Using cached httpx_sse-0.4.0-py3-none-any.whl (7.8 kB)\n",
      "Collecting google-cloud-storage<3.0.0,>=2.17.0\n",
      "  Using cached google_cloud_storage-2.18.2-py2.py3-none-any.whl (130 kB)\n",
      "Requirement already satisfied, skipping upgrade: langchain-core<0.3,>=0.2.33 in /opt/conda/lib/python3.10/site-packages (from langchain-google-vertexai) (0.2.38)\n",
      "Requirement already satisfied, skipping upgrade: httpx<0.28.0,>=0.27.0 in /opt/conda/lib/python3.10/site-packages (from langchain-google-vertexai) (0.27.2)\n",
      "Requirement already satisfied, skipping upgrade: google-cloud-resource-manager<3.0.0dev,>=1.3.3 in /opt/conda/lib/python3.10/site-packages (from google-cloud-aiplatform<2.0.0,>=1.56.0->langchain-google-vertexai) (1.12.5)\n",
      "Requirement already satisfied, skipping upgrade: google-api-core[grpc]!=2.0.*,!=2.1.*,!=2.2.*,!=2.3.*,!=2.4.*,!=2.5.*,!=2.6.*,!=2.7.*,<3.0.0dev,>=1.34.1 in /opt/conda/lib/python3.10/site-packages (from google-cloud-aiplatform<2.0.0,>=1.56.0->langchain-google-vertexai) (1.34.1)\n",
      "Requirement already satisfied, skipping upgrade: shapely<3.0.0dev in /opt/conda/lib/python3.10/site-packages (from google-cloud-aiplatform<2.0.0,>=1.56.0->langchain-google-vertexai) (2.0.5)\n",
      "Requirement already satisfied, skipping upgrade: protobuf!=4.21.0,!=4.21.1,!=4.21.2,!=4.21.3,!=4.21.4,!=4.21.5,<6.0.0dev,>=3.20.2 in /opt/conda/lib/python3.10/site-packages (from google-cloud-aiplatform<2.0.0,>=1.56.0->langchain-google-vertexai) (3.20.3)\n",
      "Requirement already satisfied, skipping upgrade: pydantic<3 in /opt/conda/lib/python3.10/site-packages (from google-cloud-aiplatform<2.0.0,>=1.56.0->langchain-google-vertexai) (1.10.8)\n",
      "Requirement already satisfied, skipping upgrade: google-cloud-bigquery!=3.20.0,<4.0.0dev,>=1.15.0 in /opt/conda/lib/python3.10/site-packages (from google-cloud-aiplatform<2.0.0,>=1.56.0->langchain-google-vertexai) (3.25.0)\n",
      "Requirement already satisfied, skipping upgrade: proto-plus<2.0.0dev,>=1.22.3 in /opt/conda/lib/python3.10/site-packages (from google-cloud-aiplatform<2.0.0,>=1.56.0->langchain-google-vertexai) (1.24.0)\n",
      "Requirement already satisfied, skipping upgrade: docstring-parser<1 in /opt/conda/lib/python3.10/site-packages (from google-cloud-aiplatform<2.0.0,>=1.56.0->langchain-google-vertexai) (0.16)\n",
      "Requirement already satisfied, skipping upgrade: packaging>=14.3 in /opt/conda/lib/python3.10/site-packages (from google-cloud-aiplatform<2.0.0,>=1.56.0->langchain-google-vertexai) (24.1)\n",
      "Requirement already satisfied, skipping upgrade: google-auth<3.0.0dev,>=2.14.1 in /opt/conda/lib/python3.10/site-packages (from google-cloud-aiplatform<2.0.0,>=1.56.0->langchain-google-vertexai) (2.32.0)\n",
      "Requirement already satisfied, skipping upgrade: google-cloud-core<3.0dev,>=2.3.0 in /opt/conda/lib/python3.10/site-packages (from google-cloud-storage<3.0.0,>=2.17.0->langchain-google-vertexai) (2.4.1)\n",
      "Requirement already satisfied, skipping upgrade: google-crc32c<2.0dev,>=1.0 in /opt/conda/lib/python3.10/site-packages (from google-cloud-storage<3.0.0,>=2.17.0->langchain-google-vertexai) (1.5.0)\n",
      "Collecting google-resumable-media>=2.7.2\n",
      "  Using cached google_resumable_media-2.7.2-py2.py3-none-any.whl (81 kB)\n",
      "Requirement already satisfied, skipping upgrade: requests<3.0.0dev,>=2.18.0 in /opt/conda/lib/python3.10/site-packages (from google-cloud-storage<3.0.0,>=2.17.0->langchain-google-vertexai) (2.32.3)\n",
      "Requirement already satisfied, skipping upgrade: tenacity!=8.4.0,<9.0.0,>=8.1.0 in /opt/conda/lib/python3.10/site-packages (from langchain-core<0.3,>=0.2.33->langchain-google-vertexai) (8.5.0)\n",
      "Requirement already satisfied, skipping upgrade: PyYAML>=5.3 in /opt/conda/lib/python3.10/site-packages (from langchain-core<0.3,>=0.2.33->langchain-google-vertexai) (6.0.1)\n",
      "Requirement already satisfied, skipping upgrade: langsmith<0.2.0,>=0.1.75 in /opt/conda/lib/python3.10/site-packages (from langchain-core<0.3,>=0.2.33->langchain-google-vertexai) (0.1.116)\n",
      "Requirement already satisfied, skipping upgrade: jsonpatch<2.0,>=1.33 in /opt/conda/lib/python3.10/site-packages (from langchain-core<0.3,>=0.2.33->langchain-google-vertexai) (1.33)\n",
      "Requirement already satisfied, skipping upgrade: typing-extensions>=4.7 in /opt/conda/lib/python3.10/site-packages (from langchain-core<0.3,>=0.2.33->langchain-google-vertexai) (4.12.2)\n",
      "Requirement already satisfied, skipping upgrade: anyio in /opt/conda/lib/python3.10/site-packages (from httpx<0.28.0,>=0.27.0->langchain-google-vertexai) (3.7.1)\n",
      "Requirement already satisfied, skipping upgrade: sniffio in /opt/conda/lib/python3.10/site-packages (from httpx<0.28.0,>=0.27.0->langchain-google-vertexai) (1.3.1)\n",
      "Requirement already satisfied, skipping upgrade: idna in /opt/conda/lib/python3.10/site-packages (from httpx<0.28.0,>=0.27.0->langchain-google-vertexai) (3.3)\n",
      "Requirement already satisfied, skipping upgrade: httpcore==1.* in /opt/conda/lib/python3.10/site-packages (from httpx<0.28.0,>=0.27.0->langchain-google-vertexai) (1.0.5)\n",
      "Requirement already satisfied, skipping upgrade: certifi in /opt/conda/lib/python3.10/site-packages (from httpx<0.28.0,>=0.27.0->langchain-google-vertexai) (2024.7.4)\n",
      "Requirement already satisfied, skipping upgrade: grpc-google-iam-v1<1.0.0dev,>=0.12.4 in /opt/conda/lib/python3.10/site-packages (from google-cloud-resource-manager<3.0.0dev,>=1.3.3->google-cloud-aiplatform<2.0.0,>=1.56.0->langchain-google-vertexai) (0.13.1)\n",
      "Requirement already satisfied, skipping upgrade: googleapis-common-protos<2.0dev,>=1.56.2 in /opt/conda/lib/python3.10/site-packages (from google-api-core[grpc]!=2.0.*,!=2.1.*,!=2.2.*,!=2.3.*,!=2.4.*,!=2.5.*,!=2.6.*,!=2.7.*,<3.0.0dev,>=1.34.1->google-cloud-aiplatform<2.0.0,>=1.56.0->langchain-google-vertexai) (1.63.2)\n",
      "Requirement already satisfied, skipping upgrade: grpcio-status<2.0dev,>=1.33.2; extra == \"grpc\" in /opt/conda/lib/python3.10/site-packages (from google-api-core[grpc]!=2.0.*,!=2.1.*,!=2.2.*,!=2.3.*,!=2.4.*,!=2.5.*,!=2.6.*,!=2.7.*,<3.0.0dev,>=1.34.1->google-cloud-aiplatform<2.0.0,>=1.56.0->langchain-google-vertexai) (1.48.2)\n",
      "Requirement already satisfied, skipping upgrade: grpcio<2.0dev,>=1.33.2; extra == \"grpc\" in /opt/conda/lib/python3.10/site-packages (from google-api-core[grpc]!=2.0.*,!=2.1.*,!=2.2.*,!=2.3.*,!=2.4.*,!=2.5.*,!=2.6.*,!=2.7.*,<3.0.0dev,>=1.34.1->google-cloud-aiplatform<2.0.0,>=1.56.0->langchain-google-vertexai) (1.65.4)\n",
      "Requirement already satisfied, skipping upgrade: numpy<3,>=1.14 in /opt/conda/lib/python3.10/site-packages (from shapely<3.0.0dev->google-cloud-aiplatform<2.0.0,>=1.56.0->langchain-google-vertexai) (1.26.4)\n",
      "Requirement already satisfied, skipping upgrade: python-dateutil<3.0dev,>=2.7.2 in /opt/conda/lib/python3.10/site-packages (from google-cloud-bigquery!=3.20.0,<4.0.0dev,>=1.15.0->google-cloud-aiplatform<2.0.0,>=1.56.0->langchain-google-vertexai) (2.9.0.post0)\n",
      "Requirement already satisfied, skipping upgrade: pyasn1-modules>=0.2.1 in /opt/conda/lib/python3.10/site-packages (from google-auth<3.0.0dev,>=2.14.1->google-cloud-aiplatform<2.0.0,>=1.56.0->langchain-google-vertexai) (0.4.0)\n",
      "Requirement already satisfied, skipping upgrade: rsa<5,>=3.1.4 in /opt/conda/lib/python3.10/site-packages (from google-auth<3.0.0dev,>=2.14.1->google-cloud-aiplatform<2.0.0,>=1.56.0->langchain-google-vertexai) (4.9)\n",
      "Requirement already satisfied, skipping upgrade: cachetools<6.0,>=2.0.0 in /opt/conda/lib/python3.10/site-packages (from google-auth<3.0.0dev,>=2.14.1->google-cloud-aiplatform<2.0.0,>=1.56.0->langchain-google-vertexai) (5.4.0)\n",
      "Requirement already satisfied, skipping upgrade: urllib3<3,>=1.21.1 in /opt/conda/lib/python3.10/site-packages (from requests<3.0.0dev,>=2.18.0->google-cloud-storage<3.0.0,>=2.17.0->langchain-google-vertexai) (1.26.19)\n",
      "Requirement already satisfied, skipping upgrade: charset-normalizer<4,>=2 in /opt/conda/lib/python3.10/site-packages (from requests<3.0.0dev,>=2.18.0->google-cloud-storage<3.0.0,>=2.17.0->langchain-google-vertexai) (2.0.4)\n",
      "Requirement already satisfied, skipping upgrade: orjson<4.0.0,>=3.9.14 in /opt/conda/lib/python3.10/site-packages (from langsmith<0.2.0,>=0.1.75->langchain-core<0.3,>=0.2.33->langchain-google-vertexai) (3.10.7)\n",
      "Requirement already satisfied, skipping upgrade: jsonpointer>=1.9 in /opt/conda/lib/python3.10/site-packages (from jsonpatch<2.0,>=1.33->langchain-core<0.3,>=0.2.33->langchain-google-vertexai) (3.0.0)\n",
      "Requirement already satisfied, skipping upgrade: exceptiongroup; python_version < \"3.11\" in /opt/conda/lib/python3.10/site-packages (from anyio->httpx<0.28.0,>=0.27.0->langchain-google-vertexai) (1.2.2)\n",
      "Requirement already satisfied, skipping upgrade: h11<0.15,>=0.13 in /opt/conda/lib/python3.10/site-packages (from httpcore==1.*->httpx<0.28.0,>=0.27.0->langchain-google-vertexai) (0.14.0)\n",
      "Requirement already satisfied, skipping upgrade: six>=1.5 in /opt/conda/lib/python3.10/site-packages (from python-dateutil<3.0dev,>=2.7.2->google-cloud-bigquery!=3.20.0,<4.0.0dev,>=1.15.0->google-cloud-aiplatform<2.0.0,>=1.56.0->langchain-google-vertexai) (1.16.0)\n",
      "Requirement already satisfied, skipping upgrade: pyasn1<0.7.0,>=0.4.6 in /opt/conda/lib/python3.10/site-packages (from pyasn1-modules>=0.2.1->google-auth<3.0.0dev,>=2.14.1->google-cloud-aiplatform<2.0.0,>=1.56.0->langchain-google-vertexai) (0.6.0)\n",
      "Installing collected packages: httpx-sse, google-resumable-media, google-cloud-storage, langchain-google-vertexai\n",
      "  Attempting uninstall: google-resumable-media\n",
      "    Found existing installation: google-resumable-media 2.7.1\n",
      "    Uninstalling google-resumable-media-2.7.1:\n",
      "      Successfully uninstalled google-resumable-media-2.7.1\n",
      "  Attempting uninstall: google-cloud-storage\n",
      "    Found existing installation: google-cloud-storage 2.14.0\n",
      "    Uninstalling google-cloud-storage-2.14.0:\n",
      "      Successfully uninstalled google-cloud-storage-2.14.0\n",
      "\u001b[31mERROR: pip's legacy dependency resolver does not consider dependency conflicts when selecting packages. This behaviour is the source of the following dependency conflicts.\n",
      "google-cloud-storage 2.18.2 requires google-api-core<3.0.0dev,>=2.15.0, but you'll have google-api-core 1.34.1 which is incompatible.\u001b[0m\n",
      "Successfully installed google-cloud-storage-2.18.2 google-resumable-media-2.7.2 httpx-sse-0.4.0 langchain-google-vertexai-1.0.10\n",
      "Requirement already satisfied: pypdf in /opt/conda/lib/python3.10/site-packages (4.3.1)\n",
      "Requirement already satisfied: typing_extensions>=4.0; python_version < \"3.11\" in /opt/conda/lib/python3.10/site-packages (from pypdf) (4.12.2)\n",
      "Requirement already satisfied: pydantic==1.10.8 in /opt/conda/lib/python3.10/site-packages (1.10.8)\n",
      "Requirement already satisfied: typing-extensions>=4.2.0 in /opt/conda/lib/python3.10/site-packages (from pydantic==1.10.8) (4.12.2)\n",
      "Requirement already satisfied: chromadb==0.3.26 in /opt/conda/lib/python3.10/site-packages (0.3.26)\n",
      "Requirement already satisfied: tqdm>=4.65.0 in /opt/conda/lib/python3.10/site-packages (from chromadb==0.3.26) (4.66.5)\n",
      "Requirement already satisfied: pulsar-client>=3.1.0 in /opt/conda/lib/python3.10/site-packages (from chromadb==0.3.26) (3.5.0)\n",
      "Requirement already satisfied: posthog>=2.4.0 in /opt/conda/lib/python3.10/site-packages (from chromadb==0.3.26) (3.6.3)\n",
      "Requirement already satisfied: overrides>=7.3.1 in /opt/conda/lib/python3.10/site-packages (from chromadb==0.3.26) (7.7.0)\n",
      "Requirement already satisfied: pandas>=1.3 in /opt/conda/lib/python3.10/site-packages (from chromadb==0.3.26) (2.2.2)\n",
      "Requirement already satisfied: duckdb>=0.7.1 in /opt/conda/lib/python3.10/site-packages (from chromadb==0.3.26) (1.0.0)\n",
      "Requirement already satisfied: uvicorn[standard]>=0.18.3 in /opt/conda/lib/python3.10/site-packages (from chromadb==0.3.26) (0.30.5)\n",
      "Requirement already satisfied: clickhouse-connect>=0.5.7 in /opt/conda/lib/python3.10/site-packages (from chromadb==0.3.26) (0.7.19)\n",
      "Requirement already satisfied: onnxruntime>=1.14.1 in /opt/conda/lib/python3.10/site-packages (from chromadb==0.3.26) (1.19.2)\n",
      "Requirement already satisfied: hnswlib>=0.7 in /opt/conda/lib/python3.10/site-packages (from chromadb==0.3.26) (0.8.0)\n",
      "Requirement already satisfied: typing-extensions>=4.5.0 in /opt/conda/lib/python3.10/site-packages (from chromadb==0.3.26) (4.12.2)\n",
      "Requirement already satisfied: fastapi>=0.85.1 in /opt/conda/lib/python3.10/site-packages (from chromadb==0.3.26) (0.112.0)\n",
      "Requirement already satisfied: requests>=2.28 in /opt/conda/lib/python3.10/site-packages (from chromadb==0.3.26) (2.32.3)\n",
      "Requirement already satisfied: numpy>=1.21.6 in /opt/conda/lib/python3.10/site-packages (from chromadb==0.3.26) (1.26.4)\n",
      "Requirement already satisfied: tokenizers>=0.13.2 in /opt/conda/lib/python3.10/site-packages (from chromadb==0.3.26) (0.19.1)\n",
      "Requirement already satisfied: pydantic>=1.9 in /opt/conda/lib/python3.10/site-packages (from chromadb==0.3.26) (1.10.8)\n",
      "Requirement already satisfied: certifi in /opt/conda/lib/python3.10/site-packages (from pulsar-client>=3.1.0->chromadb==0.3.26) (2024.7.4)\n",
      "Requirement already satisfied: python-dateutil>2.1 in /opt/conda/lib/python3.10/site-packages (from posthog>=2.4.0->chromadb==0.3.26) (2.9.0.post0)\n",
      "Requirement already satisfied: six>=1.5 in /opt/conda/lib/python3.10/site-packages (from posthog>=2.4.0->chromadb==0.3.26) (1.16.0)\n",
      "Requirement already satisfied: backoff>=1.10.0 in /opt/conda/lib/python3.10/site-packages (from posthog>=2.4.0->chromadb==0.3.26) (2.2.1)\n",
      "Requirement already satisfied: monotonic>=1.5 in /opt/conda/lib/python3.10/site-packages (from posthog>=2.4.0->chromadb==0.3.26) (1.6)\n",
      "Requirement already satisfied: tzdata>=2022.7 in /opt/conda/lib/python3.10/site-packages (from pandas>=1.3->chromadb==0.3.26) (2024.1)\n",
      "Requirement already satisfied: pytz>=2020.1 in /opt/conda/lib/python3.10/site-packages (from pandas>=1.3->chromadb==0.3.26) (2024.1)\n",
      "Requirement already satisfied: click>=7.0 in /opt/conda/lib/python3.10/site-packages (from uvicorn[standard]>=0.18.3->chromadb==0.3.26) (8.1.7)\n",
      "Requirement already satisfied: h11>=0.8 in /opt/conda/lib/python3.10/site-packages (from uvicorn[standard]>=0.18.3->chromadb==0.3.26) (0.14.0)\n",
      "Requirement already satisfied: watchfiles>=0.13; extra == \"standard\" in /opt/conda/lib/python3.10/site-packages (from uvicorn[standard]>=0.18.3->chromadb==0.3.26) (0.22.0)\n",
      "Requirement already satisfied: httptools>=0.5.0; extra == \"standard\" in /opt/conda/lib/python3.10/site-packages (from uvicorn[standard]>=0.18.3->chromadb==0.3.26) (0.6.1)\n",
      "Requirement already satisfied: pyyaml>=5.1; extra == \"standard\" in /opt/conda/lib/python3.10/site-packages (from uvicorn[standard]>=0.18.3->chromadb==0.3.26) (6.0.1)\n",
      "Requirement already satisfied: python-dotenv>=0.13; extra == \"standard\" in /opt/conda/lib/python3.10/site-packages (from uvicorn[standard]>=0.18.3->chromadb==0.3.26) (1.0.1)\n",
      "Requirement already satisfied: uvloop!=0.15.0,!=0.15.1,>=0.14.0; (sys_platform != \"win32\" and (sys_platform != \"cygwin\" and platform_python_implementation != \"PyPy\")) and extra == \"standard\" in /opt/conda/lib/python3.10/site-packages (from uvicorn[standard]>=0.18.3->chromadb==0.3.26) (0.19.0)\n",
      "Requirement already satisfied: websockets>=10.4; extra == \"standard\" in /opt/conda/lib/python3.10/site-packages (from uvicorn[standard]>=0.18.3->chromadb==0.3.26) (12.0)\n",
      "Requirement already satisfied: zstandard in /opt/conda/lib/python3.10/site-packages (from clickhouse-connect>=0.5.7->chromadb==0.3.26) (0.23.0)\n",
      "Requirement already satisfied: lz4 in /opt/conda/lib/python3.10/site-packages (from clickhouse-connect>=0.5.7->chromadb==0.3.26) (4.3.3)\n",
      "Requirement already satisfied: urllib3>=1.26 in /opt/conda/lib/python3.10/site-packages (from clickhouse-connect>=0.5.7->chromadb==0.3.26) (1.26.19)\n",
      "Requirement already satisfied: coloredlogs in /opt/conda/lib/python3.10/site-packages (from onnxruntime>=1.14.1->chromadb==0.3.26) (15.0.1)\n",
      "Requirement already satisfied: protobuf in /opt/conda/lib/python3.10/site-packages (from onnxruntime>=1.14.1->chromadb==0.3.26) (3.20.3)\n",
      "Requirement already satisfied: sympy in /opt/conda/lib/python3.10/site-packages (from onnxruntime>=1.14.1->chromadb==0.3.26) (1.13.2)\n",
      "Requirement already satisfied: flatbuffers in /opt/conda/lib/python3.10/site-packages (from onnxruntime>=1.14.1->chromadb==0.3.26) (24.3.25)\n",
      "Requirement already satisfied: packaging in /opt/conda/lib/python3.10/site-packages (from onnxruntime>=1.14.1->chromadb==0.3.26) (24.1)\n",
      "Requirement already satisfied: starlette<0.38.0,>=0.37.2 in /opt/conda/lib/python3.10/site-packages (from fastapi>=0.85.1->chromadb==0.3.26) (0.37.2)\n",
      "Requirement already satisfied: idna<4,>=2.5 in /opt/conda/lib/python3.10/site-packages (from requests>=2.28->chromadb==0.3.26) (3.3)\n",
      "Requirement already satisfied: charset-normalizer<4,>=2 in /opt/conda/lib/python3.10/site-packages (from requests>=2.28->chromadb==0.3.26) (2.0.4)\n",
      "Requirement already satisfied: huggingface-hub<1.0,>=0.16.4 in /opt/conda/lib/python3.10/site-packages (from tokenizers>=0.13.2->chromadb==0.3.26) (0.24.6)\n",
      "Requirement already satisfied: anyio>=3.0.0 in /opt/conda/lib/python3.10/site-packages (from watchfiles>=0.13; extra == \"standard\"->uvicorn[standard]>=0.18.3->chromadb==0.3.26) (3.7.1)\n",
      "Requirement already satisfied: humanfriendly>=9.1 in /opt/conda/lib/python3.10/site-packages (from coloredlogs->onnxruntime>=1.14.1->chromadb==0.3.26) (10.0)\n",
      "Requirement already satisfied: mpmath<1.4,>=1.1.0 in /opt/conda/lib/python3.10/site-packages (from sympy->onnxruntime>=1.14.1->chromadb==0.3.26) (1.3.0)\n",
      "Requirement already satisfied: filelock in /opt/conda/lib/python3.10/site-packages (from huggingface-hub<1.0,>=0.16.4->tokenizers>=0.13.2->chromadb==0.3.26) (3.15.4)\n",
      "Requirement already satisfied: fsspec>=2023.5.0 in /opt/conda/lib/python3.10/site-packages (from huggingface-hub<1.0,>=0.16.4->tokenizers>=0.13.2->chromadb==0.3.26) (2024.6.1)\n",
      "Requirement already satisfied: exceptiongroup; python_version < \"3.11\" in /opt/conda/lib/python3.10/site-packages (from anyio>=3.0.0->watchfiles>=0.13; extra == \"standard\"->uvicorn[standard]>=0.18.3->chromadb==0.3.26) (1.2.2)\n",
      "Requirement already satisfied: sniffio>=1.1 in /opt/conda/lib/python3.10/site-packages (from anyio>=3.0.0->watchfiles>=0.13; extra == \"standard\"->uvicorn[standard]>=0.18.3->chromadb==0.3.26) (1.3.1)\n",
      "Requirement already satisfied: typing-inspect==0.8.0 in /opt/conda/lib/python3.10/site-packages (0.8.0)\n",
      "Collecting typing_extensions==4.5.0\n",
      "  Using cached typing_extensions-4.5.0-py3-none-any.whl (27 kB)\n",
      "Requirement already satisfied: mypy-extensions>=0.3.0 in /opt/conda/lib/python3.10/site-packages (from typing-inspect==0.8.0) (1.0.0)\n",
      "Installing collected packages: typing-extensions\n",
      "  Attempting uninstall: typing-extensions\n",
      "    Found existing installation: typing-extensions 4.12.2\n",
      "    Uninstalling typing-extensions-4.12.2:\n",
      "      Successfully uninstalled typing-extensions-4.12.2\n",
      "\u001b[31mERROR: pip's legacy dependency resolver does not consider dependency conflicts when selecting packages. This behaviour is the source of the following dependency conflicts.\n",
      "typeguard 4.3.0 requires typing-extensions>=4.10.0, but you'll have typing-extensions 4.5.0 which is incompatible.\n",
      "sqlalchemy 2.0.31 requires typing-extensions>=4.6.0, but you'll have typing-extensions 4.5.0 which is incompatible.\n",
      "pydantic-core 2.20.1 requires typing-extensions!=4.7.0,>=4.6.0, but you'll have typing-extensions 4.5.0 which is incompatible.\n",
      "langchain-core 0.2.38 requires typing-extensions>=4.7, but you'll have typing-extensions 4.5.0 which is incompatible.\n",
      "fastapi 0.112.0 requires typing-extensions>=4.8.0, but you'll have typing-extensions 4.5.0 which is incompatible.\u001b[0m\n",
      "Successfully installed typing-extensions-4.5.0\n",
      "Collecting sentence-transformers\n",
      "  Using cached sentence_transformers-3.0.1-py3-none-any.whl (227 kB)\n",
      "Requirement already satisfied: scipy in /opt/conda/lib/python3.10/site-packages (from sentence-transformers) (1.13.1)\n",
      "Requirement already satisfied: tqdm in /opt/conda/lib/python3.10/site-packages (from sentence-transformers) (4.66.5)\n",
      "Requirement already satisfied: huggingface-hub>=0.15.1 in /opt/conda/lib/python3.10/site-packages (from sentence-transformers) (0.24.6)\n",
      "Requirement already satisfied: Pillow in /opt/conda/lib/python3.10/site-packages (from sentence-transformers) (10.4.0)\n",
      "Collecting torch>=1.11.0\n",
      "  Using cached torch-2.4.1-cp310-cp310-manylinux1_x86_64.whl (797.1 MB)\n",
      "Requirement already satisfied: scikit-learn in /opt/conda/lib/python3.10/site-packages (from sentence-transformers) (1.5.1)\n",
      "Collecting transformers<5.0.0,>=4.34.0\n",
      "  Using cached transformers-4.44.2-py3-none-any.whl (9.5 MB)\n",
      "Requirement already satisfied: numpy in /opt/conda/lib/python3.10/site-packages (from sentence-transformers) (1.26.4)\n",
      "Requirement already satisfied: filelock in /opt/conda/lib/python3.10/site-packages (from huggingface-hub>=0.15.1->sentence-transformers) (3.15.4)\n",
      "Requirement already satisfied: pyyaml>=5.1 in /opt/conda/lib/python3.10/site-packages (from huggingface-hub>=0.15.1->sentence-transformers) (6.0.1)\n",
      "Requirement already satisfied: typing-extensions>=3.7.4.3 in /opt/conda/lib/python3.10/site-packages (from huggingface-hub>=0.15.1->sentence-transformers) (4.5.0)\n",
      "Requirement already satisfied: requests in /opt/conda/lib/python3.10/site-packages (from huggingface-hub>=0.15.1->sentence-transformers) (2.32.3)\n",
      "Requirement already satisfied: packaging>=20.9 in /opt/conda/lib/python3.10/site-packages (from huggingface-hub>=0.15.1->sentence-transformers) (24.1)\n",
      "Requirement already satisfied: fsspec>=2023.5.0 in /opt/conda/lib/python3.10/site-packages (from huggingface-hub>=0.15.1->sentence-transformers) (2024.6.1)\n",
      "Requirement already satisfied: nvidia-cublas-cu12==12.1.3.1; platform_system == \"Linux\" and platform_machine == \"x86_64\" in /opt/conda/lib/python3.10/site-packages (from torch>=1.11.0->sentence-transformers) (12.1.3.1)\n",
      "Requirement already satisfied: nvidia-nvtx-cu12==12.1.105; platform_system == \"Linux\" and platform_machine == \"x86_64\" in /opt/conda/lib/python3.10/site-packages (from torch>=1.11.0->sentence-transformers) (12.1.105)\n",
      "Collecting nvidia-cufft-cu12==11.0.2.54; platform_system == \"Linux\" and platform_machine == \"x86_64\"\n",
      "  Using cached nvidia_cufft_cu12-11.0.2.54-py3-none-manylinux1_x86_64.whl (121.6 MB)\n",
      "Requirement already satisfied: nvidia-cusparse-cu12==12.1.0.106; platform_system == \"Linux\" and platform_machine == \"x86_64\" in /opt/conda/lib/python3.10/site-packages (from torch>=1.11.0->sentence-transformers) (12.1.0.106)\n",
      "Collecting nvidia-cuda-runtime-cu12==12.1.105; platform_system == \"Linux\" and platform_machine == \"x86_64\"\n",
      "  Using cached nvidia_cuda_runtime_cu12-12.1.105-py3-none-manylinux1_x86_64.whl (823 kB)\n",
      "Collecting nvidia-cudnn-cu12==9.1.0.70; platform_system == \"Linux\" and platform_machine == \"x86_64\"\n",
      "  Using cached nvidia_cudnn_cu12-9.1.0.70-py3-none-manylinux2014_x86_64.whl (664.8 MB)\n",
      "Collecting nvidia-curand-cu12==10.3.2.106; platform_system == \"Linux\" and platform_machine == \"x86_64\"\n",
      "  Using cached nvidia_curand_cu12-10.3.2.106-py3-none-manylinux1_x86_64.whl (56.5 MB)\n",
      "Requirement already satisfied: sympy in /opt/conda/lib/python3.10/site-packages (from torch>=1.11.0->sentence-transformers) (1.13.2)\n",
      "Requirement already satisfied: networkx in /opt/conda/lib/python3.10/site-packages (from torch>=1.11.0->sentence-transformers) (3.3)\n",
      "Collecting nvidia-cuda-nvrtc-cu12==12.1.105; platform_system == \"Linux\" and platform_machine == \"x86_64\"\n",
      "  Using cached nvidia_cuda_nvrtc_cu12-12.1.105-py3-none-manylinux1_x86_64.whl (23.7 MB)\n",
      "Collecting nvidia-cuda-cupti-cu12==12.1.105; platform_system == \"Linux\" and platform_machine == \"x86_64\"\n",
      "  Using cached nvidia_cuda_cupti_cu12-12.1.105-py3-none-manylinux1_x86_64.whl (14.1 MB)\n",
      "Collecting nvidia-cusolver-cu12==11.4.5.107; platform_system == \"Linux\" and platform_machine == \"x86_64\"\n",
      "  Using cached nvidia_cusolver_cu12-11.4.5.107-py3-none-manylinux1_x86_64.whl (124.2 MB)\n",
      "Requirement already satisfied: triton==3.0.0; platform_system == \"Linux\" and platform_machine == \"x86_64\" and python_version < \"3.13\" in /opt/conda/lib/python3.10/site-packages (from torch>=1.11.0->sentence-transformers) (3.0.0)\n",
      "Requirement already satisfied: jinja2 in /opt/conda/lib/python3.10/site-packages (from torch>=1.11.0->sentence-transformers) (3.1.4)\n",
      "Requirement already satisfied: nvidia-nccl-cu12==2.20.5; platform_system == \"Linux\" and platform_machine == \"x86_64\" in /opt/conda/lib/python3.10/site-packages (from torch>=1.11.0->sentence-transformers) (2.20.5)\n",
      "Requirement already satisfied: joblib>=1.2.0 in /opt/conda/lib/python3.10/site-packages (from scikit-learn->sentence-transformers) (1.4.2)\n",
      "Requirement already satisfied: threadpoolctl>=3.1.0 in /opt/conda/lib/python3.10/site-packages (from scikit-learn->sentence-transformers) (3.5.0)\n",
      "Requirement already satisfied: safetensors>=0.4.1 in /opt/conda/lib/python3.10/site-packages (from transformers<5.0.0,>=4.34.0->sentence-transformers) (0.4.5)\n",
      "Requirement already satisfied: tokenizers<0.20,>=0.19 in /opt/conda/lib/python3.10/site-packages (from transformers<5.0.0,>=4.34.0->sentence-transformers) (0.19.1)\n",
      "Requirement already satisfied: regex!=2019.12.17 in /opt/conda/lib/python3.10/site-packages (from transformers<5.0.0,>=4.34.0->sentence-transformers) (2024.7.24)\n",
      "Requirement already satisfied: urllib3<3,>=1.21.1 in /opt/conda/lib/python3.10/site-packages (from requests->huggingface-hub>=0.15.1->sentence-transformers) (1.26.19)\n",
      "Requirement already satisfied: certifi>=2017.4.17 in /opt/conda/lib/python3.10/site-packages (from requests->huggingface-hub>=0.15.1->sentence-transformers) (2024.7.4)\n",
      "Requirement already satisfied: idna<4,>=2.5 in /opt/conda/lib/python3.10/site-packages (from requests->huggingface-hub>=0.15.1->sentence-transformers) (3.3)\n",
      "Requirement already satisfied: charset-normalizer<4,>=2 in /opt/conda/lib/python3.10/site-packages (from requests->huggingface-hub>=0.15.1->sentence-transformers) (2.0.4)\n",
      "Requirement already satisfied: nvidia-nvjitlink-cu12 in /opt/conda/lib/python3.10/site-packages (from nvidia-cusparse-cu12==12.1.0.106; platform_system == \"Linux\" and platform_machine == \"x86_64\"->torch>=1.11.0->sentence-transformers) (12.6.68)\n",
      "Requirement already satisfied: mpmath<1.4,>=1.1.0 in /opt/conda/lib/python3.10/site-packages (from sympy->torch>=1.11.0->sentence-transformers) (1.3.0)\n",
      "Requirement already satisfied: MarkupSafe>=2.0 in /opt/conda/lib/python3.10/site-packages (from jinja2->torch>=1.11.0->sentence-transformers) (2.1.5)\n",
      "Installing collected packages: nvidia-cufft-cu12, nvidia-cuda-runtime-cu12, nvidia-cudnn-cu12, nvidia-curand-cu12, nvidia-cuda-nvrtc-cu12, nvidia-cuda-cupti-cu12, nvidia-cusolver-cu12, torch, transformers, sentence-transformers\n",
      "\u001b[31mERROR: pip's legacy dependency resolver does not consider dependency conflicts when selecting packages. This behaviour is the source of the following dependency conflicts.\n",
      "torch 2.4.1 requires typing-extensions>=4.8.0, but you'll have typing-extensions 4.5.0 which is incompatible.\u001b[0m\n",
      "Successfully installed nvidia-cuda-cupti-cu12-12.1.105 nvidia-cuda-nvrtc-cu12-12.1.105 nvidia-cuda-runtime-cu12-12.1.105 nvidia-cudnn-cu12-9.1.0.70 nvidia-cufft-cu12-11.0.2.54 nvidia-curand-cu12-10.3.2.106 nvidia-cusolver-cu12-11.4.5.107 sentence-transformers-3.0.1 torch-2.4.1 transformers-4.44.2\n",
      "Done\n"
     ]
    }
   ],
   "source": [
    "! pip install --upgrade google-cloud-aiplatform --use-deprecated=legacy-resolver\n",
    "# LangChain\n",
    "! pip install langchain langchain-experimental langchain[docarray] --use-deprecated=legacy-resolver\n",
    "! pip install -U langchain-google-vertexai --use-deprecated=legacy-resolver\n",
    "! pip install pypdf --use-deprecated=legacy-resolver\n",
    "! pip install pydantic==1.10.8 --use-deprecated=legacy-resolver\n",
    "# Open source vector store\n",
    "! pip install chromadb==0.3.26 --use-deprecated=legacy-resolver\n",
    "! pip install typing-inspect==0.8.0 typing_extensions==4.5.0 --use-deprecated=legacy-resolver\n",
    "# For dense vector representations of text\n",
    "! pip install sentence-transformers --use-deprecated=legacy-resolver\n",
    "\n",
    "print('Done')"
   ]
  },
  {
   "cell_type": "code",
   "execution_count": 2,
   "metadata": {
    "id": "OPxAFOghonE3",
    "tags": []
   },
   "outputs": [
    {
     "data": {
      "text/plain": [
       "{'status': 'ok', 'restart': True}"
      ]
     },
     "execution_count": 2,
     "metadata": {},
     "output_type": "execute_result"
    }
   ],
   "source": [
    "# Automatically restart kernel after installs so that your environment can access the new packages\n",
    "import IPython\n",
    "\n",
    "app = IPython.Application.instance()\n",
    "app.kernel.do_shutdown(True)"
   ]
  },
  {
   "cell_type": "code",
   "execution_count": 1,
   "metadata": {
    "id": "AGVFxl9fjt0I",
    "tags": []
   },
   "outputs": [],
   "source": [
    "import vertexai\n",
    "\n",
    "vertexai.init()"
   ]
  },
  {
   "cell_type": "code",
   "execution_count": 2,
   "metadata": {
    "id": "N7Y7McwEz8Zk",
    "tags": []
   },
   "outputs": [
    {
     "name": "stdout",
     "output_type": "stream",
     "text": [
      "LangChain version: 0.2.16\n",
      "Vertex AI SDK version: 1.65.0\n"
     ]
    }
   ],
   "source": [
    "# Utils\n",
    "import time\n",
    "from typing import List\n",
    "\n",
    "# Langchain\n",
    "import langchain\n",
    "from pydantic import BaseModel\n",
    "\n",
    "print(f\"LangChain version: {langchain.__version__}\")\n",
    "\n",
    "# Vertex AI\n",
    "from google.cloud import aiplatform\n",
    "from langchain_google_vertexai import ChatVertexAI\n",
    "from langchain.embeddings import VertexAIEmbeddings\n",
    "from langchain_google_vertexai import VertexAI\n",
    "from langchain.schema import HumanMessage, SystemMessage\n",
    "\n",
    "print(f\"Vertex AI SDK version: {aiplatform.__version__}\")"
   ]
  },
  {
   "cell_type": "markdown",
   "metadata": {},
   "source": [
    "### In the rest of the notebook we will need to do some tasks with a single prompt and some with a chat session. Set up a variable for each of those using the appropriate class. Use the following parameters for both.\n",
    " <font color='blue' face=\"Courier New\" size=\"+2\"> \n",
    " max_output_tokens=1024\n",
    " <br>\n",
    "    temperature=0.2\n",
    " <br>\n",
    "    top_p=0.8\n",
    " <br>\n",
    "    top_k=40\n",
    " <br>\n",
    "    verbose=True\n",
    "    </font>\n",
    "<br>\n",
    "<br>\n",
    "<details><summary>Click for <b>hint</b></summary>\n",
    "<p>\n",
    "Take a look at some of the imports we did in the previous step to help identify which classes you need to initialize.\n",
    "<br>\n",
    "</p>\n",
    "</details>\n",
    "\n",
    "<details><summary>Click for <b>code</b></summary>\n",
    "<p>\n",
    "\n",
    "```python\n",
    "\n",
    "chat = ChatVertexAI(\n",
    "    max_output_tokens=1024,\n",
    "    temperature=0.2,\n",
    "    top_p=0.8,\n",
    "    top_k=40,\n",
    "    verbose=True)\n",
    "\n",
    "llm = VertexAI(\n",
    "    max_output_tokens=1024,\n",
    "    temperature=0.2,\n",
    "    top_p=0.8,\n",
    "    top_k=40,\n",
    "    verbose=True)\n",
    "    \n",
    "```\n",
    "</p>\n",
    "</details>"
   ]
  },
  {
   "cell_type": "code",
   "execution_count": 3,
   "metadata": {
    "id": "LogO0tJ9z-73",
    "tags": []
   },
   "outputs": [
    {
     "name": "stderr",
     "output_type": "stream",
     "text": [
      "Model_name will become a required arg for VertexAIEmbeddings starting from Sep-01-2024. Currently the default is set to chat-bison\n"
     ]
    }
   ],
   "source": [
    "# We will use chat for some tasks\n",
    "chat = \n",
    "\n",
    "# And we will use the general text llm for others\n",
    "llm = "
   ]
  },
  {
   "cell_type": "markdown",
   "metadata": {},
   "source": [
    "### The simplest LangChain use is to create chats comprising of a  <font color='blue' face=\"Courier New\" size=\"+3\">SystemMessage</font> setting up the context as being something that indicates the LLM should be a creative, expert chef and <font color='blue' face=\"Courier New\" size=\"+3\">HumanMessage</font> in which you ask it to build a recipe with a few ingredients of your choice. This is similar to the <font color='blue' face=\"Courier New\" size=\"+3\">context</font> and <font color='blue' face=\"Courier New\" size=\"+3\">user_message</font> that we provide the LLM using the Python client libraries.\n",
    "The \n",
    "<br>\n",
    "<details><summary>Click for <b>hint</b></summary>\n",
    "<p>\n",
    "Use the  <font color='blue' face=\"Courier New\" size=\"+2\">chat</font> function\n",
    "<br>\n",
    "It takes a  <font color='blue' face=\"Courier New\" size=\"+2\">list</font> of parameters\n",
    "<br>\n",
    "<br>\n",
    "</p>\n",
    "</details>\n",
    "\n",
    "<details><summary>Click for <b>code</b></summary>\n",
    "<p>\n",
    "\n",
    "```python\n",
    "res = chat(\n",
    "    [\n",
    "        SystemMessage(\n",
    "            content=\"You are an expert chef that thinks of imaginative recipies when people give you ingredients.\"\n",
    "        ),\n",
    "        HumanMessage(content=\"I have some kidney beans and tomatoes, what would be an easy lunch?\"),\n",
    "    ]\n",
    ")\n",
    "\n",
    "print(res.content)\n",
    "```\n",
    "</p>\n",
    "</details>"
   ]
  },
  {
   "cell_type": "code",
   "execution_count": 4,
   "metadata": {
    "id": "lP39CLLa0F2I",
    "tags": []
   },
   "outputs": [
    {
     "name": "stderr",
     "output_type": "stream",
     "text": [
      "/var/tmp/ipykernel_9420/2490591958.py:1: LangChainDeprecationWarning: The method `BaseChatModel.__call__` was deprecated in langchain-core 0.1.7 and will be removed in 1.0. Use invoke instead.\n",
      "  res = chat(\n"
     ]
    },
    {
     "name": "stdout",
     "output_type": "stream",
     "text": [
      " Kidney beans and tomatoes are a great combination for a quick and easy lunch. Here's a simple recipe you can try:\n",
      "\n",
      "**Ingredients:**\n",
      "\n",
      "- 1 can (15 ounces) kidney beans, rinsed and drained\n",
      "- 1 can (14.5 ounces) diced tomatoes, undrained\n",
      "- 1/2 cup chopped onion\n",
      "- 1/2 cup chopped green bell pepper\n",
      "- 1/4 cup chopped cilantro\n",
      "- 1 teaspoon chili powder\n",
      "- 1/2 teaspoon ground cumin\n",
      "- 1/4 teaspoon salt\n",
      "- 1/4 teaspoon black pepper\n",
      "- 1/4 cup shredded cheese (optional)\n",
      "- Tortillas, chips, or bread, for serving\n",
      "\n",
      "**Instructions:**\n",
      "\n",
      "1. In a large skillet, heat a little bit of oil over medium heat.\n",
      "2. Add the onion and green bell pepper and cook until softened, about 5 minutes.\n",
      "3. Add the kidney beans, tomatoes, chili powder, cumin, salt, and black pepper. Bring to a simmer and cook for 10 minutes, or until the beans are heated through.\n",
      "4. Stir in the cilantro and cheese, if using.\n",
      "5. Serve with tortillas, chips, or bread.\n",
      "\n",
      "Enjoy your delicious and easy kidney bean and tomato lunch!\n"
     ]
    }
   ],
   "source": []
  },
  {
   "cell_type": "markdown",
   "metadata": {
    "id": "yiNioRJBeCeU"
   },
   "source": [
    "## Prompt templates\n",
    "\n",
    "Templates are an abstraction that can help keep prompts modular and reusable. This can be especially important in large applications which may require long and varied prompts.\n",
    "\n",
    "Templates may include few-short examples, instructions, or context.\n",
    "\n",
    "### The <font color='blue' face=\"Courier New\" size=\"+2\">template_string</font> parameters sets the context for the <font color='blue' face=\"Courier New\" size=\"+2\">ChatPromptTemplate</font>\n",
    "### Initialize the <font color='blue' face=\"Courier New\" size=\"+2\">prompt_template</font> variable below using the provided template string.\n",
    "<br>\n",
    "<details><summary>Click for <b>hint</b></summary>\n",
    "<p>\n",
    "If you're not sure what method to use in the <font color='blue' face=\"Courier New\" size=\"+2\">ChatPromptTemplate</font> class use <font color='blue' face=\"Courier New\" size=\"+2\">dir</font> to explore its methods.\n",
    "<br>\n",
    "</p>\n",
    "</details>\n",
    "\n",
    "<details><summary>Click for <b>code</b></summary>\n",
    "<p>\n",
    "\n",
    "```python\n",
    "from langchain.prompts import ChatPromptTemplate\n",
    "\n",
    "template_string = \"\"\"\n",
    "Translate the text that is delimited by triple backticks into a style that is {style}. text: ```{text}```\n",
    "\"\"\"\n",
    "prompt_template = ChatPromptTemplate.from_template(template_string)\n",
    "print(prompt_template)\n",
    "```\n",
    "</p>\n",
    "</details>\n",
    "\n"
   ]
  },
  {
   "cell_type": "code",
   "execution_count": 5,
   "metadata": {
    "id": "SSkWubxs1CGM",
    "tags": []
   },
   "outputs": [
    {
     "name": "stdout",
     "output_type": "stream",
     "text": [
      "input_variables=['style', 'text'] messages=[HumanMessagePromptTemplate(prompt=PromptTemplate(input_variables=['style', 'text'], template='\\nTranslate the text that is delimited by triple backticks into a style that is {style}. text: ```{text}```\\n'))]\n"
     ]
    }
   ],
   "source": [
    "from langchain.prompts import ChatPromptTemplate\n",
    "\n",
    "template_string = \"\"\"Translate the text \\\n",
    "that is delimited by triple backticks \\\n",
    "into a style that is {style}. \\\n",
    "text: ```{text}```\n",
    "\"\"\"\n",
    "prompt_template = \n",
    "print(prompt_template)"
   ]
  },
  {
   "cell_type": "markdown",
   "metadata": {
    "id": "upPmDaJTLgw7"
   },
   "source": [
    "The chat prompts can be thought of as a series of messages. Notice the <font color='blue' face=\"Courier New\" size=\"+2\">.messages</font> and <font color='blue' face=\"Courier New\" size=\"+2\">.format_messages</font> methods in the following cells."
   ]
  },
  {
   "cell_type": "code",
   "execution_count": 6,
   "metadata": {
    "id": "9Yb3dCKwLq2V",
    "tags": []
   },
   "outputs": [
    {
     "data": {
      "text/plain": [
       "[HumanMessagePromptTemplate(prompt=PromptTemplate(input_variables=['style', 'text'], template='\\nTranslate the text that is delimited by triple backticks into a style that is {style}. text: ```{text}```\\n'))]"
      ]
     },
     "execution_count": 6,
     "metadata": {},
     "output_type": "execute_result"
    }
   ],
   "source": [
    "# Print out the template\n",
    "prompt_template.messages"
   ]
  },
  {
   "cell_type": "code",
   "execution_count": 7,
   "metadata": {
    "id": "mUeNeCwA1BiE",
    "tags": []
   },
   "outputs": [
    {
     "data": {
      "text/plain": [
       "PromptTemplate(input_variables=['style', 'text'], template='\\nTranslate the text that is delimited by triple backticks into a style that is {style}. text: ```{text}```\\n')"
      ]
     },
     "execution_count": 7,
     "metadata": {},
     "output_type": "execute_result"
    }
   ],
   "source": [
    "#Let's check just the prompt\n",
    "prompt_template.messages[0].prompt"
   ]
  },
  {
   "cell_type": "code",
   "execution_count": 8,
   "metadata": {
    "id": "dRYnKpuG0-Zz",
    "tags": []
   },
   "outputs": [
    {
     "data": {
      "text/plain": [
       "['style', 'text']"
      ]
     },
     "execution_count": 8,
     "metadata": {},
     "output_type": "execute_result"
    }
   ],
   "source": [
    "# Helpful method to keep track of a template's inputs\n",
    "prompt_template.messages[0].prompt.input_variables"
   ]
  },
  {
   "cell_type": "markdown",
   "metadata": {
    "id": "DaD1QsBiKePJ"
   },
   "source": [
    "In this simple example, we translate a customer e-mail into phonetic Glaswegian."
   ]
  },
  {
   "cell_type": "code",
   "execution_count": 9,
   "metadata": {
    "id": "9RzYUX3o1G-D",
    "tags": []
   },
   "outputs": [],
   "source": [
    "translator_style = \"\"\"A translator that writes in phonetic Glaswegian.\"\"\""
   ]
  },
  {
   "cell_type": "code",
   "execution_count": 10,
   "metadata": {
    "id": "VOYeAk6i1Kky",
    "tags": []
   },
   "outputs": [],
   "source": [
    "customer_email = \"\"\"\n",
    "This smashing little coffee maker is simply brilliant! \\\n",
    "I'm so pleased with how easy it is to use and how quickly it brews \\\n",
    "a cracking cup of coffee. \\\n",
    "I'm over the moon with this purchase and would highly recommend it \\\n",
    "to any other coffee lover looking for a top-notch brew every time.\n",
    "\"\"\""
   ]
  },
  {
   "cell_type": "code",
   "execution_count": 11,
   "metadata": {
    "id": "mwuKkrjL1MP8",
    "tags": []
   },
   "outputs": [],
   "source": [
    "# The format_messages method sets up the task specified in the template\n",
    "customer_messages = prompt_template.format_messages(\n",
    "                    style=translator_style,\n",
    "                    text=customer_email)"
   ]
  },
  {
   "cell_type": "code",
   "execution_count": 12,
   "metadata": {
    "id": "lTqCIvvh1PSz",
    "tags": []
   },
   "outputs": [
    {
     "name": "stdout",
     "output_type": "stream",
     "text": [
      " Och, whit a braw wee coffee maker this is! It's pure dead brilliant, ken? Ah'm so pleased wi' hoo easy it is tae uise an' hoo quick it brews a braw cup o' coffee. Ah'm ower the moon wi' this purchase an' wid highly recommend it tae ony ither coffee lover lookin' fur a tap-notch brew ilka time.\n"
     ]
    }
   ],
   "source": [
    "# Call the LLM to translate to the style of the customer message\n",
    "customer_response = chat(customer_messages)\n",
    "print(customer_response.content)"
   ]
  },
  {
   "cell_type": "markdown",
   "metadata": {
    "id": "TE_nyfIgmKO6"
   },
   "source": [
    "## Parsing outputs\n",
    "\n",
    "LangChain makes it easy to return objects from the LLM in a format which we can use for further tasks (for example, adding an item of interest to a shopping cart, or providing a short list back to the LLM for additional questions).\n",
    "\n",
    "Here is an example of parsing customer reviews of a three-course meal in a restaurant."
   ]
  },
  {
   "cell_type": "code",
   "execution_count": 13,
   "metadata": {
    "id": "i-karEJ_mtBl",
    "tags": []
   },
   "outputs": [],
   "source": [
    "customer_review = \"\"\"\\\n",
    "The excellent barbecue cauliflower starter left \\\n",
    "a lasting impression -- gorgeous presentation and flavors, really geared the tastebuds into action. \\\n",
    "Moving on to the main course, pretty great also. \\\n",
    "Delicious and flavorful chickpea and vegetable curry. They really nailed the buttery consistency, \\\n",
    "depth and balance of the spices. \\\n",
    "The dessert was a bit bland. I opted for a vegan chocolate mousse, \\\n",
    "hoping for a decadent and indulgent finale to my meal. \\\n",
    "It was very visually appealing but was missing the smooth, velvety \\\n",
    "texture of a great mousse.\n",
    "\"\"\"\n",
    "\n",
    "review_template = \"\"\"\\\n",
    "For the input text, extract the following details: \\\n",
    "starter: How did the reviewer find the first course? \\\n",
    "Rate either Poor, Good, or Excellent. \\\n",
    "Do the same for the main course and dessert\n",
    "\n",
    "Format the output as JSON with the following keys:\n",
    "starter\n",
    "main_course\n",
    "dessert\n",
    "\n",
    "text: {text}\n",
    "\"\"\"\n",
    "\n"
   ]
  },
  {
   "cell_type": "markdown",
   "metadata": {},
   "source": [
    "### Using the above text, create the <font color='blue' face=\"Courier New\" size=\"+2\">prompt_template</font> variable from the <font color='blue' face=\"Courier New\" size=\"+2\">review_template</font> variable and the <font color='blue' face=\"Courier New\" size=\"+2\">messages</font> variable from the <font color='blue' face=\"Courier New\" size=\"+2\">customer_review</font> variable and get a response back from a <font color='blue' face=\"Courier New\" size=\"+2\">chat</font> session.\n",
    "<br>\n",
    "<details><summary>Click for <b>hint</b></summary>\n",
    "<p>\n",
    "<br>\n",
    "Use the <font color='blue' face=\"Courier New\" size=\"+2\">ChatPromptTemplate</font> class and the <font color='blue' face=\"Courier New\" size=\"+2\">from_template</font> method and <font color='blue' face=\"Courier New\" size=\"+2\">format_messages</font> method.\n",
    "<br>\n",
    "<br>\n",
    "</p>\n",
    "</details>\n",
    "\n",
    "<details><summary>Click for <b>code</b></summary>\n",
    "<p>\n",
    "\n",
    "```python\n",
    "from langchain.prompts import ChatPromptTemplate\n",
    "\n",
    "prompt_template = ChatPromptTemplate.from_template(review_template)\n",
    "print(prompt_template)\n",
    "messages = prompt_template.format_messages(text=customer_review)\n",
    "response = chat(messages, temperature=0.1)\n",
    "print(response.content)\n",
    "```\n",
    "</p>\n",
    "</details>"
   ]
  },
  {
   "cell_type": "code",
   "execution_count": 16,
   "metadata": {
    "id": "Cp1dMFxkYd5H",
    "tags": []
   },
   "outputs": [
    {
     "name": "stdout",
     "output_type": "stream",
     "text": [
      "input_variables=['text'] messages=[HumanMessagePromptTemplate(prompt=PromptTemplate(input_variables=['text'], template='For the input text, extract the following details: starter: How did the reviewer find the first course? Rate either Poor, Good, or Excellent. Do the same for the main course and dessert\\n\\nFormat the output as JSON with the following keys:\\nstarter\\nmain_course\\ndessert\\n\\ntext: {text}\\n'))]\n",
      " ```json\n",
      "{\n",
      "  \"starter\": \"Excellent\",\n",
      "  \"main_course\": \"Good\",\n",
      "  \"dessert\": \"Poor\"\n",
      "}\n",
      "```\n"
     ]
    }
   ],
   "source": [
    "from langchain.prompts import ChatPromptTemplate\n",
    "\n",
    "prompt_template = ChatPromptTemplate.from_template(review_template)\n",
    "print(prompt_template)\n",
    "messages = prompt_template.format_messages(text=customer_review)\n",
    "response = chat(messages, temperature=0.1)\n",
    "print(response.content)"
   ]
  },
  {
   "cell_type": "code",
   "execution_count": 15,
   "metadata": {
    "id": "jHoTT2hrXzRj",
    "tags": []
   },
   "outputs": [
    {
     "ename": "SyntaxError",
     "evalue": "invalid syntax (1378507094.py, line 1)",
     "output_type": "error",
     "traceback": [
      "\u001b[0;36m  Cell \u001b[0;32mIn[15], line 1\u001b[0;36m\u001b[0m\n\u001b[0;31m    messages =\u001b[0m\n\u001b[0m               ^\u001b[0m\n\u001b[0;31mSyntaxError\u001b[0m\u001b[0;31m:\u001b[0m invalid syntax\n"
     ]
    }
   ],
   "source": [
    "messages = \n",
    "response = chat(messages, temperature=0.1)\n",
    "print(response.content)"
   ]
  },
  {
   "cell_type": "markdown",
   "metadata": {
    "id": "bV8VHzteZsfG"
   },
   "source": [
    "Though it looks like JSON, our output is actually a string type."
   ]
  },
  {
   "cell_type": "code",
   "execution_count": 17,
   "metadata": {
    "id": "fT7RLVX9ZYeg",
    "tags": []
   },
   "outputs": [
    {
     "data": {
      "text/plain": [
       "str"
      ]
     },
     "execution_count": 17,
     "metadata": {},
     "output_type": "execute_result"
    }
   ],
   "source": [
    "type(response.content)"
   ]
  },
  {
   "cell_type": "markdown",
   "metadata": {
    "id": "3jr6xxJ2ZxQr"
   },
   "source": [
    "This means we are unable to access values in this fashion (will result in an error):"
   ]
  },
  {
   "cell_type": "code",
   "execution_count": 18,
   "metadata": {
    "id": "16sEr4XhZjHS",
    "tags": []
   },
   "outputs": [
    {
     "ename": "AttributeError",
     "evalue": "'str' object has no attribute 'get'",
     "output_type": "error",
     "traceback": [
      "\u001b[0;31m---------------------------------------------------------------------------\u001b[0m",
      "\u001b[0;31mAttributeError\u001b[0m                            Traceback (most recent call last)",
      "Cell \u001b[0;32mIn[18], line 1\u001b[0m\n\u001b[0;32m----> 1\u001b[0m \u001b[43mresponse\u001b[49m\u001b[38;5;241;43m.\u001b[39;49m\u001b[43mcontent\u001b[49m\u001b[38;5;241;43m.\u001b[39;49m\u001b[43mget\u001b[49m(\u001b[38;5;124m\"\u001b[39m\u001b[38;5;124mmain_course\u001b[39m\u001b[38;5;124m\"\u001b[39m)\n",
      "\u001b[0;31mAttributeError\u001b[0m: 'str' object has no attribute 'get'"
     ]
    }
   ],
   "source": [
    "response.content.get(\"main_course\")"
   ]
  },
  {
   "cell_type": "markdown",
   "metadata": {
    "id": "-YwKaaROZ1xa"
   },
   "source": [
    "This is where LangChain's parser comes in. Here, we import the <font color='blue' face=\"Courier New\" size=\"+2\">ResponseSchema</font> and <font color='blue' face=\"Courier New\" size=\"+2\">StructuredOutputParser</font>, which we use to define the format of the results from the LLM."
   ]
  },
  {
   "cell_type": "code",
   "execution_count": 19,
   "metadata": {
    "id": "u1IPczDvZrJp",
    "tags": []
   },
   "outputs": [],
   "source": [
    "from langchain.output_parsers import ResponseSchema\n",
    "from langchain.output_parsers import StructuredOutputParser\n",
    "\n",
    "starter_schema = ResponseSchema(name=\"starter\", description=\"Review of the starter\")\n",
    "main_course_schema = ResponseSchema(name=\"main_course\", description=\"Review of the main course\")\n",
    "dessert_schema = ResponseSchema(name=\"dessert\", description=\"Review of the dessert\")\n",
    "\n",
    "response_schemas = [starter_schema, main_course_schema, dessert_schema]"
   ]
  },
  {
   "cell_type": "code",
   "execution_count": 20,
   "metadata": {
    "id": "tfkKmhhDb5K2",
    "tags": []
   },
   "outputs": [],
   "source": [
    "output_parser = StructuredOutputParser.from_response_schemas(response_schemas)"
   ]
  },
  {
   "cell_type": "code",
   "execution_count": 21,
   "metadata": {
    "id": "b4ztjoM8aXF5",
    "tags": []
   },
   "outputs": [
    {
     "name": "stdout",
     "output_type": "stream",
     "text": [
      "The output should be a markdown code snippet formatted in the following schema, including the leading and trailing \"```json\" and \"```\":\n",
      "\n",
      "```json\n",
      "{\n",
      "\t\"starter\": string  // Review of the starter\n",
      "\t\"main_course\": string  // Review of the main course\n",
      "\t\"dessert\": string  // Review of the dessert\n",
      "}\n",
      "```\n"
     ]
    }
   ],
   "source": [
    "format_instructions = output_parser.get_format_instructions()\n",
    "print(format_instructions)"
   ]
  },
  {
   "cell_type": "markdown",
   "metadata": {
    "id": "UpoJt9EpcfKN"
   },
   "source": [
    "### Now we can update our prior review template to include the format instructions\n",
    "<br>\n",
    "<details><summary>Click for <b>hint</b></summary>\n",
    "<p>\n",
    "Use the <font color='blue' face=\"Courier New\" size=\"+2\">format_messages</font> function and add the <font color='blue' face=\"Courier New\" size=\"+2\">format_instructions</font> parameter before sending the <font color='blue' face=\"Courier New\" size=\"+2\">messages</font> to the <font color='blue' face=\"Courier New\" size=\"+2\">chat</font> function\n",
    "\n",
    "\n",
    "<br>\n",
    "\n",
    "<br>\n",
    "<br>\n",
    "</p>\n",
    "</details>\n",
    "\n",
    "<details><summary>Click for <b>code</b></summary>\n",
    "<p>\n",
    "\n",
    "```python\n",
    "review_template_2 = \"\"\"\\\n",
    "For the input text, extract the following details: \\\n",
    "starter: How did the reviewer find the first course? \\\n",
    "Rate either Poor, Good, or Excellent. \\\n",
    "Do the same for the main course and dessert\n",
    "\n",
    "starter\n",
    "main_course\n",
    "dessert\n",
    "\n",
    "text: {text}\n",
    "\n",
    "{format_instructions}\n",
    "\"\"\"\n",
    "prompt = ChatPromptTemplate.from_template(template=review_template_2)\n",
    "\n",
    "messages = prompt.format_messages(text=customer_review,\n",
    "                                format_instructions=format_instructions)\n",
    "print(messages[0].content)\n",
    "response = chat(messages)\n",
    "                                \n",
    "```\n",
    "</p>\n",
    "</details>"
   ]
  },
  {
   "cell_type": "code",
   "execution_count": 22,
   "metadata": {
    "id": "Qeh2oItsa5Lu",
    "tags": []
   },
   "outputs": [
    {
     "name": "stdout",
     "output_type": "stream",
     "text": [
      "For the input text, extract the following details: starter: How did the reviewer find the first course? Rate either Poor, Good, or Excellent. Do the same for the main course and dessert\n",
      "\n",
      "starter\n",
      "main_course\n",
      "dessert\n",
      "\n",
      "text: The excellent barbecue cauliflower starter left a lasting impression -- gorgeous presentation and flavors, really geared the tastebuds into action. Moving on to the main course, pretty great also. Delicious and flavorful chickpea and vegetable curry. They really nailed the buttery consistency, depth and balance of the spices. The dessert was a bit bland. I opted for a vegan chocolate mousse, hoping for a decadent and indulgent finale to my meal. It was very visually appealing but was missing the smooth, velvety texture of a great mousse.\n",
      "\n",
      "\n",
      "The output should be a markdown code snippet formatted in the following schema, including the leading and trailing \"```json\" and \"```\":\n",
      "\n",
      "```json\n",
      "{\n",
      "\t\"starter\": string  // Review of the starter\n",
      "\t\"main_course\": string  // Review of the main course\n",
      "\t\"dessert\": string  // Review of the dessert\n",
      "}\n",
      "```\n",
      "\n"
     ]
    }
   ],
   "source": [
    "review_template_2 = \"\"\"\\\n",
    "For the input text, extract the following details: \\\n",
    "starter: How did the reviewer find the first course? \\\n",
    "Rate either Poor, Good, or Excellent. \\\n",
    "Do the same for the main course and dessert\n",
    "\n",
    "starter\n",
    "main_course\n",
    "dessert\n",
    "\n",
    "text: {text}\n",
    "\n",
    "{format_instructions}\n",
    "\"\"\"\n",
    "prompt = ChatPromptTemplate.from_template(template=review_template_2)\n",
    "\n",
    "messages = \n",
    "print(messages[0].content)\n",
    "response = chat(messages)"
   ]
  },
  {
   "cell_type": "markdown",
   "metadata": {
    "id": "A4nq3mM8crLn"
   },
   "source": [
    "Let's try it on the same review\n",
    "\n",
    "Our response starts as an <font color='blue' face=\"Courier New\" size=\"+2\">AIMessage</font>"
   ]
  },
  {
   "cell_type": "code",
   "execution_count": 23,
   "metadata": {
    "id": "a4EVPQcQcx-_",
    "tags": []
   },
   "outputs": [
    {
     "data": {
      "text/plain": [
       "langchain_core.messages.ai.AIMessage"
      ]
     },
     "execution_count": 23,
     "metadata": {},
     "output_type": "execute_result"
    }
   ],
   "source": [
    "type(response)"
   ]
  },
  {
   "cell_type": "markdown",
   "metadata": {
    "id": "IbjFhXIXCGZb"
   },
   "source": [
    "Here we parse the <font color='blue' face=\"Courier New\" size=\"+2\">AIMessage</font> into a Python dictionary"
   ]
  },
  {
   "cell_type": "code",
   "execution_count": 24,
   "metadata": {
    "id": "UslUSpVTczoX",
    "tags": []
   },
   "outputs": [
    {
     "data": {
      "text/plain": [
       "{'starter': 'Excellent', 'main_course': 'Good', 'dessert': 'Poor'}"
      ]
     },
     "execution_count": 24,
     "metadata": {},
     "output_type": "execute_result"
    }
   ],
   "source": [
    "output_dict = output_parser.parse(response.content)\n",
    "output_dict"
   ]
  },
  {
   "cell_type": "markdown",
   "metadata": {
    "id": "W-g9ngq2DbUJ"
   },
   "source": [
    "Thanks to LangChain's parser, we now have a Python dictionary which we can use for further tasks, for example taking part of the response and using it as an input to another function / process etc."
   ]
  },
  {
   "cell_type": "code",
   "execution_count": 25,
   "metadata": {
    "id": "FWTgsp_rdGq4",
    "tags": []
   },
   "outputs": [
    {
     "data": {
      "text/plain": [
       "dict"
      ]
     },
     "execution_count": 25,
     "metadata": {},
     "output_type": "execute_result"
    }
   ],
   "source": [
    "type(output_dict)"
   ]
  },
  {
   "cell_type": "code",
   "execution_count": 26,
   "metadata": {
    "id": "bkEz820ndLGJ",
    "tags": []
   },
   "outputs": [
    {
     "data": {
      "text/plain": [
       "'Good'"
      ]
     },
     "execution_count": 26,
     "metadata": {},
     "output_type": "execute_result"
    }
   ],
   "source": [
    "output_dict.get(\"main_course\")"
   ]
  },
  {
   "cell_type": "markdown",
   "metadata": {
    "id": "4MlLBtQI-lCX"
   },
   "source": [
    "## API chains\n",
    "\n",
    "Another of LangChain's useful features is the ability to call external APIs within chains.\n",
    "\n",
    "In this example, we use the <font color='blue' face=\"Courier New\" size=\"+2\">open-meteo.com</font> API to get weather reports."
   ]
  },
  {
   "cell_type": "code",
   "execution_count": 27,
   "metadata": {
    "id": "kCOhnssF-tvb",
    "tags": []
   },
   "outputs": [
    {
     "name": "stderr",
     "output_type": "stream",
     "text": [
      "/var/tmp/ipykernel_9420/3661160289.py:11: LangChainDeprecationWarning: The method `Chain.run` was deprecated in langchain 0.1.0 and will be removed in 1.0. Use invoke instead.\n",
      "  chain.run(\n"
     ]
    },
    {
     "name": "stdout",
     "output_type": "stream",
     "text": [
      "\n",
      "\n",
      "\u001b[1m> Entering new APIChain chain...\u001b[0m\n",
      "\u001b[32;1m\u001b[1;3m https://api.open-meteo.com/v1/forecast?latitude=55.9533&longitude=-3.1883&hourly=temperature_2m&temperature_unit=fahrenheit&current_weather=true\u001b[0m\n",
      "\u001b[33;1m\u001b[1;3m{\"latitude\":55.96,\"longitude\":-3.18,\"generationtime_ms\":0.06604194641113281,\"utc_offset_seconds\":0,\"timezone\":\"GMT\",\"timezone_abbreviation\":\"GMT\",\"elevation\":69.0,\"current_weather_units\":{\"time\":\"iso8601\",\"interval\":\"seconds\",\"temperature\":\"°F\",\"windspeed\":\"km/h\",\"winddirection\":\"°\",\"is_day\":\"\",\"weathercode\":\"wmo code\"},\"current_weather\":{\"time\":\"2024-09-08T12:45\",\"interval\":900,\"temperature\":59.5,\"windspeed\":3.6,\"winddirection\":6,\"is_day\":1,\"weathercode\":45},\"hourly_units\":{\"time\":\"iso8601\",\"temperature_2m\":\"°F\"},\"hourly\":{\"time\":[\"2024-09-08T00:00\",\"2024-09-08T01:00\",\"2024-09-08T02:00\",\"2024-09-08T03:00\",\"2024-09-08T04:00\",\"2024-09-08T05:00\",\"2024-09-08T06:00\",\"2024-09-08T07:00\",\"2024-09-08T08:00\",\"2024-09-08T09:00\",\"2024-09-08T10:00\",\"2024-09-08T11:00\",\"2024-09-08T12:00\",\"2024-09-08T13:00\",\"2024-09-08T14:00\",\"2024-09-08T15:00\",\"2024-09-08T16:00\",\"2024-09-08T17:00\",\"2024-09-08T18:00\",\"2024-09-08T19:00\",\"2024-09-08T20:00\",\"2024-09-08T21:00\",\"2024-09-08T22:00\",\"2024-09-08T23:00\",\"2024-09-09T00:00\",\"2024-09-09T01:00\",\"2024-09-09T02:00\",\"2024-09-09T03:00\",\"2024-09-09T04:00\",\"2024-09-09T05:00\",\"2024-09-09T06:00\",\"2024-09-09T07:00\",\"2024-09-09T08:00\",\"2024-09-09T09:00\",\"2024-09-09T10:00\",\"2024-09-09T11:00\",\"2024-09-09T12:00\",\"2024-09-09T13:00\",\"2024-09-09T14:00\",\"2024-09-09T15:00\",\"2024-09-09T16:00\",\"2024-09-09T17:00\",\"2024-09-09T18:00\",\"2024-09-09T19:00\",\"2024-09-09T20:00\",\"2024-09-09T21:00\",\"2024-09-09T22:00\",\"2024-09-09T23:00\",\"2024-09-10T00:00\",\"2024-09-10T01:00\",\"2024-09-10T02:00\",\"2024-09-10T03:00\",\"2024-09-10T04:00\",\"2024-09-10T05:00\",\"2024-09-10T06:00\",\"2024-09-10T07:00\",\"2024-09-10T08:00\",\"2024-09-10T09:00\",\"2024-09-10T10:00\",\"2024-09-10T11:00\",\"2024-09-10T12:00\",\"2024-09-10T13:00\",\"2024-09-10T14:00\",\"2024-09-10T15:00\",\"2024-09-10T16:00\",\"2024-09-10T17:00\",\"2024-09-10T18:00\",\"2024-09-10T19:00\",\"2024-09-10T20:00\",\"2024-09-10T21:00\",\"2024-09-10T22:00\",\"2024-09-10T23:00\",\"2024-09-11T00:00\",\"2024-09-11T01:00\",\"2024-09-11T02:00\",\"2024-09-11T03:00\",\"2024-09-11T04:00\",\"2024-09-11T05:00\",\"2024-09-11T06:00\",\"2024-09-11T07:00\",\"2024-09-11T08:00\",\"2024-09-11T09:00\",\"2024-09-11T10:00\",\"2024-09-11T11:00\",\"2024-09-11T12:00\",\"2024-09-11T13:00\",\"2024-09-11T14:00\",\"2024-09-11T15:00\",\"2024-09-11T16:00\",\"2024-09-11T17:00\",\"2024-09-11T18:00\",\"2024-09-11T19:00\",\"2024-09-11T20:00\",\"2024-09-11T21:00\",\"2024-09-11T22:00\",\"2024-09-11T23:00\",\"2024-09-12T00:00\",\"2024-09-12T01:00\",\"2024-09-12T02:00\",\"2024-09-12T03:00\",\"2024-09-12T04:00\",\"2024-09-12T05:00\",\"2024-09-12T06:00\",\"2024-09-12T07:00\",\"2024-09-12T08:00\",\"2024-09-12T09:00\",\"2024-09-12T10:00\",\"2024-09-12T11:00\",\"2024-09-12T12:00\",\"2024-09-12T13:00\",\"2024-09-12T14:00\",\"2024-09-12T15:00\",\"2024-09-12T16:00\",\"2024-09-12T17:00\",\"2024-09-12T18:00\",\"2024-09-12T19:00\",\"2024-09-12T20:00\",\"2024-09-12T21:00\",\"2024-09-12T22:00\",\"2024-09-12T23:00\",\"2024-09-13T00:00\",\"2024-09-13T01:00\",\"2024-09-13T02:00\",\"2024-09-13T03:00\",\"2024-09-13T04:00\",\"2024-09-13T05:00\",\"2024-09-13T06:00\",\"2024-09-13T07:00\",\"2024-09-13T08:00\",\"2024-09-13T09:00\",\"2024-09-13T10:00\",\"2024-09-13T11:00\",\"2024-09-13T12:00\",\"2024-09-13T13:00\",\"2024-09-13T14:00\",\"2024-09-13T15:00\",\"2024-09-13T16:00\",\"2024-09-13T17:00\",\"2024-09-13T18:00\",\"2024-09-13T19:00\",\"2024-09-13T20:00\",\"2024-09-13T21:00\",\"2024-09-13T22:00\",\"2024-09-13T23:00\",\"2024-09-14T00:00\",\"2024-09-14T01:00\",\"2024-09-14T02:00\",\"2024-09-14T03:00\",\"2024-09-14T04:00\",\"2024-09-14T05:00\",\"2024-09-14T06:00\",\"2024-09-14T07:00\",\"2024-09-14T08:00\",\"2024-09-14T09:00\",\"2024-09-14T10:00\",\"2024-09-14T11:00\",\"2024-09-14T12:00\",\"2024-09-14T13:00\",\"2024-09-14T14:00\",\"2024-09-14T15:00\",\"2024-09-14T16:00\",\"2024-09-14T17:00\",\"2024-09-14T18:00\",\"2024-09-14T19:00\",\"2024-09-14T20:00\",\"2024-09-14T21:00\",\"2024-09-14T22:00\",\"2024-09-14T23:00\"],\"temperature_2m\":[56.1,56.3,56.5,56.8,57.0,57.0,57.0,57.1,57.2,57.2,57.4,58.2,59.0,59.7,61.0,60.9,60.5,59.3,58.6,58.0,57.3,56.7,55.9,55.2,55.0,55.1,55.1,55.4,54.6,53.4,52.7,53.1,54.0,55.2,56.7,57.7,58.2,58.3,58.0,57.5,56.4,55.3,55.0,55.2,55.8,56.1,55.8,55.5,55.0,54.7,53.7,52.5,51.0,49.6,48.9,49.1,50.4,51.9,52.9,54.2,55.3,55.6,55.5,54.6,54.7,53.6,52.0,49.9,48.2,46.7,45.8,45.3,44.9,44.8,44.5,44.1,44.4,44.9,44.8,45.4,47.0,49.1,51.0,52.9,54.4,55.1,55.2,55.0,54.4,53.5,52.3,51.0,49.4,48.0,46.8,45.8,45.0,44.5,44.2,43.9,43.1,42.3,42.4,44.0,46.6,49.0,51.0,52.9,54.2,55.0,55.3,55.3,55.0,54.4,53.4,51.8,49.7,48.2,47.5,47.1,46.9,46.7,46.6,46.5,46.5,46.6,46.7,48.2,50.5,52.8,54.6,56.3,57.6,58.9,59.8,60.1,59.1,57.4,56.0,55.3,54.9,54.8,55.1,55.7,56.4,57.1,58.0,58.7,59.3,59.8,60.2,60.5,60.6,61.0,61.7,62.5,63.1,63.2,63.0,62.8,62.5,62.1,61.4,60.1,58.3,56.6,55.2,53.9]}}\u001b[0m\n",
      "\n",
      "\u001b[1m> Finished chain.\u001b[0m\n"
     ]
    },
    {
     "data": {
      "text/plain": [
       "' The current temperature in Edinburgh, Scotland is 59.5 degrees Fahrenheit.'"
      ]
     },
     "execution_count": 27,
     "metadata": {},
     "output_type": "execute_result"
    }
   ],
   "source": [
    "from langchain.chains import APIChain\n",
    "from langchain.chains.api import open_meteo_docs\n",
    "\n",
    "llm = VertexAI(temperature=0)\n",
    "chain = APIChain.from_llm_and_api_docs(\n",
    "    llm,\n",
    "    open_meteo_docs.OPEN_METEO_DOCS,\n",
    "    verbose=True,\n",
    "    limit_to_domains=[\"https://api.open-meteo.com/\"],\n",
    ")\n",
    "chain.run(\n",
    "    \"How is the weather today in Edinburgh, Scotland, in Fahrenheit?\"\n",
    "    )"
   ]
  },
  {
   "cell_type": "markdown",
   "metadata": {
    "id": "yMao6bOb_vjj"
   },
   "source": [
    "### Wikipedia\n",
    "\n",
    "We can combine the Wikipedia pip package and LangChain's Wikipedia API wrapper get query results from the encyclopedia."
   ]
  },
  {
   "cell_type": "code",
   "execution_count": 28,
   "metadata": {
    "id": "SaOqZrSk-y24",
    "tags": []
   },
   "outputs": [
    {
     "name": "stdout",
     "output_type": "stream",
     "text": [
      "Collecting wikipedia\n",
      "  Downloading wikipedia-1.4.0.tar.gz (27 kB)\n",
      "Requirement already satisfied: beautifulsoup4 in /opt/conda/lib/python3.10/site-packages (from wikipedia) (4.12.3)\n",
      "Requirement already satisfied: requests<3.0.0,>=2.0.0 in /opt/conda/lib/python3.10/site-packages (from wikipedia) (2.32.3)\n",
      "Requirement already satisfied: urllib3<3,>=1.21.1 in /opt/conda/lib/python3.10/site-packages (from requests<3.0.0,>=2.0.0->wikipedia) (1.26.19)\n",
      "Requirement already satisfied: idna<4,>=2.5 in /opt/conda/lib/python3.10/site-packages (from requests<3.0.0,>=2.0.0->wikipedia) (3.3)\n",
      "Requirement already satisfied: certifi>=2017.4.17 in /opt/conda/lib/python3.10/site-packages (from requests<3.0.0,>=2.0.0->wikipedia) (2024.7.4)\n",
      "Requirement already satisfied: charset-normalizer<4,>=2 in /opt/conda/lib/python3.10/site-packages (from requests<3.0.0,>=2.0.0->wikipedia) (2.0.4)\n",
      "Requirement already satisfied: soupsieve>1.2 in /opt/conda/lib/python3.10/site-packages (from beautifulsoup4->wikipedia) (2.5)\n",
      "Building wheels for collected packages: wikipedia\n",
      "  Building wheel for wikipedia (setup.py) ... \u001b[?25ldone\n",
      "\u001b[?25h  Created wheel for wikipedia: filename=wikipedia-1.4.0-py3-none-any.whl size=11695 sha256=bf635908281a8bd59a5bcd9d0cad4ec88645df477d3ee6ac90f4b21730104e5e\n",
      "  Stored in directory: /home/jupyter/.cache/pip/wheels/5e/b6/c5/93f3dec388ae76edc830cb42901bb0232504dfc0df02fc50de\n",
      "Successfully built wikipedia\n",
      "Installing collected packages: wikipedia\n",
      "Successfully installed wikipedia-1.4.0\n"
     ]
    }
   ],
   "source": [
    "!pip install wikipedia"
   ]
  },
  {
   "cell_type": "code",
   "execution_count": 29,
   "metadata": {
    "id": "hDASabouAEGS",
    "tags": []
   },
   "outputs": [
    {
     "data": {
      "text/plain": [
       "'Page: House sparrow\\nSummary: The house sparrow (Passer domesticus) is a bird of the sparrow family Passeridae, found in most parts of the world. It is a small bird that has a typical length of 16 cm (6.3 in) and a mass of 24–39.5 g (0.85–1.39 oz). Females and young birds are coloured pale brown and grey, and males have brighter black, white, and brown markings. One of about 25 species in the genus Passer, the house sparrow is native to most of Europe, the Mediterranean Basin, and a large part of Asia. Its intentional or accidental introductions to many regions, including parts of Australasia, Africa, and the Americas, make it the most widely distributed wild bird.\\nThe house sparrow is strongly associated with human habitation, and can live in urban or rural settings. Though found in widely varied habitats and climates, it typically avoids extensive woodlands, grasslands, polar regions, and hot, dry deserts far away from human development. For sustenance, the house sparrow routinely feeds at home and public bird feeding stations, but naturally feeds on the seeds of grains, flowering plants and weeds. However, it is an opportunistic, omnivorous eater, and commonly catches insects, their larvae, caterpillars, invertebrates and many other natural foods.\\nBecause of its numbers, ubiquity, and association with human settlements, the house sparrow is culturally prominent. It is extensively, and usually unsuccessfully, persecuted as an agricultural pest. It has also often been kept as a pet, as well as being a food item and a symbol of lust, sexual potency, commonness, and vulgarity. Though it is widespread and abundant, its numbers have declined in some areas. The animal\\'s conservation status is listed as least concern on the IUCN Red List.\\n\\n\\n\\nPage: Spanish sparrow\\nSummary: The Spanish sparrow or willow sparrow (Passer hispaniolensis) is a passerine bird of the sparrow family Passeridae. It is found in the Mediterranean region and south-west and central Asia. It is very similar to the closely related house sparrow, and the two species show their close relation in a \"biological mix-up\" of hybridisation in the Mediterranean region, which complicates the taxonomy of this species.\\n\\nPage: Grasshopper sparrow\\nSummary: The grasshopper sparrow (Ammodramus savannarum) is a small New World sparrow. It belongs to the genus Ammodramus, which contains three species that inhabit grasslands and prairies. Grasshopper sparrows are sometimes found in crop fields and they will readily colonize reclaimed grassland. In the core of their range, grasshopper sparrows are dependent upon large areas of grassland where they avoid trees and shrubs. They seek out heterogenous patches of prairie that contain clumps of dead grass or other vegetation where they conceal their nest, and also contain barer ground where they forage for insects (especially grasshoppers), spiders, and seeds. Grasshopper sparrows are unusual among New World sparrows in that they sing two distinct song types, the prevalence of which varies with the nesting cycle. The primary male song, a high trill preceded by a stereotyped series of short chips, is reminiscent of the sounds of grasshoppers and is the origin of this species\\' name. Like some other birds of the central North American grasslands, this species also moves around a lot, not only via annual migrations, but individuals frequently disperse between breeding attempts or breeding seasons. Grasshopper sparrows are in steep decline across their range, even in the core of the breeding distribution in the tallgrass prairies of the central Great Plains. The Florida grasshopper sparrow (Ammodramus savannarum floridanus) is highly endangered.'"
      ]
     },
     "execution_count": 29,
     "metadata": {},
     "output_type": "execute_result"
    }
   ],
   "source": [
    "from langchain.tools import WikipediaQueryRun\n",
    "from langchain.utilities import WikipediaAPIWrapper\n",
    "\n",
    "wikipedia = WikipediaQueryRun(api_wrapper=WikipediaAPIWrapper())\n",
    "\n",
    "wikipedia.run(\"To which bird family does the field sparrow belong?\")"
   ]
  },
  {
   "cell_type": "markdown",
   "metadata": {
    "id": "L2g875ERCizg"
   },
   "source": [
    "### Google search\n"
   ]
  },
  {
   "cell_type": "code",
   "execution_count": 30,
   "metadata": {
    "id": "Etx0j9SCAsAM",
    "tags": []
   },
   "outputs": [
    {
     "name": "stderr",
     "output_type": "stream",
     "text": [
      "/var/tmp/ipykernel_9420/3425417431.py:17: LangChainDeprecationWarning: The class `LLMChain` was deprecated in LangChain 0.1.17 and will be removed in 1.0. Use RunnableSequence, e.g., `prompt | llm` instead.\n",
      "  chain = LLMRequestsChain(llm_chain=LLMChain(llm=VertexAI(temperature=0), prompt=PROMPT))\n",
      "/var/tmp/ipykernel_9420/3425417431.py:23: LangChainDeprecationWarning: The method `Chain.__call__` was deprecated in langchain 0.1.0 and will be removed in 1.0. Use invoke instead.\n",
      "  chain(inputs)\n"
     ]
    },
    {
     "data": {
      "text/plain": [
       "{'query': 'What are the official languages in Turkmenistan, and their alphabets?',\n",
       " 'url': 'https://www.google.com/search?q=What+are+the+official+languages+in+Turkmenistan,+and+their+alphabets?',\n",
       " 'output': ' The official language of Turkmenistan is Turkmen, spoken by 77% of the population. It is written in the Latin alphabet, which was adopted in 1927, replacing the Arabic alphabet.'}"
      ]
     },
     "execution_count": 30,
     "metadata": {},
     "output_type": "execute_result"
    }
   ],
   "source": [
    "from langchain.prompts import PromptTemplate\n",
    "from langchain.chains import LLMRequestsChain, LLMChain\n",
    "\n",
    "template = \"\"\"Between >>> and <<< are the raw search result text from google.\n",
    "Extract the answer to the question '{query}' or say \"not found\" if the information is not contained.\n",
    "Use the format\n",
    "Extracted:<answer or \"not found\">\n",
    ">>> {requests_result} <<<\n",
    "Extracted:\"\"\"\n",
    "\n",
    "PROMPT = PromptTemplate(\n",
    "    input_variables=[\"query\", \"requests_result\"],\n",
    "    template=template,\n",
    ")\n",
    "\n",
    "\n",
    "chain = LLMRequestsChain(llm_chain=LLMChain(llm=VertexAI(temperature=0), prompt=PROMPT))\n",
    "question = \"What are the official languages in Turkmenistan, and their alphabets?\"\n",
    "inputs = {\n",
    "    \"query\": question,\n",
    "    \"url\": \"https://www.google.com/search?q=\" + question.replace(\" \", \"+\"),\n",
    "}\n",
    "chain(inputs)"
   ]
  },
  {
   "cell_type": "markdown",
   "metadata": {
    "id": "f3ed1-PQJYso"
   },
   "source": [
    "## Memory\n",
    "\n",
    "It is essential that LLMs keep some memory of the prior interactions in a chat to better inform their answers.\n",
    "\n",
    "LangChain offers several approaches and features in this regard. For all details, see the [Memory](https://python.langchain.com/docs/modules/memory/) section of the documentation.\n",
    "\n",
    "### ConversationBufferWindowMemory\n",
    "\n",
    "Maintains a list of the interactions of the conversation over time, using the last K interactions. This can be useful for keeping a sliding window of the most recent interactions, so the buffer does not get too large"
   ]
  },
  {
   "cell_type": "code",
   "execution_count": 31,
   "metadata": {
    "id": "a4eQhiiYJbQV",
    "tags": []
   },
   "outputs": [
    {
     "data": {
      "text/plain": [
       "{'history': 'Human: Hi\\nAI: How are you?\\nHuman: Fine thanks\\nAI: Great'}"
      ]
     },
     "execution_count": 31,
     "metadata": {},
     "output_type": "execute_result"
    }
   ],
   "source": [
    "from langchain.chains import ConversationChain\n",
    "from langchain.memory import ConversationBufferMemory, ConversationBufferWindowMemory\n",
    "\n",
    "memory = ConversationBufferWindowMemory(k=3)\n",
    "\n",
    "memory.save_context({\"input\": \"Hi\"},\n",
    "                    {\"output\": \"How are you?\"})\n",
    "memory.save_context({\"input\": \"Fine thanks\"},\n",
    "                    {\"output\": \"Great\"})\n",
    "\n",
    "memory.load_memory_variables({})"
   ]
  },
  {
   "cell_type": "markdown",
   "metadata": {
    "id": "kN3o4bWVRK23"
   },
   "source": [
    "### ConversationTokenBufferMemory\n",
    "\n",
    "This feature instead keeps a buffer of recent interactions in memory based on token length,  rather than number of interactions."
   ]
  },
  {
   "cell_type": "code",
   "execution_count": 32,
   "metadata": {
    "id": "gvlXfMKXRZwO",
    "tags": []
   },
   "outputs": [],
   "source": [
    "from langchain.memory import ConversationTokenBufferMemory\n",
    "\n",
    "memory = ConversationTokenBufferMemory(llm=llm, max_token_limit=100)\n",
    "memory.save_context({\"input\": \"All alone, she dreams of the stars!\"},\n",
    "                    {\"output\": \"As she should!\"})\n",
    "memory.save_context({\"input\": \"Baking cookies today?\"},\n",
    "                    {\"output\": \"Behold the cookies!\"})\n",
    "memory.save_context({\"input\": \"Chatbots everywhere?\"},\n",
    "                    {\"output\": \"Certainly!\"})"
   ]
  },
  {
   "cell_type": "code",
   "execution_count": 33,
   "metadata": {
    "id": "5GwhfKvvRc44",
    "tags": []
   },
   "outputs": [
    {
     "data": {
      "text/plain": [
       "{'history': 'Human: All alone, she dreams of the stars!\\nAI: As she should!\\nHuman: Baking cookies today?\\nAI: Behold the cookies!\\nHuman: Chatbots everywhere?\\nAI: Certainly!'}"
      ]
     },
     "execution_count": 33,
     "metadata": {},
     "output_type": "execute_result"
    }
   ],
   "source": [
    "memory.load_memory_variables({})"
   ]
  },
  {
   "cell_type": "markdown",
   "metadata": {
    "id": "5Nj3OPlKRled"
   },
   "source": [
    "### Conversation summaries\n",
    "\n",
    "LangChain carries forward summaries of chat messages and flushes memory after a specified number of interactions or tokens.\n",
    "\n",
    "Let's first look at using the former, <font color='blue' face=\"Courier New\" size=\"+2\">ConversationBufferWindowMemory</font>.\n",
    "\n",
    "We set <font color='blue' face=\"Courier New\" size=\"+2\">verbose=True</font> to show the prompts and information carried forward by the LLM."
   ]
  },
  {
   "cell_type": "code",
   "execution_count": 34,
   "metadata": {
    "id": "pfSL0M7LPWE3",
    "tags": []
   },
   "outputs": [
    {
     "name": "stderr",
     "output_type": "stream",
     "text": [
      "/var/tmp/ipykernel_9420/2032426302.py:3: LangChainDeprecationWarning: The class `ConversationChain` was deprecated in LangChain 0.2.7 and will be removed in 1.0. Use RunnableWithMessageHistory: https://python.langchain.com/v0.2/api_reference/core/runnables/langchain_core.runnables.history.RunnableWithMessageHistory.html instead.\n",
      "  conversation_with_summary = ConversationChain(\n"
     ]
    },
    {
     "name": "stdout",
     "output_type": "stream",
     "text": [
      "\n",
      "\n",
      "\u001b[1m> Entering new ConversationChain chain...\u001b[0m\n",
      "Prompt after formatting:\n",
      "\u001b[32;1m\u001b[1;3mThe following is a friendly conversation between a human and an AI. The AI is talkative and provides lots of specific details from its context. If the AI does not know the answer to a question, it truthfully says it does not know.\n",
      "\n",
      "Current conversation:\n",
      "\n",
      "Human: My favourite sport is fencing. Any tips for how I can go pro?\n",
      "AI:\u001b[0m\n",
      "\n",
      "\u001b[1m> Finished chain.\u001b[0m\n"
     ]
    },
    {
     "data": {
      "text/plain": [
       "' Absolutely, here are some tips to help you become a professional fencer:\\n\\n**1. Master the basics:**\\n   - Ensure you have a solid understanding of the fundamental techniques, including footwork, bladework, and body positioning.\\n\\n**2. Physical fitness:**\\n   - Develop your overall fitness, including cardiovascular endurance, strength, and flexibility. Fencing requires quick movements and agility.\\n\\n**3. Practice regularly:**\\n   - Consistent practice is crucial. Dedicate time each day to refine your skills and techniques.\\n\\n**4. Join a fencing club:**\\n   - Training with experienced fencers can provide valuable insights and'"
      ]
     },
     "execution_count": 34,
     "metadata": {},
     "output_type": "execute_result"
    }
   ],
   "source": [
    "from langchain.memory import ConversationBufferWindowMemory\n",
    "\n",
    "conversation_with_summary = ConversationChain(\n",
    "    llm=VertexAI(temperature=0),\n",
    "    # We set a low k=2, to only keep the last 2 interactions in memory\n",
    "    memory=ConversationBufferWindowMemory(k=2),\n",
    "    verbose=True\n",
    ")\n",
    "conversation_with_summary.predict(input=\"My favourite sport is fencing. Any tips for how I can go pro?\")"
   ]
  },
  {
   "cell_type": "code",
   "execution_count": 35,
   "metadata": {
    "id": "xo2hMT-wPmuQ",
    "tags": []
   },
   "outputs": [
    {
     "name": "stdout",
     "output_type": "stream",
     "text": [
      "\n",
      "\n",
      "\u001b[1m> Entering new ConversationChain chain...\u001b[0m\n",
      "Prompt after formatting:\n",
      "\u001b[32;1m\u001b[1;3mThe following is a friendly conversation between a human and an AI. The AI is talkative and provides lots of specific details from its context. If the AI does not know the answer to a question, it truthfully says it does not know.\n",
      "\n",
      "Current conversation:\n",
      "Human: My favourite sport is fencing. Any tips for how I can go pro?\n",
      "AI:  Absolutely, here are some tips to help you become a professional fencer:\n",
      "\n",
      "**1. Master the basics:**\n",
      "   - Ensure you have a solid understanding of the fundamental techniques, including footwork, bladework, and body positioning.\n",
      "\n",
      "**2. Physical fitness:**\n",
      "   - Develop your overall fitness, including cardiovascular endurance, strength, and flexibility. Fencing requires quick movements and agility.\n",
      "\n",
      "**3. Practice regularly:**\n",
      "   - Consistent practice is crucial. Dedicate time each day to refine your skills and techniques.\n",
      "\n",
      "**4. Join a fencing club:**\n",
      "   - Training with experienced fencers can provide valuable insights and\n",
      "Human: What equipment do I need?\n",
      "AI:\u001b[0m\n",
      "\n",
      "\u001b[1m> Finished chain.\u001b[0m\n"
     ]
    },
    {
     "data": {
      "text/plain": [
       "\" Here's a list of essential equipment you'll need for fencing:\\n\\n**1. Fencing weapon:**\\n   - Choose a weapon based on your preference and style. The three main types are foil, épée, and saber.\\n\\n**2. Fencing mask:**\\n   - A high-quality mask is crucial for protecting your face during bouts.\\n\\n**3. Fencing jacket:**\\n   - The jacket provides protection for your torso and arms.\\n\\n**4. Fencing knickers:**\\n   - These specialized pants offer flexibility and protection for your legs.\\n\\n**5. Fencing glove:**\\n   - A well-fitting\""
      ]
     },
     "execution_count": 35,
     "metadata": {},
     "output_type": "execute_result"
    }
   ],
   "source": [
    "conversation_with_summary.predict(input=\"What equipment do I need?\")"
   ]
  },
  {
   "cell_type": "markdown",
   "metadata": {},
   "source": [
    "### Write some code to send the following two messages one after the other:\n",
    "<br>\n",
    "Who are the greats of the sport I can emulate?\n",
    "<br>\n",
    "What is my favourite sport?\n",
    "<br>\n",
    "<details><summary>Click for <b>hint</b></summary>\n",
    "<p>\n",
    "<font color='blue' face=\"Courier New\" size=\"+2\"> </font>\n",
    "<br>\n",
    "\n",
    "<br>\n",
    "<br>\n",
    "</p>\n",
    "</details>\n",
    "\n",
    "<details><summary>Click for <b>code</b></summary>\n",
    "<p>\n",
    "\n",
    "```python\n",
    "conversation_with_summary.predict(input=\"Who are the greats of the sport I can emulate?\")\n",
    "conversation_with_summary.predict(input=\"What is my favourite sport?\")\n",
    "```\n",
    "</p>\n",
    "</details>"
   ]
  },
  {
   "cell_type": "code",
   "execution_count": 36,
   "metadata": {
    "id": "ih9CLZ8AQOY0",
    "tags": []
   },
   "outputs": [
    {
     "name": "stdout",
     "output_type": "stream",
     "text": [
      "\n",
      "\n",
      "\u001b[1m> Entering new ConversationChain chain...\u001b[0m\n",
      "Prompt after formatting:\n",
      "\u001b[32;1m\u001b[1;3mThe following is a friendly conversation between a human and an AI. The AI is talkative and provides lots of specific details from its context. If the AI does not know the answer to a question, it truthfully says it does not know.\n",
      "\n",
      "Current conversation:\n",
      "Human: My favourite sport is fencing. Any tips for how I can go pro?\n",
      "AI:  Absolutely, here are some tips to help you become a professional fencer:\n",
      "\n",
      "**1. Master the basics:**\n",
      "   - Ensure you have a solid understanding of the fundamental techniques, including footwork, bladework, and body positioning.\n",
      "\n",
      "**2. Physical fitness:**\n",
      "   - Develop your overall fitness, including cardiovascular endurance, strength, and flexibility. Fencing requires quick movements and agility.\n",
      "\n",
      "**3. Practice regularly:**\n",
      "   - Consistent practice is crucial. Dedicate time each day to refine your skills and techniques.\n",
      "\n",
      "**4. Join a fencing club:**\n",
      "   - Training with experienced fencers can provide valuable insights and\n",
      "Human: What equipment do I need?\n",
      "AI:  Here's a list of essential equipment you'll need for fencing:\n",
      "\n",
      "**1. Fencing weapon:**\n",
      "   - Choose a weapon based on your preference and style. The three main types are foil, épée, and saber.\n",
      "\n",
      "**2. Fencing mask:**\n",
      "   - A high-quality mask is crucial for protecting your face during bouts.\n",
      "\n",
      "**3. Fencing jacket:**\n",
      "   - The jacket provides protection for your torso and arms.\n",
      "\n",
      "**4. Fencing knickers:**\n",
      "   - These specialized pants offer flexibility and protection for your legs.\n",
      "\n",
      "**5. Fencing glove:**\n",
      "   - A well-fitting\n",
      "Human: Who are the greats of the sport I can emulate?\n",
      "AI:\u001b[0m\n",
      "\n",
      "\u001b[1m> Finished chain.\u001b[0m\n",
      "\n",
      "\n",
      "\u001b[1m> Entering new ConversationChain chain...\u001b[0m\n",
      "Prompt after formatting:\n",
      "\u001b[32;1m\u001b[1;3mThe following is a friendly conversation between a human and an AI. The AI is talkative and provides lots of specific details from its context. If the AI does not know the answer to a question, it truthfully says it does not know.\n",
      "\n",
      "Current conversation:\n",
      "Human: What equipment do I need?\n",
      "AI:  Here's a list of essential equipment you'll need for fencing:\n",
      "\n",
      "**1. Fencing weapon:**\n",
      "   - Choose a weapon based on your preference and style. The three main types are foil, épée, and saber.\n",
      "\n",
      "**2. Fencing mask:**\n",
      "   - A high-quality mask is crucial for protecting your face during bouts.\n",
      "\n",
      "**3. Fencing jacket:**\n",
      "   - The jacket provides protection for your torso and arms.\n",
      "\n",
      "**4. Fencing knickers:**\n",
      "   - These specialized pants offer flexibility and protection for your legs.\n",
      "\n",
      "**5. Fencing glove:**\n",
      "   - A well-fitting\n",
      "Human: Who are the greats of the sport I can emulate?\n",
      "AI:  Here are some of the greatest fencers you can emulate to improve your skills and knowledge of the sport:\n",
      "\n",
      "**1. Valentina Vezzali (Italy):**\n",
      "   - One of the most decorated fencers in history, with multiple Olympic and World Championship titles in women's foil.\n",
      "\n",
      "**2. Alexander Romankov (Russia):**\n",
      "   - A legendary fencer known for his exceptional technique and achievements in men's foil.\n",
      "\n",
      "**3. Ed Zver (Russia):**\n",
      "   - A former Olympic champion and World Champion in men's saber, renowned for his speed and precision.\n",
      "\n",
      "**4\n",
      "Human: What is my favourite sport?\n",
      "AI:\u001b[0m\n",
      "\n",
      "\u001b[1m> Finished chain.\u001b[0m\n"
     ]
    },
    {
     "data": {
      "text/plain": [
       "' I cannot answer that as the information is not available in the context.'"
      ]
     },
     "execution_count": 36,
     "metadata": {},
     "output_type": "execute_result"
    }
   ],
   "source": []
  },
  {
   "cell_type": "markdown",
   "metadata": {},
   "source": [
    "### Since we exceeded the k=2, the LLM will be unable to remember our initial message and will be unable to answer this"
   ]
  },
  {
   "cell_type": "markdown",
   "metadata": {
    "id": "5z_Dhb87R_6q"
   },
   "source": [
    "### ConversationSummaryBufferMemory\n",
    "\n",
    "Ensures conversational memory up to a specified token length"
   ]
  },
  {
   "cell_type": "code",
   "execution_count": 37,
   "metadata": {
    "id": "Bp56IJU2Q6Ks",
    "tags": []
   },
   "outputs": [
    {
     "name": "stdout",
     "output_type": "stream",
     "text": [
      "\n",
      "\n",
      "\u001b[1m> Entering new ConversationChain chain...\u001b[0m\n",
      "Prompt after formatting:\n",
      "\u001b[32;1m\u001b[1;3mThe following is a friendly conversation between a human and an AI. The AI is talkative and provides lots of specific details from its context. If the AI does not know the answer to a question, it truthfully says it does not know.\n",
      "\n",
      "Current conversation:\n",
      "\n",
      "Human: Hi, how are you?\n",
      "AI:\u001b[0m\n",
      "\n",
      "\u001b[1m> Finished chain.\u001b[0m\n"
     ]
    },
    {
     "data": {
      "text/plain": [
       "' I am doing well, thank you for asking. How can I help you today?'"
      ]
     },
     "execution_count": 37,
     "metadata": {},
     "output_type": "execute_result"
    }
   ],
   "source": [
    "from langchain.chains import ConversationChain\n",
    "\n",
    "conversation_with_summary = ConversationChain(\n",
    "    llm=llm,\n",
    "    # Change max_token_limit here after running through the conversation\n",
    "    memory=ConversationTokenBufferMemory(llm=llm, max_token_limit=600),\n",
    "    verbose=True,\n",
    ")\n",
    "conversation_with_summary.predict(input=\"Hi, how are you?\")"
   ]
  },
  {
   "cell_type": "code",
   "execution_count": 38,
   "metadata": {
    "id": "AHnnO3MySR6R",
    "tags": []
   },
   "outputs": [
    {
     "name": "stdout",
     "output_type": "stream",
     "text": [
      "\n",
      "\n",
      "\u001b[1m> Entering new ConversationChain chain...\u001b[0m\n",
      "Prompt after formatting:\n",
      "\u001b[32;1m\u001b[1;3mThe following is a friendly conversation between a human and an AI. The AI is talkative and provides lots of specific details from its context. If the AI does not know the answer to a question, it truthfully says it does not know.\n",
      "\n",
      "Current conversation:\n",
      "Human: Hi, how are you?\n",
      "AI:  I am doing well, thank you for asking. How can I help you today?\n",
      "Human: I'm learning the Rust programming language\n",
      "AI:\u001b[0m\n",
      "\n",
      "\u001b[1m> Finished chain.\u001b[0m\n"
     ]
    },
    {
     "data": {
      "text/plain": [
       "\" That's great! Rust is a powerful and versatile programming language that emphasizes safety, performance, and concurrency. It's known for its strong type system and memory safety features, making it a great choice for building reliable and efficient software.\""
      ]
     },
     "execution_count": 38,
     "metadata": {},
     "output_type": "execute_result"
    }
   ],
   "source": [
    "conversation_with_summary.predict(input=\"I'm learning the Rust programming language\")"
   ]
  },
  {
   "cell_type": "code",
   "execution_count": 39,
   "metadata": {
    "id": "f7IUBteTSKFo",
    "tags": []
   },
   "outputs": [
    {
     "name": "stdout",
     "output_type": "stream",
     "text": [
      "\n",
      "\n",
      "\u001b[1m> Entering new ConversationChain chain...\u001b[0m\n",
      "Prompt after formatting:\n",
      "\u001b[32;1m\u001b[1;3mThe following is a friendly conversation between a human and an AI. The AI is talkative and provides lots of specific details from its context. If the AI does not know the answer to a question, it truthfully says it does not know.\n",
      "\n",
      "Current conversation:\n",
      "Human: Hi, how are you?\n",
      "AI:  I am doing well, thank you for asking. How can I help you today?\n",
      "Human: I'm learning the Rust programming language\n",
      "AI:  That's great! Rust is a powerful and versatile programming language that emphasizes safety, performance, and concurrency. It's known for its strong type system and memory safety features, making it a great choice for building reliable and efficient software.\n",
      "Human: What's the best book to help me?\n",
      "AI:\u001b[0m\n",
      "\n",
      "\u001b[1m> Finished chain.\u001b[0m\n"
     ]
    },
    {
     "data": {
      "text/plain": [
       "\" There are several excellent books that can help you learn Rust. Here are a few highly recommended options:\\n\\n* **The Rust Programming Language** by Steve Klabnik and Carol Nichols: This is the official book from the Rust team and provides a comprehensive introduction to the language. It covers everything from basic syntax to advanced topics like ownership and lifetimes.\\n\\n* **Rust in Action** by Tim McNamara: This book takes a more hands-on approach, with plenty of code examples and exercises. It's great for learning by doing and covers topics like building web applications, working with databases, and creating games.\\n\\n* **Rust by Example\""
      ]
     },
     "execution_count": 39,
     "metadata": {},
     "output_type": "execute_result"
    }
   ],
   "source": [
    "conversation_with_summary.predict(input=\"What's the best book to help me?\")"
   ]
  },
  {
   "cell_type": "code",
   "execution_count": 40,
   "metadata": {
    "id": "hFy53AIISZGp",
    "tags": []
   },
   "outputs": [
    {
     "name": "stdout",
     "output_type": "stream",
     "text": [
      "\n",
      "\n",
      "\u001b[1m> Entering new ConversationChain chain...\u001b[0m\n",
      "Prompt after formatting:\n",
      "\u001b[32;1m\u001b[1;3mThe following is a friendly conversation between a human and an AI. The AI is talkative and provides lots of specific details from its context. If the AI does not know the answer to a question, it truthfully says it does not know.\n",
      "\n",
      "Current conversation:\n",
      "Human: Hi, how are you?\n",
      "AI:  I am doing well, thank you for asking. How can I help you today?\n",
      "Human: I'm learning the Rust programming language\n",
      "AI:  That's great! Rust is a powerful and versatile programming language that emphasizes safety, performance, and concurrency. It's known for its strong type system and memory safety features, making it a great choice for building reliable and efficient software.\n",
      "Human: What's the best book to help me?\n",
      "AI:  There are several excellent books that can help you learn Rust. Here are a few highly recommended options:\n",
      "\n",
      "* **The Rust Programming Language** by Steve Klabnik and Carol Nichols: This is the official book from the Rust team and provides a comprehensive introduction to the language. It covers everything from basic syntax to advanced topics like ownership and lifetimes.\n",
      "\n",
      "* **Rust in Action** by Tim McNamara: This book takes a more hands-on approach, with plenty of code examples and exercises. It's great for learning by doing and covers topics like building web applications, working with databases, and creating games.\n",
      "\n",
      "* **Rust by Example\n",
      "Human: Wish me luck!\n",
      "AI:\u001b[0m\n",
      "\n",
      "\u001b[1m> Finished chain.\u001b[0m\n"
     ]
    },
    {
     "data": {
      "text/plain": [
       "\" Good luck with your Rust learning journey! Rust is a fantastic language, and I'm confident that you'll find it both enjoyable and rewarding. If you have any more questions or need further assistance, feel free to ask. I'm here to help!\""
      ]
     },
     "execution_count": 40,
     "metadata": {},
     "output_type": "execute_result"
    }
   ],
   "source": [
    "# Notice the buffer here is updated and clears the earlier exchanges\n",
    "# Depending on how chatty the LLM is feeling, the token limit may have\n",
    "# already been reached, and this cell will yield a generic response.\n",
    "conversation_with_summary.predict(input=\"Wish me luck!\")"
   ]
  },
  {
   "cell_type": "markdown",
   "metadata": {
    "id": "XTc4s_mTS5r0"
   },
   "source": [
    "The following cell should generate a reply that is clearly restricted to the general benefits of learning Haskell and missing the previous context of someone trying to learn Rust.\n",
    "\n",
    "Run this cell, then go back to the Keep the conversation going with summaries cell and change <font color='blue' face=\"Courier New\" size=\"+2\">max_token_limit</font> to 700. Then re-run the entire conversation and notice how the model relates its ouptut about learning Haskell to the context of someone trying to learn Rust."
   ]
  },
  {
   "cell_type": "code",
   "execution_count": 41,
   "metadata": {
    "id": "dFg9ajZgSihj",
    "tags": []
   },
   "outputs": [
    {
     "name": "stdout",
     "output_type": "stream",
     "text": [
      "\n",
      "\n",
      "\u001b[1m> Entering new ConversationChain chain...\u001b[0m\n",
      "Prompt after formatting:\n",
      "\u001b[32;1m\u001b[1;3mThe following is a friendly conversation between a human and an AI. The AI is talkative and provides lots of specific details from its context. If the AI does not know the answer to a question, it truthfully says it does not know.\n",
      "\n",
      "Current conversation:\n",
      "Human: Hi, how are you?\n",
      "AI:  I am doing well, thank you for asking. How can I help you today?\n",
      "Human: I'm learning the Rust programming language\n",
      "AI:  That's great! Rust is a powerful and versatile programming language that emphasizes safety, performance, and concurrency. It's known for its strong type system and memory safety features, making it a great choice for building reliable and efficient software.\n",
      "Human: What's the best book to help me?\n",
      "AI:  There are several excellent books that can help you learn Rust. Here are a few highly recommended options:\n",
      "\n",
      "* **The Rust Programming Language** by Steve Klabnik and Carol Nichols: This is the official book from the Rust team and provides a comprehensive introduction to the language. It covers everything from basic syntax to advanced topics like ownership and lifetimes.\n",
      "\n",
      "* **Rust in Action** by Tim McNamara: This book takes a more hands-on approach, with plenty of code examples and exercises. It's great for learning by doing and covers topics like building web applications, working with databases, and creating games.\n",
      "\n",
      "* **Rust by Example\n",
      "Human: Wish me luck!\n",
      "AI:  Good luck with your Rust learning journey! Rust is a fantastic language, and I'm confident that you'll find it both enjoyable and rewarding. If you have any more questions or need further assistance, feel free to ask. I'm here to help!\n",
      "Human: Would knowing Haskell help me?\n",
      "AI:\u001b[0m\n",
      "\n",
      "\u001b[1m> Finished chain.\u001b[0m\n"
     ]
    },
    {
     "data": {
      "text/plain": [
       "\" Yes, knowing Haskell can be beneficial for learning Rust. Haskell is a purely functional programming language that emphasizes immutability and referential transparency. Rust, while not purely functional, also places a strong emphasis on these concepts. By understanding the principles of functional programming in Haskell, you'll have a better foundation for grasping Rust's ownership and borrowing rules, which are crucial for writing safe and efficient Rust code. Additionally, both languages share similarities in their type systems, with Rust's type system being inspired by Haskell's. Therefore, having a background in Haskell can provide you with a head start in understanding and utilizing Rust's powerful type\""
      ]
     },
     "execution_count": 41,
     "metadata": {},
     "output_type": "execute_result"
    }
   ],
   "source": [
    "conversation_with_summary.predict(input=\"Would knowing Haskell help me?\")"
   ]
  },
  {
   "cell_type": "markdown",
   "metadata": {
    "id": "ipq1hc68ii_T"
   },
   "source": [
    "## Chains\n",
    "\n",
    "Complex applications will require chaining LLMs together, or with other components.\n",
    "\n",
    "We will cover the following types of chains:\n",
    "\n",
    "**Sequential chains**\n",
    "\n",
    "**Router chains**"
   ]
  },
  {
   "cell_type": "markdown",
   "metadata": {
    "id": "LUcwWDdmi0O1"
   },
   "source": [
    "### LLMChain\n",
    "\n",
    "An LLMChain simply provides a prompt to the LLM."
   ]
  },
  {
   "cell_type": "code",
   "execution_count": 42,
   "metadata": {
    "id": "-rProHX1izYx",
    "tags": []
   },
   "outputs": [],
   "source": [
    "from langchain.chains import LLMChain\n",
    "\n",
    "prompt = ChatPromptTemplate.from_template(\n",
    "    \"What is the best name to describe \\\n",
    "    a company that makes {product}?\"\n",
    ")"
   ]
  },
  {
   "cell_type": "code",
   "execution_count": 43,
   "metadata": {
    "id": "wAavEr0Ni7Pe",
    "tags": []
   },
   "outputs": [
    {
     "data": {
      "text/plain": [
       "' **Laminate Lumber Sawing Solutions**'"
      ]
     },
     "execution_count": 43,
     "metadata": {},
     "output_type": "execute_result"
    }
   ],
   "source": [
    "chain = LLMChain(llm=llm, prompt=prompt)\n",
    "product = \"A saw for laminate wood\"\n",
    "chain.run(product)"
   ]
  },
  {
   "cell_type": "markdown",
   "metadata": {
    "id": "8792cV9FjL6C"
   },
   "source": [
    "### Sequential chain\n",
    "\n",
    "A sequential chain makes a series of calls to an LLM. It enables a pipeline-style workflow in which the output from one call becomes the input to the next.\n",
    "\n",
    "The two types include:\n",
    "\n",
    "* <font color='blue' face=\"Courier New\" size=\"+2\">SimpleSequentialChain</font>, where predictably each step has a single input and output, which becomes the input to the next step.\n",
    "\n",
    "* <font color='blue' face=\"Courier New\" size=\"+2\">SequentialChain</font>, which allows for multiple inputs and outputs."
   ]
  },
  {
   "cell_type": "code",
   "execution_count": 44,
   "metadata": {
    "id": "cwKGeaiJi8uU",
    "tags": []
   },
   "outputs": [],
   "source": [
    "from langchain.chains import SimpleSequentialChain\n",
    "from langchain.prompts import PromptTemplate"
   ]
  },
  {
   "cell_type": "code",
   "execution_count": 45,
   "metadata": {
    "id": "25X7ALMEjPs-",
    "tags": []
   },
   "outputs": [],
   "source": [
    "# This is an LLMChain to write a pitch for a new product\n",
    "# Let's increase the temperature to allow some imagination\n",
    "\n",
    "llm = VertexAI(temperature=0.7)\n",
    "template = \"\"\"You are an entrepreneur. Think of a ground breaking new product and write a short pitch.\n",
    "\n",
    "Title: {title}\n",
    "Entrepreneur: This is a pitch for the above product:\"\"\"\n",
    "prompt_template = PromptTemplate(input_variables=[\"title\"], template=template)\n",
    "pitch_chain = LLMChain(llm=llm, prompt=prompt_template)"
   ]
  },
  {
   "cell_type": "markdown",
   "metadata": {},
   "source": [
    "### Based on the pattern you just saw complete them next code block\n",
    "<br>\n",
    "<details><summary>Click for <b>hint</b></summary>\n",
    "<p>\n",
    "Add a <font color='blue' face=\"Courier New\" size=\"+2\">prompt_template</font> and <font color='blue' face=\"Courier New\" size=\"+2\">pitch_chain</font> as above.\n",
    "<br>\n",
    "\n",
    "<br>\n",
    "<br>\n",
    "</p>\n",
    "</details>\n",
    "\n",
    "<details><summary>Click for <b>code</b></summary>\n",
    "<p>\n",
    "\n",
    "```python\n",
    "template = \"\"\"You are a panelist on Dragon's Den. Given a \\\n",
    "description of the product, you are to explain why you think it will \\\n",
    "succeed or fail in the market.\n",
    "\n",
    "Product pitch: {pitch}\n",
    "Review by Dragon's Den panelist:\"\"\"\n",
    "prompt_template = PromptTemplate(input_variables=[\"pitch\"], template=template)\n",
    "review_chain = LLMChain(llm=llm, prompt=prompt_template)\n",
    "```\n",
    "</p>\n",
    "</details>\n"
   ]
  },
  {
   "cell_type": "code",
   "execution_count": 46,
   "metadata": {
    "id": "6m7H7JavjVsL",
    "tags": []
   },
   "outputs": [],
   "source": [
    "template = \"\"\"You are a panelist on Dragon's Den. Given a \\\n",
    "description of the product, you are to explain why you think it will \\\n",
    "succeed or fail in the market.\n",
    "\n",
    "Product pitch: {pitch}\n",
    "Review by Dragon's Den panelist:\"\"\"\n"
   ]
  },
  {
   "cell_type": "markdown",
   "metadata": {},
   "source": [
    "### Complete the code block below to run them in the right sequence.\n",
    "<br>\n",
    "<details><summary>Click for <b>hint</b></summary>\n",
    "<p>\n",
    "Supply <font color='blue' face=\"Courier New\" size=\"+2\">pitch_chain</font> and <font color='blue' face=\"Courier New\" size=\"+2\">review_chain</font> in the <font color='blue' face=\"Courier New\" size=\"+2\">chains parameter</font>.\n",
    "<br>\n",
    "\n",
    "<br>\n",
    "<br>\n",
    "</p>\n",
    "</details>\n",
    "\n",
    "<details><summary>Click for <b>code</b></summary>\n",
    "<p>\n",
    "\n",
    "```python\n",
    "overall_chain = SimpleSequentialChain(chains=[pitch_chain, review_chain], verbose=True)\n",
    "```\n",
    "</p>\n",
    "</details>\n"
   ]
  },
  {
   "cell_type": "code",
   "execution_count": 47,
   "metadata": {
    "id": "RsYZq5BBjpFp",
    "tags": []
   },
   "outputs": [],
   "source": [
    "# This is the overall chain where we run these two chains in sequence.\n",
    "overall_chain = SimpleSequentialChain(chains= , verbose=True)"
   ]
  },
  {
   "cell_type": "code",
   "execution_count": 48,
   "metadata": {
    "id": "lI2kt13mjsAx",
    "tags": []
   },
   "outputs": [
    {
     "name": "stdout",
     "output_type": "stream",
     "text": [
      "\n",
      "\n",
      "\u001b[1m> Entering new SimpleSequentialChain chain...\u001b[0m\n",
      "\u001b[36;1m\u001b[1;3m **Portable Iced Coffee Maker**\n",
      "\n",
      "**Problem:** Iced coffee is a popular beverage, but it can be difficult to make at home. Traditional methods require a lot of time and effort, and they often result in watered-down coffee.\n",
      "\n",
      "**Solution:** The Portable Iced Coffee Maker is a revolutionary new way to make iced coffee. It's compact and easy to use, and it makes delicious, refreshing iced coffee in just minutes.\n",
      "\n",
      "**How it works:** The Portable Iced Coffee Maker uses a unique brewing process that combines hot coffee with cold water. This results in a concentrated coffee that can be diluted to your desired strength. The coffee\u001b[0m\n",
      "\u001b[33;1m\u001b[1;3m As a Dragon on Dragons' Den, I am constantly on the lookout for innovative and practical products that have the potential to succeed in the market. The Portable Iced Coffee Maker has several factors working in its favor that suggest it has strong chances of success:\n",
      "\n",
      "1. **Market demand:** Iced coffee has become increasingly popular in recent years, especially among younger consumers. The convenience of having a portable device that can quickly produce iced coffee at home or on the go is a compelling proposition.\n",
      "\n",
      "2. **Unique brewing process:** The product's unique brewing process, which combines hot coffee with cold water, addresses the common issue of watered-down\u001b[0m\n",
      "\n",
      "\u001b[1m> Finished chain.\u001b[0m\n"
     ]
    }
   ],
   "source": [
    "review = overall_chain.run(\"Portable iced coffee maker\")"
   ]
  },
  {
   "cell_type": "markdown",
   "metadata": {
    "id": "p7LkrG1KjxRv"
   },
   "source": [
    "### Router chain\n",
    "\n",
    "A <font color='blue' face=\"Courier New\" size=\"+2\">RouterChain</font> dynamically selects the next chain to use for a given input.\n",
    "This feature uses the <font color='blue' face=\"Courier New\" size=\"+2\">MultiPromptChain</font> to select then answer with the best-suited prompt to the question.\n",
    "\n",
    "This can help a modular architecure, allowing the effective triaging of inputs between relevant prompt templates."
   ]
  },
  {
   "cell_type": "code",
   "execution_count": 49,
   "metadata": {
    "id": "6esOD8KCjtY0",
    "tags": []
   },
   "outputs": [],
   "source": [
    "from langchain.chains.router import MultiPromptChain\n",
    "\n",
    "korean_template = \"\"\"\n",
    "You are an expert in korean history and culture.\n",
    "Here is a question:\n",
    "{input}\n",
    "\"\"\"\n",
    "\n",
    "spanish_template = \"\"\"\n",
    "You are an expert in spanish history and culture.\n",
    "Here is a question:\n",
    "{input}\n",
    "\"\"\"\n",
    "\n",
    "chinese_template = \"\"\"\n",
    "You are an expert in Chinese history and culture.\n",
    "Here is a question:\n",
    "{input}\n",
    "\"\"\""
   ]
  },
  {
   "cell_type": "code",
   "execution_count": 50,
   "metadata": {
    "id": "qqoJDRGkjzRL",
    "tags": []
   },
   "outputs": [],
   "source": [
    "prompt_infos = [\n",
    "    {\n",
    "        \"name\": \"korean\",\n",
    "        \"description\": \"Good for answering questions about Korean history and culture\",\n",
    "        \"prompt_template\": korean_template,\n",
    "    },\n",
    "    {\n",
    "        \"name\": \"spanish\",\n",
    "        \"description\": \"Good for answering questions about Spanish history and culture\",\n",
    "        \"prompt_template\": spanish_template,\n",
    "    },\n",
    "     {\n",
    "        \"name\": \"chinese\",\n",
    "        \"description\": \"Good for answering questions about Chinese history and culture\",\n",
    "        \"prompt_template\": chinese_template,\n",
    "    },\n",
    "]"
   ]
  },
  {
   "cell_type": "code",
   "execution_count": 51,
   "metadata": {
    "id": "DalpVKISj3gl",
    "tags": []
   },
   "outputs": [],
   "source": [
    "from langchain.chains.router.llm_router import LLMRouterChain,RouterOutputParser\n",
    "\n",
    "llm = VertexAI(temperature=0)\n",
    "\n",
    "destination_chains = {}\n",
    "for p_info in prompt_infos:\n",
    "    name = p_info[\"name\"]\n",
    "    prompt_template = p_info[\"prompt_template\"]\n",
    "    prompt = ChatPromptTemplate.from_template(template=prompt_template)\n",
    "    chain = LLMChain(llm=llm, prompt=prompt)\n",
    "    destination_chains[name] = chain\n",
    "\n",
    "destinations = [f\"{p['name']}: {p['description']}\" for p in prompt_infos]\n",
    "destinations_str = \"\\n\".join(destinations)"
   ]
  },
  {
   "cell_type": "code",
   "execution_count": 52,
   "metadata": {
    "id": "zAKrHbR-kABO",
    "tags": []
   },
   "outputs": [],
   "source": [
    "default_prompt = ChatPromptTemplate.from_template(\"{input}\")\n",
    "default_chain = LLMChain(llm=llm, prompt=default_prompt)"
   ]
  },
  {
   "cell_type": "code",
   "execution_count": 53,
   "metadata": {
    "id": "xZZ1fg0kkADv",
    "tags": []
   },
   "outputs": [],
   "source": [
    "# Thanks to Deeplearning.ai for this template and for the\n",
    "# Langchain short course at deeplearning.ai/short-courses/.\n",
    "\n",
    "MULTI_PROMPT_ROUTER_TEMPLATE = \"\"\"Given a raw text input to a \\\n",
    "language model select the model prompt best suited for the input. \\\n",
    "You will be given the names of the available prompts and a \\\n",
    "description of what the prompt is best suited for. \\\n",
    "You may also revise the original input if you think that revising\\\n",
    "it will ultimately lead to a better response from the language model.\n",
    "\n",
    "<< FORMATTING >>\n",
    "Return a markdown code snippet with a JSON object formatted to look like:\n",
    "```json\n",
    "{{{{\n",
    "    \"destination\": string \\ name of the prompt to use or \"DEFAULT\"\n",
    "    \"next_inputs\": string \\ a potentially modified version of the original input\n",
    "}}}}\n",
    "```\n",
    "\n",
    "REMEMBER: \"destination\" MUST be one of the candidate prompt \\\n",
    "names specified below OR it can be \"DEFAULT\" if the input is not\\\n",
    "well suited for any of the candidate prompts.\n",
    "REMEMBER: \"next_inputs\" can just be the original input \\\n",
    "if you don't think any modifications are needed.\n",
    "\n",
    "<< CANDIDATE PROMPTS >>\n",
    "{destinations}\n",
    "\n",
    "<< INPUT >>\n",
    "{{input}}\n",
    "\n",
    "<< OUTPUT (remember to include the ```json)>>\"\"\""
   ]
  },
  {
   "cell_type": "code",
   "execution_count": 54,
   "metadata": {
    "id": "rlHKi0yMkAGS",
    "tags": []
   },
   "outputs": [],
   "source": [
    "router_template = MULTI_PROMPT_ROUTER_TEMPLATE.format(\n",
    "    destinations=destinations_str\n",
    ")\n",
    "router_prompt = PromptTemplate(\n",
    "    template=router_template,\n",
    "    input_variables=[\"input\"],\n",
    "    output_parser=RouterOutputParser(),\n",
    ")\n",
    "\n",
    "router_chain = LLMRouterChain.from_llm(llm, router_prompt)"
   ]
  },
  {
   "cell_type": "code",
   "execution_count": 55,
   "metadata": {
    "id": "A-HucZwnkAII",
    "tags": []
   },
   "outputs": [
    {
     "name": "stderr",
     "output_type": "stream",
     "text": [
      "/var/tmp/ipykernel_9420/2333002322.py:1: LangChainDeprecationWarning: Use RunnableLambda to select from multiple prompt templates. See example in API reference: https://api.python.langchain.com/en/latest/chains/langchain.chains.router.multi_prompt.MultiPromptChain.html\n",
      "  chain = MultiPromptChain(router_chain=router_chain,\n"
     ]
    }
   ],
   "source": [
    "chain = MultiPromptChain(router_chain=router_chain,\n",
    "                         destination_chains=destination_chains,\n",
    "                         default_chain=default_chain, verbose=True\n",
    "                        )"
   ]
  },
  {
   "cell_type": "markdown",
   "metadata": {
    "id": "dGKSiUOZkMo-"
   },
   "source": [
    "Notice in the outputs the country of speciality is prefixed eg:\n",
    "<font color='blue' face=\"Courier New\" size=\"+2\">chinese: {'input': ...</font>, denoting the routing to the correct expert."
   ]
  },
  {
   "cell_type": "code",
   "execution_count": 56,
   "metadata": {
    "id": "y6H3dVYEkHNw",
    "tags": []
   },
   "outputs": [
    {
     "name": "stdout",
     "output_type": "stream",
     "text": [
      "\n",
      "\n",
      "\u001b[1m> Entering new MultiPromptChain chain...\u001b[0m\n",
      "chinese: {'input': 'What was the Han Dynasty?'}\n",
      "\u001b[1m> Finished chain.\u001b[0m\n"
     ]
    },
    {
     "data": {
      "text/plain": [
       "\" The Han Dynasty (206 BCE–220 CE) was a period of imperial rule in China that followed the fall of the Qin Dynasty. It is considered one of the most prosperous and influential periods in Chinese history. The Han Dynasty was founded by Liu Bang, a peasant rebel who overthrew the Qin Dynasty. The Han Dynasty was divided into two periods: the Western Han Dynasty (206 BCE–9 CE) and the Eastern Han Dynasty (25–220 CE). The Western Han Dynasty was based in Chang'an (modern Xi'an), while the Eastern Han Dynasty was based in Luoyang.\""
      ]
     },
     "execution_count": 56,
     "metadata": {},
     "output_type": "execute_result"
    }
   ],
   "source": [
    "chain.run(\"What was the Han Dynasty?\")"
   ]
  },
  {
   "cell_type": "code",
   "execution_count": 57,
   "metadata": {
    "id": "AMUtRs_BkRG5",
    "tags": []
   },
   "outputs": [
    {
     "name": "stdout",
     "output_type": "stream",
     "text": [
      "\n",
      "\n",
      "\u001b[1m> Entering new MultiPromptChain chain...\u001b[0m\n",
      "spanish: {'input': 'What are some typical dishes in Catalonia?'}\n",
      "\u001b[1m> Finished chain.\u001b[0m\n"
     ]
    },
    {
     "data": {
      "text/plain": [
       "\" **Catalan cuisine** is a Mediterranean cuisine that has been influenced by the region's history and geography. Some of the most typical dishes in Catalonia include:\\n\\n* **Pa amb tomàquet** (bread with tomato): This is a simple but delicious dish that is often served as a snack or appetizer. It is made with toasted bread that is rubbed with tomato and then drizzled with olive oil and salt.\\n* **Esqueixada** (cod salad): This salad is made with shredded cod, tomatoes, onions, and peppers. It is often served with bread or crackers.\\n* **Escudella i carn d\""
      ]
     },
     "execution_count": 57,
     "metadata": {},
     "output_type": "execute_result"
    }
   ],
   "source": [
    "chain.run(\"What are some of typical dishes in Catalonia?\")"
   ]
  },
  {
   "cell_type": "code",
   "execution_count": 58,
   "metadata": {
    "id": "4ZZFI5NWkS-Z",
    "tags": []
   },
   "outputs": [
    {
     "name": "stdout",
     "output_type": "stream",
     "text": [
      "\n",
      "\n",
      "\u001b[1m> Entering new MultiPromptChain chain...\u001b[0m\n",
      "korean: {'input': \"How would I greet a friend's parents in Korean?\"}\n",
      "\u001b[1m> Finished chain.\u001b[0m\n"
     ]
    },
    {
     "data": {
      "text/plain": [
       "\" To greet a friend's parents in Korean, you would use the following phrases:\\n\\n**For the father:**\\n\\n- 안녕하세요 (annyeonghaseyo): This is the most common way to greet someone in Korean. It can be used in both formal and informal settings.\\n- 아저씨 (ajeossi): This is a respectful way to address an older man. It can be used for your friend's father or any other older man you meet.\\n- 아버지 (abeoji): This is a more formal way to address your friend's father. It is typically used when you are meeting\""
      ]
     },
     "execution_count": 58,
     "metadata": {},
     "output_type": "execute_result"
    }
   ],
   "source": [
    "chain.run(\"How would I greet a friend's parents in Korean?\")"
   ]
  },
  {
   "cell_type": "code",
   "execution_count": 59,
   "metadata": {
    "id": "kcF_GMsvkU91",
    "tags": []
   },
   "outputs": [
    {
     "name": "stdout",
     "output_type": "stream",
     "text": [
      "\n",
      "\n",
      "\u001b[1m> Entering new MultiPromptChain chain...\u001b[0m\n",
      "None: {'input': 'Summarize Don Quixote in a short paragraph'}\n",
      "\u001b[1m> Finished chain.\u001b[0m\n"
     ]
    },
    {
     "data": {
      "text/plain": [
       "\" Don Quixote, written by Miguel de Cervantes Saavedra, tells the story of Alonso Quijano, a Spanish nobleman who becomes obsessed with chivalric romances and decides to become a knight-errant, calling himself Don Quixote. He sets out on adventures with his peasant squire, Sancho Panza, and together they encounter various misadventures and challenges. Don Quixote's delusions lead him to see ordinary people and situations as knights, princesses, and castles, and he often engages in battles against imaginary enemies. Despite his delusions, Don Quixote is a kind and honorable man, and his adventures provide a humorous and insightful exploration of human nature, idealism,\""
      ]
     },
     "execution_count": 59,
     "metadata": {},
     "output_type": "execute_result"
    }
   ],
   "source": [
    "chain.run(\"Summarize Don Quixote in a short paragraph\")"
   ]
  },
  {
   "cell_type": "code",
   "execution_count": 60,
   "metadata": {
    "id": "BudujtydkWUM",
    "tags": []
   },
   "outputs": [
    {
     "name": "stdout",
     "output_type": "stream",
     "text": [
      "\n",
      "\n",
      "\u001b[1m> Entering new MultiPromptChain chain...\u001b[0m\n",
      "None: {'input': 'How can I fix a carburetor?'}\n",
      "\u001b[1m> Finished chain.\u001b[0m\n"
     ]
    },
    {
     "data": {
      "text/plain": [
       "' Assistant: Fixing a carburetor can be a complex task, but here are some general steps to help you get started:\\n\\n1. **Identify the problem:** Before you start fixing the carburetor, you need to identify the problem. This can be done by checking for symptoms such as engine stalling, rough idling, or poor fuel economy.\\n\\n2. **Gather the necessary tools and parts:** Once you have identified the problem, you will need to gather the necessary tools and parts to fix the carburetor. This may include a carburetor rebuild kit, a screwdriver, a wrench, and a fuel filter.\\n\\n3. **Remove the carburetor:** The next'"
      ]
     },
     "execution_count": 60,
     "metadata": {},
     "output_type": "execute_result"
    }
   ],
   "source": [
    "# No specialist chain for carburetor advice; this\n",
    "# will be handled as any other input by the foundational model\n",
    "chain.run(\"How can I fix a carburetor?\")"
   ]
  },
  {
   "cell_type": "markdown",
   "metadata": {
    "id": "tXe_R6V_kf7G"
   },
   "source": [
    "## Agents and vectorstores\n",
    "\n",
    "This final section of the notebook will cover some of LangChain's most fun and powerful features.\n",
    "\n",
    "Agents have access to tools such as JSON, Wikipedia, Web Search, GitHub or Pandas Dataframes, and can access their capabilities depending on user input.\n",
    "\n",
    "See [here](https://python.langchain.com/docs/integrations/toolkits/) for a full list of agent toolkits.\n",
    "\n",
    "We will work with some data to perform data retrieval using the LLM with embeddings to match customer queries to products. This is known as Retrieval Augmentated Generation, or RAG.\n",
    "\n",
    "We will use the Wayfair [WANDS](https://www.aboutwayfair.com/careers/tech-blog/wayfair-releases-wands-the-largest-and-richest-publicly-available-dataset-for-e-commerce-product-search-relevance) dataset of more than 42,000 products. Here are the steps:\n",
    "\n",
    "* Download the data into a pandas dataframe and take a smaller 1,000-row sample set\n",
    "\n",
    "* Merge then generate embeddings for the product titles and descriptions\n",
    "\n",
    "* Prompt an LLM to retrieve details and relevant documents related to queries.\n",
    "\n",
    "<img src=\"https://assets.wfcdn.com/im/01139917/resize-h800-w800%5Ecompr-r85/2315/231567967/Capricornus+3+Seater+Sofa.jpg\" width=\"250\"/> <img src=\"https://assets.wfcdn.com/im/07725066/resize-h800-w800%5Ecompr-r85/1584/158440119/Vancasso+BOMOOTIUR+Stoneware+Dinnerware+-+Set+of+18.jpg\" width=\"250\"/>\n"
   ]
  },
  {
   "cell_type": "code",
   "execution_count": 61,
   "metadata": {
    "id": "MCr6_IMGlUoq",
    "tags": []
   },
   "outputs": [],
   "source": [
    "!wget -q https://raw.githubusercontent.com/wayfair/WANDS/main/dataset/product.csv"
   ]
  },
  {
   "cell_type": "code",
   "execution_count": 62,
   "metadata": {
    "id": "qY2cTO5ilY1E",
    "tags": []
   },
   "outputs": [],
   "source": [
    "import pandas as pd\n",
    "product_df = pd.read_csv(\"product.csv\", sep='\\t')"
   ]
  },
  {
   "cell_type": "markdown",
   "metadata": {
    "id": "I9b6WXptlcsv"
   },
   "source": [
    "We will work with 1,000 items to avoid longer wait times for the embedding and look up processes."
   ]
  },
  {
   "cell_type": "code",
   "execution_count": 63,
   "metadata": {
    "id": "Ndlo2oNONYxj",
    "tags": []
   },
   "outputs": [],
   "source": [
    "product_df = product_df[:2000].dropna()"
   ]
  },
  {
   "cell_type": "code",
   "execution_count": 64,
   "metadata": {
    "id": "1ihFzIFAlajw",
    "tags": []
   },
   "outputs": [
    {
     "data": {
      "text/html": [
       "<div>\n",
       "<style scoped>\n",
       "    .dataframe tbody tr th:only-of-type {\n",
       "        vertical-align: middle;\n",
       "    }\n",
       "\n",
       "    .dataframe tbody tr th {\n",
       "        vertical-align: top;\n",
       "    }\n",
       "\n",
       "    .dataframe thead th {\n",
       "        text-align: right;\n",
       "    }\n",
       "</style>\n",
       "<table border=\"1\" class=\"dataframe\">\n",
       "  <thead>\n",
       "    <tr style=\"text-align: right;\">\n",
       "      <th></th>\n",
       "      <th>product_id</th>\n",
       "      <th>product_name</th>\n",
       "      <th>product_class</th>\n",
       "      <th>category hierarchy</th>\n",
       "      <th>product_description</th>\n",
       "      <th>product_features</th>\n",
       "      <th>rating_count</th>\n",
       "      <th>average_rating</th>\n",
       "      <th>review_count</th>\n",
       "    </tr>\n",
       "  </thead>\n",
       "  <tbody>\n",
       "    <tr>\n",
       "      <th>0</th>\n",
       "      <td>0</td>\n",
       "      <td>solid wood platform bed</td>\n",
       "      <td>Beds</td>\n",
       "      <td>Furniture / Bedroom Furniture / Beds &amp; Headboa...</td>\n",
       "      <td>good , deep sleep can be quite difficult to ha...</td>\n",
       "      <td>overallwidth-sidetoside:64.7|dsprimaryproducts...</td>\n",
       "      <td>15.0</td>\n",
       "      <td>4.5</td>\n",
       "      <td>15.0</td>\n",
       "    </tr>\n",
       "    <tr>\n",
       "      <th>1</th>\n",
       "      <td>1</td>\n",
       "      <td>all-clad 7 qt . slow cooker</td>\n",
       "      <td>Slow Cookers</td>\n",
       "      <td>Kitchen &amp; Tabletop / Small Kitchen Appliances ...</td>\n",
       "      <td>create delicious slow-cooked meals , from tend...</td>\n",
       "      <td>capacityquarts:7|producttype : slow cooker|pro...</td>\n",
       "      <td>100.0</td>\n",
       "      <td>2.0</td>\n",
       "      <td>98.0</td>\n",
       "    </tr>\n",
       "    <tr>\n",
       "      <th>2</th>\n",
       "      <td>2</td>\n",
       "      <td>all-clad electrics 6.5 qt . slow cooker</td>\n",
       "      <td>Slow Cookers</td>\n",
       "      <td>Kitchen &amp; Tabletop / Small Kitchen Appliances ...</td>\n",
       "      <td>prepare home-cooked meals on any schedule with...</td>\n",
       "      <td>features : keep warm setting|capacityquarts:6....</td>\n",
       "      <td>208.0</td>\n",
       "      <td>3.0</td>\n",
       "      <td>181.0</td>\n",
       "    </tr>\n",
       "  </tbody>\n",
       "</table>\n",
       "</div>"
      ],
      "text/plain": [
       "   product_id                             product_name product_class  \\\n",
       "0           0                  solid wood platform bed          Beds   \n",
       "1           1              all-clad 7 qt . slow cooker  Slow Cookers   \n",
       "2           2  all-clad electrics 6.5 qt . slow cooker  Slow Cookers   \n",
       "\n",
       "                                  category hierarchy  \\\n",
       "0  Furniture / Bedroom Furniture / Beds & Headboa...   \n",
       "1  Kitchen & Tabletop / Small Kitchen Appliances ...   \n",
       "2  Kitchen & Tabletop / Small Kitchen Appliances ...   \n",
       "\n",
       "                                 product_description  \\\n",
       "0  good , deep sleep can be quite difficult to ha...   \n",
       "1  create delicious slow-cooked meals , from tend...   \n",
       "2  prepare home-cooked meals on any schedule with...   \n",
       "\n",
       "                                    product_features  rating_count  \\\n",
       "0  overallwidth-sidetoside:64.7|dsprimaryproducts...          15.0   \n",
       "1  capacityquarts:7|producttype : slow cooker|pro...         100.0   \n",
       "2  features : keep warm setting|capacityquarts:6....         208.0   \n",
       "\n",
       "   average_rating  review_count  \n",
       "0             4.5          15.0  \n",
       "1             2.0          98.0  \n",
       "2             3.0         181.0  "
      ]
     },
     "execution_count": 64,
     "metadata": {},
     "output_type": "execute_result"
    }
   ],
   "source": [
    "product_df.head(3)"
   ]
  },
  {
   "cell_type": "code",
   "execution_count": 65,
   "metadata": {
    "id": "9w5fj9adNsUM",
    "tags": []
   },
   "outputs": [
    {
     "data": {
      "text/plain": [
       "1269"
      ]
     },
     "execution_count": 65,
     "metadata": {},
     "output_type": "execute_result"
    }
   ],
   "source": [
    "len(product_df)"
   ]
  },
  {
   "cell_type": "code",
   "execution_count": 66,
   "metadata": {
    "id": "xtft6ycVlqbk",
    "tags": []
   },
   "outputs": [],
   "source": [
    "# Reduce the df to columns of interest\n",
    "product_df = product_df.filter([\"product_id\", \"product_name\", \"product_description\", \"average_rating\"], axis=1)"
   ]
  },
  {
   "cell_type": "code",
   "execution_count": 67,
   "metadata": {
    "id": "oQBJPTihlsb9",
    "tags": []
   },
   "outputs": [
    {
     "data": {
      "text/html": [
       "<div>\n",
       "<style scoped>\n",
       "    .dataframe tbody tr th:only-of-type {\n",
       "        vertical-align: middle;\n",
       "    }\n",
       "\n",
       "    .dataframe tbody tr th {\n",
       "        vertical-align: top;\n",
       "    }\n",
       "\n",
       "    .dataframe thead th {\n",
       "        text-align: right;\n",
       "    }\n",
       "</style>\n",
       "<table border=\"1\" class=\"dataframe\">\n",
       "  <thead>\n",
       "    <tr style=\"text-align: right;\">\n",
       "      <th></th>\n",
       "      <th>product_id</th>\n",
       "      <th>product_name</th>\n",
       "      <th>product_description</th>\n",
       "      <th>average_rating</th>\n",
       "    </tr>\n",
       "  </thead>\n",
       "  <tbody>\n",
       "    <tr>\n",
       "      <th>0</th>\n",
       "      <td>0</td>\n",
       "      <td>solid wood platform bed</td>\n",
       "      <td>good , deep sleep can be quite difficult to ha...</td>\n",
       "      <td>4.5</td>\n",
       "    </tr>\n",
       "    <tr>\n",
       "      <th>1</th>\n",
       "      <td>1</td>\n",
       "      <td>all-clad 7 qt . slow cooker</td>\n",
       "      <td>create delicious slow-cooked meals , from tend...</td>\n",
       "      <td>2.0</td>\n",
       "    </tr>\n",
       "    <tr>\n",
       "      <th>2</th>\n",
       "      <td>2</td>\n",
       "      <td>all-clad electrics 6.5 qt . slow cooker</td>\n",
       "      <td>prepare home-cooked meals on any schedule with...</td>\n",
       "      <td>3.0</td>\n",
       "    </tr>\n",
       "  </tbody>\n",
       "</table>\n",
       "</div>"
      ],
      "text/plain": [
       "   product_id                             product_name  \\\n",
       "0           0                  solid wood platform bed   \n",
       "1           1              all-clad 7 qt . slow cooker   \n",
       "2           2  all-clad electrics 6.5 qt . slow cooker   \n",
       "\n",
       "                                 product_description  average_rating  \n",
       "0  good , deep sleep can be quite difficult to ha...             4.5  \n",
       "1  create delicious slow-cooked meals , from tend...             2.0  \n",
       "2  prepare home-cooked meals on any schedule with...             3.0  "
      ]
     },
     "execution_count": 67,
     "metadata": {},
     "output_type": "execute_result"
    }
   ],
   "source": [
    "product_df.head(3)"
   ]
  },
  {
   "cell_type": "markdown",
   "metadata": {
    "id": "oiHIRcVsl0F-"
   },
   "source": [
    "### Import and initialize pandas dataframe agent\n",
    "\n",
    "These tools use the <font color='blue' face=\"Courier New\" size=\"+2\">langchain-experimental</font> pip package installed at the start of the notebook."
   ]
  },
  {
   "cell_type": "markdown",
   "metadata": {
    "id": "carYxcSOm_WL"
   },
   "source": [
    "### Pandas agent\n",
    "\n",
    "This agent allows us to interact with the dataframe using natural language. LangChain shows us the pandas queries it is composing to answer the questions."
   ]
  },
  {
   "cell_type": "code",
   "execution_count": 68,
   "metadata": {
    "id": "xP8sJ5TqlzeW",
    "tags": []
   },
   "outputs": [],
   "source": [
    "from langchain_experimental.agents.agent_toolkits import create_pandas_dataframe_agent\n",
    "from langchain.agents.agent_types import AgentType\n",
    "\n",
    "agent = create_pandas_dataframe_agent(VertexAI(temperature=0), product_df, verbose=True, allow_dangerous_code=True)"
   ]
  },
  {
   "cell_type": "code",
   "execution_count": 69,
   "metadata": {
    "id": "pDjIU-l8l2N_",
    "tags": []
   },
   "outputs": [
    {
     "name": "stdout",
     "output_type": "stream",
     "text": [
      "\n",
      "\n",
      "\u001b[1m> Entering new AgentExecutor chain...\u001b[0m\n",
      "\u001b[32;1m\u001b[1;3m Thought: The number of rows in a dataframe can be found using the `len()` function.\n",
      "Action: python_repl_ast\n",
      "Action Input: `len(df)`\u001b[0m\u001b[36;1m\u001b[1;3m1269\u001b[0m\u001b[32;1m\u001b[1;3m Question: how many rows are there?\n",
      "Thought: The number of rows in a dataframe can be found using the `len()` function.\n",
      "Action: python_repl_ast\n",
      "Action Input: `len(df)`\u001b[0m\u001b[36;1m\u001b[1;3m1269\u001b[0m\u001b[32;1m\u001b[1;3m Question: how many rows are there?\n",
      "Thought: The number of rows in a dataframe can be found using the `len()` function.\n",
      "Action: python_repl_ast\n",
      "Action Input: `len(df)`\u001b[0m\u001b[36;1m\u001b[1;3m1269\u001b[0m\u001b[32;1m\u001b[1;3m Question: how many rows are there?\n",
      "Thought: The number of rows in a dataframe can be found using the `len()` function.\n",
      "Action: python_repl_ast\n",
      "Action Input: `len(df)`\u001b[0m\u001b[36;1m\u001b[1;3m1269\u001b[0m\u001b[32;1m\u001b[1;3m Question: how many rows are there?\n",
      "Thought: The number of rows in a dataframe can be found using the `len()` function.\n",
      "Action: python_repl_ast\n",
      "Action Input: `len(df)`\u001b[0m\u001b[36;1m\u001b[1;3m1269\u001b[0m\u001b[32;1m\u001b[1;3m Question: how many rows are there?\n",
      "Thought: The number of rows in a dataframe can be found using the `len()` function.\n",
      "Action: python_repl_ast\n",
      "Action Input: `len(df)`\u001b[0m\u001b[36;1m\u001b[1;3m1269\u001b[0m\u001b[32;1m\u001b[1;3m Question: how many rows are there?\n",
      "Thought: The number of rows in a dataframe can be found using the `len()` function.\n",
      "Action: python_repl_ast\n",
      "Action Input: `len(df)`\u001b[0m\u001b[36;1m\u001b[1;3m1269\u001b[0m\u001b[32;1m\u001b[1;3m Question: how many rows are there?\n",
      "Thought: The number of rows in a dataframe can be found using the `len()` function.\n",
      "Action: python_repl_ast\n",
      "Action Input: `len(df)`\u001b[0m\u001b[36;1m\u001b[1;3m1269\u001b[0m\u001b[32;1m\u001b[1;3m Question: how many rows are there?\n",
      "Thought: The number of rows in a dataframe can be found using the `len()` function.\n",
      "Action: python_repl_ast\n",
      "Action Input: `len(df)`\u001b[0m\u001b[36;1m\u001b[1;3m1269\u001b[0m\u001b[32;1m\u001b[1;3m Question: how many rows are there?\n",
      "Thought: The number of rows in a dataframe can be found using the `len()` function.\n",
      "Action: python_repl_ast\n",
      "Action Input: `len(df)`\u001b[0m\u001b[36;1m\u001b[1;3m1269\u001b[0m\u001b[32;1m\u001b[1;3m Question: how many rows are there?\n",
      "Thought: The number of rows in a dataframe can be found using the `len()` function.\n",
      "Action: python_repl_ast\n",
      "Action Input: `len(df)`\u001b[0m\u001b[36;1m\u001b[1;3m1269\u001b[0m\u001b[32;1m\u001b[1;3m Question: how many rows are there?\n",
      "Thought: The number of rows in a dataframe can be found using the `len()` function.\n",
      "Action: python_repl_ast\n",
      "Action Input: `len(df)`\u001b[0m\u001b[36;1m\u001b[1;3m1269\u001b[0m\u001b[32;1m\u001b[1;3m Question: how many rows are there?\n",
      "Thought: The number of rows in a dataframe can be found using the `len()` function.\n",
      "Action: python_repl_ast\n",
      "Action Input: `len(df)`\u001b[0m\u001b[36;1m\u001b[1;3m1269\u001b[0m\u001b[32;1m\u001b[1;3m Question: how many rows are there?\n",
      "Thought: The number of rows in a dataframe can be found using the `len()` function.\n",
      "Action: python_repl_ast\n",
      "Action Input: `len(df)`\u001b[0m\u001b[36;1m\u001b[1;3m1269\u001b[0m\u001b[32;1m\u001b[1;3m Question: how many rows are there?\n",
      "Thought: The number of rows in a dataframe can be found using the `len()` function.\n",
      "Action: python_repl_ast\n",
      "Action Input: `len(df)`\u001b[0m\u001b[36;1m\u001b[1;3m1269\u001b[0m\u001b[32;1m\u001b[1;3m\u001b[0m\n",
      "\n",
      "\u001b[1m> Finished chain.\u001b[0m\n"
     ]
    },
    {
     "data": {
      "text/plain": [
       "'Agent stopped due to iteration limit or time limit.'"
      ]
     },
     "execution_count": 69,
     "metadata": {},
     "output_type": "execute_result"
    }
   ],
   "source": [
    "agent.run(\"how many rows are there?\")"
   ]
  },
  {
   "cell_type": "code",
   "execution_count": 70,
   "metadata": {
    "id": "HB3GlVLjmsgi",
    "tags": []
   },
   "outputs": [
    {
     "name": "stdout",
     "output_type": "stream",
     "text": [
      "\n",
      "\n",
      "\u001b[1m> Entering new AgentExecutor chain...\u001b[0m\n",
      "\u001b[32;1m\u001b[1;3m Thought: I need to filter the dataframe to only include products with a rating greater than 4.\n",
      "Action: [python_repl_ast]\n",
      "Action Input: `df[df['average_rating'] > 4]`\u001b[0m[python_repl_ast] is not a valid tool, try one of [python_repl_ast].\u001b[32;1m\u001b[1;3m Question: How many products have a rating of > 4?\n",
      "Thought: I need to filter the dataframe to only include products with a rating greater than 4.\n",
      "Action: [python_repl_ast]\n",
      "Action Input: `df[df['average_rating'] > 4]`\u001b[0m[python_repl_ast] is not a valid tool, try one of [python_repl_ast].\u001b[32;1m\u001b[1;3m Question: How many products have a rating of > 4?\n",
      "Thought: I need to filter the dataframe to only include products with a rating greater than 4.\n",
      "Action: [python_repl_ast]\n",
      "Action Input: `df[df['average_rating'] > 4].shape[0]`\u001b[0m[python_repl_ast] is not a valid tool, try one of [python_repl_ast].\u001b[32;1m\u001b[1;3m Question: How many products have a rating of > 4?\n",
      "Thought: I need to filter the dataframe to only include products with a rating greater than 4.\n",
      "Action: [python_repl_ast]\n",
      "Action Input: `df[df['average_rating'] > 4].shape[0]`\u001b[0m[python_repl_ast] is not a valid tool, try one of [python_repl_ast].\u001b[32;1m\u001b[1;3m Question: How many products have a rating of > 4?\n",
      "Thought: I need to filter the dataframe to only include products with a rating greater than 4.\n",
      "Action: [python_repl_ast]\n",
      "Action Input: `df[df['average_rating'] > 4].shape[0]`\u001b[0m[python_repl_ast] is not a valid tool, try one of [python_repl_ast].\u001b[32;1m\u001b[1;3m Question: How many products have a rating of > 4?\n",
      "Thought: I need to filter the dataframe to only include products with a rating greater than 4.\n",
      "Action: [python_repl_ast]\n",
      "Action Input: `df[df['average_rating'] > 4].shape[0]`\u001b[0m[python_repl_ast] is not a valid tool, try one of [python_repl_ast].\u001b[32;1m\u001b[1;3m Question: How many products have a rating of > 4?\n",
      "Thought: I need to filter the dataframe to only include products with a rating greater than 4.\n",
      "Action: [python_repl_ast]\n",
      "Action Input: `len(df[df['average_rating'] > 4])`\u001b[0m[python_repl_ast] is not a valid tool, try one of [python_repl_ast].\u001b[32;1m\u001b[1;3m Question: How many products have a rating of > 4?\n",
      "Thought: I need to filter the dataframe to only include products with a rating greater than 4.\n",
      "Action: [python_repl_ast]\n",
      "Action Input: `len(df[df['average_rating'] > 4])`\u001b[0m[python_repl_ast] is not a valid tool, try one of [python_repl_ast].\u001b[32;1m\u001b[1;3m Question: How many products have a rating of > 4?\n",
      "Thought: I need to filter the dataframe to only include products with a rating greater than 4.\n",
      "Action: [python_repl_ast]\n",
      "Action Input: `len(df[df['average_rating'] > 4])`\u001b[0m[python_repl_ast] is not a valid tool, try one of [python_repl_ast].\u001b[32;1m\u001b[1;3m Question: How many products have a rating of > 4?\n",
      "Thought: I need to filter the dataframe to only include products with a rating greater than 4.\n",
      "Action: [python_repl_ast]\n",
      "Action Input: `len(df[df['average_rating'] > 4])`\u001b[0m[python_repl_ast] is not a valid tool, try one of [python_repl_ast].\u001b[32;1m\u001b[1;3m Question: How many products have a rating of > 4?\n",
      "Thought: I need to filter the dataframe to only include products with a rating greater than 4.\n",
      "Action: [python_repl_ast]\n",
      "Action Input: `len(df[df['average_rating'] > 4])`\u001b[0m[python_repl_ast] is not a valid tool, try one of [python_repl_ast].\u001b[32;1m\u001b[1;3m Question: How many products have a rating of > 4?\n",
      "Thought: I need to filter the dataframe to only include products with a rating greater than 4.\n",
      "Action: [python_repl_ast]\n",
      "Action Input: `len(df[df['average_rating'] > 4])`\u001b[0m[python_repl_ast] is not a valid tool, try one of [python_repl_ast].\u001b[32;1m\u001b[1;3m Question: How many products have a rating of > 4?\n",
      "Thought: I need to filter the dataframe to only include products with a rating greater than 4.\n",
      "Action: [python_repl_ast]\n",
      "Action Input: `len(df[df['average_rating'] > 4])`\u001b[0m[python_repl_ast] is not a valid tool, try one of [python_repl_ast].\u001b[32;1m\u001b[1;3m Question: How many products have a rating of > 4?\n",
      "Thought: I need to filter the dataframe to only include products with a rating greater than 4.\n",
      "Action: [python_repl_ast]\n",
      "Action Input: `len(df[df['average_rating'] > 4])`\u001b[0m[python_repl_ast] is not a valid tool, try one of [python_repl_ast].\u001b[32;1m\u001b[1;3m Question: How many products have a rating of > 4?\n",
      "Thought: I need to filter the dataframe to only include products with a rating greater than 4.\n",
      "Action: [python_repl_ast]\n",
      "Action Input: `len(df[df['average_rating'] > 4])`\u001b[0m[python_repl_ast] is not a valid tool, try one of [python_repl_ast].\u001b[32;1m\u001b[1;3m\u001b[0m\n",
      "\n",
      "\u001b[1m> Finished chain.\u001b[0m\n"
     ]
    },
    {
     "data": {
      "text/plain": [
       "'Agent stopped due to iteration limit or time limit.'"
      ]
     },
     "execution_count": 70,
     "metadata": {},
     "output_type": "execute_result"
    }
   ],
   "source": [
    "agent.run(\"How many products have a rating of > 4?\")"
   ]
  },
  {
   "cell_type": "markdown",
   "metadata": {
    "id": "Y8A5C_jQm4UU"
   },
   "source": [
    "### CSV agent\n",
    "\n",
    "We can also work directly on a .csv file"
   ]
  },
  {
   "cell_type": "code",
   "execution_count": 75,
   "metadata": {
    "id": "LDxCGtBCnO4M",
    "tags": []
   },
   "outputs": [],
   "source": [
    "pd.DataFrame.to_csv(product_df, \"data.csv\")"
   ]
  },
  {
   "cell_type": "code",
   "execution_count": 76,
   "metadata": {
    "id": "U-BV7NdvmueF",
    "tags": []
   },
   "outputs": [],
   "source": [
    "from langchain_experimental.agents.agent_toolkits import create_csv_agent\n",
    "\n",
    "agent = create_csv_agent(\n",
    "    VertexAI(temperature=0),\n",
    "    \"data.csv\",\n",
    "    verbose=True,\n",
    "    agent_type=AgentType.ZERO_SHOT_REACT_DESCRIPTION,\n",
    "    allow_dangerous_code=True,\n",
    ")"
   ]
  },
  {
   "cell_type": "code",
   "execution_count": 77,
   "metadata": {
    "id": "YnrlNtJemx7J",
    "tags": []
   },
   "outputs": [
    {
     "name": "stdout",
     "output_type": "stream",
     "text": [
      "\n",
      "\n",
      "\u001b[1m> Entering new AgentExecutor chain...\u001b[0m\n",
      "\u001b[32;1m\u001b[1;3m Thought: The shape of the dataframe should give me the number of rows.\n",
      "Action: python_repl_ast\n",
      "Action Input: df.shape\u001b[0m\u001b[36;1m\u001b[1;3m(1269, 5)\u001b[0m\u001b[32;1m\u001b[1;3m The first value in the tuple is the number of rows.\n",
      "Final Answer: 1269\u001b[0m\n",
      "\n",
      "\u001b[1m> Finished chain.\u001b[0m\n"
     ]
    },
    {
     "data": {
      "text/plain": [
       "'1269'"
      ]
     },
     "execution_count": 77,
     "metadata": {},
     "output_type": "execute_result"
    }
   ],
   "source": [
    "agent.run(\"How many rows are there?\")"
   ]
  },
  {
   "cell_type": "code",
   "execution_count": 74,
   "metadata": {
    "id": "B8GeRRuynd2T",
    "tags": []
   },
   "outputs": [
    {
     "name": "stdout",
     "output_type": "stream",
     "text": [
      "\n",
      "\n",
      "\u001b[1m> Entering new AgentExecutor chain...\u001b[0m\n",
      "\u001b[32;1m\u001b[1;3m Thought: The question asks for product descriptions that mention wood. I can use `df['product_description'].str.contains('wood')` to find the rows that contain 'wood' in the 'product_description' column, and then use `df.loc` to get the corresponding rows.\n",
      "Action: python_repl_ast\n",
      "Action Input: ```python\n",
      "df[df['product_description'].str.contains('wood')]['product_description'].to_json(orient='records')\n",
      "```\u001b[0m\u001b[36;1m\u001b[1;3m[\"good , deep sleep can be quite difficult to have in this busy age . fortunately , there \\u2019 s an antidote to such a problem : a nice , quality bed frame like the acacia kaylin . solidly constructed from acacia wood , this bed frame will stand the test of time and is fit to rest your shoulders on for years and years . its sleek , natural wood grain appearance provides a pleasant aesthetic to adorn any bedroom , acting both as a decorative piece as well as a place to give comfort after a hard day of work . our bed frame is designed to give ample under-bed space for easy cleaning and other usages , with a headboard attached to further express the craftiness . it can be used with other accessories such as a nightstand or bookcase headboard and is compatible with many types of mattresses including memory foam , spring , or hybrid ones . there \\u2019 s nowhere better to relax than your own home , and with this bed frame that feeling of homeliness will even be more emphasized . rest comfortably and in style .\",\"the vogan vanity from our vogan series is a 33 '' wide single bowl vanity . the vanity is beautiful and decorative as well as designed to make installation as easy as possible . it comes with a mounted beige solid marble top with pre-drilled holes for faucets , a mounted porcelain bowl and the back was designed with an opening to allow for easy plumbing hook-ups . this collection boasts a spanish and french influence with its large scaled details in a finish of varying tones of soft blues featuring a contrast of distressed creamy whites and delicately detailed with hand-painted soft scrolls . consider ordering 2 for a large master bath application . the vogan series is part of our santa lucia collection consisting of , hand-painted , and distressed solid wood furniture making each piece a timeless investment . hand crafted treasures made one piece at a time , under one roof , by our exclusive family owned manufacturer from lima , peru . their master artisans are skilled in furniture making techniques influenced by the spanish during the colonization of peru . many items in the diverse collection feature specialty hand-painted finishes that have also been passed on and perfected from generation to generation . the family strives to be environmentally friendly by using woods re-purposed from haciendas and old colonial homes as well as wood indigenous to south american forests , primarily mahogany , cedar , moena and require . if you are a lover of beautiful painted furniture , find hill country rustic romantic , or find richness in mediterranean lore then you too may fall in furniture love with this fine collection .\",\"the vogelsang top vanity is a 48 '' wide single bowl vanity . the vanity is beautiful and decorative as well as designed to make installation as easy as possible . it comes with a mounted hand-hammered copper top and bowl with pre-drilled holes for faucets the back was designed with an opening to allow for easy plumbing hook-ups . this collection boasts a spanish influence with its large scaled details in a finish of varying tones of rich darker tones featuring a contrast of distressed creamy beige and delicately detailed with hand-painted scrolls . consider ordering 2 for a large master bath application or for smaller space requirements consider our equally beautiful lima copper top vanity with an efficient 25 '' width . the vogelsang copper top vanity is part of our santa lucia collection consisting of , hand-painted , and distressed solid wood furniture making each piece a timeless investment . handcrafted treasures made one piece at a time , under one roof , by our exclusive family owned manufacturer from lima , peru . their master artisans are skilled in furniture making techniques influenced by the spanish during the colonization of peru . many items in the diverse collection feature specialty hand-painted finishes that have also been passed on and perfected from generation to generation . the family strives to be environmentally friendly by using woods re-purposed from haciendas and old colonial homes as well as wood indigenous to south american forests , primarily mahogany , cedar , moena and require . if you are a lover of beautiful painted furniture , find hill country rustic romantic , or find richness in mediterranean lore then you too may fall in furniture love with this fine collection .\",\"in the endless world of sofa style options , the chesterfield design is timeless . a style that fits the widest array of interior designs from semi modern to casual farmhouse , from urban transitional to classic traditional . the chesterfield is often a favorite designer choice . this beautiful offering is available in various seating configurations from sofa sets to sectionals and is also offered in a variety of popular covers . the frames are constructed in wood and plywood solids . the cushions are very comfortable with embedded spring coil construction , which also helps keep the seating looking newer longer . the covering shown is a very placeable neutral color , and the weight of the is a notably heavier finer grade . consider ordering the matching sofa and chair to complete the set . light assembly of legs required .\",\"red barrel studio\\u00ae fireplace log rack with 4 tools indoor outdoor firewood holders lumber storage stacking black wrought iron logs bin holder for fireplace tool .\",\"red barrel studio\\u00ae 3ftx30.7in large wide firewood rack fireplace tool rack indoor outdoor kindling holder heavy duty wood storage log rack holder stacker stand tools stove accessories black without cover\",\"arlmont & co. 2pack firewood bracket log rack outdoor wood storage fireplace lumber pile holder stacker kit diy heavy duty steel fire pit accessory adjustable to any length and height screw included black .\",\"this farmhouse wall clock features cedar wood construction , a classic gray stiained center ring with a lightly distressed white outer ring , hand painted roman numerals , an inner accent ring with individual hour marks , vintage graphic in the center of the face , and antique style spade hands .\",\"the 3-piece bedding set includes one quilt , one fitted crib sheet , and one crib skirt . the quilt features a giant tree filled with super cute woodland characters . his feet are black velour and his eyes and nose are embroidered . the colorful fitted crib sheet depicts our friendly fox , cute raccoon , baby porcupine , gray bunny and wise owl along with multiple trees . a colorful crib skirt completes this bedding set .\",\"add more storage space to your home office , living room , or bedroom with this storage cabinet . it 's made from engineered wood and features a two-tone finish of natural wood grain and solid hue . the two shelves offer plenty of space for your collection of novels , stacks of binders , or things of interest . it measures 29.6 '' tall and 29.5 '' wide , so you can use the top to keep plants , a printer , or additional books .\",\"the metal\\/mango wood 3 piece wall shelf set is the perfect addition to your living or dining room . put on display your favorite indoor plants or candles on these marvelous wall shelves . tealight holders placed on these would be an immediate ambiance enhance as well .\",\"a lovely home for your overflowing fern plant or lush green aloe , this pleasant pot planter brings earthy elegance into your home . try keeping it atop your nightstand to add a pop of color to a sumptuous white comforter , then make it even more eye-catching by surrounding it with abstract art sculptures and framed family photos . its round silhouette is adorned with a scalloped design finished in glossy . searching for something to spruce up the front porch ? just add in blooming begonias for a charming complement to a pair of weathered wood rocking chairs .\",\"this farmhouse mirror is decorated with realistic wood grain giving this frame a true farm to home feel . this slim full-length floor mirror has an impressive accessory to hang on a bedroom or bathroom door . the two over the door hangers included can easily fit over most doors up to 2 '' thick . four d-hooks are also preinstalled allowing for a vertical or horizontal wall installation .\",\"compliment your wall space with this modern farmhouse floor mirror . the frame is wrapped in a wood grain finish completing your modern farmhouse decor . the mirror includes four pre-installed hooks for both vertical or horizontal hanging making it a functional and stylish decorating tool . this large size mirror is also perfect to simply lean against a wall .\",\"this indoor\\/outdoor rustic tray set can be used for serving or displaying your favorite decor items . multiple size options to fit ottomans , couches , kitchen islands or dining room tables . these hand-crafted spruce\\/firwood trays are installed with large metal handle . for easy carrying . stained by hand in a rustic and farmhouse early american finish .\",\"get organized in your entryway : this storage bench stores six pairs of shoes in style . practical and functional , it 's crafted from solid wood and features a clean-lined design with a textured effect , and is topped off with a faux leather seat that lifts up to reveal a handy storage compartment . measuring 17.72 '' h x 23.62 '' w x 11.81 '' d , its compact size is sure to fit in any space , and it features handles on both ends to allow for relocation when needed .\",\"gift yourself true comfort with a hollywood - coma inducer oversized comforter - desert flower . made of soft plush this oversized bed set from rosdorf park will provide your bedroom decor with cozy luxury . this oversized comforter and matching sham ( s ) come with a soft , gentle touch that covers your entire bed and keeps you warm all night long .\",\"inspired by the often over-the-top lifestyle of hollywood superstars , this comforter set is all about the bright color , edgy , fun , and it 's so soft that it 's truly a luxury plush comforter . it 's that soft and cozy ! warm , luxury plush makes this comforter set a top-in-class comforter that you 'll truly love . you only live once , so why not make your bedding boldly unapologetic and the softest and brightest it can be ?\",\"if you want to choose a lovely and comfortable sofa for your toddler , this one could be the perfect choice . it is made of sturdy wood and breathable linen so it 's quite comfortable . it could provide seat for 2 kids . thanks to the lightweight design , you can move the sofa from one place to another . the bright color and concise design will catch the attention of all kids . the leg is made of wood effect plastic and will protect your carpet . the soft seat and backrest will make your kids feel more relaxed . you can give it to your lovely baby or send out as a gift .\",\"if you want to choose a lovely and comfortable sofa for your toddler , this one could be the perfect choice . it is made of sturdy wood and plush so it 's quite comfortable . it could provide seat for 1 toddler . thanks to the lightweight design , you can move the sofa from one place to another . the bright color and concise design will catch the attention of all kids . the leg is made of plastic and will protect your carpet . the soft seat and backrest will make your kids feel more relaxed . you can give it to your lovely baby or send out as a gift .\",\"no yard or garden ? no problem ! keep things green outdoors with this hanging plastic pot planter . made in the usa from a wood and resin blend with a polished fine rain texture and matte finish . this planter is chip-resistant , rust-resistant , rot-resistant , and peel-resistant , as well as fade-resistant , so it 's perfect for plants that need direct sunlight . plus , it features optional punch-out drainage holes . a macrame cord with hanging ring allows you to hang it wherever you 'd like .\",\"wood on top . wire on the bottom . functional eye-pleasing magic everywhere . three shapes . three finishes and a kicky take on simplicity to boot .\",\"this is a standard desk . a desktop is 47.24 inches wide and 21.65 inches deep and two drawers . the legs are metal and they are rust-free . the boards are manufactured wood , and it is anti-scratch , water-proof and easy to clean . the two things combination ensure stability and durability . it would go well with most home styles . the shape is rectangular and freestanding , so you could put it anywhere you want . if you have some problem with this , we provide the well after-sale service . you could get this for yourself , children , or anyone who needs a desk , it is economic .\",\"an attractive diamond quilted pattern on both the back and seat of this bar stool elevates its style and adds to its cushion comfort . the practical linen and polyester blend fabric work well in a variety of color schemes . the barstool is sturdy with hardwood legs and foot rail , that is finished in a light oak stain .\",\"homacer aims to provide the best value products and services to save your time and money when you think of installing a sliding door at your home . pre-install notice : only the hardware is for sale , doors are not included . if you are installing the hardware on a concrete wall , please send homacer a message asking for bolts specifically for concrete walls . the hardware package only has lag bolts for wooden wall or drywall . homacer sliding barn door hardware kit is compatible with door thickness . if you have thinner or thicker door , please contact homacer for the correct length of the hex bolts of the hangers , or you can get them from your local hardware store . please also notify homacer to put spacer extensions in the package if you have thicker doors . the spacer extension will extend the track further from the wall to fit the thicker door . if you have a door trim , you \\u2019 d better put a header board that is as thick as the trim and then attach the hardware to the header board . from the top of the door to the ceiling , you need to have clearance for u shape bracket bypass hardware . all tracks that are under coming in one piece . all tracks that are above are connected by two tracks using a junction plate .\",\"the sleeper sofa features a beautiful leather-look microfiber fabric with rustic antique brass nail head accents . solid wood frames and legs create a product that will last for years and the curved arm design softens this set with elegance . fiber wrapped , high-density foam cushions offer a soft but supportive seating experience . the sleeper sofa includes an innerspring , quilted top mattress and features a sturdy metal fold-out bed mechanism .\",\"lodge-inspired , this mix of solid microfiber and printed-tapestry upholstery pairs beautifully with nailhead accents for a rustic appeal in this sleeper sofa . the solid-wood frame is durable and strong . soft , yet supportive cushions are filled with high-density foam and a layer of fiber wrap . this sleeper sofa features a sturdy metal fold-out bed mechanism and an innerspring , quilted top queen mattress .\",\"add this dining table to your space and then fearlessly host dinner parties knowing you have a stylish place for your guests with the mid-century modern style hesse round dining table in white . crafted of quality solid wood , its durability and longevity will ensure countless sittings . its simple design means versatility and enhances any dining area , kitchen , or breakfast with warmth and sophistication . this table comfortably seats up to four . can be cleaned with a non-abrasive cleaning solution followed by a quick microfiber cloth . removable legs allow for simple delivery for tight spaces . available in a variety of timeless colors , you 're sure to find something that matches your d\\u00e9cor .\",\"add an extra spot to the den or living room for movie nights or accent your master suite ensemble with the nimitz 105.41cm wide velvet armchair . founded atop four walnut-finished legs , this piece is crafted with a solid wood frame , high-density foam padding which lends comfort to the seat . upholstered in durable , high-quality velvet , this tasteful piece features elegant square arms and a fully padded back cushion for great support . can be cleaned with a non-abrasive cleaning solution followed by a quick microfiber cloth . removable legs allow for simple delivery for tight spaces . available in a variety of timeless colors , you 're sure to find something that matches your decor .\",\"add an extra spot to the den or living room for movie nights or accent your master suite ensemble with the mance tufted genuine leather armchair . founded atop four walnut-finished legs , this piece is crafted with a solid wood frame , high-density foam padding which lends comfort to the seat . upholstered in durable , high-quality genuine leather , this tasteful piece features elegant square arms and a fully padded back cushion for the great support . can be cleaned with a non-abrasive cleaning solution followed by a quick microfiber cloth . removable legs allow for simple delivery for tight spaces . available in a variety of timeless colors , you 're sure to find something that matches your decor .\",\"add an extra spot to the den or living room for movie nights or accent your master suite ensemble with the erikson 68.58cm wide genuine leather full grain leather armchair . founded atop four walnut-finished legs , this piece is crafted with a solid wood frame , high-density foam padding which lends comfort to the seat . upholstered in durable , high-quality genuine leather , this tasteful piece features elegant square arms and a fully padded back cushion for the great support . can be cleaned with a non-abrasive cleaning solution followed by a quick microfiber cloth . removable legs allow for simple delivery for tight spaces . available in a variety of timeless colors , you 're sure to find something that matches your decor .\",\"bring modern style to any space with this sleek leather lounge chair . this chair is made of solid teak wood in a warm , walnut tone , with coil spring construction , foam seat and back cushions , and genuine leather upholstery . it features an exposed , open , streamlined frame , tapered legs , a square back and seat , and gold-tone nailhead trim . this chair accommodates up to 350 lbs . it completes the look in any contemporary or mid-century modern space .\",\"this armchair gives you another space to relax in any sitting area \\u2014 whether that 's your living room , den , or guest room . it has a solid rubberwood frame with corner-block reinforced joints \\u2014 plus , four tapered dowel legs that give your room a mid-century modern look . the chair 's seat , button-tufted cushion back , and square arms are all upholstered in velvet , with foam fill for extra support as you curl up with a good book or chat with friends in the family room . partial assembly is required : just attach the legs and you 're good to go .\",\"`` rock your baby to sleep in comfort with the heuer mid-century modern button-tufted velvet rocking chair . founded atop two walnut-finished rockers , this piece is crafted with a solid wood frame , high-density foam padding which lends comfort to the seat . upholstered in durable , high-quality velvet , this tasteful piece features elegant squared arms for convenience . can be cleaned with a non-abrasive cleaning solution followed by a quick microfiber cloth . removable rockers allow for simple delivery for tight spaces . available in a variety of timeless colors , you 're sure to find something that matches your decor ''\",\"the mid-century modern 2-drawer houston nightstand in white is an eye-catcher for any bedroom or living room thanks to its classy design and convenience . built from durable solid wood the frame and the legs guarantee enough stability and safety . the drawers offer plenty of storage . removable legs allow for simple delivery for tight spaces available in a variety of timeless colors , you 're sure to find something that matches your d\\u00e9cor . partial assembly is required .\",\"deliver some unforgettable style to your living room with the unique look of italian leather . the leather chair completes your home 's decor with exquisite style . featuring a mid-century feel , this chair simply exudes class and elegance , designed to keep its look casual and clean even in high-traffic family rooms . featuring sleek genuine leather , clean lines , and tapered legs , this elegant leather chair offers a touch of mid-century modern sophistication to any decor . the solid , kiln-dried hardwood frame supports the high-density foam padding . the leather perfectly complements the walnut brown stain legs for a cohesive , inspired design .\",\"`` make a statement in your living room with this mid-century-inspired quinton mid-century modern velvet swivel chair in blue . founded atop four walnut-finished legs , this piece is crafted with a solid wood frame , high-density foam padding which lends comfort to the seat . upholstered in durable , high-quality velvet , this tasteful piece features elegant round arms for convenience . can be cleaned with a non-abrasive cleaning solution followed by a quick microfiber cloth . removable legs allow for simple delivery for tight spaces . available in a variety of timeless colors , you 're sure to find something that matches your decor ''\",\"`` add an extra spot to the den or living room for movie nights or accent your master suite ensemble with the nemcova mid-century modern genuine leather armchair . founded atop four walnut-finished legs , this piece is crafted with a solid wood frame , high-density foam padding which lends comfort to the seat . upholstered in durable , high-quality genuine leather , this tasteful piece features elegant square arms and a fully padded back cushion for great support . can be cleaned with a non-abrasive cleaning solution followed by a quick microfiber cloth . removable legs allow for simple delivery for tight spaces . available in a variety of timeless colors , you 're sure to find something that matches your decor ''\",\"`` add an extra spot to the den or living-room for movie nights or accent your master suite ensemble with this agee mid-century modern leather lounge chair in tan . founded atop four walnut-finished legs , this piece is crafted with a solid wood frame , high-density foam padding which lends comfort to the seat . upholstered in durable , high-quality leather , this tasteful piece features elegant round arms for convenience . can be cleaned with a non-abrasive cleaning solution followed by a quick microfiber cloth . removable legs allow for simple delivery for tight spaces . available in a variety of timeless colors , you 're sure to find something that matches your decor ''\",\"`` make a statement in your living room with this mid-century-inspired aguilar mid-century modern genuine leather lounge chair in tan . founded atop four walnut-finished legs , this piece is crafted with a solid wood frame , high-density foam padding which lends comfort to the seat . upholstered in durable , high-quality genuine leather , this tasteful piece features elegant rolled arms for convenience . can be cleaned with a non-abrasive cleaning solution followed by a quick microfiber cloth . removable legs allow for simple delivery for tight spaces . available in a variety of timeless colors , you 're sure to find something that matches your decor ''\",\"`` make a statement in your living room with this mid-century-inspired ave mid-century modern genuine leather lounge chair in tan . founded atop four walnut-finished legs , this piece is crafted with a solid wood frame , high-density foam padding which lends comfort to the seat . upholstered in durable , high-quality genuine leather , this tasteful piece features elegant rolled arms for convenience . can be cleaned with a non-abrasive cleaning solution followed by a quick microfiber cloth . removable legs allow for simple delivery for tight spaces . available in a variety of timeless colors , you 're sure to find something that matches your decor ''\",\"`` make a statement in your living room with this mid-century-inspired anderss mid-century modern leather lounge chair in tan . founded atop four walnut-finished legs , this piece is crafted with a solid wood frame , high-density foam padding which lends comfort to the seat . upholstered in durable , high-quality leather , this tasteful piece features elegant square arms for convenience . can be cleaned with a non-abrasive cleaning solution followed by a quick microfiber cloth . removable legs allow for simple delivery for tight spaces . available in a variety of timeless colors , you 're sure to find something that matches your decor ''\",\"`` make a statement in your living room with this mid-century-inspired aguilera mid-century modern genuine leather lounge chair in tan . founded atop four walnut-finished legs , this piece is crafted with a solid wood frame , high-density foam padding which lends comfort to the seat . upholstered in durable , high-quality genuine leather , this tasteful piece features elegant round arms for convenience . can be cleaned with a non-abrasive cleaning solution followed by a quick microfiber cloth . removable legs allow for simple delivery for tight spaces . available in a variety of timeless colors , you 're sure to find something that matches your decor ''\",\"`` make a statement in your living room with this mid-century-inspired benu mid-century modern genuine leather lounge chair in tan . founded atop four walnut-finished legs , this piece is crafted with a solid wood frame , high-density foam padding which lends comfort to the seat . upholstered in durable , high-quality genuine leather , this tasteful piece features elegant square arms for convenience . can be cleaned with a non-abrasive cleaning solution followed by a quick microfiber cloth . removable legs allow for simple delivery for tight spaces . available in a variety of timeless colors , you 're sure to find something that matches your decor ''\",\"free up closet space with the lovely wardle mid-century modern 5-drawer double-dresser . crafted from quality manufactured wood and measuring close to 16 inches wide , it sits on four tapered dowel legs . each drawer has metal glides that open to reveal plenty of room for your entire wardrobe . a wall anchor is also included with this dresser for added safety . removable legs allow for simple delivery for tight spaces available in a variety of timeless colors , you 're sure to find something that matches your d\\u00e9cor . partial assembly is required .\",\"`` make a statement in your living room with this mid-century-inspired masa mid-century modern genuine leather lounge chair in brown . founded atop four walnut-finished legs , this piece is crafted with a solid wood frame , high-density foam padding which lends comfort to the seat . upholstered in durable , high-quality genuine leather , this tasteful piece features elegant square arms for convenience . can be cleaned with a non-abrasive cleaning solution followed by a quick microfiber cloth . removable legs allow for simple delivery for tight spaces . available in a variety of timeless colors , you 're sure to find something that matches your decor ''\",\"this 4-person dining set brings modern style to your kitchen or dining area . this set includes a table and four chairs . all pieces are made of solid eucalyptus wood in a warm walnut finish and feature splayed legs . the table has a generous rectangular top , and each chair features a rounded seat ( accommodating up to 200 lbs . ) and a rectangular seat back with an open lumbar area , all upholstered in a neutral gray linen fabric.this set completes the look in any mid-century modern or contemporary setting .\",\"`` make a statement in your living room with this mid-century-inspired farryn mid-century modern genuine leather lounge chair in tan . founded atop four walnut-finished legs , this piece is crafted with a solid wood frame , high-density foam padding which lends comfort to the seat . upholstered in durable , high-quality genuine leather , this tasteful piece features elegant square arms for convenience . can be cleaned with a non-abrasive cleaning solution followed by a quick microfiber cloth . removable legs allow for simple delivery for tight spaces . available in a variety of timeless colors , you 're sure to find something that matches your decor ''\",\"set the tone for a mid-century modern living room look with this high-quality matthew modular l-shape fabric corner sectional sofa with chaise . built atop a durable solid wood frame , featuring track arms and tapered legs , this piece can sit up to 4 comfortably . the cushions are filled with high-density foam to provide the comfort that you are seeking . another very convenient feature is that both the seat cushions and back cushions are reversible for even better durability ! can be wiped clean with a soft and dry cloth to ensure that it looks as good as new for a long time . removable legs allow for simple delivery for tight spaces . available in a variety of timeless colors , you 're sure to find something that matches your d\\u00e9cor . partial assembly required .\",\"`` make a statement in your living room with this mid-century-inspired mackin mid-century modern genuine leather lounge chair in tan . founded atop four walnut-finished legs , this piece is crafted with a solid wood frame , high-density foam padding which lends comfort to the seat . upholstered in durable , high-quality genuine leather , this tasteful piece features elegant round arms for convenience . can be cleaned with a non-abrasive cleaning solution followed by a quick microfiber cloth . removable legs allow for simple delivery for tight spaces . available in a variety of timeless colors , you 're sure to find something that matches your decor ''\",\"equally ideal for storage space and styling your space , this beautiful bedroom bench is a must-have for your home . start by centering it at the foot of your bed to keep a spare quilt and out-of-season clothing tucked away , then flesh out space around by rolling out a braided wool rug on the floor below , letting floral art prints dot the surrounding walls , and topping stately wood nightstands with glossy lamps to brighten your abode . while it 's sure to spruce up your ensemble shining solo , you can make it even more marvelous by tossing on a tassel-trimmed throw blanket or a pair of patterned pillows . a clean-lined classic , its solid rubberwood frame is founded atop four tapered block feet with a black finish . up top , the seat is padded with foam , wrapped in solid-hued polyester blend upholstery , and finally detailed with dramatic button tufts and polished nailhead trim along the base .\",\"sporting four charming posters , this bed \\u2019 s classic details make it a fine anchor for your teen \\u2019 s restful retreat . crafted solid and manufactured wood and awash in a white\\/creme finish , it combines raised panel detailing and tapered legs for a look in league with fresh , coastal ensembles and traditionally-inspired abodes alike . center support legs and slats cradle your mattress , while the posters offer a place to drape fabric , so you can craft a look all your own . a box spring is required .\",\"this four-poster bed creates a dramatic , traditional anchor in your bedroom . it 's made from solid and engineered wood and features tapered posts that measure 80 '' tall for a stately look . however , for rooms with lower ceilings , the posts can be removed . the headboard and footboard have three inlaid panels to add a dimensional element . this bed has a few slats and center support legs , so we recommend adding a box spring under your choice of mattress .\",\"this distinct set comes with a proportioned small square table and high-class dining chairs . perfectly sized for cozy meals , anyone can fit around this unique dining room table set that features a size . this contemporary finished top with solid hardwood is both attractive and gorgeous as well as conveying a sense of strength . the kitchen chairs provide a remarkable and elegant characteristic to any kitchen space as a result of floral inspired slatted back dining chairs . finished to generate the glow of the pleasant colored linen white and the gentle contours that cast subtle while quite effective shadows . this valuable dining room table set will certainly present a distinct dining experience that feels classy and cozy at the same time .\",\"with a corner design , this tv stand is easy to incorporate into smaller spaces in your home . not only is it space-saving , but this media console provides storage space from anything to your dvds and electronics to your d\\u00e9cor or room essentials . as a functional tv stand , it can accommodate tvs up to 48-inches . featuring two double doors with tempered safety glass panes , contributing to the mix of transitional and modern farmhouse style . crafted from high-grade mdf and durable laminate with flattering , wood grain detailing .\",\"running spots to stash your kitchen goodies ? a pantry cabinet like this 72 '' h x 33 '' w design is a great way to add a room to a kitchen that needs storage \\u2013 if you have the wall space , that is . it 's made from engineered wood , and features molded details and framed doors for a traditional look . it also has a neutral hue that blends in with the rest of your decor . a total of five shelves and one drawer provide plenty of room for your dry goods or extra table linens and pans .\",\"this armchair is a must-have , whether you 're using it during a movie night or when you \\u2019 re short a seat playing a hand of cards . it 's built with a solid wood frame and has curved , tapered feet , and a wingback design that works well in a variety of aesthetics . the faux leather upholstery is filled with foam and has a web suspension seat construction for just the right amount of sink as you sit . nailhead trim along the wingback adds an understated glam appeal .\",\"improve your kitchen \\u2019 s functionality with this classic kitchen island with a wooden top ! crafted of solid rubberwood in a light , natural stain , this kitchen island strikes a simple rectangular silhouette on four straight square legs capped with locking wheels . a solid lower shelf and slatted middle shelf are perfect for displaying dinnerware or smaller appliances , while two drawers offer out-of-sight storage for silverware and accessories . measures 36 '' h x 44 '' w x 20.5 '' d overall .\",\"taking you from day to night in a snap , daybeds let you make the most of a guest room . this design lends your space a touch of streamlined style , too , showcasing slat-style panels for a breezy look . it \\u2019 s crafted from pine and spruce wood in a versatile , dark finish . this piece includes wood slats to cradle the mattress of your choice .\",\"have a seat ! any living room look or den entertaining ensemble gets instantly more stylish when you add in this alluring armchair . founded atop four tapered feet , its clean-lined frame features a full back and swooping arms on either side to balance it out . made with a wooden frame , this chair is stuffed with foam for extra comfort while polyester upholstery brings it all together . though its solid hue may seem versatile , this piece receives a dash of distinction thanks to polished nailhead trim .\",\"a 21st century update on a traditional staple , this elegant extendable dining table anchors your space in timeless style . made from solid rubberwood with rich maple veneers , this dapper design showcases a simple rectangular silhouette with four chunky , shaker-style legs . grooved lines accent the tabletop for a chick , slatted effect , while an 18 \\u201d extension leaf allows you to comfortably seat up to eight with ease . establish a curated aesthetic in your dining room by rolling out a soft ornate area rug for a pleasant pop of pattern , then pull four ladderback side chairs and a faux-leather-upholstered dining bench up to this charming table to create a casual dining ensemble for family meals and dinner parties with friends alike . install an updated candelabra-style chandelier overhead to illuminate the scene in a timeless glow , and top the table with a hand-painted ceramic teapot filled with freshly-cut carnations as a floral centerpiece for any occasion .\",\"more than just an additional seating option , armchairs offer a world of style options to your living room look , master suite ensemble , and beyond . take this one for example : crafted from a solid wood frame , it features polyester upholstery filled with high-density foam for added comfort . plus , it boasts neutral hues for a look that complements nearly any color palette .\",\"this barrel armchair brings an eye-catching spare seat to your living room . it 's built on a solid and engineered wood frame and features a swivel base so you can turn in and out of conversations with ease . the classic barrel silhouette is wrapped in polyester upholstery and has a foam filling with a web suspension seat construction for just the right amount of sink . a nailhead lines the chair for a hint of traditional charm . but what we really love is that this chair arrives fully assembled .\",\"the jewelry valet stand offers a practical storage solution for keeping your outfit organized . this valet stand features a coat hanger on the top . it has a large tray with 4 compartments that facilitate you to keep your accessories and other small items sorted in different sections . it also has a pull out drawer that is perfect for keeping files , documents , or diaries . the two rods on both the sides of the stand are great for hanging ties and belts . the pant-holder is efficiently covered with pvc to prevent your trousers from slipping , keeping them in place and wrinkle-free . it also allows you to keep a pair of footwear handy on its broad base . the jewelry valet stand is made from wood that makes it sturdy and long-lasting . it has a dark walnut finish that adds elegance to any style of home decor . it can be a perfect addition to your bedroom or walk-in closet as it will help you beat the morning rush to get ready . the wardrobe valet is easy to assemble and install . it is non-toxic , which makes it safe for home and commercial use . it is easy to maintain too . you can just wipe clean it with a soft dry cloth to keep its shine intact for years to come .\",\"blending clean , contemporary silhouettes with traditional design elements , this charming two-drawer nightstand lends an inviting transitional appeal to your master suite or guest room . crafted from solid pine wood , this dapper design features stately molding , hanging bar pull hardware , and a chunky plinth base . two drawers on soft-close glides offer plenty of storage space for your bedside essentials , while the smooth top surface provides a perfect platform for a table lamp and framed photo .\",\"offering a contemporary take on a vintage design , this accent armchair serves as a stylish seat in any space . this piece is crafted with a manufactured wood frame and filled with high-density foam for medium firmness . its upholstery is 100 % polyester with turned legs that complete the classic look . some assembly is required .\",\"this collection is the solution to an emerging problem of stolen packages . with the sturdy , lockable , and sizeable collection , packages will be out of sight of porch pirates , curious neighbors , and stray pets . bold \\u201c deliveries \\u201d sign clearly communicates purpose to mail carrier . prevent the emotional distress , financial loss of replacement , and lost time associated with porch theft . this collection is also used for outdoor storage solutions in your backyard- a wide range of outdoor items and garden supplies will comfortably fit . an interchangeable blank frame piece can be used instead of \\u201c deliveries \\u201d sign when collection is used for general storage . the angled roof and weather-resistant materials are practical and will keep the contents dry throughout the seasons . a shingled roof and stylish wood grain texture compliment most home exteriors . hinge can hold lid open without assistance . this extra-large collection interior volume of 6.3 cubic feet is designed to hold multiple large packages or storage items . this new collection is your solution for deliveries and other practical storage solutions for outdoor living .\",\"the adjustable height table is designed for many uses . constructed of wood , high-quality pvc , and a powder-coated steel frame , this table will last whether you use it indoors for craft and games or sparingly outside for parties and is easy to clean and maintain . featuring adjustable height legs , this table can be used at a regular dining height or a counter height . folding legs make this table easy to transport , store and set up . this table is the perfect fit for those game nights or cocktail parties .\",\"this wooden ship or boat wheel is a great addition to your home decor . hang it in the living room , cabin or office , to accentuate your existing marine decor . the brightly painted wood gives this piece a well-cared-for , `` fresh coat of paint '' look . this ornament makes a wonderful wedding or housewarming gift for friends or family .\",\"need some more storage options in the kitchen ? this kitchen pantry is here to help ! crafted from manufactured wood , it features a two-toned finish and a versatile , classically-inspired silhouette . a microwave shelf leaves room for larger appliances , while a pair of cabinets \\u2013 one glass-fronted \\u2013 gives you space to tuck away linens , store server , and keep other kitchenware close at hand .\",\"traditional design meets functionality with this clean-lined kitchen pantry . crafted from manufactured wood , this budget-friendly piece features two double-door cabinets with a total of two interior shelves that allow you to organize office supplies , spare serveware , or any odds and ends were strewn about your abode . raised panel molding on the cabinet doors offers a hint of classic character , while exposed metal hinges and round knobs complete the look with a decorative touch . thanks to its narrow silhouette it provides practicality without sacrificing too much square footage . this versatile cabinet makes a great pantry or linen closet . assembly is required .\",\"this drop leaf small dinette set is of modest size , which can be good for a smaller dining room . fabricated from asian wood , the round kitchen table set is finished with brilliant color . the kitchen dinette set to match up lovely in any typical kitchen or dining room . supported by a unique pedestal , this kind of round kitchen dinette additionally includes simple to use two drop leaves . its dimension will make the fantastic kitchen table and chairs set for first-time shoppers or modest families . the dinette chairs feature a beautiful design for added comfort and back support . product options available : 1 : c708ead130ed4a6bb275d277e4579b77 3 pc kitchen table set-dining table and 2 wood seat kitchen chairs with x back and wooden seat in oak finish 2 : 69b2974cdd6547d4b3048f8cc3d60ada 3 pc small kitchen table-kitchen table and 2 dining chairs x back and wooden seat in linen white finish 3 : a8a9c3a9dc2247bca556ae52bbfa447e 5 pc kitchen table set-dining table and 4 wood seat kitchen chairs with x back and wooden seat in oak 4 : 770e9d761c6548a8b74d9b52b21aa0b6 5 pc small kitchen table set-small table and 4 dinette chairs x back and wooden seat in linen white finish\",\"bring simple style to the kitchen island or home bar with this stool , a perfect pick for rustic-inspired spaces . crafted from wood , this design features slightly splayed block legs connected by a must-have footrest and a saddle-style seat for an understated look . with a seat height of 23.75 '' , this design is suited for countertops between 34 '' and 39 '' .\",\"the entryway , an empty hall , or the living room \\u2013 this console table can go anywhere , turning a spare space into a decorative display . founded atop a metal base with x-shaped supports , it features a manufactured wood top that spans 47.25 '' wide and showcases two divided compartments perfect for stashing objets d \\u2019 art , family photos , and more , while an open shelf down below offers additional space to stage items of your choice .\",\"from accenting your entryway to providing a place to leave those hard-to-find keys , console tables are a great addition to any decor . take this one for example : crafted from manufactured wood , this piece showcases an x-frame support system for eye-catching appeal , while shelves provide the perfect stage to display some favorite photographs or decorative favorites . as an added bonus , this product comes backed by a one-year warranty .\",\"after you 've picked out the perfect plush sofa to seat friends during viewing parties and illuminated every room with lovely luminaries , extend the inviting tone of your carefully curated home to your front step with this classic doormat . this black rubber doormat mimics the scroll pattern of wrought iron gates to welcome guests with timeless charm . if you have lots of little ones coming and going , let this design 's non-slip backing keep them safe , then simply hose it down to clean off any mud they may leave behind so your dwelling is always dirt-free . loving this look ? enhance the elegant appeal of this piece by lighting up your porch with a simplistic wall lantern , then place a clean-lined wooden bench nearby for even more warmth before you enter your abode .\",\"upgrade your home storage while adding classic decor with the elegant home fashions chesterfield wooden wall cabinet with 2 waffle glass doors . this decorative cabinet features a sleek espresso finish with a waffle-texture glass door and a double-plated knob for a beautiful addition to your space . the 3 included fixed shelves help to reduce clutter and keep your home tidy . constructed from durable engineered wood , this wall cabinet is built to provide you with the long-lasting organization . easy , step-by-step instructions and all of the hardware needed for installation are included for quick assembly . purchase this stylish cabinet alone or with other items from the chesterfield collection for a cohesive , updated look .\",\"perfect for lending your home a decorative touch while also protecting your hardwood and tile floors from scrapes and scratches , area rugs are decor superstars that turn any house into a home . woven in turkey from polypropylene , this piece is a stain- and fade-resistant option that showcases a medallion motif for a patterned pop on your floors . and with a 0.47 '' pile height , this piece is a great option for a cushioned touch underfoot that 's also easy to maintain . to help keep this piece in place , we recommend adding a rug pad .\",\"looks aside , area rugs help absorb and decrease noise as they soften the step of hardwood and tile flooring . made in turkey , this one is constructed from polypropylene , a popular material in rug production due to its high resistance to stains , fading , and moisture . it features a 0.47 '' pile height , ideal for promoting a cozy and inviting feel to your space with the added benefit of being easy to clean .\",\"a traditional design gets a seriously stylish update in this contemporary barrel chair . made with a block of solid birch wood frame , this charming chair showcases plush polyester upholstery in a teal , grayish brown , and beige floral print with foam padding and handsome accent stitching . effortlessly add this piece to a transitional aesthetic by rolling out a soft quatrefoil area rug for a pleasant pop of pattern , then place a clean-lined coffee table with tapered square legs between a lived-in leather sofa , this charming chair , and a simple console table topped with a sleek flat-screen tv . day at the park rained out ? make yourself some popcorn in the microwave , then stream the latest blockbuster while relaxing in this dapper design .\",\"this armless sleeper chair is ideal for space-conscious living rooms and offers a spare sleep spot for your overnight guests . the seat can fold out to create a chaise , while the back can be pushed down partially or fully to create a perfect spot to nap or a twin-sized bed . it 's built with a solid and engineered wood frame and is wrapped in polyester upholstery with channel tufting for a hint of textural appeal . the foam fill and web suspension seat construction provide just the right amount of support that bounces back . plus , this chair arrives with a throw pillow .\",\"our chair will enhance your living room to an exquisite level of style and taste . the plush cushioning and curved back add comfort while the wooden frame and bonded leather make it durable and strong . making this chair perfect to relax and unwind in after a long day .\",\"when you want more than a simple nightstand , this storage side table has what you need . with two easy-open sliding drawers mounted inside the sturdy wooden end table , you will have all the room you \\u2019 ve been looking for in a bedside table for books , papers , or other personal items . the soft grey painted wood makes this classic yet modern end table the perfect choice for the living room , bedroom , home office , or wherever you decide to place it . this rustic end table has the classic styling you want with the sturdy quality you need .\",\"the product in the photo is an example . each new product is made up of different wood slabs . therefore the color , textures , and curves of wood used in the product can be changed . arditi design is one of the exclusive designers and producers of luxury furniture based in florida usa . they design and produce custom , , high-end , luxury , furniture made of the best-selected walnut and olive wood with the highest quality epoxy resin currently available in the market . any dreamed design\\u2014tables , buffets , tv units , doors , couches , chairs , wall arts , lights and , other decorative objects\\u2014can be manufactured at any size and in any color , on-demand . they have branches in toronto canada , israel tel aviv , and sydney australia .\",\"give your guests a giant , warm welcome as they enter into your home ! welcome wood wall decor is a solid wood piece that is stained in a walnut finish with the word \\u201c welcome \\u201d in white text on the front . the word \\u201c welcome \\u201d is printed on the wood directly with uv rated ink to last for years ! hang this in your entryway or kitchen to make your guests feel right at home or just lean it against a wall or tabletop ! each sign will have slight differences with grain patterns and the way the stain takes to the wood .\",\"need a little extra organization in your entryway ? we 've got you covered with this coat rack . it pairs a streamlined , minimalist design with some handy functionality for a piece that we 're a little obsessed with . it 's made from a blend of solid and engineered wood and has a wood grain finish and streamlined design for some seriously sleek vibes . plus , it features four tapered legs that come together , then spread apart into four hooks for a sinuous design .\",\"show off a vibrant vase or your favorite objects d'art with this modern accent table , showcasing a crossed design and black finish . this accent table is a sure delight of home furnishing with its majestic black wood grain veneer over mdf wood . storage display areas are 8 '' deep and may be used for cd 's , dvd 's , or knick knacks .\",\"with a simple classic bistro-style design , this 5 piece counter height dining table set will perfectly blend into any type of home decor . crafted from manufactured wood and metal in a white finish , this set includes one rectangular table and four stools with a built-in footrest . the backless stools can be pushed under the table when not in use to save space , and the three side shelves of the table are ideal for keeping napkins , plates , wine glass , and dinnerware within easy reach . if you want a wonderful dining area that does n't take up too much space , this versatile and stylish set will do it well for you !\",\"the console table is made of high-quality wood and metal material , which is sturdy and durable and has a long service life . the surface has a smooth anti-fouling coating , which is easy to clean . the metal x-shaped legs are firmly supported , and the simple and stylish side table adds elegance to your room sense . the appearance is processed in a modern style , which can be seamlessly compatible with the decoration of any occasion .\",\"our set includes a table and a comfortable chair . it allows your kids to have their own lovely furniture for eating , reading , writing , drawing and playing . there is a storage space under the desktop to provide your kid with a large storage space . it can be used to store many things such as toys , snacks , books . made from safe and environmentally friendly high-quality wood , protecting children 's health . the sturdy construction and strong load-bearing capacity give it good stability . our chairs with backrests provide effective backrest support and help children maintain a correct sitting posture you can easily assemble according to the installation instructions , there are all the accessories and tools needed for installation\",\"our set includes a table and a comfortable chair . it allows your kids to have their own lovely furniture for eating , reading , writing , drawing and playing . there is a storage space under the desktop to provide your kid with a large storage space . it can be used to store many things such as toys , snacks , books . made from safe and environmentally friendly high-quality wood , protecting children 's health . the sturdy construction and strong load-bearing capacity give it good stability . our chairs with backrests provide effective backrest support and help children maintain a correct sitting posture you can easily assemble according to the installation instructions , there are all the accessories and tools needed for installation\",\"this loveseat was inspired by the simplicity see in everyday lives . simple shapes with accentuated features . the design team worked to find a way to merge the concepts and create a unique yet simple collection that would work well for upscale interior decors no matter the style . it created a collection designed to enrich your living room . each piece is carefully crafted with top-grade bonded leather over a well-built and sturdy base . the base is completed with a strong wood frame featuring a finish . the loveseat also includes the designer throw pillows .\",\"this collection has been artisanally designed to deliver unto your house a touch of classic , lavish elegance . this collection features a full range of furniture to complete your ideal living room . the leather loveseat seats two people comfortably . each piece was designed to be comfortable , stylish , sturdy , and built to last for years to come . this piece of luxury furniture is crafted from only the finest italian grain leather covering a sturdy wooden frame , and feature pillow top armrests , meaning this collection is crafted for durability and comfort .\",\"this collection has been artisanally designed to deliver to your house a touch of classic , lavish elegance . this collection features a full range of furniture to complete your ideal living room . the loveseat seats two people comfortably . each piece was designed to be comfortable , stylish , sturdy , and built to last for years to come . this piece of luxury furniture is crafted from only the finest leather match covering a sturdy wooden frame , and features pillow top armrests , meaning this collection is crafted for durability and comfort .\",\"this collection has been artisanally designed to deliver unto your house a touch of contemporary elegance . this collection features a full range of furniture to complete your ideal living room . the complete loveseat seats two people comfortably . each piece was designed to be comfortable , stylish , sturdy and built to last for years to come . each piece in the collection is made from a pu faux leather upholstery , covering a sturdy wooden frame , with pvc foam padding , meaning this collection is crafted for durability and comfort .\",\"pulling together an insta-worthy living room ? it 's not complete without a coffee table like this that gives you a handy surface * and * complements your space 's vibe . this table is made from a blend of solid and engineered wood with a walnut finish and strikes an angular silhouette with arching legs and hidden , interior supports so that the surface seems to float . a lower shelf gives you a handy spot to keep clutter organized . since this table measures 47.25 '' wide , it 's an ideal size for most seating arrangements .\",\"this unique wood display stand is the perfect showcase for any room in the house . in brazil with 100 % recycled peroba wood , bandeira rosewood plant stand features a square top , bottom shelf and sturdy angular legs.this natural rosewood stand blends perfectly with any style of home d\\u00e9cor , from rustic to contemporary . all of peroba wood is 100 % recycled and aged at least 75 years . due to natural variations in materials , no two pieces of alexandra sophia reclaimed furniture are exactly alike .\",\"this charming wood coffee table has a glossy surface and stylized cabriole legs to blends elegance and casual charm . campestre rosewood coffee table is the perfect addition to your living room . in brazil with reclaimed peroba rosewood . all of peroba wood is 100 % recycled and aged at least 75 years . due to natural variations in materials , no two pieces of alexandra sophia reclaimed furniture are exactly alike .\",\"this reversible executive desk is sure to bring vintage-inspired flair to your home office with its exposed details and mixed-material design . its l-shaped frame is made from a blend of steel and solid and engineered wood with a two-toned black and gold finish . this desk has a wooden shelf with open storage space on the surface that gives it a floating appearance . on the side , two drawers open up to reveal room for files and writing supplies . the left desk space has open shelf space and a drop-down drawer to tuck away a printer and organizing baskets . plus , there 's two tiers of open shelf space for accent pieces and books .\",\"this table features a walnut hardwood star base finished in ash stained walnut . topped with clear tempered glass .\",\"sit back and sway as you take in a pleasant backyard view with this rocking chair . this eco-friendly seat is crafted from solid-eucalyptus , a budget-friendly hardwood that wards off damage from moisture and insects . its natural coloring helps to highlight the character and warmth of the wood , while its slatted design provides plenty of ventilation and offers a touch of country cottage appeal .\",\"this newest architectural window , called the white creek window small , mixes solid wood and plasma cut metal along with a distressed antiqued white tone . each one is and will be one of a kind , with varying degrees of distressed colors .\",\"perfect for prepping dinner or serving up appetizers at a party , this kitchen island is a multi-purpose must-have . awash in an antique and rustic wood tone , this lightly distressed wood piece fits into both country and contemporary settings . two drawers provide space for essential utensils , while an upper shelf keeps eight wine bottles of standard or magnum size on hand , so you can easily relax with your favorite after work .\",\"make your life more comfortable with your very own adirondack folding square side table . our patio furniture are known for its sophistication and charm . this multi-functional square wooden side table is the perfect addition to any front porch patios , backyards , offices , and living rooms . our square side tables are made with natural beauty and durable structure . crafted with genuine cedar wood that is known for its natural resistance to moisture , decay , and damage . completed with a natural finish that highlights the beauty of the wood . quality patio furniture that is made to enjoy !\",\"sized to seat four , this compact dining table is the perfect pick for cozy eat-in kitchens and smaller dining spaces alike . crafted from pinewood , this design measures just 45 '' l x 28 '' w x 29 '' h. a warm brown finish outfits the rectangular top for a natural touch , while the base sports a white finish for a subtle contrast . assembly is required . the manufacturer backs this product with a one-year warranty .\",\"a shoe bench with storage space is an ideal choice to make the most of your entryway area . it is made of wood in distressed gray finish . it features three open shelves to keep your footwears in proper manner and one drawer with two compartments . it lends a classic look to your hallway . suitable to store high heels !\",\"a simple design inspired by the farmhouse look , yet transitional enough to fit any d\\u00e9cor . the wire-brushed finish allows the dusty overcoat to replicate a slightly weathered look into the deeply grained wood veneer . designed by an award-winning furniture designer and constructed of albizia wood veneers with a 6 step finishing process . the headboard is accented with three inset picture frame panels . features a picture frame panel footboard and solid wood side rails and slats . perfect for the guest bedroom .\",\"this aubrianna solid wood bar stool brings effortless , traditional style to your kitchen island , counter , or home bar . it 's made from solid wood in a neutral finish and features four flared legs and crossbars where you can rest your feet as you sit . the backless saddle-style seat can be pushed under your counter to save floor space . while included nylon chair glides are designed to keep your floors scratch-free . this bar stool is sold individually and requires simple assembly .\",\"exuding coastal living , two toned distressed white and rustic raft wood gives this wine server casual shabby elegance charm . ideal sideboard for your kitchen , dining room , den , game room , wherever you have items to store and wine to pour ! drawer keeps bar essentials at hand , wide storage shelf displays your serving necessities and a built-in wine rack safely stores up to eight bottles . top this wine and liquor cabinet with decorative ice bucket and seasonal floral , create a home bar that keeps your friends coming back for more !\",\"if you feel you \\u2019 ve been bumbling around for the perfect carpet , look no further ! depicting a group of merry honey bees , this littell hand-hooked wool green area rug provides warmth to bare hardwood floors while adding a pop of color to your ensemble . hand-woven from wool , this design \\u2019 s hooked weaving technique , and cotton backing add underfoot comfort . a rug pad is recommended for added traction , and professional cleaning is recommended in case of any staining .\",\"the stylish regan cabinet is the charming answer to all your organizational needs . crafted of 100 % pine wood , regan 's three drawers , and clean lines make it at home in the kitchen , home office , or craft room .\",\"the dresser your bedroom \\u2019 s been dreaming of , this piece brings warm , lived-in appeal to any master suite . brimming with rugged character , this solid pinewood accent sports a blocky silhouette with framed panels , tapered feet , and decorative molding that speak to its craftsmanship ; a distressed charcoal finish completes the design , giving this dresser its weathered look . for storage , it features nine drawers , each with bar pull or knob hardware , that stow away clothes , accessories , and beyond ; the top drawer is lined with felt .\",\"crafted of solid rubberwood , this traditional kitchen island strikes a rectangular silhouette showcasing recessed paneling , brushed steel hardware , and four heavy-duty lockable caster feet . two doors open to reveal shelved side cabinet storage for pots , pans , serve ware , and linens , while four drawers offer out-of-sight storage for silverware , wine openers , candles , and more . rounding out the design , a solid wood countertop provides plenty of extra prep space , while a built-in spice rack , towel bar , and paper towel holder keep your go-to kitchen needs organized and within reach . it requires assembly upon arrival .\",\"sitting at the perfect height for pub tables , breakfast bars , and beyond , bar stools have a leg up on other seating options . stylish too , this bar stool infuses any look with a little rustic . built from solid parawood , this accent showcases a pair of square post legs and a mission-style slatted seatback . an added bonus for the diy \\u2019 ers out there , this stool arrives unfinished ; pick out your favorite stain or sealant and give this piece a personalized touch !\",\"we love how this 3-piece coffee table set helps bring your living room or den together in a cohesive farmhouse style . it includes one coffee table and two end tables , which are made from solid and manufactured wood . each table has a weathered off-white base with tapered block feet and a shelf to hold extra games , coffee table books , or decor . the tops of the tables have a planked design and a dark brown color that 's just the right contrast against the rustic white .\",\"reel in a rustic touch to any arrangement without breaking the bank or sacrificing too much square footage with this versatile bench . made in the usa from reclaimed wood , this budget-friendly piece showcases clean lines and a neutral finish for a well-worn look that blends with a variety of color palettes and aesthetics . its petite silhouette makes it an ideal option for smaller spaces . no assembly is required .\",\"lazy summer evenings are calling your name . what better way to enjoy them than rocking in your parryville classic rocking chair with a tall glass of iced tea ? and the good news ; you \\u2019 ll be able to relax in your rockers for years to come . this rocking chair is made of premium recycled plastic lumber , stainless steel hardware , and quality craftsmanship . their chairs can stand up to changing seasons and extreme outdoor elements . you won \\u2019 t have to worry about warping , rotting , cracking , chipping , or splintering any more . their recycled material is resistant to the hazards that destroy traditional wood designs .\",\"as convenient as it is charming , this rustic wooden chest provides the perfect place to stash blankets , board games , or smaller odds and ends . this compact 15.75 '' h x 19 '' w x 11 '' d and 20.88 '' h x 24.75 '' w x 16.25 '' d design provides a boost of storage without taking up too much square footage and features a hinged lid with a bronze latch that clicks as it opens . its planked design gives it a dash of countryside inspiration , while its distressed gray finish enhances its well-worn look .\",\"whether everyone 's gathering for the next episode of this season 's must-binge show or a family game night , sofas are seating superstars for seating multiple people in lounge-worthy style . take this piece , for example : crafted from a kiln-dried hardwood frame , this piece is stuffed with seat foam filling and wrapped in cotton upholstery with a pinstripe pattern for a cottage touch . and if you 're regularly hosting overnight guests , this sofa bed features a mattress folded up beneath the seat . two matching toss pillows are included .\",\"be the early bird in grabbing these farmhouse silver metal and wood rooster sculpture by the head and complete your farmhouse set up now . this 2-piece set features two small and medium standing rooster sculptures with a gray finish on the body , and silver on the rest . this will look great as a centerpiece decor for your farmhouse set up whether indoors or outdoors . use these sculptures to add character to your porch , patio , or garden wipe clean with a dry cloth . suitable for indoor and outdoor use . this item includes two sculptures . farmhouse-themed style . this item comes shipped in one carton .\",\"clutter wreaking havoc in your home ? don \\u2019 t throw in the towel , that creates more laundry . pick up this server instead . fitting in a variety of design aesthetics from country cottage to modern farmhouse and more , it showcases a clean-lined silhouette and is crafted from solid wood . and for all you diyers out there , it arrives unfinished and ready to be coated with a coloring of your choice . inside , it features three shelves for keeping treasured trinkets organized and out of the way .\",\"this rooster window shutter wall d\\u00e9cor can be an interesting addition to your kitchen , dining room , or anywhere . set in a single frame , the painted shutters and washed wood create a vintage or rustic feel .\",\"whether you 're checking out your outfit or looking to lend your bedroom an accent that helps the light bounce around , this full-length mirror is a great option for making the most of a blank wall . made in the usa from glossy reflective glass , this mirror is wrapped in an engineered wood frame with a metallic finish for a versatile addition to many spaces . perfect whether you want to mount it on the wall or lean it up next to your closet , this mirror can be used both horizontally and vertically .\",\"all real wood from the dining table top to table legs . no heat-treated pressured wood like mdf , particleboard or veneer top fabricated . the dining room table comes with a built-in 18-inch self-storage extension butterfly leaf which can be stored right under the tabletop . the kitchen table features traditional workmanship , rounded corners , and a double pedestal design . dining tables are made out of asian hardwood offering an 18-inch extendable leaf finished in a rich saddle brown color to match up with any dining area . the small table incorporates a practical foldable leaf , offering up convenience as well as essential extendable to make room for more family and friends .\",\"decorate your home with rustic farmhouse charm with this sherita wood windowpane clip wall picture frame . this country rustic collage frame has a shape reminiscent of a barn door with decorative metal hinges and a door handle . framed in solid wood with a rustic teal finish and with a chicken wire mesh , this rustic photo frame is a charming choice for displaying your favorite memories . this multi-photo collage frame includes six mini clothespin clips that accommodate a range of photo sizes . metal d-ring hangers are attached to the back of the frame for easy wall display .\",\"clutter wreaking havoc in your home ? don \\u2019 t throw in the towel , that creates more laundry . pick up this accent cabinet instead . the perfect pick for any modern farmhouse-inspired space or country cottage ensemble , it showcases a brown finish and distressed white coloring for a touch of rustic appeal . it \\u2019 s crafted from solid fir wood and includes one drawer and one cabinet for keeping clutter to a minimum .\",\"want to add the perfect touch to your entrance ? this shiela butterfly console table gets the attention of an eye . this lovely console table has broken out of its cocoon with this gorgeous butterfly design base . the butterfly accent console table is ideal for any entryway or living space . this stylish table features a beautiful black metal butterfly stand with a gorgeous dark-maple finish top making it a wonderful addition to your eclectic decor . your favorite lamp , family pictures , and decorative vases will look fantastic displayed on the rich wood tabletop . the butterfly accent table is a welcoming statement piece for any entryway , foyer , or living area . enjoy the elegance of the table that will make your house feel like home .\",\"want to add the perfect touch to your entrance ? a rustic console table like this is a great option . this charming console table is designed with two wooden sliding drawers that offers out-of-sight storage for keys , devices , extra batteries , and more . the bottom pallet-style shelf gives you an additional convenient storage solution . you can use it to place shoes when you come in the door , or store extra larger items and decorations . the appearance of white and natural wood grain adds a vintage aesthetic to your living room or bedroom , matching perfectly with your decorating style .\",\"perfect for the home that loves to entertain , the rustic warmth of distressed and painted wood gives this wine server casual shabby elegance appeal . make a bold statement in your kitchen , dining room , den , game room , wherever you have items to store and wine to pour ! top this wine and liquor cabinet with decorative ice bucket and seasonal floral , create a home bar that keeps your friends coming back for more !\",\"this table is essential for everyday meals with the family and dinner parties with close friends alike . it 's crafted from solid rubberwood in a neutral , rustic finish that works well with any color palette . its 30 '' high design features a rectangular tabletop above four turned legs for a hint of accent \\u2013 making it the perfect pick for any modern farmhouse or country cottage aesthetic . plus , this table measures 47 '' l x 32 '' w , so it can easily fit up to four of your favorite people .\",\"this rooster is made of metal and wood chips that are sculpted to form the rooster body . a sassy compliment to any farm house d\\u00e9cor .\",\"anchor your dining space in the country cottage style with this charming dining table . crafted of solid rubberwood in a distressed brown stain for a timeworn touch , the tabletop strikes an oval-shaped silhouette with thick apron sides . a 15 '' w leaf elongates the design to 57 '' l x 42 '' w to comfortably accommodate six guests . rounding out the design , the thick pedestal base features a carved column center with four curvy cabriole legs .\",\"this 2 piece metal mini decor iron sculpture set pieces were designed with a wooden handle and a rooster hook to lock it in place .\",\"this cottage-style desk is the perfect pick for your home , whether you have a home office or just an empty wall in the kitchen . it \\u2019 s made from solid and engineered wood , and features a two-tone finish with a white base and a brown surface . slatted detailing up top pairs with turned legs and molded accents to give this desk a traditional look . two drawers store office essentials , while the 60 '' w tabletop has plenty of room for your papers and computer . hand-curated by kelly clarkson .\",\"this cottage-style desk is the perfect pick for your home , whether you have a home office or a guest room that does double duty as a home office . it \\u2019 s made from solid and engineered wood , and features a two-tone finish with a white base and a brown surface . slatted detailing up top pairs with turned pilasters and molded accents to give this desk a traditional look . it includes a hutch up top with more drawers and shelf space , and a filing cabinet down below that accommodates letter and legal size files . best of all , it arrives fully assembled . hand-curated by kelly clarkson .\",\"a symbol for family togetherness , home-cooked meals , and conversation , dining tables are a must-have for every home . and , with so many styles out there , you \\u2019 re bound to find the piece that reflects your own unique personality . take this table , for instance : fitting in a variety of design aesthetics from country cottage to modern farmhouse and more , it \\u2019 s founded atop a pedestal base awash in a cream coloring . up top , the circular tabletop made from solid rubberwood boasts a brown finish and accommodates up to four people .\",\"transformed into an endearing fairy house complete with realistic wooden door , shutters and flower details ! this charming tea pot will illuminate from within at dusk every evening , sparking intrigue and delight ! an adorable addition to your home or garden !\",\"shapely front posts with detailed carving follow the elegant curve of the rolled arms that make the transition to the wood-trimmed arched padded backrest which is silhouetted by a camel hump wood frame with a top center detailed carving . the base of the front posts marries a complimentary front apron with a center carved detail .\",\"the elegant curves of this bedroom set create a stunning , and graceful bedroom environment . this bed provides a chic silhouette with its curving frame . the espresso finished wood has been carved with a winding rope-like trim that has been brushed with gold to match the lavish drawer hardware and ornaments . the rounded bun feet finish off the ensemble to give this set a dignified air .\",\"the perfect perch for your teen to get cozy while catching up on some summer reading or working on homework , this chair and a half is a must-have for your abode . crafted from a blend of solid and manufactured wood , the frame strikes a clean-lined silhouette for a dash of what \\u2019 s modern , and features foam-filled genuine leather upholstery . boasting hues of black , chocolate , and beige , it complements a variety of design aesthetics from classic to industrial and more .\",\"this marble dining collection offers an elegant design to turn your dining area into the most eye-catching spot in your house . each piece is supported by a strong wooden base in salvage dark oak , contrasting the flawless white marble table top .\",\"this tweedy 7 piece dining set with superior craftsmanship and nicely detailing make it a beautiful centerpiece for any dining area . rectangular shape with double pedestal and trestle base makes the table looks more classic and nice . it is constructed using rubberwood and mindy veneer materials . the chair features button tufted backrest upholstered in linen and supported by tapered legs . made of high-quality materials , it demonstrates delicate craftsmanship and has the perfect design to enhance your room .\",\"it brings modern rustic style to your bedroom . made of selected wood and crafted with 3-d engineered paper veneer in weathered oak and rustic coffee finish , this platform bed demonstrates delicate craftsmanship and has the perfect design to enhance your room .\",\"this table has a stylish look . made of high-quality materials , it demonstrates delicate craftsmanship with wood veneers , aspen , and poplar wood materials . simple yet unique styling , this set will become the centerpiece of your living room .\",\"this curvaceous upholstered panel bed turns your bedroom into a high-class bedchamber . it features the curling wood trim on the head and footboards crescendo to a fluted seashell motif crown . the deep button tufting adds some comfort but in a luxurious almost decadent sense that elevates the feeling of extravagance in the room . with the padded silver color upholstery and finished in espresso , this bed is supported atop claw and ball feet for a lifted look and traditional design . it is also constructed with a sturdy solid wood and wood veneer frame structure that gives it excellent durability and longevity .\",\"this bed features elegant details like cut out trimming , antique black hardware , and rich wood tones giving you the stunning balance of high-class royalty with a weathered worn feel . with the padded fabric headboard , it is constructed with a sturdy solid wood and wood veneer frame structure that gives it excellent durability and longevity .\",\"the classic rectangular occasional table features a weathered oak tabletop with a sandy black metal base . this distinctive metal and the wood cocktail table has a unique `` x '' shaped legs with an open lower wood shelf for storage and display .\",\"this end table features glass top , stunning shaped legs , and is carefully crafted with selected wood and veneers in rich walnut finish . embellish your living room with the classic beauty of this end table , and its wide top is ideal for placing your snacks and beverages while you keep your favorite household decor or magazines on the bottom shelf .\",\"elevate your home with the timeless sophistication of this accent chair that is covered in durable leatherette finished in rustic brown . this chair features button tufting with nailhead trim . it is supported upon the wooden cabriole legs finished in espresso for a durable foundation that holds over time . this piece will become the center of your room \\u2019 s decor . it does not include any other featured product other than an accent chair . the matching ottoman is sold separately .\",\"this two-piece set offers a computer desk with a matching armless chair , both crafted with selected wood and veneers in warm oak finish . the desktop includes a pull-out keyboard tray and armless chair features mission style backrest with comfortable seat cushion .\",\"the beautiful youth wooden rocker will it will be the perfect addition to your living room , sunroom or deck . this graceful rocking chair features a contoured seat and tall chair backrest for extra comfort . the smooth rocking motion and sturdy durable construction ensure that you 'll be able to relax for years to come .\",\"decorate your living room with this charming coffee table set . made of high-quality wood veneer and metal , it is durable and will remain in good shape for years to come . easy to clean and maintain . this table set perfect for pairing with a sofa or loveseat .\",\"this contemporary bed features a rectangular headboard and low profile footboard in a spectacular multi-tone walnut finish . this gorgeous bed features carved wood panels with a unique geometrical design . accented with a gold drawers pulls and tapered wood legs , this unique bed will add a touch of modern elegance and style to your bedroom .\",\"this coffee table features contemporary style and detailing accents , reflected in decorative carving motifs . all carefully crafted with selected wood and veneers , this is a perfect match for your living room environment .\",\"it 's soft curve upholstered tight back wrapping around with a half eclipse cut out at the center top . this inviting surround appeal is accented by loose pillows upon coil seat cushions to allow for any configuration for a comfort level desired . the touho armchair is highlighted with a solid wood rail that flows into concave arched front arm which creates a great visual silhouette . the detail of the wood trim is emphasized by sporting a skirted base and allowing the contrasting wood trim to be more prominent .\",\"this vanity desk features 7 drawers , metal hardware and oversized scrolled legs that are designed to impress . made of high quality aspen and poplar wood materials , it demonstrates delicate craftsmanship and has the perfect design to enhance your room .\",\"the case goods feature solid hardwood with five drawers and two door with shelf for storage with coordinating carvings . the drawers feature dovetail construction and are decorated with antique brass hardware . this dresser will add magnificence to your bedroom !\",\"this beautiful caramel or pesto green leather accent chair features button tufted cushions with contrast tone stitching and unique tapered wood legs . its deep , comfy seat and flared padded arms give it an incredible sink-right-in quality that\\u00e2\\u20ac\\u2122s perfect for the whole family .\",\"update your bedroom with extra storage space and style with hohberg chest . this chest is crafted from solid wood and wood veneer frame structure finished in rustic natural tone for stability and longer use . drawers built with center metal glides . felt lined on top drawers that is safely store jewelry . it is keeping your room tidy while providing a solid backdrop for more colorful elements of your decor . it does not include any other featured product other than a chest . this complete set included three size bed , nightstand , chest , dresser , mirror and sold separately .\",\"ainfox sliding wood door hardware kit set is a great design for home , which is a popular new way to bring innovation into the home and close off bedroom and side room in a stunningly unique way .\",\"incept secretary in dark almond wood finish featuring four compartments and three storage drawers .\",\"incept storage cabinet in dark almond wood finish featuring one shelf .\",\"add a mid-century with a touch of vintage appeal to your room with this accent armchair . wood legs , pu leather upholstered and backrest provides maximum comfort and relaxation to sit on for extended periods and long-term .\",\"inspire your home and create an upscale atmosphere with this chair . this chair adds classic style to any sitting area featuring a traditional handcrafted design . this luxurious chair is upholstered in a beautiful light floral and patterned fabric and matching chairs with button tufted backs . featuring a solid wood frame in antique pearl and gold brushed finish , this collection is guaranteed to be the highlight of any home .\",\"this chair brings the influence of european antiques to life with traditional carvings , detailed looping , and gorgeous antique finish . the hand applied finish enhances the beauty of the detailed wood work and carvings . the chair features cabriole legs and covered with luxury upholstery . this elaborate collection will surely bring true splendor into your home .\",\"this chair brings the influence of european antiques to life with traditional carvings , detailed looping , and gorgeous antique finish . the hand-applied finish enhances the beauty of the detailed wood work and carvings . the chair features cabriole legs and covered with luxury upholstery . this elaborate collection will surely bring true splendor into your home .\",\"a perfect blend of style and utility , this bookshelf will be the focal point in any setting . designed to combine contemporary with classic style , this bookshelf is featuring a folding design with four wooden shelves . sufficient space is available for you to accommodate decorative items such as photo frames , candles , and vases . with the design of open back and sides , your decorations and displays are visible from all directions .\",\"this darena platform bed creates a clean and casual look that will match any bedroom decor . features wooden slatted headboard , low profile foot-board , and is carefully crafted with selected wood and veneers .\",\"this twin platform bed creates a clean and casual look that will match any bedroom decor . features wooden slatted headboard , low profile foot-board , and is carefully crafted with selected wood and veneers .\",\"perfect to fill in empty wall space , this byzad side table will set a contemporary tone in any room . displaying a clean-line silhouette , this piece features wooden top with usb power dock and wooden straight square leg . two drawers offer out-of-sight storage space for small accessories while the open compartment provide a perfect platform for stacking books or displaying decorations . available in two different finishes , this compact table can naturally fit into any ensemble .\",\"showcasing a clean-lined elegant design , this armour coffee table will be a perfect station in front of a loveseat or a cozy seating group . crafted from wood , it features a white gloss finish that brimmed with contemporary appeal . along with the open compartments on two sides and shelves , it also includes drawer for storage and organize necessities .\",\"add functionality and style to any bedroom with this soltane kids chair . cheerful and full of personality , the armless chair is the perfect way to spice up your desk or study space . this solid wood chair is designed to endure your child \\u2019 s rigorous use . with slatted back and a brilliant finish , it suits the eclectic or minimalist decor of any bedroom .\",\"modern elegance is yours when you update your master bedroom with this white upholstered bed . the hardwood , plywood , and mdf frame employ solid construction to stay looking great for years to come .\",\"this annie dining table is a beautiful furniture dipped in a deep brown wood finish . the surface is smooth and clean .\",\"do you want to sleep like royalty ? this bedroom collection is your best choice . it features a carved scrollwork accent on the headboard . the accent pieces crafted in wood with a cherry oak finish . it also matches with other nice equipment under the royal collection .\",\"do you want to sleep like royalty ? this bedroom collection is your best choice . it features a carved scrollwork accent on the headboard . the accent pieces crafted in wood . it also matches with other nice equipment under queenie 's collection .\",\"do you want to sleep like royalty ? this bedroom collection is your best choice . it features a carved scrollwork accent on the headboard . the accent pieces crafted in wood with a cherry oak finish . it also matches with other nice equipment in the shine collection .\",\"do you want to sleep like royalty ? this bedroom collection is your best choice . it features a carved scrollwork accent on the headboard . the accent pieces crafted in wood . it also matches with other nice equipment under the superstar collection .\",\"style your bedroom in a look you 're sure to love . the wire-brushed finish of this set adds a unique touch to its transitional design . matching case goods boast wood detailed panels and metal bar handles . this roomy chest offers plenty of storage to help free up precious closet space and makes a great place to display family photos , clocks , and other items .\",\"a sleigh design never gets old , that \\u2019 s why this wood-finished bedframe is the perfect piece for anyone looking to decorate their special space with a traditional and simple style frame . it will be a nice choice if you combine it with other collections of carnell .\",\"pub tables are perfect for bar areas , or dining areas short on square footage . take this pub table set for example , featuring : a pub table , with two drop leaves , and two stools . perfectly at home in traditional aesthetics , this set is constructed of solid oak wood . it features with a 12 bottle wine rack underneath , and a functional bottom shelf \\u2013 perfect for storing kitchen essentials out of the way . the table measures 36 '' h x 36 '' l x 36 '' w .\",\"the classic front porch rocker gets a fresh new look in a new edition crafted of sustainable acacia wood finished in a fashionable tone . with straightforward lines reminiscent of shaker style , this outdoor rocking chair defines casual living .\",\"whether sidled up beside your sofa or acting as a nightstand in the master suite , this end table is always a stylish stage . crafted from manufactured wood , it features a neutral finish and clean-lined design perfect for traditional and transitional aesthetics . it includes one drawer for stashing everything from remotes to reading glasses and a shelf below displays books or a decorative object .\",\"the craigy hall console table is a half moon shaped tale with one exterior shelf that is both spacious and sturdy to display your large showpieces . its solid hardwood construction makes it ideal to accommodate the weight of even large storage or display pieces . this craigy hall console table from alcott hill is a sophisticated piece with its uniquely shaped legs and broad half-moon shaped top . the birch veneer on the top with its mahogany finish has created a classy and timeless look . the shape is perfect for highlighting a wall decoration like a showpiece telephone or a painting . it is also large enough to accommodate a big floral arrangement . since the top is wide , you can keep necessities like writing supplies or your mail on top of it . the exterior shelf is set low , and it offers ample space to keep large objects like a vase . four sturdy but gently curved legs provide support for this table . it can be a great addition to any room with traditional decor . it is elegant , stately and charming and is the perfect sofa table that will transform your room . some assembly is required before you can enjoy this table . you can keep this table in your family room or sitting room and transform it with this simple touch .\",\"complete the look of your elegant home with the alcott hill morgandale kitchen cart with butcher block top . this kitchen cart has a butcher block top that is sturdy and makes for a perfect space for cutting and chopping meats . it is ideal for homes that have contemporary or modern interiors . this kitchen cart has a wooden frame and features exterior shelves , wheels , a wine storage space , and spacious drawers .\",\"this space-efficient china cabinet organizes your kitchen essentials and displays your decorative items . it \\u2019 s made from solid and manufactured wood , and features slatted details and a curved apron that add a traditional touch . this dining hutch has two cabinets with glass doors , a larger concealed cabinet , a drawer , and four open shelves so you can get your dishes , utensils , and glasses stowed away . a counter area gives you extra space to prepare food or a home for your small appliances . plus , a tipover restraint device is included for extra safety .\",\"this classic bed adds fashion and comfort to your bedroom with its soft velvet upholstery . featuring a soft arched silhouette , it is sure to add charm to any room . the headboard has a solid wood frame and polyester fill foam padding . bed frame and matching upholstered bed panels included .\",\"perfect for lending your living room or study an extra handy perch while also complementing your home 's style , accent chairs are a great way to lend any space a touch of style . take this one , for example : crafted from a solid hardwood frame with seats , this piece is wrapped in a polyester blend upholstery that features a pattern of vines and medallions . a roll-top back and flared arms round this piece out with a traditional silhouette .\",\"evocative of the designs of bygone days , this coffee table brings a dash of antiqued charm to your ensemble as it offers spare space to stash extra items . crafted from manufactured wood , it \\u2019 s accented by black faux leather borders dotted with antique brass nailheads , mimicking the look of a classic steamer trunk . lift up the top to reveal room to store board games , blankets , magazines , and anything else you want out of sight but close at hand .\",\"whether it \\u2019 s acting as the focal point of your living room or adding more storage space to the kitchen , this multi-purpose accent cabinet is sure to grab glances . crafted from solid and manufactured wood , it stands atop turned feet and features crown molding , mosaic glass inserts , and recessed panels for an updated yet classic appearance . two doors and an open shelf lend you plenty of space to display your favorite decorative accents , store dvds , and more .\",\"this sleeper sofa has a classic style and a simple silhouette . made with steel and engineered wood frame and resin block feet , this sofa is upholstered with 100 % polyester with a foam filling . the removable cushions provide plush seats for three people , perfect for lounging in front of the tv with guests , and if it becomes a sleepover , the pull-out sleeper bed can sleep two on its full mattress . note that the throw pillows are not included .\",\"the dining table set offers contemporary styling to complement any specific home decor designed for a modest dining area . this dining counter height set provides the quality design with a touch of elegance to add compelling charm to any dining area . it has long-lasting construction with asian hardwood finished in pleasant brown polish . the square table has simplistic , straight legs , and the tabletop features a straight-edged border . the kitchen bar stool provides an attractive x-backs that includes a choice of wood seats or upholstered seats .\",\"with its shaker-style recessed paneling , decorative hinges , bracket feet , and moldings , this four-door accent cabinet gives you storage with style to spare . manufactured wood , this traditional design includes a tall upper cabinet with two adjustable shelves and a short bottom cupboard for storing heavier items . try it in the kitchen to free up space in your pantry , or in the dining room for storing stemware and table linens .\",\"pairing traditional design with functionality , this cabinet is a must-have in any bathroom . crafted from manufactured wood , it features classically-inspired details \\u2013 such as crown molding and latticed doors \\u2013 given a more modern spin with mosaic glass inserts . an open lower shelf and two shelves behind the doors offer you plenty of room to tuck away bath towels , keep spare soaps , and make sure other essential toiletries are at the ready .\",\"let you tablescape grow alongside your guest list with this compact extendable dining table , an ideal anchor for a smaller eat-in kitchen or dining room . crafted from solid rubberwood , this rectangular piece features a self-storing butterfly leaf that allows you to seat up to six . the antique white finish on its apron and turned legs gives it a touch of cottage-inspired charm , while its dark oak-finished top creates contrast and warms up the design . assembly is required .\",\"on-trend yet traditional , this end table gives you space to show off your family photos and floral arrangements in style . crafted from solid and manufactured wood , it has a circular top and convenient bottom shelf that are the perfect place to put books and pictures . plus , this end table is finished in a neutral wood grain stain that completes this classic look . measuring 24 '' h x 19 '' w x 19 '' d , this compact table won \\u2019 t take up prime real estate or break the bank .\",\"brushed nickel accent hardware and a rich , sienna finish put hazleton 's all solid wood on center stage . full-extension , ball-bearing drawer guides offer deep and sturdy drawer storage . tapered legs , under beveled tops , and plenty of open-air at the floor combine for a breezy , open design ... and , simple to vacuum beneath !\",\"pull up traditional style to your kitchen island with this bar stool and enjoy a weekday breakfast before dashing out the door . it 's made from solid wood and features four slightly curved legs with a circular support bar where you can rest your feet . up top , the armless silhouette showcases an open trellis design on the back . upholstered in faux leather and filled with foam , the seat provides just the right amount of support as you sit . a nailhead trim lines the seat for a hint of farmhouse appeal . you can swivel this seat 360\\u00b0 , so you do n't have to scoot your seatback . this bar stool is sold individually .\",\"add a simple seat to your well-appointed space with this understated dining chair , featuring a sturdy pine wood frame and linen-upholstered design . pull a chair up to a round-top wood pedestal in the living room to curate a bistro-worthy conversation space in your ensemble , then set down simple jute or sisal rug on the hardwood floor below to offset this chair 's boldly patterned upholstery . for a more cohesive look in your space , match its black-finished wood legs with charcoal-toned chests and tables around the space , then complete the ensemble with a roll-arm loveseat and wood-framed armchairs around the room to tie everything together .\",\"counter space always seems to be at a premium in the kitchen \\u2013 alleviate that problem with this handy standing atop turned feet , it pairs recessed paneling with a faux marble top for a look that blends into traditional ensembles . crafted from solid and manufactured wood , it offers you a drawer and a cabinet into which you can store cutlery , serveware , and other cooking essentials , while two towel racks let you clean up any spills in a cinch .\",\"whether you 're organizing your outfits or simply rounding out a sophisticated ensemble , this timeless 7-drawer chest is the perfect pick . crafted of rubber wood and manufactured wood , it offers up classic clean lines with carved curves around the top and base in a solid finish . while its subtle top drawer is ideal for tucking away jewelry , its six metal drop handle-adorned drawers make a lovely spot to stow your tee shirts and chinos . certainly stylish shining solo , this artful accent also makes a chic stage ! try adding on a lush potted succulent for a hint of earthy appeal , or let a few framed family photos sit on top for a twist of personal charm .\",\"whether you love diy projects but don \\u2019 t have time to start from scratch , or you want to match your existing ensemble perfectly , this clean-lined nightstand is the perfect pick for your home . crafted from solid rubberwood , this piece is left unfinished so you can sand and stain it with the finish of your choice . three drawers on ball-bearing glides provide storage space for notebooks , vitamins , and other bedside essentials . assembly is required .\",\"defined by its iconic winged sides , high back , and wooden legs , the wingback chair is a classic piece in interior design . crafted from birch wood and plywood frame , this chair features four legs with an espresso finish . the slightly curved silhouette and solid back bring traditional style home , while the 100 % polyester upholstery filled with foam offers a cozy and inviting look to your ensemble .\",\"add an eye-catching touch to your living room with the madison park olson tight back club chair . this accent chair features an all-over fretwork pattern on the upholstery that creates a stunning transitional look . the double row nailhead trim on the front of the arms and the sides of the back adds an elegant accent to the design . with a comfortable loose cushion and sturdy solid wood legs , this club chair brings a chic style to your home decor . leg assembly required .\",\"bring extra storage and prep space to the heart of your home with this charming kitchen cart . its frame is crafted from manufactured wood , sporting lockable wheels that let you move this piece to and fro as you concoct tonight \\u2019 s culinary masterpiece , while a spice rack and towel rack keep these essentials close at hand . for storage , a cabinet and two drawers allow room for stashing cutlery , pots , pans , and more .\",\"a nice coffee table is almost as good as a nice cup of coffee . almost . whether using it as the perfect perch for your remote control or morning mug , coffee tables are a staple in the home . take this one for example : crafted from manufactured wood , this piece comes atop four turned legs connected by an x-shaped base , lending some traditional appeal to your space . accented by molded detailing , the tray top boasts a square silhouette and is designed to keep runaway items on top , ideal for your living room ensemble .\",\"aleko canadian hemlock wood indoor wet dry 6 person traditional steam sauna brings all the luxury and comfort of the indoor sauna at a more accessible price point . improve your health by sleeping better at night , stimulate circulation and increase metabolism . heal colds and flu , relax tired muscles , joints and prevent heart disease . eliminate fatigue , clean and nourish skin , condition the vein system , reduce fat and keep fit . relieve muscle and joint pain , flush toxins from the body . the pleasing sauna shape is both stylish and functional and providing maximum usable space while minimizing excess cubic feet . the less cubic feet of air , the faster your room will heat . this sauna can be placed indoors . its entrance features a tempered glass door with a wooden door handle , making it look beautiful and stylish . the tempered glass door to contribute to the quiet , relaxing environment , and tempered so as to remain unfazed by the temperature changes . an electric heater completes the experience with heated rocks and the accompanying bucket and scoop let you pour water over the hot stones , boosting temperature and humidity for maximum health and relaxation benefits . this beautiful sauna is perfect for your under roof front porch or under roof back deck and inside the house . aleko is completely committed to providing you with saunas that are a lifetime investment in your health and serenity . due to the nature of the 220v-240v hardwired heater unit , an electrician is recommended upon installation .\",\"wet and dry 4 person sauna brings all the luxury and comfort of the sauna at a more accessible price point . improve your health by sleeping better at night , stimulate circulation , increase metabolism , heal colds and flu , relax tired muscles and joints , prevent heart disease . eliminate fatigue , clean and nourish skin , condition the vein system , reduce fat and keep fit , relieve muscle and joint pain and flush toxins from the body . the pleasing sauna shape is both stylish and functional , providing maximum usable space while minimizing excess cubic feet . the less cubic feet of air , the faster your room will heat . this sauna can be placed indoors and outdoors . its entrance features a tempered glass door with the wooden door handle , making it look beautiful and stylish . the tempered glass door to contribute to the quiet , relaxing environment , and tempered so as to remain unfazed by the temperature changes . an electric heater completes the experience with heated rocks , and the accompanying bucket and scoop let you pour water over the hot stones , boosting temperature and humidity for maximum health and relaxation benefits . this beautiful sauna is perfect for your front porch or back deck . due to the nature of the 220v-240v hardwired heater unit , an electrician is recommended upon installation .\",\"indulge in luxury with this product by armen living . it is beautifully designed with a sturdy metal framed footrest expertly crafted in curved walnut wood finish , upholstered with grey faux leather upholstery and black brushed wood back . this piece provides both a versatile style and comfort with a modern design that can easily be integrated into your home \\u2019 s current d\\u00e9cor . while appearing stationary , the vienna features a 360-degree swivel feature for maximum mobility . the plush padded seat with high-density foam will provide you with all-day comfort . the curved wood medium-high back is ideal for posture alignment and unmatched support for days on end . the foundation of the product is supported by wood and a strong metal footrest for a chic and stylish aesthetic without compromising the practicality and functionality of this item . this product ships in one box with an easy and quick set up . we stand by the quality , craftsmanship , and integrity of our product by offering a 1-year warranty for all our products . we want our customers to enjoy our product and we will always be there to help with our top-notch customer service support .\",\"the ayanna mid-century barstool is a sophisticated and functional modern piece certain to enhance the aesthetic of any style of home . the frame and legs are made of durable wood while the back and seat are faux leather upholstered . the modern barstool includes a metal footrest that allows for added comfort and style . this piece provides both style and function with eye-catching contoured wood back that can easily be integrated into your home 's existing d\\u00e9cor . the plush and thick cushion padded seat with high-density foam will provide you with all-day comfort . the curved wood low back with padded support is ideal for posture alignment and unmatched support for days on end . the foundation of the product is supported by wood and steel footrest for a chic and stylish aesthetic without comprising the practicality and functionality of this item . this product ships in one box with an easy and quick setup . we stand by the quality , craftsmanship , and integrity of our product by offering a 1-year warranty for all our products . we want our customers to enjoy our product and we will always be there to help with our top-notch customer service support . excellent choice for a modern , mid-century , and even contemporary dining and kitchen setting . also available in your choice of brown , cream , or grey faux leather with walnut wood finish or black , grey faux leather with black brushed wood finish .\",\"vanities are a staple in bathrooms and washrooms . they support your sink , and sometimes can even stow away your bath essentials . this 72 '' wall-mounted double bathroom vanity set , for example , is bursting with a modern flair . it is crafted from solid and manufactured wood , also features a custom-sized solid surface countertop with integrated basins . three drawers , and two cabinets , for plenty of concealed storage of crisp towels , cleaning supplies , and more . faucet not included with the purchase .\",\"this charming convertible faux leather sofa is an excellent option for your den , home office , or multi-purpose guest room . founded on a solid wood frame with metal legs , this dapper design strikes a clean-lined silhouette with 3 angles adjustable backrest , removable pillow armrests , and two cup holders . when you need to accommodate overnight guests , this sofa easily converts to a sleeper to give your guests a restful respite , creating a comfortable place for overnight guests to sleep .\",\"this ivywood solid wood low profile sleigh platform bed is made of solid pine wood from vietnam . it comes with center support rails along with 5 slats with three center support legs to give the frame more weight support .\",\"an approachable transitional take on a mid-century modern design , this accent armchair is a stylish addition to any seating ensemble . founded on a solid rubberwood and ply frame , this dapper design strikes an updated club chair-style silhouette with a gently slanted backrest , sloping track arms , and four tapered square legs in a rich espresso finish . brushed polyester blend upholstery envelops the seat , accented by button-tufting and piped edges for a tailored touch , while web suspension and medium-soft foam cushioning provide comfortable support .\",\"the ultimate compliment to your dining ensemble , your dining chairs lend you the perfect perch to enjoy a meal while they reinforce the style set by your dinner table . take this chair , for example : perfect for an understated country look , it 's crafted from solid rubberwood with distressed details and a solid-hued finish . a double-cross back rounds this piece out with an additional touch of style that makes it perfect for a modern farmhouse .\",\"a versatile addition to any home , accent chests occupy unfilled nooks while keeping household items out of sight and within reach . this item \\u2019 s clean lines and stainless steel hardware bring contemporary character to living areas , bedrooms , and beyond . shutter-style wood panel doors round out the look , while an inner shelf offers even more space to stash your valuables . plus , this item includes a 90-day limited warranty .\",\"sporting a high-back silhouette for a high-end look , this wingback chair is a perfect pick for reading nooks , dining rooms , and anywhere else that could use a spare seat . its solid and manufactured wood frame is wrapped in linen-like upholstery with silver-finished nailhead trim for a touch of shimmer . the seat cushion and matching lumbar pillow ( included ) are stuffed with foam fill , and the seat cushion is removable for easy upkeep . espresso-finished legs round out the design below .\",\"showcasing an elegant design and rich , detailed finishes , this brown and white table lamp enhances the d\\u00e9cor in a bedroom , office , or hallway . displayed on a living room or dining room table , this lamp radiates soft light from the incandescent bulb housed inside the white fabric shade . the swirled frame features a gleaming toffee wood finish that matches the brown accents on the shade .\",\"a true style sophisticate , the sofa has made its appearance in upscale gentlemen 's clubs , victorian homes , and more for centuries ; today , they fit just as well into wood-paneled libraries as they do in downtown studio apartments .\",\"add a functional accent to the end of your bed or provide stylish seating in a living room with this modern bench . perfect for smaller spaces , founded atop angled , solid wood legs finished in a coffee hue , its firm upholstered seat features button tufting on the sides and two lines of nailhead trim for on-trend adornment .\",\"more than just a platform to perch reading lamps , glasses of water , and alarm clocks , nightstands help define the overall aesthetic in your guest bedroom or master suite ensemble . bring a touch of classic design to your teen \\u2019 s restful retreat with this eye-catching piece ! crafted from a blend of solid and manufactured wood , it boasts a neutral finish and showcases curved accents on the top and base . brush nickel metal hardware adorns each of the drawer fronts and it 's framed by crown molding detail .\",\"if you find yourself often out of storage space in your bedroom , we understand : between stashing spare sheets and tucking away a wardrobe , it feels like there 's never space for everything a master suite has to hold . thankfully , a chest like this is a great option for lending your room much-needed storage : crafted from wood , it features drawers with hardware . perfect for everything from slacks to socks , this chest strikes a traditional silhouette thanks to its crown molding .\",\"clutter wreaking havoc in your teen \\u2019 s bedroom ? don \\u2019 t throw in the towel , that creates more laundry . pick up this accent chest instead . crafted from a blend of solid and manufactured wood , it boasts a neutral finish for a look that won \\u2019 t clash with your current color palette . plus , it includes five drawers with antique brass metal handles for keeping clean clothes , spare linens , games , you name it ! measures 47 '' h x 31 '' w x 15 '' d .\",\"if you find yourself often out of storage space in your bedroom , we understand : between stashing spare sheets and tucking away a wardrobe , it feels like there 's never space for everything a master suite has to hold . thankfully , a dresser like this is a great option for lending your room much-needed storage : crafted from a blend of solid and manufactured wood , it features six drawers on metal glides . perfect for everything from slacks to socks , this chest strikes a traditional silhouette thanks to its crown molding .\",\"tucking away your teen \\u2019 s wardrobe while lending an eye-catching focal point to their bedroom , this dresser is a piece that offers any bedroom a sophisticated look . crafted from a blend of solid and manufactured wood , it boasts a neutral finish for a look that won \\u2019 t clash with your current color palette . finished in the classic finish with metal hardware , the simple moldings and luxurious pull handles add subtle style and appealing detail to each piece . plus , it features six drawers with silver metal handles for storing clean clothes , spare linens , games , you name it ! measures 33 '' h x 57 '' w x 15 '' d .\",\"the possibilities are endless with this bar stool . combining classic style elements with solid wood construction and five on-trend options for finish , you can truly create the exact look you want - without breaking the budget .\",\"whether drawn up to a kitchen island for a cozy dine-and-dash breakfast or rounding out your entertainment ensemble with a handy perch , a bar stool like this is a versatile seating solution . crafted from acacia wood , this piece features an understated silhouette with four legs , an included footrest , and a low , slatted seatback . perfect for a variety of styles , this piece features a 24 '' seat height , so it 's perfect for counter-height surfaces .\",\"this set of chairs can be placed in the living room , kitchen , or the dining area . featuring a diamond-patterned tufting with softly padded seat bottom and back , this chair set offers a comfortable seating experience . standing tall on espresso-stained wood legs , the chair stays stable at all times .\",\"with its ornate carvings and regal claw feet , this charming dresser blends an approachable traditional design with a dash of baroque flavor . crafted from solid rubberwood with wood veneers , this lovely design strikes a wide rectangular silhouette with elegant moldings and sports a french country finish . seven drawers with flower-inspired hardware offer ample out-of-sight storage for all your shirts , sweaters , chinos , and jeans , while the expansive surface provides a perfect platform for framed photos or a bouquet of blooming flowers .\",\"this julie bed frame is made of solid pine wood from vietnam . it comes with the slats and leg kit .\",\"a must-have for compact lofts and small-scale dining ensembles , this table offers space to serve and stow in style . crafted from solid and manufactured wood , it features a clean-lined silhouette and an oak saddle finish for a look fit for modern farmhouses and more traditional abodes . it accommodates up to six and includes a drawer , open shelf , and wine rack for seven bottles .\",\"equally suited to deck out the dining room or spruce up an unused corner of the living room , this versatile dining chair brings a touch of traditional style to any space . proudly made in the usa , this piece is made with a wood frame , foam fill , sinuous spring support , and polyester-cotton fabric upholstery . when it comes to style , this design showcases a pleated skirt and a rolled back for plenty of classic character . and since it \\u2019 s available in a variety of upholstery options , you \\u2019 re bound to find the perfect color . hand-curated by kelly clarkson .\",\"add a bold pop of pattern and color to your living room with this barrel chair . it 's built with an engineered wood frame and features tapered dowel legs , and a curved back to create that classic barrel silhouette . the upholstery is decorated with a bright floral design in pink , red , black , and yellow colors . the foam filling and web suspension seat construction offer just the right amount of sink as you sit . to assemble , all you have to do is attach the legs .\",\"round out your living room or den seating group in natural style with this charming side chair , showcasing a flora and fauna motif in neutral hues . relax after a long day of work on the alcott hill\\u00ae slipper chair , which is known to offer the right mix of style and efficacy . it features a beautiful design , which is quintessential of the contemporary style . apart from the flawless cuts and comprehensive lines , this chair \\u2019 s beauty is accentuated by its fine finesse . you can keep it either in your bedroom to curl up and read a book , or in your gaming room to lie back and play your favorite video game . the slipper chair from alcott hill\\u00ae is made from a premium-quality pine wood frame for optimum strength and longevity . it is upholstered in a durable fabric . this slipper chair is armless and comes with a matching toss pillow that can be used as lumbar support . it stands on four espresso-finished legs , which offer optimal balance and support on the floor . this slipper chair from alcott hill\\u00ae has a weighing capacity of 250 pounds and remains to be fire-resistant to keep you safe from minor mishaps . it requires minimal assembly and can be put together using an allen wrench . this slipper chair has an ista 3a certification to assure optimum safety during transit .\",\"instantly complete your bedroom in simple , traditional style with this 5-drawer dresser chest . it 's made from solid wood in your choice of finish . traditional accents of crown molding , frame panel molding , turned and tapered feet decorate this dresser for a classic look . the drawers feature dovetail joinery and ring pulls for a well-made look . plus , some of the drawers are felt-lined to help protect your more delicate items . but the best part , this chest arrives fully assembled .\",\"bring essential storage and traditional design to your bedroom with this 2-drawer nightstand . it 's made from solid poplar wood , basswood solids , and veneers , features tapered block feet with turned details and crown molding for a traditional silhouette . the two drawers feature dovetail joints and offer plenty of space to stash your nighttime essentials . ring pulls and molded fronts decorate the drawers for an eye-catching effect . we love how this 2-drawer nightstand arrives fully assembled , so you can get to organizing right when it arrives .\",\"this manufacturer is proudly bringing comfort to america 's living room . this begins with milling and drying own hardwoods at this lumberyard facility to ensure that frames are built to last without warping , twisting , or cracking . from there , the lumber travels to one of these frame shops where the wood is cut , shaped , and assembled into the highest quality frames available . the foam and fiber parts , built with eco-friendly practices and recycled material are cut to size at 1 of 2 nearby foam processing plants . these components are then joined in 1 manufacturing center where they are assembled into your piece of furniture . this fabric , sourced from around the world , selected for its quality , style , and value , and stored in a climate-controlled fabric warehouse , is then cut , sewn , and applied to create your finished piece of upholstered furniture .\",\"this storage pedestal is perfect for filling that neglected corner or another spot in your room . individually handcrafted from solid wood , it features a provincial brown finish , antique-brass finished hardware and four drawers for convenient storage .\",\"beautifully designed , this recliner chair makes a stunning statement in any room . the recliner chair features a high camelback and rolled arms in gray upholstery with an elegant fretwork print , for a chic transitional look . solid wood legs display finish creating a rich contrast that complements the design , while a removable cushion provides exceptional comfort . with an elegant silhouette , this recliner chair offers a luxurious and fashionable update to your home decor .\",\"this ottoman has a secret : it loves a clutter-free home ! more than just a spare seat or stylish accent , this ottoman brings a convenient storage solution to the space that needs it most . this round essential features a lift-top lid , concealing storage space to stow away extra throw blankets , shoes , toys , and so much more . set it in the living room , den , playroom , or bedroom , for optimal versatile use . crafted from solid and manufactured wood , this contemporary piece is upholstered with a tufted polyester blend and sits on dark walnut bun feet . we recommend spot cleaning with a damp cloth , as needed .\",\"sitting at the perfect height for kitchen islands , breakfast bars , and pub tables , bar stools have a leg up on other seating options . these dark espresso colored solid wood chairs will add extra seating to your kitchen at counter height so that those sitting on them can have a view of what is happening in the kitchen . this pair of bar stools measures 43 '' h x 22 '' w x 19 '' d .\",\"this eye-catching wingback chair is perfect for fireside chitchats and late-night reads . upholstered in a poly blend , its fabric steals the show , stretched over the high back , and a medium-firm foam cushion . founded atop a solid wood and plywood frame , it can hold up to 250 lbs . this chair is an ideal choice for living rooms and bedrooms alike .\",\"included one square table and a set of dining chairs in an oak finish . the felker 5 - piece solid wood dining set is composed of wooden dining room chairs plus a dining table . this dinette set offers a sleek uniform color of the quality solid wood type which elegantly provides overall reliability and a sense of durability thus perfect for hosting individuals of any age group .\",\"this felker dining room table gives a modern magnificence to your dining room with our wonderful square table . this modern mid-century dining table is created of high-quality asian solid wood ( rubber wood ) which offers wonderful robustness and stability to the wood dining table . the surface area of this is built from high-quality wood dining table surface , which gives an awesome check . the modern style of this wood table will enhance the beauty of any dining room . durable solid wood structure , modern square design wood kitchen table delivers modernized style to your dining area and marvelous stability to this excellent square dining table . as of the ideal size , this innovative modern dining table is quick to carry , clean , assemble and modify its places , amazing designs of this unique mid-century dining table suits effectively with any room decoration . this wonderful modern dining table is friendly and tough can be a very good choice for a wonderful dining time experience with your family or friends . pieces option available : option sku : oxt-lwh-t : dining room table- square table top and 4 wooden legs kitchen room table linen white finish . option sku : oxt-mah-t : dining table- square table top and 4 wooden legs dining room table mahogany finish . option sku : oxt-oak-t : dining room table- square table top and 4 wooden legs dining room table oak finish .\",\"this unique 3 piece table and chairs set with one dining table and two kitchen area chairs . anyone can set comes with a fit around this unique dining table set . this slick finished top with hardwood is both attractive and gorgeous as well as giving a sense of durability . the kitchen chairs offer an extraordinary and stylish feature to any kitchen arena as a result of floral-inspired slatted back kitchen chairs design . finished to generate the glow of the pleasant colored mahogany and the gentle contours that cast subtle yet quite efficient shadows , this specific kitchen table set will definitely present a distinctive dining experience that feels classy and relaxing .\",\"this unique 5 piece dining table and chair set with 1 kitchen table and four kitchen area chairs . anyone can perfectly fit around this unique dining table set . this slick finished top with hardwood is both attractive and gorgeous as well as supplying a sense of strength . the kitchen space chairs provide an extraordinary and stylish feature to any kitchen area due to the floral-inspired slatted back kitchen chairs design . finished to bring in the glow of the pleasant colored mahogany and the gentle contours that cast subtle while highly efficient shadows , this valuable kitchen table set will certainly present a distinctive dining experience that feels classy and relaxing .\",\"has your collection of wine and stemware outgrown your kitchen cabinets or bar cart ? here to help , this wine trunk keeps your vintages , along with the vessels you sip them from , neatly tucked away \\u2013 that is , until the guests arrive . made from solid and manufactured wood , it features clean lines and strikes a rectangular silhouette . it boasts an espresso finish , and includes a cabinet with a glass door for storing stemware . measuring 37.48 '' h x 19.13 '' l x 12.72 '' d , it accommodates up to eight bottles .\",\"this end table makes a statement in your modern farmhouse or french country cottage living room with its robust base and purposefully distressed finish . this engineered wood pedestal table has a circular top that sits on a turned base . its base is narrow at the top , flows into a wide sphere in the middle , and widens at the bottom , adding support and traditional style to the overall piece . we love how this table looks beneath a lamp and framed photo in your living room or bedroom .\",\"refresh your bedroom space with the cozy elegance of this queen upholstered panel bed . designed with chic style and contemporary charm , this collection is upholstered in soft polyester fabric and features a timeless button-tufted headboard , solid wood and lvl construction , and wood legs with non-marking caps . complete with reinforced center beams for maximum stability , this collection accommodates memory foam , spring , latex , and hybrid mattresses . a modern centerpiece to a master bedroom or guest suite , this upholstered bed frame effortlessly transforms bedroom d\\u00e9cor with its gentle curves and luxe look .\",\"perfect for writing and drawing , this glass message board works with standard dry erase markers ( not included ) . this horizontal dry-erase week calendar features a blank week calendar format which you can fill in with your weekly events and activities , then come sunday you can erase it all and start fresh . this week 's calendar is bordered by a satin black wood frame , featuring clean lines for a modern decor look .\",\"whether catching the evening news after a long day or kicking back with a good book on your day off , this recliner provides the perfect perching point in your living room . crafted from a blend of solid and manufactured wood , it showcases an espresso finish on its four tapered feet . the elegant nailhead trim on its scrolled arms completes the look .\",\"incredibly comfortable , renewable , and rich in color options , this chair set is ideal for relaxed living spaces . they \\u2019 ve upholstered this set with handcraft over a hardwood frame to create this grand scale . the updated design of this wingback chair features a single nail head detail around the edge , taper leg finishes , and a variety of color schemes for your selection .\",\"with a simple openwork look and a 360-degree swivel design , this bar and counter stool is the perfect pick for any entertainment space or seating group . it 's made with a solid wood frame and features french legs in a black or white finish that complements any neutral color palette . plus , its polyvinyl faux leather upholstery offers a budget-friendly and unfussy alternative to genuine leather furnishing . some assembly is required , but all necessary tools are included .\",\"this dresser and mirror offer `` coastal casual '' transitional styling . the hand-painted finish has just the right amount of aging and rub-through in a complementing white case and gray tops with a slight white undertone . constructed of poplar veneers and select solid woods . the large dresser features seven drawers with the top three drawers lined in felt to safeguard your finest clothing . antique pewter finished drawer pulls lend a nice balance of style and functionality . the english dovetail constructed drawer interiors are built of sturdy plywood , sanded and sealed with lacquer and operate on ultra-smooth gliding , full extensions ball-bearing drawer guides .\",\"constructed by wood material with a varnish surface , the accent chair is not only beautiful but also durable . besides , the seat cushion cover is breathable and skin-friendly . most importantly , it is specially designed for your comfortable sitting experiences , such as ergonomic design , curved armrest , soft sponge padded backrest , and seat cushion .\",\"this outdoor wooden storage cabinet is made of high-quality fir and is tightly connected by hardware , strong and not easy to spread out . this wooden tool cabinet can provide you with the ideal storage solution ! the water-based paint coating on the surface prevents bad weather and ensures a longer service life of the cabinet . the spacious internal space can conveniently place tools such as kettles , shovels , and water pipes .\",\"whether at home or in the workplace , the perfect chair will become the highlight of the living room , bedroom , dining room , and office , providing you with a comfortable seating experience . the splayed leg chair is made of rubberwood , strong and durable , with a strong bearing capacity . the seat is filled with thicker foam , so you can have excellent comfort even if you sit for a long time . ergonomically curved , the wide backrest allows you to lean on it to reduce back fatigue . the skin-friendly velvet seat cushion with high gloss and noble appearance will definitely attract attention .\",\"this beautiful art is printed using the highest quality fade-resistant ink on canvas . every one of millwood pines gicl\\u00e9e canvas prints is printed on premium quality cotton canvas , using the finest quality inks which will not fade over time . each gicl\\u00e9e print is stretched tightly over a 1 '' wood sub frame ensuring the canvas is tight and does not buckle . this canvas gicl\\u00e9e print is gallery-wrapped ( the design continues on the sides ) , giving it a real art gallery feel .\",\"this loft metal 24 '' bar stool is great for man caves , dorm rooms , and basement bars . be ideal for small spaces , the barstools easily and neatly stack together , making them easy to stash out of the way for storage . a handle in the seat makes the stools easy to pick up and move . durable enough for use in the shop , and stylish enough to use in the kitchen , each metal bar stools has a brace under the seat that provides additional support and stability . no-mar rubber feet keep them from sliding and scratching hardwood floors . the barstools are painted with a scratch-resistant powder coat paint finish for rich deep color .\",\"this sofa is multi-functional , converting into a lounger or a bed for your guests . sofa founded on a solid and manufactured wood frame velvet fabric upholstery envelops accented by button tufting for a tailored touch , the foam-filled seat cushion offers comfortable support it has straight tapered walnut legs to add a retro touch room .\",\"inspired by our passion for connecting the timeless appeal of american hardwoods with the trends of today , our sundial end table balances chic industrial angles with curved utility . the leg 's matte black finish accentuates the beautiful forest gray finish of the american oak top . the sundial design of the legs gives this piece a unique story and flare that complements modern furniture seamlessly . perfect for those who enjoy unique experiences and appreciate a balanced life .\",\"give your teen a place to tackle their homework with this compact writing desk , an ideal option for smaller spaces or dorm rooms . it 's made from solid oak wood and features two soft-close drawers for essential storage space . a built-in usb port on the back edge helps to keep electronics charged as your child works . this desk 's splayed legs and slanted front bring a bit of mid-century modern flair , while a natural stain helps it blend with any color palette you pick . assembly is required .\",\"available in a curated selection of classic finishes , this nightstand is crafted of solid tropical woods with laminates , striking a clean-cut and curved silhouette . a slide-out drawer offers out of sight storage for reading glasses , a book light , or other bedside essentials , while an open lower shelf is perfect for storing a basket of throw blankets or a box of tissues . rounding out the design , the smooth tabletop provides an ideal platform for a table lamp and a framed photo .\",\"complete your seating area in traditional style with this club chair . it 's built with a solid and engineered wood frame and has a square back and rolled arms to create a classic silhouette . the faux leather upholstery is filled with foam and has a web suspension seat construction for just the right amount of sink as you sit . diamond tufting decorates the tight back to create a vintage flair . you can remove the seat cushion . piped trim decorates the front of the arms for a tailored finish .\",\"this 4-drawer chest offers essential storage to your bedroom or guest room . it 's made from engineered wood in a neutral finish and features four pilaster-like legs with flared feet . the four drawers are set on metal roller glides and offer plenty of storage for your wardrobe . the drawers are decorated with beveled fronts , cap handles , or knobs to complete the design for a traditional look . this dresser measures 42.5 '' tall and arrives with wall anchoring hardware just in case you 've got little ones running around .\",\"stock up on a collection of your favorite bottles of wine with this wooden wine bottle and glass rack . set it in your kitchen , dining room , or near a bar area , for easy access to serve guests . it features a 24 bottle capacity for all those reds , whites , and sparkling bottles you can \\u2019 t live without , and enough space to store 18 pieces of stemware . this piece is finished in a dark espresso hue , and measures 35.67 '' h x 31.5 '' w x 16.22 '' d. it requires assembly upon arrival .\",\"perfect for a home without an office , this corner desk lets you make any empty corner into a workspace . plus , an antique white finish ensures it will fit in with any d\\u00e9cor . crafted from manufactured wood , with a soft-close center drawer on wood slides , this piece is perfect for traditional aesthetics . it also includes a bottom shelf .\",\"a console table is a versatile accent that works in many places in a home : from an entryway to cluttered living room and beyond , the console table offers room to display decor pieces while also clearing up clutter . take this one for example : crafted from wood , it sports turned detailing on all four legs while metal knobs offer a stylish touch . it offers a bottom shelf to put some items on display , while two drawers offer storage for the odds and ends you \\u2019 d rather tuck away .\",\"a console table is a versatile accent that works in many places in a home : from an entryway to a cluttered living room and beyond , the console table offers room to display decor pieces while also clearing up clutter . take this one for example : crafted from manufactured wood , it showcases an openwork base with slanted accents on each side of the open , bottom shelf . 2 drawers with 2 ring pulls keep clutter under control , while the rectangular tabletop provides a place to perch potted plants , framed family photos , or that new accent piece you love so much !\",\"whether catching the evening news before getting ready to hit the hay or cheering on your favorite team during the big game , the media stand in your entertainment area plays an important role in your abode . offering a touch of traditional style to your living room look , this one features a clean-lined silhouette and showcases glass window panes on the two cabinet doors . it \\u2019 s crafted from solid and manufactured wood and includes one drawer for your movie collection and more .\",\"designed with snug spaces in mind , this compact end table fits by any sofa or arm chair 's side , so you have the perfect place to put down snacks , magazines , and more . made from manufactured wood , this piece strikes a clean-lined silhouette with a rectangular top and open lower tier for essential storage space . a neutral finish helps it blend with any existing ensemble , regardless of the color palette or aesthetic . assembly is required .\",\"proving good things come in small packages , this compact ottoman features a hidden storage compartment that lets you stash a few of your favorite possessions in style . founded atop flared feet in an espresso finish , this low-profile piece is crafted with a solid and manufactured wood frame before it \\u2019 s padded with foam to offer a medium seating firmness . solid-hued upholstery envelops the round design for understated appeal , while button-tufted details dot the lift-up lid for a touch of texture . assembly is required .\",\"whether snuggled up to a sofa or beside a bed , end tables are your furniture 's favorite sidekick that delivers surface area and style in one space-conscious piece . for example , this end table is a great option for an extra handy surface thanks to its pull-out shelf . crafted from manufactured wood , a table is a great option for a variety of styles . with a single drawer and lower shelf , this piece is perfect for clearing away smaller clutter .\",\"create a space filled with character and style with the tilley rustic 5-piece dining set . this set features a gorgeous rustic weathered wood-look tabletop that rests on an espresso finished table frame . with the table , 4 coordinating dining chairs are also included , with the chair seats matching the table top 's rustic weathered wood . the chairs combine an x - back chair design and espresso-finished tapered legs . with such a versatile palette , this set will easily work well with other furnishings in your home . the sturdy construction promises long-lasting support and durability so that you can enjoy meals with family and game nights with friends for years to come . make the tilley rustic 5 piece dining set the newest cozy addition to your home today and start making memories that will last a lifetime . the tilley comfortably sears up to 4 people and works perfectly in homes of any size .\",\"the spot where storage meets style , this sideboard is an essential to have on hand during dinner parties and festive family feasts . crafted from manufactured wood finished in a neutral solid tone , it features a frame measuring 35.4 '' h by 47.25 '' w by 15.75 '' d. two paneled cabinets and two drawers are adorned with sleek metal bar pulls , while each side offers a cross-front cabinet .\",\"the perfect stage for any display , this understated wood console table lends a touch of low-key sophistication and effortless style to your ensemble . featuring a curving silhouette and openwork design , this table makes a striking , geometric touch to your ensemble , while its deep black finish lets you lean into earthy and neutral palettes alike . set it against an off-white or beige wall in the living room , then top it off with polished nickel candleholders and a stack of hardcover art books to complete the look . on the middle shelf , try nestling in a thin storage basket or cubby to stow away little odds and ends in style , then arrange the bottom tier with large ceramic vases and glass candle hurricanes .\",\"anchor your living room in contemporary style with this streamlined sectional and matching ottoman , this unit works great with any contemporary designed living space . crafted with wooden frames , these budget-friendly pieces are filled with synthetic fiber to offer a medium-firm feel . distinctive in design , they are upholstered with a mix of solid-hued linen-blend fabric and brown faux leather for textural contrast . square tufting helps to highlight their clean lines , while two included toss pillows complete the look with a decorative touch . assembly is required .\",\"this classic 1-drawer nightstand keeps all your bedside essentials right within reach in your bedroom or guest room . it 's made from engineered wood and laminated particleboard with your choice of finish , and it 's built on a square base for a clean-lined design . the one drawer with an arched pull opens up on ball-bearing glides to reveal room for books , glasses , and chargers . below , an open cubby space lets you tuck away a pair of cozy slippers and other personal items . plus , the surface on this nightstand is just right for a small reading lamp and accent pieces . full assembly is needed .\",\"this ottoman has a secret : it loves a clutter-free home ! more than just a spare seat or stylish accent , this ottoman brings a convenient storage solution to the space that needs it most . this square ottoman features a hinged lid , concealing plenty of storage space to stow away extra throw blankets , shoes , toys , and so much more . set it in the living room , den , playroom , or bedroom , for optimal versatile use . this piece is crafted from manufactured wood and upholstered with faux bonded leather , in an espresso color . it measures 18.9 '' h x 35 '' w x 35 '' d .\",\"from entertaining guests to helping us host the perfect movie night , sofas in our living room ensembles are a staple in our decor . take this one for example : crafted from wood , this piece is perched atop slightly tapered feet and showcases an l-shaped silhouette , working well in any corner or spacious sitting room . wrapped in foam-filled faux leather for an inviting feel , this piece is designed to support up to 500 lbs after assembly which consists of attaching the legs and backrest . plus , it comes with a storage ottoman .\",\"even if you \\u2019 re short on square footage , you can still define a space to tackle your to-do list with this compact writing desk . made from solid pine wood , this budget-friendly piece sport a warm brown finish that blends easily with a variety of color palettes and aesthetics . a built-in usb port lets you charge your phone even if your outlets are all occupied , while a convenient keyboard tray offers a bit of storage space .\",\"lend some speakeasy-inspired style to your entertaining ensemble with this bar cabinet . an understated design that 's best suited for traditional aesthetics , it 's crafted from solid wood and showcases a neutral antique walnut finish . the center console features a drawer for keeping small accessories , while a glassware rack , open shelf , and nine-bottle wine rack offer designated space for all your sommelier essentials . plus , the sides can easily compact or fold out depending on your spatial needs .\",\"a simple and traditional look adds a different charm and elegance to a room . add a tinge of simplicity to your living room or bedroom or study room with this end table . it is a great addition to your furniture set and can also be placed anywhere . the tabletop can be used to decorate it with a flower vase or a photo frame of your family . this side table suits well beside your bed or even next to your sofa . it is made of s-grade solid hardwood and has a slated top which is spacious enough to enhance the beauty of the room with some showpiece items . the end table has a contemporary style and thus , completes the contemporary design of your living room . hence , you have a wide option to choose according to your preference and your room \\u2019 s setting . the table has four square-shaped legs that stand on the floor with a stronghold and stability . it is easy to move around and can be used as a side table even in your library where you can keep a chair next to it and read a book .\",\"a traditional take on classic cottage style , this lovely rubberwood dining table brings a touch of simple charm to your ensemble . set it in the kitchen on a cozy cotton rug to invite casual lunches and big family breakfasts , or let it anchor a small dining room topped with a bouquet of fresh-cut blooms from your back garden . featuring four turned legs and a simple round top , this rubberwood table lends a timeless twist to your entertainment space , while its drop-leaf details let you effortlessly transition from dining to display . set the drop leaves down to use this table as a stage for framed photos and glossy ceramic vases in the den , then pop them up for extra space to display cocktails and hors d'oeuvres at your next neighborhood gathering .\",\"anchor your bedroom in simply chic style with this streamlined platform bed . crafted of solid rubberwood , this bed frame features a clean-lined head , foot , and side rails for a low-profile design . a series of solid wood slats accommodate your preferred memory foam , latex , or traditional spring mattress ( not included ) without the need for a bulky box spring or bunkie board , while tapered legs create 11.25 '' of clearance under the bed for space-saving storage in the tallest setting .\",\"set the foundation for festive family gatherings and cozy weeknight dinners alike with this striking and stylish dining table , a bold anchor for your well-appointed entertainment space . featuring a boldly scrolling metal frame and cherry-finished wood top , this round design effortlessly balances old world appeal and earthy rustic charm . set a ceramic bowl with faux fruit and pinecones on the inset glass center to bring a harvest-inspired twist to your tablescape , then set a beige and coral scrollwork rug on the floor below to complete the look . itching to add more to the display ? utilize the small , lower shelf to keep a cluster of earthenware vases or stacked cookbooks .\",\"whether working on your next great novel or simply sprucing up your home office , writing desks are a stylish stage . take this one for example : made in the usa from manufactured wood , its body showcases three soft-close drawers , while its tabletop displays two cubbies to stow your laptop and well-thumbed novels . featuring a clean-lined design , wood grain details , and metallic cup pulls on its drawers , this piece brimming with traditional taste .\",\"whether tackling taxes or working on your next big novel , this writing desk is here to help . made in the usa , it \\u2019 s crafted from manufactured wood and showcases an l-shaped silhouette , perfect for tucking into a corner or making a statement in your office . its included hutch features five open shelves , perfect for storing books and files or displaying some decorative favorites . plus , this product comes backed by a one-year warranty .\",\"equally , at home in classic and contemporary ensembles , this dining chair offers a taste of transitional style as it lends a seat . made from manufactured wood , it features an open ladder back and curved back legs for an air of modern flair . a black finish on the frame gives it the versatility to coordinate with any color palette , while a brown-stained square seat completes the look with subtle contrast . after assembly , this chair has the capacity to support up to 250 lbs .\",\"a perfect place to serve up your latest home-cooked meal , this table brings traditional style front and center . crafted from solid and manufactured wood , it stands atop square legs and features an overall streamlined silhouette . the included leaves let you bump the seating capacity from four to six , so you can seat unexpected guests with no problem . a medium brown finish makes this essential piece versatile enough to blend in with a variety of color schemes .\",\"storage , style , and a place to sleep ? this platform bed has it all ! a perfect pick for the guest room or your own restful retreat , this must-have design is crafted from solid wood and sports a streamlined silhouette accented by a sleigh-style headboard and paneled details for a touch of traditional appeal . trundle drawers out on wheels , seamlessly incorporating a space to stash spare linens , organize blankets , and keep clothes close at hand . plus , a slat system supports your mattress , eliminating the need for a box spring .\",\"organize your entertainment ensemble in contemporary style with this clean-lined multimedia cabinet . crafted from manufactured wood , this budget-friendly piece features two sliding glass doors that open to reveal seven interior shelves . measuring 49 '' h x 32 '' w x 9.5 '' d , it doesn \\u2019 t take up a ton of floor space , but it offers enough storage for 576 cds , 216 blu-rays , or 192 dvds . thanks to its neutral finish , this design is versatile enough to blend with a variety of color palettes and aesthetics . assembly is required .\",\"never underestimate a bench ! take this one , for example , it 's not just for taking a seat , the sybil storage bench is also an ideal accent for your entryway , can be used to keep folded blankets at the foot of your bed , and even doubles as a distinctive alternative to a coffee table in the den . made from manufactured wood , it offers a traditional appearance with molded trim and a curved apron all finished in a solid color .\",\"proudly crafted in the usa , this clean-lined accent cabinet is made from manufactured wood and finished in a wood grain stain for a warm and rustic look . two cabinet doors open to reveal six adjustable shelves that you can tailor to fit your blankets , board games , and beyond . thanks to its tall and narrow silhouette ( measuring 70.984 '' h x 38.875 '' w x 16.772 '' d overall ) , this piece provides ample storage while helping you make the most of your square footage . the manufacturer backs this product with a five-year warranty . full assembly is required .\",\"warming up hardwood and tile floors while setting the stage for the rest of your ensemble , area rugs are essential for nearly any room in your abode . made in turkey , this three-piece set is constructed from polypropylene , a popular material in rug production due to its high resistance to stains , fading , and moisture . it features a 0.3 '' pile height , ideal for promoting a cozy and inviting feel to your space with the added benefit of being easy to clean .\",\"simple and minimalistic , the rushville 3 - drawer solid wood nightstand features a modern retro look and handcrafted from acacia wood . three drawers make this piece practical in an office , bedroom , or living room .\",\"rounding out your decor while providing sensible seating arrangements in small spaces , side chairs offer style and versatility to any interior design . take this one for example : lending a touch of mid-century-inspired style to your office or dining room , it showcases an iconic parsons design and features foam filling inside its polyester blend upholstery . founded atop four wood legs , its seat and straight back boast a solid coloring for a look that easily blends with your current color palette . this classic parsons dining chair is offered in the broadest range of fabrics and wood finishes . from linen-like fabrics to bolder prints and patterns , this classic chair design is made to work with a range of interior design styles . enhance an existing dining room by adding a pair , or buy multiple sets to create a whole new dining ensemble . the parsons chair will also brighten up a bedroom , entryway or living room and is easy to pull out and use for additional guest seating . complemented by wood legs in a range of rich finishes , this dining chair is easy to assemble and maintain\",\"make a bold statement with this contemporary area rug . the brilliant colors and diamond design add a touch of drama to any room . made of looped nylon yarn to be durable and affordable . non-skid backing keeps it from sliding on wood , laminate , and tile floors , making this ideal for the kitchen , entryway , bathroom , or family room . spot clean with mild detergent and water ; vacuum on high-pile setting .\",\"whether pulled up to your open-concept kitchen island or paired with a curated home bar , this 360\\u00b0 swivel bar stool makes an understated seating option for your stylish space . crafted from wood in a rich espresso finish , this design strikes a backless silhouette with a round , swivel seat , four tapered square legs , and a built-in hoop footrest for comfort .\",\"a place to corral miscellaneous items , a spot to stage decorative displays , and a way to craft a cohesive look in any room of your home , accent cabinets are must-have additions to any decor . standing atop tapered legs , this design is crafted from manufactured wood and features a streamlined silhouette emblematic of the traditional aesthetic . a pair of doors fronted by x-shaped cutouts and glass panels open to reveal three shelves upon which you can tuck away a variety of objects .\",\"every pot and pan is sure to have a place in this microwave station \\u2013 the ideal addition to your kitchen ensemble . crafted from wood , it features two cabinet doors below the open to reveal plenty of storage space for cutting boards , bowls , and more , while the open shelf up top provides the perfect for your microwave . after assembly , this product can support up to 40 lbs. , while a neutral finish allows it to blend with a variety of color schemes .\",\"when it comes to your bedroom , it seems like storage space is always at a premium \\u2013 especially when talking about your clothes . don \\u2019 t worry , this dresser is here to help . crafted from manufactured wood , this piece features six drawers on ball-bearing glides , ideal for tucking away the rest of that displaced wardrobe . its beveled drawer faces showcase cup and knob handles for a traditional touch . tuck away your sweaters , slacks , and socks in this dresser from the shoal creek\\u00ae collection . this chest of drawers features six drawers that open and close on smooth metal runners . find a little extra room in one of the four lower drawers that are extra deep - so much space ! this handsome 6-drawer dresser is ideal for convenient storage of an array of different things like blankets , linens , pants , jeans , and more . you can find a place for all your things ! the spacious top surface of this double dresser provides you with ample room to store and display miscellaneous bedroom essentials and home d\\u00e9cor items like an accent lamp , your bottles of perfume , a makeup bag , and photos of the family too . the sophisticated good looks of this bedroom furniture is the perfect addition to your bedroom . finished in oiled oak\\u00ae , this charming wood dresser will solve all your storage needs .\",\"this eye-catching chandelier has five lights and a whole lot of farmhouse style . it \\u2019 s made from metal and showcases an arched , birdcage-like design with five arms that dramatically arch up to hold five candelabra-base bulbs ( not included ) . this chandelier features turned , brown wooden accents below each bulb and at the top and bottom for a traditional touch . bulbs are not included , so if you want to make it a little more eco-friendly , feel free to pick up led bulbs ! hand-curated by kelly clarkson .\",\"be it an upcoming anniversary or simply a sunny sunday morning when you want to do something special , a romantic breakfast for two is the perfect surprise for your significant other ! once you 've whipped up blueberry pancakes and sizzled some bacon in a pan , you can start setting this classic dining table with cloth napkins and tall glasses for mimosas to let them know it 's really an occasion . pull up a pair of side chairs , roll out a braided wool rug on the floor below , and set a vase of vibrant sunflowers on top and your ensemble is all set . crafted of solid wood , this clean-lined design offers folding leaves on either side so you can save space or add room for extra guests if needed .\",\"the right rug can instantly transform your space and inspire new design ideas - and this one is the perfect pick made in turkey , it is machine-woven of 100 % polypropylene so it is stain-resistant and shed-free . a flat-woven pile makes it subtle and casual , while a vibrant teal hue lets it effortlessly pop . match it with a weathered wood hall tree to craft a rustic entryway display , then simply suspend a glowing lantern overhead to make the whole look shine . if you 'd like to lean further into the farmhouse-inspired territory , try adding in an antiqued coat rack , a few earthy potted lavender plants , and let vintage clocks adorn the surrounding walls.\\/ppeager to entertain ? just roll out this eye-catching area rug under your dining table to update your entertaining space , perfect for serving up festive family feasts and elegant dinner parties alike . if you 're elevating your tablescape as well , use mason jar glasses , glossy white plates , and a bowl of yellow lemons to craft a stylish spot for farm-fresh meals .\",\"build a beautiful entertaining space from the ground up with this timeless dining table . crafted of wood , it brims with versatile style thanks to a clean-lined silhouette and a dark brown finish . equally ideal for weeknight family meals and more elegant affairs alike , you can effortlessly dress this design up or keep it casual . start by rolling out a woven wool rug on the floor below for a soft touch underfoot , highlight the surrounding windows with sheer flowing curtains , and suspend a polished chandelier overhead to make the whole room shine . the way you set this table will define your decor . use glossy plates , sleek silverware and crisp cotton napkins for a fine foundation , then focus on a stunning centerpiece . if you 've curated your meal from farmers ' market finds , try keeping an earthy potted herb plant in the center ; or evoke more artful appeal with a trio of handcrafted candlesticks topped with flickering pillar candles . this product can be used as a dining table , computer desk , writing desk , sewing table and conference table .\",\"looking for a cozy and stylish way to upgrade your home office or guest bedroom ? look no further than this elegant upholstered daybed ! founded on a solid and manufactured wood frame , this dapper design strikes a gently-arched silhouette for a sophisticated touch , while subtly-flared arms and dainty block feet round out the design . fully upholstered in a polyester blend with handsome contrast stitching , this daybed includes a series of slats to support your preferred twin-sized mattress .\",\"looking for a cozy and stylish way to update your home office or guest bedroom ? look no further than is classic daybed . featuring a solid and manufactured wood frame , this delightful design sports plush polyester upholstery , a sleigh-style silhouette , and a gently arched back . a roll-out twin-size trundle bed completes the design . to create a conveniently convertible home office , start by rolling out a trellis-print area rug to define the space , then pull an ergonomic task chair up to a simple writing desk with turned legs . on the other side of the room , place this design beside a three-drawer file filled with folders and binders for work , leaving one drawer for sheets and pillows . dress the daybed in neutral elastic sheet and pile on floral accent pillows to use it as a couch , then when hosting visitors , simply pull out the bedding and give your guest a restful respite .\",\"add essential storage to your space without taking up too much square footage with this compact end table . made from manufactured wood with laminate , this budget-friendly piece strikes a 17.5 '' h x 15.5 '' w x 15.5 '' d silhouette that 's perfect beside low sofas or in narrow nooks . its neutral finish and clean-lined design help it blend with existing arrangements , while its single shelf and drawer provide a place to keep odds and ends . it arrives in a set of two and requires assembly .\",\"a transitional take on a classic design , this half-moon console table is an elegant accent piece for any hallway , living room , or den . crafted of composite wood , this dapper design strikes a half-circle silhouette with simple molding , subtle carved details , and three tapered square legs . subtly distressed for an antique look , the tabletop sports a rich cherry sunburst finish , transitioning into piano black through the legs . perfect paired with framed photos , a lamp , or a fresh floral arrangement .\",\"getting organized in the entryway ? while coat racks and hooks might help some , this stylish storage bench is what will really keep your essentials corralled ! clean-lined and classic , it features a solid pine wood frame finished in espresso for a look that will beautifully blend with any aesthetic . up top , you 'll find chocolate-hued microfiber upholstery , perfectly kept clear for guests to have a seat or piled with pillows for a pop of playful appeal . down below , its two bar shelves are ideal for stacking shoes or adding baskets to tuck away out-the-door accessories like scarves and hats so you never have to go searching .\",\"looking to round out your living ensemble with an understated touch of extra seating ? a guest chair like this is a great option for an additional perch , while also versatile enough to join a variety of styles . crafted from a wood frame and foam-filled seat wrapped in fabric upholstery , this armchair features track arms and a square back founded on straight legs for a look that 's easily slotted into a variety of styles . it 's perfectly proportioned for a multifunctional role .\",\"this classic parsons chair evokes tradition and timeless style . charming around a dining table or as an accent chair in a bedroom or living room , this parsons dining chair is a versatile accent piece for any home . with wood legs in a range of rich finishes , this dining chair is also offered in a range of classic , transitional and modern fabrics .\",\"whether you 're looking to round out your entertainment ensemble , or pop a dining area into a cramped corner , a pub table and stools like this one is a great option for a touch of the handy surface area . sized to seat two , this set includes a table and two stools . the table is crafted from solid wood , with a faux marble style finish on the surface . the stools feature wood bases with faux leather upholstered backless seats , so they can pull up directly beneath the table .\",\"increase the storage potential of almost any space with this versatile pantry ! crafted from manufactured wood , it features a streamlined silhouette and white finish designed to blend into a variety of decor styles and color schemes . two pairs of doors open to reveal a total of five adjustable shelves that leave plenty of spots to store serveware , keep spare linens at the ready , or tuck away anything else you want out of sight but close at hand .\",\"upgrade your patio dining table with this foldable bistro-style square table . crafted from a combination of solid acacia wood and manufactured wood , this table is perfectly at home in modern and contemporary aesthetics . with a two person capacity , this table measures 27.5 '' h x 25.5 '' l x 25.5 '' w , and can be used with your choice of chairs . this piece can be used year round , but can be easily folded and put away when not being used .\",\"designed to live outdoors , this three-piece bistro set is perfect for morning meals out by the pool and catching the sunset from the front porch . crafted from solid and manufactured wood , its weather-resistant construction does n't mind the sun shining down or rain rolling through . plus , the table and both chairs all showcase slatted details and a natural finish for a look that works in any alfresco area . plus , when not in use , simply fold it up and stow it away .\",\"some of our best memories are created at our dining tables \\u2013 they host our family dinners , holiday feasts , and more . no matter the shape or size , they play an integral role in our home . take this one for example : crafted from rubberwood , it features an eye-catching pedestal base with turned detailing that offers a touch of traditional appeal . its tabletop showcases a round silhouette and can seat up to four people after assembly .\",\"between lotions and soaps , shaving creams , and cotton swabs , we could all use a little extra storage space in the bathroom . with this ashland 20.5 '' h wall mounted bathroom cabinet , you can instantly expand your storage without sacrificing valuable floor space . crafted of manufactured wood in a neutral white\\/gray finish , this charming design strikes a rectangular silhouette with tasteful moldings , beadboard paneling , and gleaming nickel hardware . one open cubby shelf is great for storing candles or rolled-up face cloths , while a hinged door opens to reveal shelved cabinet storage for toiletries and bathroom supplies .\",\"when it comes to your busy abode , it seems like storage space is always at a premium . be it the kitchen , bathroom , or sitting room , this cabinet is here to corral clutter . crafted from manufactured wood , it showcases a rectangular design with crown molding and slatted detailing , working well in a variety of aesthetics . four drawers offer plenty of space to tuck away loose odds and ends , while a cabinet opens to reveal even more room !\",\"every sofa \\u2019 s sidekick , end tables tie together your ensemble while keeping remote controls and beverages at arm \\u2019 s reach . made from solid wood and finished in a solid color , this side table brings understated style home . it includes one drawer for keeping reading glasses , drink coasters , and more , and a bottom shelf that is perfect for displaying books , plants , or any other cherished accent piece of your choice .\",\"\\u201c i have way too much storage space in my bedroom , \\u201d said no one ever . in reality , storage always seems to be at a premium . here to help , this vertical dresser offers a home for your favorite articles of clothing along with the ones you just can \\u2019 t seem to part with . for example , it features four drawers for ample room to stow away all your favored folded pieces of clothing . this piece is crafted from solid pine wood , in an black finish , and is perfect for contemporary aesthetics . a tip-over restraint device is included .\",\"this swoop arm velvet accent chair is classic and elegant in design . featuring side swoop arms for added comfort and style , the swoop chair is perfect as extra seating in your living room or home office , or as an accent chair in your bedroom . pair two together for added impact . this soft velvet accent chair comes in a range of fabric colors and wood finishes along with an assortment of matching home pop items to enhance your d\\u00e9cor . easy to assemble and maintain .\",\"whether rounding out your living room look or accenting the master suite , this recliner is the perfect spot to unwind . founded atop four feet , its frame is crafted from solid and manufactured wood and features a traditional wingback silhouette . foam and coil spring padding adds comfort to the piece , while polyester blend upholstery ties it all together . nailhead trim lends a subtle glint of glamour .\",\"sit back and relax in style with this must-have ottoman . a perfect addition to traditional ensembles , it pairs well with antiqued accents , clean-lined designs , and warm finishes , although it can blend in with a variety of spaces . it showcases a simple silhouette and beige polyester blend upholstery for a versatile design . the frame is crafted from manufactured wood . try setting it in front of your favorite living room armchair for a classic place to sit back and relax with your feet up .\",\"showcasing traditional styles through a contemporary lens , this maliyah 20.5 '' table lamp lends a touch of curated appeal to your aesthetic . made from glass in a transparent neutral hue , this charming design showcases a clean orb body on a round metal pedestal base , and sports a crisp textured fabric drum shade . establish an inviting , transitional aesthetic in your open concept living room by setting a rich espresso-hued console table with straight square legs by a brightly lit window dressed in vibrant chevron curtains and slubby linen sheers . top the table with a row of travel books between two resin chess piece bookends , and a sandalwood scented candle for an aromatic accent , then add this alluring lamp to illuminate the arrangement in a bright glow .\",\"searching for extra storage in your spa-worthy space ? whether you need a spot to stack hand towels or just have some travel-size toiletries that needed to be tucked away , this cabinet is the perfect pick . featuring a wall-mounted design that takes advantage of empty space , unlike your other cabinets and drawers , it 's equal parts convenient and elegant . crafted of manufactured wood , it features clean lines and molding with a solid finish , so it works wonderfully in both classic and contemporary ensembles . just fill its two interior shelves with soaps and shampoos , then use the open lower shelf to put small succulents and scented candles on display .\",\"between lotions and soaps , shaving creams , and cotton swabs , we could all use a little extra storage space in the bathroom . you can instantly expand your storage without sacrificing too much valuable floor space ! crafted of manufactured wood in a neutral finish , this cabinet with a charming design strikes a narrow rectangular silhouette with tasteful moldings , recessed paneling , and gleaming nickel hardware . one hinged door opens to reveal shelved storage for toiletries and bathroom supplies , while one pull-out drawer offers out-of-sight storage for makeup and brushes .\",\"when you 're curled up under the covers and close to drifting off into sweet dreams , the last thing you want to do is climb out of bed because you forgot to take your contacts out . keep everything you need within arm 's reach with a chinn 3 - drawer solid wood nightstand versatile nightstand , a clean-lined design that feels right at home in any arrangement . crafted from solid pine and veneers , this eco-friendly piece features three full-extension drawers on metal glides for ample storage beside your bed . fill them with your contact case , vitamins , and a pen and notebook in case you remember something important just before you fall asleep , then top it with a lamp and an alarm clock so all of the essentials are nearby .\",\"whether you 're gearing up for weekend visitors in the guest room or you 're making over your own master suite , this platform bed is the perfect pick . founded atop tapered and angled feet , its frame is crafted from steel and wood slats with a clean-lined silhouette . for a softer touch , you 'll find linen upholstery wrapping around in a neutral solid hue to tie it all together . assembly is required for this product .\",\"a contemporary update on a classic design , this sectional and matching ottoman set anchors any living room or den in transitional style . founded on a solid pine wood frame , this dapper design strikes a spacious l-shaped silhouette with a wedge-shaped back and chiseled resin feet . available in a curated selection of fashionable colors , designer polyester upholstery envelops the sofa for a linen-like feel , while pocketed springs and foam cushioning offer comfortable support .\",\"whether set beside your sofa in the den or pulled up to your bedside for a distinctive nightstand , this end table is an excellent addition to any ensemble . crafted of solid and manufactured wood with veneers , and available in a curated selection of fashionable finishes , this dapper design strikes a narrow , rectangular silhouette with tasteful molding and four tapered legs . one open lower shelf is great for stacking your go-to novels or fanning out your favorite magazines , while the pull-out drawer offers out-of-sight storage for everything from extra batteries , to candles , to remotes .\",\"crafted of solid and manufactured wood in a clean painted finish , this wine cabinet strikes a streamlined silhouette with simple paneling , gleaming metal hardware , and four straight square legs . three shelves accommodate up to 20 bottles of your favorite vintages , while a built-in stemware rack can hold up to 12 wine glasses . rounding out the design , a pair of drawers are perfect for stowing accessories . measures 38 '' h x 23 '' w x 14 '' d overall .\",\"this tv stand keeps your consoles organized and your feet warm thanks to its built in electric fireplace . it showcases an adjustable led flickering flame effect that sits behind heat-proof glass and can heat a room up to 400 sq . ft. the tv stand is made from engineered wood in the neutral finish of your choice , and features clean-lines with slightly flared feet . on each side of the stand , a glass panel door opens to reveal an adjustable shelf where you can keep the cable box , dvds , video games , and other a\\/v essentials . plus , cable management cutouts help to keep those pesky cords corralled .\",\"bring both function and style to your kitchen with this understated island , the perfect anchor for your arrangement . its clean lines and wood top pair together to give this design a traditional look that blends effortlessly into any aesthetic . use its ample storage space to stow kitchen essentials including dry ingredients , flatware , spices , and more . its solid rubberwood top is perfect for prepping meals or displaying a vase of romantic roses . use its drop-leaf function to craft a breakfast bar in your kitchen or to maximize your prep space . with its wheeled design and towel rack , this versatile design is a must-have addition to your kitchen ensemble .\",\"add a cohesive look to your eat-in kitchen or breakfast with this three-piece dining set , crafted from manufactured wood and showcasing a corner side chair , one table , and a dining bench . its trestle base adds traditional appeal to your decor while its solid finish pairs perfectly with neutral wallpaper for a contrasting look . lean into this set 's transitional influence by adding it to a dining room anchored by a lightly-weathered area rug and illuminated by a polished nickel-hued pendant for a shimmering touch . this design 's ample seating makes it the perfect option for hosting neighborhood potluck dinners or indulgent sunday brunches . top it off with a sheer white runner for a classic look , then center the tablescape with a ceramic bowl of pears and apples for natural appeal .\",\"whether you like to curl up with a silky blanket and your latest book , cozy up with your family for movie nights , or host cocktail parties with neighbors , you need a large couch . if you \\u2019 re in need of a seating solution for your traditionally styled space , this sectional with included ottoman is the perfect choice for your home . the clean-lined frame , crafted from solid pine wood , and solid-toned polyester upholstery give versatility and classic style to this piece , while the sectional design provides seating space for four people . it features flared arms , sinuous springs seat construction , tight back , and two throw pillows .\",\"offering seating and storage space , this ottoman is an ideal option for living rooms that are a bit short on square footage . crafted with a solid wood frame , this piece is filled with foam and is upholstered with both linen and microfiber for textural contrast . the convenient compartment in the ottoman ( included ) provides the perfect place to stash spare blankets and magazines .\",\"keep spare towels and toiletries organized in your powder room with this understated cabinet , a perfect pick for contemporary and classic spaces alike . crafted from manufactured wood , this freestanding design showcases its subtle style through inset cabinetry and drawer fronts , while two doors open to reveal three adjustable shelves on which to stash linens , hairdryers , and more . a single drawer up top rounds out the design as it makes room for toothbrushes and other small-scale accessories .\",\"anchor your bedroom in a classic , transitional style with this full platform bed and trundle combo ! crafted of solid rubberwood in gray finish , this bed features a simply stylish headboard and footboard showcasing classic recessed paneling , while the sleek side rails and a system of slats accommodate your preferred mattress without the need for a bulky box spring or bunkie board . rounding out the design , a sliding 8 '' trundle bed includes a slat system to accommodate a full-sized mattress ( not included ) for guests . attach the included surface mount turbo charger and keep all your electronics charged and ready to go !\",\"clutter got you down ? nothing a little shelf-help can \\u2019 t fix ! and what better remedy for your woes than this breezy slatted wall shelf ? it \\u2019 s a perfect pick for unburdening crowded entryway console tables , bringing spa-worthy style to bathrooms , and hang-drying garments in the laundry area . it comes crafted from carbonized bamboo and finished in a warm , caramel hue . its open , slatted design easily holds soaps and accent pieces , while one wooden rod gives you plenty of space to hang clothes and towels . plus , wall-mounting hardware is included , so it arrives ready to install .\",\"rounding out our bathroom ensembles while also providing much-needed storage space , vanity sets are a must-have item in our decor . take this one for example : crafted from solid and manufactured wood , this piece features two cabinet doors that open to reveal plenty of space to tuck away toiletries , while the porcelain top comes equipped with an integrated basin for your convenience . plus , a lifted design makes it easy to sweep and vacuum underneath .\",\"warm-up hardwood and tile floors while providing a stylish accent piece that sets the stage for the rest of your ensemble with this must-have area rug . machine woven in turkey from polypropylene , it \\u2019 s designed to take on the occasional spill and is easily cleaned with light vacuuming . it features a medium 0.5 '' pile height and is stain- and fade-resistant for added durability .\",\"simple and elegant , the amherst upholstered bed will make a lasting impression in your room . with a modern look and a touch of mid-century style , this bed combines fashion and function . it is upholstered in linen or velvet featuring button-tufted details in foam padding in both the headboard and footboard . the bentwood slat support system provides incredible ventilation to keep your mattress fresh for longer and does not require a box spring or additional foundation . what \\u2019 s more , the four contemporary legs round off this bed \\u2019 s modern look , while the extra center legs ensure additional support for a sound night \\u2019 s sleep .\",\"understated storage space is essential for the ever-evolving style in the master suite . take this dresser for example : pairing a clean-lined manufactured wood frame finished in white with a curved apron , it 's simplistic enough to work in both classic and contemporary settings . each of its six drawers is adorned with a metal pull - which can be replaced if you choose - perfect for tucking away your unique wardrobe . made in canada , this product is also backed by a five-year parts warranty .\",\"nothing ruins delicate clothing like shoving it in an overstuffed dresser . that \\u2019 s where this spacious , six-drawer lingerie chest comes in handy ! this charming chest strikes a space-saving , slender rectangular silhouette with simple moldings , antique pewter finished hardware , and a chic apron kicker . six clean-lined drawers with all-metal rolling glides provide a proper , separate place for all your intimates , pajamas , jewelry , and socks . crafted in british columbia , canada from composite woods , this piece is a contemporary update on a classic design !\",\"when it comes to our bedrooms , storage space seems to always come at a premium \\u2013 especially when talking about our clothing . don \\u2019 t worry , this dresser is here to help . crafted from composite wood , it features five drawers on metal glides , perfect for tucking away the rest of your displaced wardrobe . showcasing a flat top that \\u2019 s accented by molded detailing and a scalloped bottom , this piece exudes traditional appeal in your space , while a neutral finish allows it to blend easily with your color scheme .\",\"we 've all heard of , or seen `` the pile : '' that massive orb of sweaters , coats , and scarves that overtakes a once-beloved chair or table . do n't let your entryway become home to a pile ! clear away that clutter with handy storage , like this wall mounted coat rack . crafted from manufactured wood , this piece showcases three cubbies and four coat hooks , perfect for tucking away mess and catching jackets . this wall-mounted piece is a great option for narrow entryways that ca n't sacrifice square footage .\",\"set up a space to work in a classic style with this desk , a necessary part of any well-rounded home office . its versatile , streamlined silhouette pairs well with ensembles from traditional to contemporary , while a pull-out keyboard tray and drawer fitted with metal roller glides offer plenty of room for you to keep notebooks , pencils , and other essentials close at hand this design is crafted from manufactured wood .\",\"ideal for dorm rooms and small apartments , this microwave cart keeps kitchen essentials all in one spot . founded atop a four-wheel rolling base , this piece can easily be moved for cleaning or to clear up space in your ensemble . crafted from manufactured wood , its frame features neutral solid finishes and measures 42.4 '' h x 24.9 '' w x 15.5 '' d. aside from the top tier made to stage a microwave , this design offers an open shelf and cabinet below for storage .\",\"crafted from solid rubberwood , this versatile round bar stool sports a natural finish for an airy look that \\u2019 s equally at home in classic and contemporary arrangements . its narrow silhouette makes it the perfect pick for smaller spaces , while its backless design lets it easily tuck under tables and countertops to save square footage .\",\"every dining room or living area needs a storage-friendly sidekick . enter , the sideboard ! this modern styled sideboard features two drawers that can be used to keep your small yet necessary items like cutlery , napkins or table mats . while also featuring two storage cabinets with two adjustable interior shelves , that can be ideal to store your crockery and other dining essentials . finally , the center wine rack accommodates eight bottles . made in north america , crafted from manufactured wood with metal hardware , this sideboard requires assembly upon arrival . a five year warranty is included with this piece .\",\"this platform bed showcases diamond-stitched button tufting and faux leather upholstery for a chic and classic look in your bedroom . it \\u2019 s made from a blend of solid and engineered wood with a neutral finish of your choice , and it \\u2019 s built on short , tapered feet . this bed has a matching headboard and footboard that are wrapped in textured faux leather for a tactile touch . it 's also stuffed with a polyester filling , giving you just the right amount of support as you enjoy a movie or relax with a good book . no box spring is required for this bed . instead , a slat system with center support legs is included to prop up the mattress and box spring of your choice ( both sold separately ) .\",\"with the perfect balance of clean-lined , contemporary style , and effortless versatility , this understated platform bed makes a simply chic foundation for any ensemble . let its boxy plywood design play with matching nightstands and chests around the space , then hang up a row of minimalist , abstract canvas prints on the wall above to lean into your loft-worthy aesthetic . to find the perfect feng shui in your space , try setting this bed in the center of the room over a subtle geometric rug , then arrange a metallic floor lamp nearby to cast a warm glow over your bedside . looking for more storage space ? no problem\\u2014this bed comes equipped with a set of under-bed storage drawers to keep all your odds and ends corralled .\",\"your bedside best friend , nightstands are the perfect perch for resting a bedside lamp or that handy late-night glass of water , all while complementing your master suite 's style . take this one , for example : crafted in north america from manufactured wood , it features an understated design with a clean-lined silhouette and a kickflip for a look easily added to styles from contemporary to classic . and with two drawers and an open shelf , this piece is perfect for tucking away your latest reads and before-bed essentials .\",\"for the stylish living room in need of just a smidge more storage , this end table ticks the boxes for both form and function . made from manufactured wood , this piece 's three tiers of shelving provide room for everyday essentials , objets d \\u2019 art , and plants alike , while an x-shaped base lends a contemporary air to any ensemble . this compact design works well as an end table in the living room or a bedside table .\",\"perfect for parties , or for a quick meal on the couch , this 2 piece nesting table is an excellent addition to any living room or den . each table showcases a metal x-braced frame , aged copper-toned hardware , and a manufactured wood tabletop with solid wood veneers . for a casual ensemble in the family room , start by rolling out a colorful medallion-print area rug to define the space , then place a glass-topped coffee table between a button-tufted chesterfield sofa and a mahogany tv stand with open shelves and louvered doors . place a pedestal end table with a lathed column base on one side of the sofa , nest these two tables on the other . use the larger table as a foundation for a ceramic lamp or vase of freshly-cut flowers , and use the smaller table to hold a tray of appetizers needed during your next soiree .\",\"an upscale update to a time-tested design , this five-piece tray table set is an excellent addition to your entertaining arsenal . including four tray tables and a convenient storage stand , each piece in this stylish set is made from solid rubberwood in a rich dark brown finish with silver-toned hardware , while each tabletop sports an elegant brown faux-marble laminate veneer which for a buttoned-up look that you \\u2019 ll be proud to bring out during your next gettogether . foldable for easy storage and a breeze to move from one room to another with the handle on top , these tables are ready to display your appetizers and hors d'oeuvres at a moment \\u2019 s notice .\",\"lend an eye-catching focal point to your bathroom base while increasing storage space with this stylish double vanity set . crafted from solid wood , the base boasts a neutral finish for a look that complements nearly any color palette . up top , the stone countertop includes a backsplash and two integrated sinks with three holes each for pairing with fitting faucets of your choice .\",\"compact powder room ? no problem ! this single vanity is a fresh fit for half baths and small apartments alike . constructed from 100 % solid hardwood , its frame features a clean-lined silhouette with a neutral solid finish for a look that works well in both classic and contemporary aesthetics . its under-mount sink is surrounded by a stone countertop with a carrara white finish , pre-drilled to fit a standard faucet . the mirror and faucet are sold separately .\",\"if you want to have sweet dreams , it starts with a good bed . and if you \\u2019 re still looking for the right one , this product is here to help . crafted from solid rubberwood , it boasts a panel design , lending a touch of understated appeal to your space , while the included head and footboard showcase profiled tops and molded details . after assembly , this piece can accommodate any compatible mattress of your choice ( not included ) , and it even comes backed by a one-year warranty . attach the included surface mount turbocharger and keep all your electronics charged and ready to go !\",\"whether using it during a family feast or when you \\u2019 re short a seat playing a hand of cards , extra chairs are always a good thing to have around the house . take this side chair , for example : made from solid wood , this parsons chair showcases a clean-lined design founded atop tapered legs , working well in a variety of aesthetics . wrapped in foam-filled faux leather for an inviting feel , this dining chair has a neutral hue that works well in a variety of color schemes .\",\"whether you want to kick up your feet in style or tuck away spare throws , this storage ottoman is a perfect pick for your home . a lovely centerpiece for contemporary aesthetics , it showcases a clean-lined frame crafted from wood and wrapped in polyurethane leather . it is available in a variety of neutral colors , so you can find the right hue for your home . the hinged top opens to reveal hidden storage space within .\",\"writer \\u2019 s block got your feeling stuck ? well , we can \\u2019 t promise this writing desk and chair set will cure that , but it will bring an eye-catching focal point to your study or home office ! made from solid and manufactured wood , this set measures 30 '' h x 48 '' w x 24 '' d overall and includes one chair with a slightly curved silhouette . the table features four tapered legs and a rectangular tabletop and has two drawers for storing writing utensils , stationery , and more .\",\"end table , coffee holder , lamp stand ? how about all three ? this side table from the carson forge\\u00ae collection will make a great addition to your home . its spacious top surface provides you with the ideal amount of space for all your couch-side needs \\u2013 an accent lamp , a home for the tv remote , and a place to set your ice-cold beverage . the top molding also reveals a slide-out shelf to create extra surface space . this end table features an open shelf for convenient storage of items like your reading glasses and crossword puzzles . behind the door is an adjustable shelf for additional storage space . this shelf can be moved to different heights to create flexible storage options for items of all sizes . the enclosed back panel includes cord access so you can keep all your pesky wires neat and out of sight . finished in coffee oak\\u00ae and detailed with wrought iron style hardware , this handsome wood side table adds style and functionality to any room in your home .\",\"relax comfortably in your very own classic outdoor emjay rocking solid wood chair . our patio furniture is known for its sophistication and charm . this iconic outdoor emjay rocking chair is the perfect addition to any front porch patios , decks , and backyards . our porch rocking chairs are made with natural beauty and durable structure . crafted with genuine hardwood that is solid in construction . completed with our specially formulated polyurethane paint that adds an extra layer of outdoor protection . quality patio furniture that is made to enjoy !\",\"whether sidled up beside your sofa or acting as a nightstand in the master suite , this end table is always a stylish stage . crafted from solid and manufactured wood finished in walnut brown , its frame takes on a tapered silhouette for a look that works especially well in contemporary settings . plus , lift the lid and you 'll find space to stow away folded blankets and media accessories .\",\"whether you want to augment existing countertop space or create a spot to prep food in a cozier kitchen , this cart has your back ! crafted from solid hardwood , it sports a versatile oak finish that blends seamlessly with a variety of decor styles , while two slatted storage shelves offer a place to keep pots , pans , and cooking accouterments close at hand . a built-in towel rack and cutting board make it easy to prepare your next culinary masterpiece , and locking caster wheels let you move this piece to and from in a snap .\",\"bring function to the heart of your home with this clean-lined kitchen island , a versatile design that doubles as a china cabinet . crafted from manufactured wood , this budget-friendly piece features one drawer and two double-door cabinets , each with a single interior shelf , that provides a place for a spare server or your go-to cooking gadgets . its tall and narrow frame \\u2013 measuring 68 '' h x 27 `` w x 16 '' d \\u2013 allows you to make the of your square footage , while its neutral finish helps it coordinate with your existing color palette . assembly is required .\",\"whether you \\u2019 re enjoying the big game , lounging with the latest bestseller , or settling down to nap the afternoon away ( we won \\u2019 t judge ! ) , a recliner is key . this design \\u2019 s hardwood frame is wrapped in polyester upholstery with detailed stitching for a tailored touch , while pocket coil springs pair with fiber-wrapped foam in the seat and pillow-top arms to encourage comfort , no matter what leisurely activity you \\u2019 ve set your mind to .\",\"give your futon mattress a fresh foundation with this bi-fold frame . since this convertible design transitions between a sofa and a sleeper , it \\u2019 s perfect for hosting overnight guests in a dorm room or smaller space . proudly crafted in the usa from wood , this unfinished piece features a system of slats and low-profile legs to prop up your preferred mattress ( not included ) . after assembly , this frame has the capacity to hold up to 500 lbs . the manufacturer backs this product with a five-year warranty .\",\"a contemporary take on a classic design , this freestanding coat rack lends inviting appeal to any entryway ensemble . made from a mixture of solid and manufactured wood , this charming design features a pyramid-shaped frame with three open storage shelves that are perfect for placing purses , backpacks , baskets , or books , while eight two-pronged metal hooks accommodate all of your jackets , scarves , umbrellas , and hats . for a timeless foyer arrangement , start by rolling out a colorful medallion-print runner in the center of the space to welcome guests with a pleasant pop of pattern , then place this design on one side of the front door , and a potted fiddle leaf fig on the other . round out the arrangement with a button-tufted storage bench and a rubber-lined tray for duck boots and wellies .\",\"your restful retreat plays two very important roles in your home : whisking you off toward dreamland each night and providing an eye-catching focal point to your guest bedroom or master suite ensemble . refresh your sleep scape with this stylish panel bed ! crafted from a solid wood frame , it features foam-filled 100 % linen upholstery for a soft surface to lean against while fitting in a little light reading before lights out , while button-tufted accents complete the look .\",\"whether you run your business from home or just need a spot to craft diy masterpieces , this desk is an ideal anchor for your workspace . crafted from solid and manufactured wood , its traditional frame features turned legs and a neutral solid finish for versatility . it includes two drawers for tucking away important papers and pens .\",\"the master suite in need of a makeover ? or maybe you 're gearing up for visitors in the guest room ? no matter the restful retreat you 're upgrading , this bed is the perfect place to start . not only does it offer a spot to sleep , but it sets a stylish tone for your ensemble . crafted from solid wood with an understated design , a minimal and modern look .\",\"equal parts clean-lined , contemporary accent piece , and storage solution , this understated headboard , and bookcase combo make a great addition to your traditional aesthetic . featuring a boxy design crafted from manufactured wood , plastic , and metal . it showcases open shelves that let you keep books , alarm clocks , decorative objects , and more corralled . pair this freestanding headboard with a bed frame of your choice to set the perfect foundation for restful nights .\",\"a modern twist on a more traditional style , this end table brings artful appeal to your home . it wo n't be hard to find a place in your home for this classic design . showcasing a solid and manufactured wood frame on a four-legged base , with a square top , in a solid color , this end table is brimming with traditional-inspired style . set this lovely end table in your living room for the perfect place to rest a cup of tea and movie night snacks .\",\"whether sidled up to the kitchen island or used to round out a breakfast , this bar & counter stool brings style to your space . crafted from solid wood , it features a streamlined base fitted with a must-have footrest and a saddle-style seat wrapped in upholstery that sports stitched details . a line of nailhead trim around the base of the seat adds an industrial touch to this otherwise understated design . plus , it arrives in a set of two .\",\"to perfect paired with smaller kitchen islands or pulled up to an eat-in kitchen table . this stool brings a classic cottage style to any space . crafted of solid rubberwood in a black sand finish , this stool strikes a sawhorse-inspired silhouette . up top , the rectangular , saddle-style seat features gently contouring for a comfortable , scooped seat , while four flared legs incorporate a built-in footrest and supportive side braces\",\"every household has a designated remote control holder . whether in the man cave or living room , this person needs a throne . this reclining armchair is here to help . crafted from wood , it showcases turned detailing on all four legs , while a dark espresso finish adds statement-making appeal to your seating ensemble . polyester fiber and foam filling with sinuous springs for added comfort . simply push back to recline : no levers or buttons are required for comfortable long-term sitting , tv viewing , or a relaxed recline .\",\"outfit your at-home bar or kitchen island in classic style with this versatile powe bar & counter stool . crafted from solid rubberwood , this clean-lined piece features an open crossed back for a touch of traditional character . a neutral black finish allows it to blend with any color palette you pick , while a convenient footrest down below makes this understated design even more approachable . after assembly , this seat supports up to 250 lbs .\",\"sporting a camelback silhouette , this headboard completes your master suite or guest room ensemble with a nod to traditional design . wrapped in polyester blend upholstery and cushioned with high-density foam padding , this piece provides a cozy backrest for nightly reads and late-night television watching . behind the layer of upholstery lies a solid eucalyptus wood frame and stainless steel hardware . this headboard attaches to any standard bed frame , and it 's adjustable for the perfect fit .\",\"mixed a perfect margarita but have no place to put it ? just add this understated end table to your living room so you can set down your cocktail as you curl up on the couch . crafted of manufactured wood , this gloss-finished design is a distinctive wedge shape that 's ideal for adding subtle allure to a clean-lined arrangement or making the most of an awkward gap between armchairs . once you 've found a home for this versatile piece , use its lower shelf to store a spread of your favorite magazines , then roll out a braided area rug to round out the relaxed room .\",\"if you want to have sweet dreams , it starts with a good bed \\u2013 and if you \\u2019 re still looking for the right one , this product is here to help . crafted from solid and manufactured wood , this piece arrives with a slat kit and center support legs included , saving you a few trips to the hardware store . the included headboard showcases a curved design that \\u2019 s upholstered in foam-filled linen , while button tufting and nailhead trim offer a touch of glam appeal .\",\"often surrounded by wall art and mirrors , topped with lamps , and a familiar home for our keys and wallet , the console table is the perfect versatile accent . it works anywhere in our homes , from the entryway wall to the back of a living room sofa , to the empty spaces in between . crafted from solids and manufactured wood , this one features a semi-circle design , great for placing up against a wall . it includes a bottom shelf to double your storage capacity , and a traditional look welcome in a variety of abodes .\",\"practical and stylish , this streamlined end table lends transitional appeal to any seating ensemble . striking a wedge-shaped silhouette , this clean-cut design is founded on a tubular metal frame in a powder-coated finish . crafted of manufactured wood , the open lower shelf is great for stacking your go-to books or fanning out issues of your favorite magazines , while the matching tabletop provides a perfect platform for flowers , framed photos , coasters , and remotes .\",\"designed with smaller spaces in mind , this foshee pedestal end table measures just to help you make the most of your square footage . its round top provides a perch for framed family photos and potted plants , while its turned pedestal base offers up a touch of classic character . made from manufactured wood , this budget-friendly piece sports a solid finish that \\u2019 s versatile enough to blend with most existing ensembles . assembly is required .\",\"traditional tastes blend with breezy beachy style in this charming end table . made from manufactured wood with rich veneers , this dapper design showcases a circular silhouette with elegant paneling details and four lathed legs . a spacious lower shelf offers a perfect platform for a blooming bouquet of freshly-cut hydrangeas or a stack of your favorite magazines , while the oval tabletop can hold a rope-wrapped table lamp or a cluster of framed family photos of trips to the beach . establish a coastal aesthetic in your open concept living room by rolling out an awning striped area rug to define the space , then set one of these end tables on each side of a slipcovered frakes sofa . accessorize the seating with coral-print accent pillows and a hand-crocheted throw , then install a driftwood chandelier overhead to brighten up the room in shoreline style .\",\"whether sidled up beside your sofa or acting as a nightstand in the master suite , this end table is always a stylish stage . brimming with traditional charm , its solid and manufactured wood frame is founded atop four turned legs and features carved stripe elements all with a neutral solid finish . it includes a spot to perch a lamp on top and stow with an open shelf below .\",\"a way to add more storage space in the living room , or a place to craft a guest-greeting decorative display in the entryway ? this console table is versatile enough to do either ! crafted from solid and manufactured wood , it \\u2019 s founded atop four turned legs and features a classically streamlined silhouette . an open shelf down below acts as a stage for objects d \\u2019 art , while the top is the perfect perch for potted plants , family snapshots , and beyond .\"]\u001b[0m"
     ]
    },
    {
     "ename": "InternalServerError",
     "evalue": "500 Internal error encountered.",
     "output_type": "error",
     "traceback": [
      "\u001b[0;31m---------------------------------------------------------------------------\u001b[0m",
      "\u001b[0;31m_MultiThreadedRendezvous\u001b[0m                  Traceback (most recent call last)",
      "File \u001b[0;32m/opt/conda/lib/python3.10/site-packages/google/api_core/grpc_helpers.py:155\u001b[0m, in \u001b[0;36m_wrap_stream_errors.<locals>.error_remapped_callable\u001b[0;34m(*args, **kwargs)\u001b[0m\n\u001b[1;32m    154\u001b[0m     prefetch_first \u001b[38;5;241m=\u001b[39m \u001b[38;5;28mgetattr\u001b[39m(callable_, \u001b[38;5;124m\"\u001b[39m\u001b[38;5;124m_prefetch_first_result_\u001b[39m\u001b[38;5;124m\"\u001b[39m, \u001b[38;5;28;01mTrue\u001b[39;00m)\n\u001b[0;32m--> 155\u001b[0m     \u001b[38;5;28;01mreturn\u001b[39;00m \u001b[43m_StreamingResponseIterator\u001b[49m\u001b[43m(\u001b[49m\n\u001b[1;32m    156\u001b[0m \u001b[43m        \u001b[49m\u001b[43mresult\u001b[49m\u001b[43m,\u001b[49m\u001b[43m \u001b[49m\u001b[43mprefetch_first_result\u001b[49m\u001b[38;5;241;43m=\u001b[39;49m\u001b[43mprefetch_first\u001b[49m\n\u001b[1;32m    157\u001b[0m \u001b[43m    \u001b[49m\u001b[43m)\u001b[49m\n\u001b[1;32m    158\u001b[0m \u001b[38;5;28;01mexcept\u001b[39;00m grpc\u001b[38;5;241m.\u001b[39mRpcError \u001b[38;5;28;01mas\u001b[39;00m exc:\n",
      "File \u001b[0;32m/opt/conda/lib/python3.10/site-packages/google/api_core/grpc_helpers.py:81\u001b[0m, in \u001b[0;36m_StreamingResponseIterator.__init__\u001b[0;34m(self, wrapped, prefetch_first_result)\u001b[0m\n\u001b[1;32m     80\u001b[0m     \u001b[38;5;28;01mif\u001b[39;00m prefetch_first_result:\n\u001b[0;32m---> 81\u001b[0m         \u001b[38;5;28mself\u001b[39m\u001b[38;5;241m.\u001b[39m_stored_first_result \u001b[38;5;241m=\u001b[39m \u001b[38;5;28;43mnext\u001b[39;49m\u001b[43m(\u001b[49m\u001b[38;5;28;43mself\u001b[39;49m\u001b[38;5;241;43m.\u001b[39;49m\u001b[43m_wrapped\u001b[49m\u001b[43m)\u001b[49m\n\u001b[1;32m     82\u001b[0m \u001b[38;5;28;01mexcept\u001b[39;00m \u001b[38;5;167;01mTypeError\u001b[39;00m:\n\u001b[1;32m     83\u001b[0m     \u001b[38;5;66;03m# It is possible the wrapped method isn't an iterable (a grpc.Call\u001b[39;00m\n\u001b[1;32m     84\u001b[0m     \u001b[38;5;66;03m# for instance). If this happens don't store the first result.\u001b[39;00m\n",
      "File \u001b[0;32m/opt/conda/lib/python3.10/site-packages/grpc/_channel.py:543\u001b[0m, in \u001b[0;36m_Rendezvous.__next__\u001b[0;34m(self)\u001b[0m\n\u001b[1;32m    542\u001b[0m \u001b[38;5;28;01mdef\u001b[39;00m \u001b[38;5;21m__next__\u001b[39m(\u001b[38;5;28mself\u001b[39m):\n\u001b[0;32m--> 543\u001b[0m     \u001b[38;5;28;01mreturn\u001b[39;00m \u001b[38;5;28;43mself\u001b[39;49m\u001b[38;5;241;43m.\u001b[39;49m\u001b[43m_next\u001b[49m\u001b[43m(\u001b[49m\u001b[43m)\u001b[49m\n",
      "File \u001b[0;32m/opt/conda/lib/python3.10/site-packages/grpc/_channel.py:969\u001b[0m, in \u001b[0;36m_MultiThreadedRendezvous._next\u001b[0;34m(self)\u001b[0m\n\u001b[1;32m    968\u001b[0m \u001b[38;5;28;01melif\u001b[39;00m \u001b[38;5;28mself\u001b[39m\u001b[38;5;241m.\u001b[39m_state\u001b[38;5;241m.\u001b[39mcode \u001b[38;5;129;01mis\u001b[39;00m \u001b[38;5;129;01mnot\u001b[39;00m \u001b[38;5;28;01mNone\u001b[39;00m:\n\u001b[0;32m--> 969\u001b[0m     \u001b[38;5;28;01mraise\u001b[39;00m \u001b[38;5;28mself\u001b[39m\n",
      "\u001b[0;31m_MultiThreadedRendezvous\u001b[0m: <_MultiThreadedRendezvous of RPC that terminated with:\n\tstatus = StatusCode.INTERNAL\n\tdetails = \"Internal error encountered.\"\n\tdebug_error_string = \"UNKNOWN:Error received from peer ipv4:173.194.194.95:443 {created_time:\"2024-09-08T12:52:27.07221451+00:00\", grpc_status:13, grpc_message:\"Internal error encountered.\"}\"\n>",
      "\nThe above exception was the direct cause of the following exception:\n",
      "\u001b[0;31mInternalServerError\u001b[0m                       Traceback (most recent call last)",
      "Cell \u001b[0;32mIn[74], line 1\u001b[0m\n\u001b[0;32m----> 1\u001b[0m \u001b[43magent\u001b[49m\u001b[38;5;241;43m.\u001b[39;49m\u001b[43mrun\u001b[49m\u001b[43m(\u001b[49m\u001b[38;5;124;43m\"\u001b[39;49m\u001b[38;5;124;43mDo any product descriptions mention wood? Output them as JSON\u001b[39;49m\u001b[38;5;124;43m\"\u001b[39;49m\u001b[43m)\u001b[49m\n",
      "File \u001b[0;32m/opt/conda/lib/python3.10/site-packages/langchain_core/_api/deprecation.py:180\u001b[0m, in \u001b[0;36mdeprecated.<locals>.deprecate.<locals>.warning_emitting_wrapper\u001b[0;34m(*args, **kwargs)\u001b[0m\n\u001b[1;32m    178\u001b[0m     warned \u001b[38;5;241m=\u001b[39m \u001b[38;5;28;01mTrue\u001b[39;00m\n\u001b[1;32m    179\u001b[0m     emit_warning()\n\u001b[0;32m--> 180\u001b[0m \u001b[38;5;28;01mreturn\u001b[39;00m \u001b[43mwrapped\u001b[49m\u001b[43m(\u001b[49m\u001b[38;5;241;43m*\u001b[39;49m\u001b[43margs\u001b[49m\u001b[43m,\u001b[49m\u001b[43m \u001b[49m\u001b[38;5;241;43m*\u001b[39;49m\u001b[38;5;241;43m*\u001b[39;49m\u001b[43mkwargs\u001b[49m\u001b[43m)\u001b[49m\n",
      "File \u001b[0;32m/opt/conda/lib/python3.10/site-packages/langchain/chains/base.py:598\u001b[0m, in \u001b[0;36mChain.run\u001b[0;34m(self, callbacks, tags, metadata, *args, **kwargs)\u001b[0m\n\u001b[1;32m    596\u001b[0m     \u001b[38;5;28;01mif\u001b[39;00m \u001b[38;5;28mlen\u001b[39m(args) \u001b[38;5;241m!=\u001b[39m \u001b[38;5;241m1\u001b[39m:\n\u001b[1;32m    597\u001b[0m         \u001b[38;5;28;01mraise\u001b[39;00m \u001b[38;5;167;01mValueError\u001b[39;00m(\u001b[38;5;124m\"\u001b[39m\u001b[38;5;124m`run` supports only one positional argument.\u001b[39m\u001b[38;5;124m\"\u001b[39m)\n\u001b[0;32m--> 598\u001b[0m     \u001b[38;5;28;01mreturn\u001b[39;00m \u001b[38;5;28;43mself\u001b[39;49m\u001b[43m(\u001b[49m\u001b[43margs\u001b[49m\u001b[43m[\u001b[49m\u001b[38;5;241;43m0\u001b[39;49m\u001b[43m]\u001b[49m\u001b[43m,\u001b[49m\u001b[43m \u001b[49m\u001b[43mcallbacks\u001b[49m\u001b[38;5;241;43m=\u001b[39;49m\u001b[43mcallbacks\u001b[49m\u001b[43m,\u001b[49m\u001b[43m \u001b[49m\u001b[43mtags\u001b[49m\u001b[38;5;241;43m=\u001b[39;49m\u001b[43mtags\u001b[49m\u001b[43m,\u001b[49m\u001b[43m \u001b[49m\u001b[43mmetadata\u001b[49m\u001b[38;5;241;43m=\u001b[39;49m\u001b[43mmetadata\u001b[49m\u001b[43m)\u001b[49m[\n\u001b[1;32m    599\u001b[0m         _output_key\n\u001b[1;32m    600\u001b[0m     ]\n\u001b[1;32m    602\u001b[0m \u001b[38;5;28;01mif\u001b[39;00m kwargs \u001b[38;5;129;01mand\u001b[39;00m \u001b[38;5;129;01mnot\u001b[39;00m args:\n\u001b[1;32m    603\u001b[0m     \u001b[38;5;28;01mreturn\u001b[39;00m \u001b[38;5;28mself\u001b[39m(kwargs, callbacks\u001b[38;5;241m=\u001b[39mcallbacks, tags\u001b[38;5;241m=\u001b[39mtags, metadata\u001b[38;5;241m=\u001b[39mmetadata)[\n\u001b[1;32m    604\u001b[0m         _output_key\n\u001b[1;32m    605\u001b[0m     ]\n",
      "File \u001b[0;32m/opt/conda/lib/python3.10/site-packages/langchain_core/_api/deprecation.py:180\u001b[0m, in \u001b[0;36mdeprecated.<locals>.deprecate.<locals>.warning_emitting_wrapper\u001b[0;34m(*args, **kwargs)\u001b[0m\n\u001b[1;32m    178\u001b[0m     warned \u001b[38;5;241m=\u001b[39m \u001b[38;5;28;01mTrue\u001b[39;00m\n\u001b[1;32m    179\u001b[0m     emit_warning()\n\u001b[0;32m--> 180\u001b[0m \u001b[38;5;28;01mreturn\u001b[39;00m \u001b[43mwrapped\u001b[49m\u001b[43m(\u001b[49m\u001b[38;5;241;43m*\u001b[39;49m\u001b[43margs\u001b[49m\u001b[43m,\u001b[49m\u001b[43m \u001b[49m\u001b[38;5;241;43m*\u001b[39;49m\u001b[38;5;241;43m*\u001b[39;49m\u001b[43mkwargs\u001b[49m\u001b[43m)\u001b[49m\n",
      "File \u001b[0;32m/opt/conda/lib/python3.10/site-packages/langchain/chains/base.py:381\u001b[0m, in \u001b[0;36mChain.__call__\u001b[0;34m(self, inputs, return_only_outputs, callbacks, tags, metadata, run_name, include_run_info)\u001b[0m\n\u001b[1;32m    349\u001b[0m \u001b[38;5;250m\u001b[39m\u001b[38;5;124;03m\"\"\"Execute the chain.\u001b[39;00m\n\u001b[1;32m    350\u001b[0m \n\u001b[1;32m    351\u001b[0m \u001b[38;5;124;03mArgs:\u001b[39;00m\n\u001b[0;32m   (...)\u001b[0m\n\u001b[1;32m    372\u001b[0m \u001b[38;5;124;03m        `Chain.output_keys`.\u001b[39;00m\n\u001b[1;32m    373\u001b[0m \u001b[38;5;124;03m\"\"\"\u001b[39;00m\n\u001b[1;32m    374\u001b[0m config \u001b[38;5;241m=\u001b[39m {\n\u001b[1;32m    375\u001b[0m     \u001b[38;5;124m\"\u001b[39m\u001b[38;5;124mcallbacks\u001b[39m\u001b[38;5;124m\"\u001b[39m: callbacks,\n\u001b[1;32m    376\u001b[0m     \u001b[38;5;124m\"\u001b[39m\u001b[38;5;124mtags\u001b[39m\u001b[38;5;124m\"\u001b[39m: tags,\n\u001b[1;32m    377\u001b[0m     \u001b[38;5;124m\"\u001b[39m\u001b[38;5;124mmetadata\u001b[39m\u001b[38;5;124m\"\u001b[39m: metadata,\n\u001b[1;32m    378\u001b[0m     \u001b[38;5;124m\"\u001b[39m\u001b[38;5;124mrun_name\u001b[39m\u001b[38;5;124m\"\u001b[39m: run_name,\n\u001b[1;32m    379\u001b[0m }\n\u001b[0;32m--> 381\u001b[0m \u001b[38;5;28;01mreturn\u001b[39;00m \u001b[38;5;28;43mself\u001b[39;49m\u001b[38;5;241;43m.\u001b[39;49m\u001b[43minvoke\u001b[49m\u001b[43m(\u001b[49m\n\u001b[1;32m    382\u001b[0m \u001b[43m    \u001b[49m\u001b[43minputs\u001b[49m\u001b[43m,\u001b[49m\n\u001b[1;32m    383\u001b[0m \u001b[43m    \u001b[49m\u001b[43mcast\u001b[49m\u001b[43m(\u001b[49m\u001b[43mRunnableConfig\u001b[49m\u001b[43m,\u001b[49m\u001b[43m \u001b[49m\u001b[43m{\u001b[49m\u001b[43mk\u001b[49m\u001b[43m:\u001b[49m\u001b[43m \u001b[49m\u001b[43mv\u001b[49m\u001b[43m \u001b[49m\u001b[38;5;28;43;01mfor\u001b[39;49;00m\u001b[43m \u001b[49m\u001b[43mk\u001b[49m\u001b[43m,\u001b[49m\u001b[43m \u001b[49m\u001b[43mv\u001b[49m\u001b[43m \u001b[49m\u001b[38;5;129;43;01min\u001b[39;49;00m\u001b[43m \u001b[49m\u001b[43mconfig\u001b[49m\u001b[38;5;241;43m.\u001b[39;49m\u001b[43mitems\u001b[49m\u001b[43m(\u001b[49m\u001b[43m)\u001b[49m\u001b[43m \u001b[49m\u001b[38;5;28;43;01mif\u001b[39;49;00m\u001b[43m \u001b[49m\u001b[43mv\u001b[49m\u001b[43m \u001b[49m\u001b[38;5;129;43;01mis\u001b[39;49;00m\u001b[43m \u001b[49m\u001b[38;5;129;43;01mnot\u001b[39;49;00m\u001b[43m \u001b[49m\u001b[38;5;28;43;01mNone\u001b[39;49;00m\u001b[43m}\u001b[49m\u001b[43m)\u001b[49m\u001b[43m,\u001b[49m\n\u001b[1;32m    384\u001b[0m \u001b[43m    \u001b[49m\u001b[43mreturn_only_outputs\u001b[49m\u001b[38;5;241;43m=\u001b[39;49m\u001b[43mreturn_only_outputs\u001b[49m\u001b[43m,\u001b[49m\n\u001b[1;32m    385\u001b[0m \u001b[43m    \u001b[49m\u001b[43minclude_run_info\u001b[49m\u001b[38;5;241;43m=\u001b[39;49m\u001b[43minclude_run_info\u001b[49m\u001b[43m,\u001b[49m\n\u001b[1;32m    386\u001b[0m \u001b[43m\u001b[49m\u001b[43m)\u001b[49m\n",
      "File \u001b[0;32m/opt/conda/lib/python3.10/site-packages/langchain/chains/base.py:164\u001b[0m, in \u001b[0;36mChain.invoke\u001b[0;34m(self, input, config, **kwargs)\u001b[0m\n\u001b[1;32m    162\u001b[0m \u001b[38;5;28;01mexcept\u001b[39;00m \u001b[38;5;167;01mBaseException\u001b[39;00m \u001b[38;5;28;01mas\u001b[39;00m e:\n\u001b[1;32m    163\u001b[0m     run_manager\u001b[38;5;241m.\u001b[39mon_chain_error(e)\n\u001b[0;32m--> 164\u001b[0m     \u001b[38;5;28;01mraise\u001b[39;00m e\n\u001b[1;32m    165\u001b[0m run_manager\u001b[38;5;241m.\u001b[39mon_chain_end(outputs)\n\u001b[1;32m    167\u001b[0m \u001b[38;5;28;01mif\u001b[39;00m include_run_info:\n",
      "File \u001b[0;32m/opt/conda/lib/python3.10/site-packages/langchain/chains/base.py:154\u001b[0m, in \u001b[0;36mChain.invoke\u001b[0;34m(self, input, config, **kwargs)\u001b[0m\n\u001b[1;32m    151\u001b[0m \u001b[38;5;28;01mtry\u001b[39;00m:\n\u001b[1;32m    152\u001b[0m     \u001b[38;5;28mself\u001b[39m\u001b[38;5;241m.\u001b[39m_validate_inputs(inputs)\n\u001b[1;32m    153\u001b[0m     outputs \u001b[38;5;241m=\u001b[39m (\n\u001b[0;32m--> 154\u001b[0m         \u001b[38;5;28;43mself\u001b[39;49m\u001b[38;5;241;43m.\u001b[39;49m\u001b[43m_call\u001b[49m\u001b[43m(\u001b[49m\u001b[43minputs\u001b[49m\u001b[43m,\u001b[49m\u001b[43m \u001b[49m\u001b[43mrun_manager\u001b[49m\u001b[38;5;241;43m=\u001b[39;49m\u001b[43mrun_manager\u001b[49m\u001b[43m)\u001b[49m\n\u001b[1;32m    155\u001b[0m         \u001b[38;5;28;01mif\u001b[39;00m new_arg_supported\n\u001b[1;32m    156\u001b[0m         \u001b[38;5;28;01melse\u001b[39;00m \u001b[38;5;28mself\u001b[39m\u001b[38;5;241m.\u001b[39m_call(inputs)\n\u001b[1;32m    157\u001b[0m     )\n\u001b[1;32m    159\u001b[0m     final_outputs: Dict[\u001b[38;5;28mstr\u001b[39m, Any] \u001b[38;5;241m=\u001b[39m \u001b[38;5;28mself\u001b[39m\u001b[38;5;241m.\u001b[39mprep_outputs(\n\u001b[1;32m    160\u001b[0m         inputs, outputs, return_only_outputs\n\u001b[1;32m    161\u001b[0m     )\n\u001b[1;32m    162\u001b[0m \u001b[38;5;28;01mexcept\u001b[39;00m \u001b[38;5;167;01mBaseException\u001b[39;00m \u001b[38;5;28;01mas\u001b[39;00m e:\n",
      "File \u001b[0;32m/opt/conda/lib/python3.10/site-packages/langchain/agents/agent.py:1625\u001b[0m, in \u001b[0;36mAgentExecutor._call\u001b[0;34m(self, inputs, run_manager)\u001b[0m\n\u001b[1;32m   1623\u001b[0m \u001b[38;5;66;03m# We now enter the agent loop (until it returns something).\u001b[39;00m\n\u001b[1;32m   1624\u001b[0m \u001b[38;5;28;01mwhile\u001b[39;00m \u001b[38;5;28mself\u001b[39m\u001b[38;5;241m.\u001b[39m_should_continue(iterations, time_elapsed):\n\u001b[0;32m-> 1625\u001b[0m     next_step_output \u001b[38;5;241m=\u001b[39m \u001b[38;5;28;43mself\u001b[39;49m\u001b[38;5;241;43m.\u001b[39;49m\u001b[43m_take_next_step\u001b[49m\u001b[43m(\u001b[49m\n\u001b[1;32m   1626\u001b[0m \u001b[43m        \u001b[49m\u001b[43mname_to_tool_map\u001b[49m\u001b[43m,\u001b[49m\n\u001b[1;32m   1627\u001b[0m \u001b[43m        \u001b[49m\u001b[43mcolor_mapping\u001b[49m\u001b[43m,\u001b[49m\n\u001b[1;32m   1628\u001b[0m \u001b[43m        \u001b[49m\u001b[43minputs\u001b[49m\u001b[43m,\u001b[49m\n\u001b[1;32m   1629\u001b[0m \u001b[43m        \u001b[49m\u001b[43mintermediate_steps\u001b[49m\u001b[43m,\u001b[49m\n\u001b[1;32m   1630\u001b[0m \u001b[43m        \u001b[49m\u001b[43mrun_manager\u001b[49m\u001b[38;5;241;43m=\u001b[39;49m\u001b[43mrun_manager\u001b[49m\u001b[43m,\u001b[49m\n\u001b[1;32m   1631\u001b[0m \u001b[43m    \u001b[49m\u001b[43m)\u001b[49m\n\u001b[1;32m   1632\u001b[0m     \u001b[38;5;28;01mif\u001b[39;00m \u001b[38;5;28misinstance\u001b[39m(next_step_output, AgentFinish):\n\u001b[1;32m   1633\u001b[0m         \u001b[38;5;28;01mreturn\u001b[39;00m \u001b[38;5;28mself\u001b[39m\u001b[38;5;241m.\u001b[39m_return(\n\u001b[1;32m   1634\u001b[0m             next_step_output, intermediate_steps, run_manager\u001b[38;5;241m=\u001b[39mrun_manager\n\u001b[1;32m   1635\u001b[0m         )\n",
      "File \u001b[0;32m/opt/conda/lib/python3.10/site-packages/langchain/agents/agent.py:1331\u001b[0m, in \u001b[0;36mAgentExecutor._take_next_step\u001b[0;34m(self, name_to_tool_map, color_mapping, inputs, intermediate_steps, run_manager)\u001b[0m\n\u001b[1;32m   1322\u001b[0m \u001b[38;5;28;01mdef\u001b[39;00m \u001b[38;5;21m_take_next_step\u001b[39m(\n\u001b[1;32m   1323\u001b[0m     \u001b[38;5;28mself\u001b[39m,\n\u001b[1;32m   1324\u001b[0m     name_to_tool_map: Dict[\u001b[38;5;28mstr\u001b[39m, BaseTool],\n\u001b[0;32m   (...)\u001b[0m\n\u001b[1;32m   1328\u001b[0m     run_manager: Optional[CallbackManagerForChainRun] \u001b[38;5;241m=\u001b[39m \u001b[38;5;28;01mNone\u001b[39;00m,\n\u001b[1;32m   1329\u001b[0m ) \u001b[38;5;241m-\u001b[39m\u001b[38;5;241m>\u001b[39m Union[AgentFinish, List[Tuple[AgentAction, \u001b[38;5;28mstr\u001b[39m]]]:\n\u001b[1;32m   1330\u001b[0m     \u001b[38;5;28;01mreturn\u001b[39;00m \u001b[38;5;28mself\u001b[39m\u001b[38;5;241m.\u001b[39m_consume_next_step(\n\u001b[0;32m-> 1331\u001b[0m         [\n\u001b[1;32m   1332\u001b[0m             a\n\u001b[1;32m   1333\u001b[0m             \u001b[38;5;28;01mfor\u001b[39;00m a \u001b[38;5;129;01min\u001b[39;00m \u001b[38;5;28mself\u001b[39m\u001b[38;5;241m.\u001b[39m_iter_next_step(\n\u001b[1;32m   1334\u001b[0m                 name_to_tool_map,\n\u001b[1;32m   1335\u001b[0m                 color_mapping,\n\u001b[1;32m   1336\u001b[0m                 inputs,\n\u001b[1;32m   1337\u001b[0m                 intermediate_steps,\n\u001b[1;32m   1338\u001b[0m                 run_manager,\n\u001b[1;32m   1339\u001b[0m             )\n\u001b[1;32m   1340\u001b[0m         ]\n\u001b[1;32m   1341\u001b[0m     )\n",
      "File \u001b[0;32m/opt/conda/lib/python3.10/site-packages/langchain/agents/agent.py:1331\u001b[0m, in \u001b[0;36m<listcomp>\u001b[0;34m(.0)\u001b[0m\n\u001b[1;32m   1322\u001b[0m \u001b[38;5;28;01mdef\u001b[39;00m \u001b[38;5;21m_take_next_step\u001b[39m(\n\u001b[1;32m   1323\u001b[0m     \u001b[38;5;28mself\u001b[39m,\n\u001b[1;32m   1324\u001b[0m     name_to_tool_map: Dict[\u001b[38;5;28mstr\u001b[39m, BaseTool],\n\u001b[0;32m   (...)\u001b[0m\n\u001b[1;32m   1328\u001b[0m     run_manager: Optional[CallbackManagerForChainRun] \u001b[38;5;241m=\u001b[39m \u001b[38;5;28;01mNone\u001b[39;00m,\n\u001b[1;32m   1329\u001b[0m ) \u001b[38;5;241m-\u001b[39m\u001b[38;5;241m>\u001b[39m Union[AgentFinish, List[Tuple[AgentAction, \u001b[38;5;28mstr\u001b[39m]]]:\n\u001b[1;32m   1330\u001b[0m     \u001b[38;5;28;01mreturn\u001b[39;00m \u001b[38;5;28mself\u001b[39m\u001b[38;5;241m.\u001b[39m_consume_next_step(\n\u001b[0;32m-> 1331\u001b[0m         [\n\u001b[1;32m   1332\u001b[0m             a\n\u001b[1;32m   1333\u001b[0m             \u001b[38;5;28;01mfor\u001b[39;00m a \u001b[38;5;129;01min\u001b[39;00m \u001b[38;5;28mself\u001b[39m\u001b[38;5;241m.\u001b[39m_iter_next_step(\n\u001b[1;32m   1334\u001b[0m                 name_to_tool_map,\n\u001b[1;32m   1335\u001b[0m                 color_mapping,\n\u001b[1;32m   1336\u001b[0m                 inputs,\n\u001b[1;32m   1337\u001b[0m                 intermediate_steps,\n\u001b[1;32m   1338\u001b[0m                 run_manager,\n\u001b[1;32m   1339\u001b[0m             )\n\u001b[1;32m   1340\u001b[0m         ]\n\u001b[1;32m   1341\u001b[0m     )\n",
      "File \u001b[0;32m/opt/conda/lib/python3.10/site-packages/langchain/agents/agent.py:1359\u001b[0m, in \u001b[0;36mAgentExecutor._iter_next_step\u001b[0;34m(self, name_to_tool_map, color_mapping, inputs, intermediate_steps, run_manager)\u001b[0m\n\u001b[1;32m   1356\u001b[0m     intermediate_steps \u001b[38;5;241m=\u001b[39m \u001b[38;5;28mself\u001b[39m\u001b[38;5;241m.\u001b[39m_prepare_intermediate_steps(intermediate_steps)\n\u001b[1;32m   1358\u001b[0m     \u001b[38;5;66;03m# Call the LLM to see what to do.\u001b[39;00m\n\u001b[0;32m-> 1359\u001b[0m     output \u001b[38;5;241m=\u001b[39m \u001b[38;5;28;43mself\u001b[39;49m\u001b[38;5;241;43m.\u001b[39;49m\u001b[43m_action_agent\u001b[49m\u001b[38;5;241;43m.\u001b[39;49m\u001b[43mplan\u001b[49m\u001b[43m(\u001b[49m\n\u001b[1;32m   1360\u001b[0m \u001b[43m        \u001b[49m\u001b[43mintermediate_steps\u001b[49m\u001b[43m,\u001b[49m\n\u001b[1;32m   1361\u001b[0m \u001b[43m        \u001b[49m\u001b[43mcallbacks\u001b[49m\u001b[38;5;241;43m=\u001b[39;49m\u001b[43mrun_manager\u001b[49m\u001b[38;5;241;43m.\u001b[39;49m\u001b[43mget_child\u001b[49m\u001b[43m(\u001b[49m\u001b[43m)\u001b[49m\u001b[43m \u001b[49m\u001b[38;5;28;43;01mif\u001b[39;49;00m\u001b[43m \u001b[49m\u001b[43mrun_manager\u001b[49m\u001b[43m \u001b[49m\u001b[38;5;28;43;01melse\u001b[39;49;00m\u001b[43m \u001b[49m\u001b[38;5;28;43;01mNone\u001b[39;49;00m\u001b[43m,\u001b[49m\n\u001b[1;32m   1362\u001b[0m \u001b[43m        \u001b[49m\u001b[38;5;241;43m*\u001b[39;49m\u001b[38;5;241;43m*\u001b[39;49m\u001b[43minputs\u001b[49m\u001b[43m,\u001b[49m\n\u001b[1;32m   1363\u001b[0m \u001b[43m    \u001b[49m\u001b[43m)\u001b[49m\n\u001b[1;32m   1364\u001b[0m \u001b[38;5;28;01mexcept\u001b[39;00m OutputParserException \u001b[38;5;28;01mas\u001b[39;00m e:\n\u001b[1;32m   1365\u001b[0m     \u001b[38;5;28;01mif\u001b[39;00m \u001b[38;5;28misinstance\u001b[39m(\u001b[38;5;28mself\u001b[39m\u001b[38;5;241m.\u001b[39mhandle_parsing_errors, \u001b[38;5;28mbool\u001b[39m):\n",
      "File \u001b[0;32m/opt/conda/lib/python3.10/site-packages/langchain/agents/agent.py:462\u001b[0m, in \u001b[0;36mRunnableAgent.plan\u001b[0;34m(self, intermediate_steps, callbacks, **kwargs)\u001b[0m\n\u001b[1;32m    454\u001b[0m final_output: Any \u001b[38;5;241m=\u001b[39m \u001b[38;5;28;01mNone\u001b[39;00m\n\u001b[1;32m    455\u001b[0m \u001b[38;5;28;01mif\u001b[39;00m \u001b[38;5;28mself\u001b[39m\u001b[38;5;241m.\u001b[39mstream_runnable:\n\u001b[1;32m    456\u001b[0m     \u001b[38;5;66;03m# Use streaming to make sure that the underlying LLM is invoked in a\u001b[39;00m\n\u001b[1;32m    457\u001b[0m     \u001b[38;5;66;03m# streaming\u001b[39;00m\n\u001b[0;32m   (...)\u001b[0m\n\u001b[1;32m    460\u001b[0m     \u001b[38;5;66;03m# Because the response from the plan is not a generator, we need to\u001b[39;00m\n\u001b[1;32m    461\u001b[0m     \u001b[38;5;66;03m# accumulate the output into final output and return that.\u001b[39;00m\n\u001b[0;32m--> 462\u001b[0m     \u001b[38;5;28;01mfor\u001b[39;00m chunk \u001b[38;5;129;01min\u001b[39;00m \u001b[38;5;28mself\u001b[39m\u001b[38;5;241m.\u001b[39mrunnable\u001b[38;5;241m.\u001b[39mstream(inputs, config\u001b[38;5;241m=\u001b[39m{\u001b[38;5;124m\"\u001b[39m\u001b[38;5;124mcallbacks\u001b[39m\u001b[38;5;124m\"\u001b[39m: callbacks}):\n\u001b[1;32m    463\u001b[0m         \u001b[38;5;28;01mif\u001b[39;00m final_output \u001b[38;5;129;01mis\u001b[39;00m \u001b[38;5;28;01mNone\u001b[39;00m:\n\u001b[1;32m    464\u001b[0m             final_output \u001b[38;5;241m=\u001b[39m chunk\n",
      "File \u001b[0;32m/opt/conda/lib/python3.10/site-packages/langchain_core/runnables/base.py:3261\u001b[0m, in \u001b[0;36mRunnableSequence.stream\u001b[0;34m(self, input, config, **kwargs)\u001b[0m\n\u001b[1;32m   3255\u001b[0m \u001b[38;5;28;01mdef\u001b[39;00m \u001b[38;5;21mstream\u001b[39m(\n\u001b[1;32m   3256\u001b[0m     \u001b[38;5;28mself\u001b[39m,\n\u001b[1;32m   3257\u001b[0m     \u001b[38;5;28minput\u001b[39m: Input,\n\u001b[1;32m   3258\u001b[0m     config: Optional[RunnableConfig] \u001b[38;5;241m=\u001b[39m \u001b[38;5;28;01mNone\u001b[39;00m,\n\u001b[1;32m   3259\u001b[0m     \u001b[38;5;241m*\u001b[39m\u001b[38;5;241m*\u001b[39mkwargs: Optional[Any],\n\u001b[1;32m   3260\u001b[0m ) \u001b[38;5;241m-\u001b[39m\u001b[38;5;241m>\u001b[39m Iterator[Output]:\n\u001b[0;32m-> 3261\u001b[0m     \u001b[38;5;28;01myield from\u001b[39;00m \u001b[38;5;28mself\u001b[39m\u001b[38;5;241m.\u001b[39mtransform(\u001b[38;5;28miter\u001b[39m([\u001b[38;5;28minput\u001b[39m]), config, \u001b[38;5;241m*\u001b[39m\u001b[38;5;241m*\u001b[39mkwargs)\n",
      "File \u001b[0;32m/opt/conda/lib/python3.10/site-packages/langchain_core/runnables/base.py:3248\u001b[0m, in \u001b[0;36mRunnableSequence.transform\u001b[0;34m(self, input, config, **kwargs)\u001b[0m\n\u001b[1;32m   3242\u001b[0m \u001b[38;5;28;01mdef\u001b[39;00m \u001b[38;5;21mtransform\u001b[39m(\n\u001b[1;32m   3243\u001b[0m     \u001b[38;5;28mself\u001b[39m,\n\u001b[1;32m   3244\u001b[0m     \u001b[38;5;28minput\u001b[39m: Iterator[Input],\n\u001b[1;32m   3245\u001b[0m     config: Optional[RunnableConfig] \u001b[38;5;241m=\u001b[39m \u001b[38;5;28;01mNone\u001b[39;00m,\n\u001b[1;32m   3246\u001b[0m     \u001b[38;5;241m*\u001b[39m\u001b[38;5;241m*\u001b[39mkwargs: Optional[Any],\n\u001b[1;32m   3247\u001b[0m ) \u001b[38;5;241m-\u001b[39m\u001b[38;5;241m>\u001b[39m Iterator[Output]:\n\u001b[0;32m-> 3248\u001b[0m     \u001b[38;5;28;01myield from\u001b[39;00m \u001b[38;5;28mself\u001b[39m\u001b[38;5;241m.\u001b[39m_transform_stream_with_config(\n\u001b[1;32m   3249\u001b[0m         \u001b[38;5;28minput\u001b[39m,\n\u001b[1;32m   3250\u001b[0m         \u001b[38;5;28mself\u001b[39m\u001b[38;5;241m.\u001b[39m_transform,\n\u001b[1;32m   3251\u001b[0m         patch_config(config, run_name\u001b[38;5;241m=\u001b[39m(config \u001b[38;5;129;01mor\u001b[39;00m {})\u001b[38;5;241m.\u001b[39mget(\u001b[38;5;124m\"\u001b[39m\u001b[38;5;124mrun_name\u001b[39m\u001b[38;5;124m\"\u001b[39m) \u001b[38;5;129;01mor\u001b[39;00m \u001b[38;5;28mself\u001b[39m\u001b[38;5;241m.\u001b[39mname),\n\u001b[1;32m   3252\u001b[0m         \u001b[38;5;241m*\u001b[39m\u001b[38;5;241m*\u001b[39mkwargs,\n\u001b[1;32m   3253\u001b[0m     )\n",
      "File \u001b[0;32m/opt/conda/lib/python3.10/site-packages/langchain_core/runnables/base.py:2054\u001b[0m, in \u001b[0;36mRunnable._transform_stream_with_config\u001b[0;34m(self, input, transformer, config, run_type, **kwargs)\u001b[0m\n\u001b[1;32m   2052\u001b[0m \u001b[38;5;28;01mtry\u001b[39;00m:\n\u001b[1;32m   2053\u001b[0m     \u001b[38;5;28;01mwhile\u001b[39;00m \u001b[38;5;28;01mTrue\u001b[39;00m:\n\u001b[0;32m-> 2054\u001b[0m         chunk: Output \u001b[38;5;241m=\u001b[39m \u001b[43mcontext\u001b[49m\u001b[38;5;241;43m.\u001b[39;49m\u001b[43mrun\u001b[49m\u001b[43m(\u001b[49m\u001b[38;5;28;43mnext\u001b[39;49m\u001b[43m,\u001b[49m\u001b[43m \u001b[49m\u001b[43miterator\u001b[49m\u001b[43m)\u001b[49m  \u001b[38;5;66;03m# type: ignore\u001b[39;00m\n\u001b[1;32m   2055\u001b[0m         \u001b[38;5;28;01myield\u001b[39;00m chunk\n\u001b[1;32m   2056\u001b[0m         \u001b[38;5;28;01mif\u001b[39;00m final_output_supported:\n",
      "File \u001b[0;32m/opt/conda/lib/python3.10/site-packages/langchain_core/runnables/base.py:3211\u001b[0m, in \u001b[0;36mRunnableSequence._transform\u001b[0;34m(self, input, run_manager, config, **kwargs)\u001b[0m\n\u001b[1;32m   3208\u001b[0m     \u001b[38;5;28;01melse\u001b[39;00m:\n\u001b[1;32m   3209\u001b[0m         final_pipeline \u001b[38;5;241m=\u001b[39m step\u001b[38;5;241m.\u001b[39mtransform(final_pipeline, config)\n\u001b[0;32m-> 3211\u001b[0m \u001b[38;5;28;01myield from\u001b[39;00m final_pipeline\n",
      "File \u001b[0;32m/opt/conda/lib/python3.10/site-packages/langchain_core/runnables/base.py:1272\u001b[0m, in \u001b[0;36mRunnable.transform\u001b[0;34m(self, input, config, **kwargs)\u001b[0m\n\u001b[1;32m   1269\u001b[0m final: Input\n\u001b[1;32m   1270\u001b[0m got_first_val \u001b[38;5;241m=\u001b[39m \u001b[38;5;28;01mFalse\u001b[39;00m\n\u001b[0;32m-> 1272\u001b[0m \u001b[38;5;28;01mfor\u001b[39;00m ichunk \u001b[38;5;129;01min\u001b[39;00m \u001b[38;5;28minput\u001b[39m:\n\u001b[1;32m   1273\u001b[0m     \u001b[38;5;66;03m# The default implementation of transform is to buffer input and\u001b[39;00m\n\u001b[1;32m   1274\u001b[0m     \u001b[38;5;66;03m# then call stream.\u001b[39;00m\n\u001b[1;32m   1275\u001b[0m     \u001b[38;5;66;03m# It'll attempt to gather all input into a single chunk using\u001b[39;00m\n\u001b[1;32m   1276\u001b[0m     \u001b[38;5;66;03m# the `+` operator.\u001b[39;00m\n\u001b[1;32m   1277\u001b[0m     \u001b[38;5;66;03m# If the input is not addable, then we'll assume that we can\u001b[39;00m\n\u001b[1;32m   1278\u001b[0m     \u001b[38;5;66;03m# only operate on the last chunk,\u001b[39;00m\n\u001b[1;32m   1279\u001b[0m     \u001b[38;5;66;03m# and we'll iterate until we get to the last chunk.\u001b[39;00m\n\u001b[1;32m   1280\u001b[0m     \u001b[38;5;28;01mif\u001b[39;00m \u001b[38;5;129;01mnot\u001b[39;00m got_first_val:\n\u001b[1;32m   1281\u001b[0m         final \u001b[38;5;241m=\u001b[39m ichunk\n",
      "File \u001b[0;32m/opt/conda/lib/python3.10/site-packages/langchain_core/runnables/base.py:5299\u001b[0m, in \u001b[0;36mRunnableBindingBase.transform\u001b[0;34m(self, input, config, **kwargs)\u001b[0m\n\u001b[1;32m   5293\u001b[0m \u001b[38;5;28;01mdef\u001b[39;00m \u001b[38;5;21mtransform\u001b[39m(\n\u001b[1;32m   5294\u001b[0m     \u001b[38;5;28mself\u001b[39m,\n\u001b[1;32m   5295\u001b[0m     \u001b[38;5;28minput\u001b[39m: Iterator[Input],\n\u001b[1;32m   5296\u001b[0m     config: Optional[RunnableConfig] \u001b[38;5;241m=\u001b[39m \u001b[38;5;28;01mNone\u001b[39;00m,\n\u001b[1;32m   5297\u001b[0m     \u001b[38;5;241m*\u001b[39m\u001b[38;5;241m*\u001b[39mkwargs: Any,\n\u001b[1;32m   5298\u001b[0m ) \u001b[38;5;241m-\u001b[39m\u001b[38;5;241m>\u001b[39m Iterator[Output]:\n\u001b[0;32m-> 5299\u001b[0m     \u001b[38;5;28;01myield from\u001b[39;00m \u001b[38;5;28mself\u001b[39m\u001b[38;5;241m.\u001b[39mbound\u001b[38;5;241m.\u001b[39mtransform(\n\u001b[1;32m   5300\u001b[0m         \u001b[38;5;28minput\u001b[39m,\n\u001b[1;32m   5301\u001b[0m         \u001b[38;5;28mself\u001b[39m\u001b[38;5;241m.\u001b[39m_merge_configs(config),\n\u001b[1;32m   5302\u001b[0m         \u001b[38;5;241m*\u001b[39m\u001b[38;5;241m*\u001b[39m{\u001b[38;5;241m*\u001b[39m\u001b[38;5;241m*\u001b[39m\u001b[38;5;28mself\u001b[39m\u001b[38;5;241m.\u001b[39mkwargs, \u001b[38;5;241m*\u001b[39m\u001b[38;5;241m*\u001b[39mkwargs},\n\u001b[1;32m   5303\u001b[0m     )\n",
      "File \u001b[0;32m/opt/conda/lib/python3.10/site-packages/langchain_core/runnables/base.py:1290\u001b[0m, in \u001b[0;36mRunnable.transform\u001b[0;34m(self, input, config, **kwargs)\u001b[0m\n\u001b[1;32m   1287\u001b[0m             final \u001b[38;5;241m=\u001b[39m ichunk\n\u001b[1;32m   1289\u001b[0m \u001b[38;5;28;01mif\u001b[39;00m got_first_val:\n\u001b[0;32m-> 1290\u001b[0m     \u001b[38;5;28;01myield from\u001b[39;00m \u001b[38;5;28mself\u001b[39m\u001b[38;5;241m.\u001b[39mstream(final, config, \u001b[38;5;241m*\u001b[39m\u001b[38;5;241m*\u001b[39mkwargs)\n",
      "File \u001b[0;32m/opt/conda/lib/python3.10/site-packages/langchain_core/language_models/llms.py:571\u001b[0m, in \u001b[0;36mBaseLLM.stream\u001b[0;34m(self, input, config, stop, **kwargs)\u001b[0m\n\u001b[1;32m    564\u001b[0m \u001b[38;5;28;01mexcept\u001b[39;00m \u001b[38;5;167;01mBaseException\u001b[39;00m \u001b[38;5;28;01mas\u001b[39;00m e:\n\u001b[1;32m    565\u001b[0m     run_manager\u001b[38;5;241m.\u001b[39mon_llm_error(\n\u001b[1;32m    566\u001b[0m         e,\n\u001b[1;32m    567\u001b[0m         response\u001b[38;5;241m=\u001b[39mLLMResult(\n\u001b[1;32m    568\u001b[0m             generations\u001b[38;5;241m=\u001b[39m[[generation]] \u001b[38;5;28;01mif\u001b[39;00m generation \u001b[38;5;28;01melse\u001b[39;00m []\n\u001b[1;32m    569\u001b[0m         ),\n\u001b[1;32m    570\u001b[0m     )\n\u001b[0;32m--> 571\u001b[0m     \u001b[38;5;28;01mraise\u001b[39;00m e\n\u001b[1;32m    572\u001b[0m \u001b[38;5;28;01melse\u001b[39;00m:\n\u001b[1;32m    573\u001b[0m     run_manager\u001b[38;5;241m.\u001b[39mon_llm_end(LLMResult(generations\u001b[38;5;241m=\u001b[39m[[generation]]))\n",
      "File \u001b[0;32m/opt/conda/lib/python3.10/site-packages/langchain_core/language_models/llms.py:555\u001b[0m, in \u001b[0;36mBaseLLM.stream\u001b[0;34m(self, input, config, stop, **kwargs)\u001b[0m\n\u001b[1;32m    553\u001b[0m generation: Optional[GenerationChunk] \u001b[38;5;241m=\u001b[39m \u001b[38;5;28;01mNone\u001b[39;00m\n\u001b[1;32m    554\u001b[0m \u001b[38;5;28;01mtry\u001b[39;00m:\n\u001b[0;32m--> 555\u001b[0m     \u001b[38;5;28;01mfor\u001b[39;00m chunk \u001b[38;5;129;01min\u001b[39;00m \u001b[38;5;28mself\u001b[39m\u001b[38;5;241m.\u001b[39m_stream(\n\u001b[1;32m    556\u001b[0m         prompt, stop\u001b[38;5;241m=\u001b[39mstop, run_manager\u001b[38;5;241m=\u001b[39mrun_manager, \u001b[38;5;241m*\u001b[39m\u001b[38;5;241m*\u001b[39mkwargs\n\u001b[1;32m    557\u001b[0m     ):\n\u001b[1;32m    558\u001b[0m         \u001b[38;5;28;01myield\u001b[39;00m chunk\u001b[38;5;241m.\u001b[39mtext\n\u001b[1;32m    559\u001b[0m         \u001b[38;5;28;01mif\u001b[39;00m generation \u001b[38;5;129;01mis\u001b[39;00m \u001b[38;5;28;01mNone\u001b[39;00m:\n",
      "File \u001b[0;32m/opt/conda/lib/python3.10/site-packages/langchain_google_vertexai/llms.py:301\u001b[0m, in \u001b[0;36mVertexAI._stream\u001b[0;34m(self, prompt, stop, run_manager, **kwargs)\u001b[0m\n\u001b[1;32m    293\u001b[0m \u001b[38;5;28;01mdef\u001b[39;00m \u001b[38;5;21m_stream\u001b[39m(\n\u001b[1;32m    294\u001b[0m     \u001b[38;5;28mself\u001b[39m,\n\u001b[1;32m    295\u001b[0m     prompt: \u001b[38;5;28mstr\u001b[39m,\n\u001b[0;32m   (...)\u001b[0m\n\u001b[1;32m    298\u001b[0m     \u001b[38;5;241m*\u001b[39m\u001b[38;5;241m*\u001b[39mkwargs: Any,\n\u001b[1;32m    299\u001b[0m ) \u001b[38;5;241m-\u001b[39m\u001b[38;5;241m>\u001b[39m Iterator[GenerationChunk]:\n\u001b[1;32m    300\u001b[0m     params \u001b[38;5;241m=\u001b[39m \u001b[38;5;28mself\u001b[39m\u001b[38;5;241m.\u001b[39m_prepare_params(stop\u001b[38;5;241m=\u001b[39mstop, stream\u001b[38;5;241m=\u001b[39m\u001b[38;5;28;01mTrue\u001b[39;00m, \u001b[38;5;241m*\u001b[39m\u001b[38;5;241m*\u001b[39mkwargs)\n\u001b[0;32m--> 301\u001b[0m     \u001b[38;5;28;01mfor\u001b[39;00m stream_resp \u001b[38;5;129;01min\u001b[39;00m _completion_with_retry(\n\u001b[1;32m    302\u001b[0m         \u001b[38;5;28mself\u001b[39m,\n\u001b[1;32m    303\u001b[0m         [prompt],\n\u001b[1;32m    304\u001b[0m         stream\u001b[38;5;241m=\u001b[39m\u001b[38;5;28;01mTrue\u001b[39;00m,\n\u001b[1;32m    305\u001b[0m         is_gemini\u001b[38;5;241m=\u001b[39m\u001b[38;5;28mself\u001b[39m\u001b[38;5;241m.\u001b[39m_is_gemini_model,\n\u001b[1;32m    306\u001b[0m         run_manager\u001b[38;5;241m=\u001b[39mrun_manager,\n\u001b[1;32m    307\u001b[0m         \u001b[38;5;241m*\u001b[39m\u001b[38;5;241m*\u001b[39mparams,\n\u001b[1;32m    308\u001b[0m     ):\n\u001b[1;32m    309\u001b[0m         usage_metadata \u001b[38;5;241m=\u001b[39m \u001b[38;5;28;01mNone\u001b[39;00m\n\u001b[1;32m    310\u001b[0m         \u001b[38;5;28;01mif\u001b[39;00m \u001b[38;5;28mself\u001b[39m\u001b[38;5;241m.\u001b[39m_is_gemini_model:\n",
      "File \u001b[0;32m/opt/conda/lib/python3.10/site-packages/vertexai/language_models/_language_models.py:1587\u001b[0m, in \u001b[0;36m_TextGenerationModel.predict_streaming\u001b[0;34m(self, prompt, max_output_tokens, temperature, top_k, top_p, stop_sequences, logprobs, presence_penalty, frequency_penalty, logit_bias, seed)\u001b[0m\n\u001b[1;32m   1572\u001b[0m prediction_request \u001b[38;5;241m=\u001b[39m _create_text_generation_prediction_request(\n\u001b[1;32m   1573\u001b[0m     prompt\u001b[38;5;241m=\u001b[39mprompt,\n\u001b[1;32m   1574\u001b[0m     max_output_tokens\u001b[38;5;241m=\u001b[39mmax_output_tokens,\n\u001b[0;32m   (...)\u001b[0m\n\u001b[1;32m   1583\u001b[0m     seed\u001b[38;5;241m=\u001b[39mseed,\n\u001b[1;32m   1584\u001b[0m )\n\u001b[1;32m   1586\u001b[0m prediction_service_client \u001b[38;5;241m=\u001b[39m \u001b[38;5;28mself\u001b[39m\u001b[38;5;241m.\u001b[39m_endpoint\u001b[38;5;241m.\u001b[39m_prediction_client\n\u001b[0;32m-> 1587\u001b[0m \u001b[38;5;28;01mfor\u001b[39;00m (\n\u001b[1;32m   1588\u001b[0m     prediction_dict\n\u001b[1;32m   1589\u001b[0m ) \u001b[38;5;129;01min\u001b[39;00m _streaming_prediction\u001b[38;5;241m.\u001b[39mpredict_stream_of_dicts_from_single_dict(\n\u001b[1;32m   1590\u001b[0m     prediction_service_client\u001b[38;5;241m=\u001b[39mprediction_service_client,\n\u001b[1;32m   1591\u001b[0m     endpoint_name\u001b[38;5;241m=\u001b[39m\u001b[38;5;28mself\u001b[39m\u001b[38;5;241m.\u001b[39m_endpoint_name,\n\u001b[1;32m   1592\u001b[0m     instance\u001b[38;5;241m=\u001b[39mprediction_request\u001b[38;5;241m.\u001b[39minstance,\n\u001b[1;32m   1593\u001b[0m     parameters\u001b[38;5;241m=\u001b[39mprediction_request\u001b[38;5;241m.\u001b[39mparameters,\n\u001b[1;32m   1594\u001b[0m ):\n\u001b[1;32m   1595\u001b[0m     prediction_obj \u001b[38;5;241m=\u001b[39m aiplatform\u001b[38;5;241m.\u001b[39mmodels\u001b[38;5;241m.\u001b[39mPrediction(\n\u001b[1;32m   1596\u001b[0m         predictions\u001b[38;5;241m=\u001b[39m[prediction_dict],\n\u001b[1;32m   1597\u001b[0m         deployed_model_id\u001b[38;5;241m=\u001b[39m\u001b[38;5;124m\"\u001b[39m\u001b[38;5;124m\"\u001b[39m,\n\u001b[1;32m   1598\u001b[0m     )\n\u001b[1;32m   1599\u001b[0m     \u001b[38;5;28;01myield\u001b[39;00m _parse_text_generation_model_response(prediction_obj)\n",
      "File \u001b[0;32m/opt/conda/lib/python3.10/site-packages/google/cloud/aiplatform/_streaming_prediction.py:212\u001b[0m, in \u001b[0;36mpredict_stream_of_dicts_from_single_dict\u001b[0;34m(prediction_service_client, endpoint_name, instance, parameters)\u001b[0m\n\u001b[1;32m    195\u001b[0m \u001b[38;5;28;01mdef\u001b[39;00m \u001b[38;5;21mpredict_stream_of_dicts_from_single_dict\u001b[39m(\n\u001b[1;32m    196\u001b[0m     prediction_service_client: prediction_service\u001b[38;5;241m.\u001b[39mPredictionServiceClient,\n\u001b[1;32m    197\u001b[0m     endpoint_name: \u001b[38;5;28mstr\u001b[39m,\n\u001b[1;32m    198\u001b[0m     instance: Dict[\u001b[38;5;28mstr\u001b[39m, Any],\n\u001b[1;32m    199\u001b[0m     parameters: Optional[Dict[\u001b[38;5;28mstr\u001b[39m, Any]] \u001b[38;5;241m=\u001b[39m \u001b[38;5;28;01mNone\u001b[39;00m,\n\u001b[1;32m    200\u001b[0m ) \u001b[38;5;241m-\u001b[39m\u001b[38;5;241m>\u001b[39m Iterator[Dict[\u001b[38;5;28mstr\u001b[39m, Any]]:\n\u001b[1;32m    201\u001b[0m \u001b[38;5;250m    \u001b[39m\u001b[38;5;124;03m\"\"\"Predicts a stream of dicts from a single instance dict.\u001b[39;00m\n\u001b[1;32m    202\u001b[0m \n\u001b[1;32m    203\u001b[0m \u001b[38;5;124;03m    Args:\u001b[39;00m\n\u001b[0;32m   (...)\u001b[0m\n\u001b[1;32m    210\u001b[0m \u001b[38;5;124;03m        A generator of model prediction dicts.\u001b[39;00m\n\u001b[1;32m    211\u001b[0m \u001b[38;5;124;03m    \"\"\"\u001b[39;00m\n\u001b[0;32m--> 212\u001b[0m     \u001b[38;5;28;01mfor\u001b[39;00m dict_list \u001b[38;5;129;01min\u001b[39;00m predict_stream_of_dict_lists_from_single_dict_list(\n\u001b[1;32m    213\u001b[0m         prediction_service_client\u001b[38;5;241m=\u001b[39mprediction_service_client,\n\u001b[1;32m    214\u001b[0m         endpoint_name\u001b[38;5;241m=\u001b[39mendpoint_name,\n\u001b[1;32m    215\u001b[0m         dict_list\u001b[38;5;241m=\u001b[39m[instance],\n\u001b[1;32m    216\u001b[0m         parameters\u001b[38;5;241m=\u001b[39mparameters,\n\u001b[1;32m    217\u001b[0m     ):\n\u001b[1;32m    218\u001b[0m         \u001b[38;5;28;01mif\u001b[39;00m \u001b[38;5;28mlen\u001b[39m(dict_list) \u001b[38;5;241m>\u001b[39m \u001b[38;5;241m1\u001b[39m:\n\u001b[1;32m    219\u001b[0m             \u001b[38;5;28;01mraise\u001b[39;00m \u001b[38;5;167;01mValueError\u001b[39;00m(\n\u001b[1;32m    220\u001b[0m                 \u001b[38;5;124mf\u001b[39m\u001b[38;5;124m\"\u001b[39m\u001b[38;5;124mExpected to receive a single output, but got \u001b[39m\u001b[38;5;132;01m{\u001b[39;00mdict_list\u001b[38;5;132;01m}\u001b[39;00m\u001b[38;5;124m\"\u001b[39m\n\u001b[1;32m    221\u001b[0m             )\n",
      "File \u001b[0;32m/opt/conda/lib/python3.10/site-packages/google/cloud/aiplatform/_streaming_prediction.py:158\u001b[0m, in \u001b[0;36mpredict_stream_of_dict_lists_from_single_dict_list\u001b[0;34m(prediction_service_client, endpoint_name, dict_list, parameters)\u001b[0m\n\u001b[1;32m    156\u001b[0m tensor_list \u001b[38;5;241m=\u001b[39m [value_to_tensor(d) \u001b[38;5;28;01mfor\u001b[39;00m d \u001b[38;5;129;01min\u001b[39;00m dict_list]\n\u001b[1;32m    157\u001b[0m parameters_tensor \u001b[38;5;241m=\u001b[39m value_to_tensor(parameters) \u001b[38;5;28;01mif\u001b[39;00m parameters \u001b[38;5;28;01melse\u001b[39;00m \u001b[38;5;28;01mNone\u001b[39;00m\n\u001b[0;32m--> 158\u001b[0m \u001b[38;5;28;01mfor\u001b[39;00m tensor_list \u001b[38;5;129;01min\u001b[39;00m predict_stream_of_tensor_lists_from_single_tensor_list(\n\u001b[1;32m    159\u001b[0m     prediction_service_client\u001b[38;5;241m=\u001b[39mprediction_service_client,\n\u001b[1;32m    160\u001b[0m     endpoint_name\u001b[38;5;241m=\u001b[39mendpoint_name,\n\u001b[1;32m    161\u001b[0m     tensor_list\u001b[38;5;241m=\u001b[39mtensor_list,\n\u001b[1;32m    162\u001b[0m     parameters_tensor\u001b[38;5;241m=\u001b[39mparameters_tensor,\n\u001b[1;32m    163\u001b[0m ):\n\u001b[1;32m    164\u001b[0m     \u001b[38;5;28;01myield\u001b[39;00m [tensor_to_value(tensor\u001b[38;5;241m.\u001b[39m_pb) \u001b[38;5;28;01mfor\u001b[39;00m tensor \u001b[38;5;129;01min\u001b[39;00m tensor_list]\n",
      "File \u001b[0;32m/opt/conda/lib/python3.10/site-packages/google/cloud/aiplatform/_streaming_prediction.py:107\u001b[0m, in \u001b[0;36mpredict_stream_of_tensor_lists_from_single_tensor_list\u001b[0;34m(prediction_service_client, endpoint_name, tensor_list, parameters_tensor)\u001b[0m\n\u001b[1;32m     91\u001b[0m \u001b[38;5;250m\u001b[39m\u001b[38;5;124;03m\"\"\"Predicts a stream of lists of `Tensor` objects from a single list of `Tensor` objects.\u001b[39;00m\n\u001b[1;32m     92\u001b[0m \n\u001b[1;32m     93\u001b[0m \u001b[38;5;124;03mArgs:\u001b[39;00m\n\u001b[0;32m   (...)\u001b[0m\n\u001b[1;32m    100\u001b[0m \u001b[38;5;124;03m    A generator of model prediction `Tensor` lists.\u001b[39;00m\n\u001b[1;32m    101\u001b[0m \u001b[38;5;124;03m\"\"\"\u001b[39;00m\n\u001b[1;32m    102\u001b[0m request \u001b[38;5;241m=\u001b[39m prediction_service_types\u001b[38;5;241m.\u001b[39mStreamingPredictRequest(\n\u001b[1;32m    103\u001b[0m     endpoint\u001b[38;5;241m=\u001b[39mendpoint_name,\n\u001b[1;32m    104\u001b[0m     inputs\u001b[38;5;241m=\u001b[39mtensor_list,\n\u001b[1;32m    105\u001b[0m     parameters\u001b[38;5;241m=\u001b[39mparameters_tensor,\n\u001b[1;32m    106\u001b[0m )\n\u001b[0;32m--> 107\u001b[0m \u001b[38;5;28;01mfor\u001b[39;00m response \u001b[38;5;129;01min\u001b[39;00m \u001b[43mprediction_service_client\u001b[49m\u001b[38;5;241;43m.\u001b[39;49m\u001b[43mserver_streaming_predict\u001b[49m\u001b[43m(\u001b[49m\u001b[43mrequest\u001b[49m\u001b[38;5;241;43m=\u001b[39;49m\u001b[43mrequest\u001b[49m\u001b[43m)\u001b[49m:\n\u001b[1;32m    108\u001b[0m     \u001b[38;5;28;01myield\u001b[39;00m response\u001b[38;5;241m.\u001b[39moutputs\n",
      "File \u001b[0;32m/opt/conda/lib/python3.10/site-packages/google/cloud/aiplatform_v1/services/prediction_service/client.py:1734\u001b[0m, in \u001b[0;36mPredictionServiceClient.server_streaming_predict\u001b[0;34m(self, request, retry, timeout, metadata)\u001b[0m\n\u001b[1;32m   1731\u001b[0m \u001b[38;5;28mself\u001b[39m\u001b[38;5;241m.\u001b[39m_validate_universe_domain()\n\u001b[1;32m   1733\u001b[0m \u001b[38;5;66;03m# Send the request.\u001b[39;00m\n\u001b[0;32m-> 1734\u001b[0m response \u001b[38;5;241m=\u001b[39m \u001b[43mrpc\u001b[49m\u001b[43m(\u001b[49m\n\u001b[1;32m   1735\u001b[0m \u001b[43m    \u001b[49m\u001b[43mrequest\u001b[49m\u001b[43m,\u001b[49m\n\u001b[1;32m   1736\u001b[0m \u001b[43m    \u001b[49m\u001b[43mretry\u001b[49m\u001b[38;5;241;43m=\u001b[39;49m\u001b[43mretry\u001b[49m\u001b[43m,\u001b[49m\n\u001b[1;32m   1737\u001b[0m \u001b[43m    \u001b[49m\u001b[43mtimeout\u001b[49m\u001b[38;5;241;43m=\u001b[39;49m\u001b[43mtimeout\u001b[49m\u001b[43m,\u001b[49m\n\u001b[1;32m   1738\u001b[0m \u001b[43m    \u001b[49m\u001b[43mmetadata\u001b[49m\u001b[38;5;241;43m=\u001b[39;49m\u001b[43mmetadata\u001b[49m\u001b[43m,\u001b[49m\n\u001b[1;32m   1739\u001b[0m \u001b[43m\u001b[49m\u001b[43m)\u001b[49m\n\u001b[1;32m   1741\u001b[0m \u001b[38;5;66;03m# Done; return the response.\u001b[39;00m\n\u001b[1;32m   1742\u001b[0m \u001b[38;5;28;01mreturn\u001b[39;00m response\n",
      "File \u001b[0;32m/opt/conda/lib/python3.10/site-packages/google/api_core/gapic_v1/method.py:113\u001b[0m, in \u001b[0;36m_GapicCallable.__call__\u001b[0;34m(self, timeout, retry, *args, **kwargs)\u001b[0m\n\u001b[1;32m    110\u001b[0m     metadata\u001b[38;5;241m.\u001b[39mextend(\u001b[38;5;28mself\u001b[39m\u001b[38;5;241m.\u001b[39m_metadata)\n\u001b[1;32m    111\u001b[0m     kwargs[\u001b[38;5;124m\"\u001b[39m\u001b[38;5;124mmetadata\u001b[39m\u001b[38;5;124m\"\u001b[39m] \u001b[38;5;241m=\u001b[39m metadata\n\u001b[0;32m--> 113\u001b[0m \u001b[38;5;28;01mreturn\u001b[39;00m \u001b[43mwrapped_func\u001b[49m\u001b[43m(\u001b[49m\u001b[38;5;241;43m*\u001b[39;49m\u001b[43margs\u001b[49m\u001b[43m,\u001b[49m\u001b[43m \u001b[49m\u001b[38;5;241;43m*\u001b[39;49m\u001b[38;5;241;43m*\u001b[39;49m\u001b[43mkwargs\u001b[49m\u001b[43m)\u001b[49m\n",
      "File \u001b[0;32m/opt/conda/lib/python3.10/site-packages/google/api_core/grpc_helpers.py:159\u001b[0m, in \u001b[0;36m_wrap_stream_errors.<locals>.error_remapped_callable\u001b[0;34m(*args, **kwargs)\u001b[0m\n\u001b[1;32m    155\u001b[0m     \u001b[38;5;28;01mreturn\u001b[39;00m _StreamingResponseIterator(\n\u001b[1;32m    156\u001b[0m         result, prefetch_first_result\u001b[38;5;241m=\u001b[39mprefetch_first\n\u001b[1;32m    157\u001b[0m     )\n\u001b[1;32m    158\u001b[0m \u001b[38;5;28;01mexcept\u001b[39;00m grpc\u001b[38;5;241m.\u001b[39mRpcError \u001b[38;5;28;01mas\u001b[39;00m exc:\n\u001b[0;32m--> 159\u001b[0m     \u001b[38;5;28;01mraise\u001b[39;00m exceptions\u001b[38;5;241m.\u001b[39mfrom_grpc_error(exc) \u001b[38;5;28;01mfrom\u001b[39;00m \u001b[38;5;21;01mexc\u001b[39;00m\n",
      "\u001b[0;31mInternalServerError\u001b[0m: 500 Internal error encountered."
     ]
    }
   ],
   "source": [
    "agent.run(\"Do any product descriptions mention wood? Output them as JSON\")"
   ]
  },
  {
   "cell_type": "code",
   "execution_count": 78,
   "metadata": {
    "id": "Px8rsmWWng9m",
    "tags": []
   },
   "outputs": [
    {
     "name": "stdout",
     "output_type": "stream",
     "text": [
      "\n",
      "\n",
      "\u001b[1m> Entering new AgentExecutor chain...\u001b[0m\n",
      "\u001b[32;1m\u001b[1;3m Thought: The question asks for the square root of all ratings for product names featuring sofas. To answer this question, I need to first filter the dataframe to only include rows where the product name contains the word \"sofa\", then calculate the square root of the average_rating column for those rows.\n",
      "Action: [python_repl_ast]\n",
      "Action Input:\n",
      "```python\n",
      "sofa_df = df[df['product_name'].str.contains('sofa')]\n",
      "sofa_df['average_rating'].apply(lambda x: x ** 0.5)\n",
      "```\u001b[0m[python_repl_ast] is not a valid tool, try one of [python_repl_ast].\u001b[32;1m\u001b[1;3m Question: What is the square root of all ratings for product names featuring sofas?\n",
      "Thought: The question asks for the square root of all ratings for product names featuring sofas. To answer this question, I need to first filter the dataframe to only include rows where the product name contains the word \"sofa\", then calculate the square root of the average_rating column for those rows.\n",
      "Action: [python_repl_ast]\n",
      "Action Input:\n",
      "```python\n",
      "sofa_df = df[df['product_name'].str.contains('sofa')]\n",
      "sofa_df['average_rating'].apply(lambda x: x **\u001b[0m[python_repl_ast] is not a valid tool, try one of [python_repl_ast].\u001b[32;1m\u001b[1;3m Question: What is the square root of all ratings for product names featuring sofas?\n",
      "Thought: The question asks for the square root of all ratings for product names featuring sofas. To answer this question, I need to first filter the dataframe to only include rows where the product name contains the word \"sofa\", then calculate the square root of the average_rating column for those rows.\n",
      "Action: [python_repl_ast]\n",
      "Action Input:\n",
      "```python\n",
      "sofa_df = df[df['product_name'].str.contains('sofa')]\n",
      "sofa_df['average_rating'].apply(lambda x: x **\u001b[0m[python_repl_ast] is not a valid tool, try one of [python_repl_ast].\u001b[32;1m\u001b[1;3m Question: What is the square root of all ratings for product names featuring sofas?\n",
      "Thought: The question asks for the square root of all ratings for product names featuring sofas. To answer this question, I need to first filter the dataframe to only include rows where the product name contains the word \"sofa\", then calculate the square root of the average_rating column for those rows.\n",
      "Action: [python_repl_ast]\n",
      "Action Input:\n",
      "```python\n",
      "sofa_df = df[df['product_name'].str.contains('sofa')]\n",
      "sofa_df['average_rating'].apply(lambda x: x **\u001b[0m[python_repl_ast] is not a valid tool, try one of [python_repl_ast].\u001b[32;1m\u001b[1;3m Question: What is the square root of all ratings for product names featuring sofas?\n",
      "Thought: The question asks for the square root of all ratings for product names featuring sofas. To answer this question, I need to first filter the dataframe to only include rows where the product name contains the word \"sofa\", then calculate the square root of the average_rating column for those rows.\n",
      "Action: [python_repl_ast]\n",
      "Action Input:\n",
      "```python\n",
      "sofa_df = df[df['product_name'].str.contains('sofa')]\n",
      "sofa_df['average_rating'].apply(lambda x: x **\u001b[0m[python_repl_ast] is not a valid tool, try one of [python_repl_ast].\u001b[32;1m\u001b[1;3m Question: What is the square root of all ratings for product names featuring sofas?\n",
      "Thought: The question asks for the square root of all ratings for product names featuring sofas. To answer this question, I need to first filter the dataframe to only include rows where the product name contains the word \"sofa\", then calculate the square root of the average_rating column for those rows.\n",
      "Action: [python_repl_ast]\n",
      "Action Input:\n",
      "```python\n",
      "sofa_df = df[df['product_name'].str.contains('sofa')]\n",
      "sofa_df['average_rating'].apply(lambda x: x **\u001b[0m[python_repl_ast] is not a valid tool, try one of [python_repl_ast].\u001b[32;1m\u001b[1;3m Question: What is the square root of all ratings for product names featuring sofas?\n",
      "Thought: The question asks for the square root of all ratings for product names featuring sofas. To answer this question, I need to first filter the dataframe to only include rows where the product name contains the word \"sofa\", then calculate the square root of the average_rating column for those rows.\n",
      "Action: [python_repl_ast]\n",
      "Action Input:\n",
      "```python\n",
      "sofa_df = df[df['product_name'].str.contains('sofa')]\n",
      "sofa_df['average_rating'].apply(lambda x: x **\u001b[0m[python_repl_ast] is not a valid tool, try one of [python_repl_ast].\u001b[32;1m\u001b[1;3m Question: What is the square root of all ratings for product names featuring sofas?\n",
      "Thought: The question asks for the square root of all ratings for product names featuring sofas. To answer this question, I need to first filter the dataframe to only include rows where the product name contains the word \"sofa\", then calculate the square root of the average_rating column for those rows.\n",
      "Action: [python_repl_ast]\n",
      "Action Input:\n",
      "```python\n",
      "sofa_df = df[df['product_name'].str.contains('sofa')]\n",
      "sofa_df['average_rating'].apply(lambda x: x **\u001b[0m[python_repl_ast] is not a valid tool, try one of [python_repl_ast].\u001b[32;1m\u001b[1;3m Question: What is the square root of all ratings for product names featuring sofas?\n",
      "Thought: The question asks for the square root of all ratings for product names featuring sofas. To answer this question, I need to first filter the dataframe to only include rows where the product name contains the word \"sofa\", then calculate the square root of the average_rating column for those rows.\n",
      "Action: [python_repl_ast]\n",
      "Action Input:\n",
      "```python\n",
      "sofa_df = df[df['product_name'].str.contains('sofa')]\n",
      "sofa_df['average_rating'].apply(lambda x: x **\u001b[0m[python_repl_ast] is not a valid tool, try one of [python_repl_ast].\u001b[32;1m\u001b[1;3m Question: What is the square root of all ratings for product names featuring sofas?\n",
      "Thought: The question asks for the square root of all ratings for product names featuring sofas. To answer this question, I need to first filter the dataframe to only include rows where the product name contains the word \"sofa\", then calculate the square root of the average_rating column for those rows.\n",
      "Action: [python_repl_ast]\n",
      "Action Input:\n",
      "```python\n",
      "sofa_df = df[df['product_name'].str.contains('sofa')]\n",
      "sofa_df['average_rating'].apply(lambda x: x **\u001b[0m[python_repl_ast] is not a valid tool, try one of [python_repl_ast].\u001b[32;1m\u001b[1;3m Question: What is the square root of all ratings for product names featuring sofas?\n",
      "Thought: The question asks for the square root of all ratings for product names featuring sofas. To answer this question, I need to first filter the dataframe to only include rows where the product name contains the word \"sofa\", then calculate the square root of the average_rating column for those rows.\n",
      "Action: [python_repl_ast]\n",
      "Action Input:\n",
      "```python\n",
      "sofa_df = df[df['product_name'].str.contains('sofa')]\n",
      "sofa_df['average_rating'].apply(lambda x: x **\u001b[0m[python_repl_ast] is not a valid tool, try one of [python_repl_ast].\u001b[32;1m\u001b[1;3m Question: What is the square root of all ratings for product names featuring sofas?\n",
      "Thought: The question asks for the square root of all ratings for product names featuring sofas. To answer this question, I need to first filter the dataframe to only include rows where the product name contains the word \"sofa\", then calculate the square root of the average_rating column for those rows.\n",
      "Action: [python_repl_ast]\n",
      "Action Input:\n",
      "```python\n",
      "sofa_df = df[df['product_name'].str.contains('sofa')]\n",
      "sofa_df['average_rating'].apply(lambda x: x **\u001b[0m[python_repl_ast] is not a valid tool, try one of [python_repl_ast].\u001b[32;1m\u001b[1;3m Question: What is the square root of all ratings for product names featuring sofas\n",
      "Thought: The question asks for the square root of all ratings for product names featuring sofas. To answer this question, I need to first filter the dataframe to only include rows where the product name contains the word \"sofa\", then calculate the square root of the average_rating column for those rows.\n",
      "Action: [python_repl_ast]\n",
      "Action Input:\n",
      "```python\n",
      "sofa_df = df[df['product_name'].str.contains('sofa')]\n",
      "sofa_df['average_rating'].apply(lambda x: x ** \u001b[0m[python_repl_ast] is not a valid tool, try one of [python_repl_ast].\u001b[32;1m\u001b[1;3m Question: What is the square root of all ratings for product names featuring sofas\n",
      "Thought: The question asks for the square root of all ratings for product names featuring sofas. To answer this question, I need to first filter the dataframe to only include rows where the product name contains the word \"sofa\", then calculate the square root of the average_rating column for those rows.\n",
      "Action: [python_repl_ast]\n",
      "Action Input:\n",
      "```python\n",
      "sofa_df = df[df['product_name'].str.contains('sofa')]\n",
      "sofa_df['average_rating'].apply(lambda x: x ** \u001b[0m[python_repl_ast] is not a valid tool, try one of [python_repl_ast].\u001b[32;1m\u001b[1;3m Question: What is the square root of all ratings for product names featuring sofas\n",
      "Thought: The question asks for the square root of all ratings for product names featuring sofas. To answer this question, I need to first filter the dataframe to only include rows where the product name contains the word \"sofa\", then calculate the square root of the average_rating column for those rows.\n",
      "Action: [python_repl_ast]\n",
      "Action Input:\n",
      "```python\n",
      "sofa_df = df[df['product_name'].str.contains('sofa')]\n",
      "sofa_df['average_rating'].apply(lambda x: x ** \u001b[0m[python_repl_ast] is not a valid tool, try one of [python_repl_ast].\u001b[32;1m\u001b[1;3m\u001b[0m\n",
      "\n",
      "\u001b[1m> Finished chain.\u001b[0m\n"
     ]
    },
    {
     "data": {
      "text/plain": [
       "'Agent stopped due to iteration limit or time limit.'"
      ]
     },
     "execution_count": 78,
     "metadata": {},
     "output_type": "execute_result"
    }
   ],
   "source": [
    "agent.run(\"What is the square root of all ratings for product names featuring sofas\")"
   ]
  },
  {
   "cell_type": "markdown",
   "metadata": {
    "id": "-AhOEC8snqs1"
   },
   "source": [
    "### Vector stores\n",
    "\n",
    "We will explore embeddings vectors and vector stores in more detail in [subsequent notebooks](rastringer.io.github.com/promptcraft). Let's see what's possible by concatenating our <font color='blue' face=\"Courier New\" size=\"+2\">product_title</font> and <font color='blue' face=\"Courier New\" size=\"+2\">product_description</font> columns and creating a text file from the result. We can then create embeddings and perform various retrieval and Q&A tasks.\n",
    "\n",
    "We will use the open source [Chroma](https://docs.trychroma.com/) vector store."
   ]
  },
  {
   "cell_type": "code",
   "execution_count": 79,
   "metadata": {
    "id": "X_afza56nyru",
    "tags": []
   },
   "outputs": [],
   "source": [
    "from langchain.embeddings.sentence_transformer import SentenceTransformerEmbeddings\n",
    "from langchain.text_splitter import CharacterTextSplitter\n",
    "from langchain.vectorstores import Chroma\n",
    "from langchain.document_loaders import TextLoader"
   ]
  },
  {
   "cell_type": "markdown",
   "metadata": {
    "id": "g6OAprgzPMXu"
   },
   "source": [
    "We will embed a <font color='blue' face=\"Courier New\" size=\"+2\">text_data</font> column, which will be a concatenation of <font color='blue' face=\"Courier New\" size=\"+2\">product_name</font> and <font color='blue' face=\"Courier New\" size=\"+2\">product_description</font>, since both columns provide useful contextual information."
   ]
  },
  {
   "cell_type": "code",
   "execution_count": 80,
   "metadata": {
    "id": "FDQPwlsUnyt2",
    "tags": []
   },
   "outputs": [],
   "source": [
    "product_df['text_data'] = product_df['product_name'] + \" \" + product_df['product_description']"
   ]
  },
  {
   "cell_type": "code",
   "execution_count": 81,
   "metadata": {
    "id": "aookNZO4PJE0",
    "tags": []
   },
   "outputs": [
    {
     "data": {
      "text/plain": [
       "0       solid wood platform bed good , deep sleep can ...\n",
       "1       all-clad 7 qt . slow cooker create delicious s...\n",
       "2       all-clad electrics 6.5 qt . slow cooker prepar...\n",
       "3       all-clad all professional tools pizza cutter t...\n",
       "4       baldwin prestige alcott passage knob with roun...\n",
       "                              ...                        \n",
       "1991    2 '' gel memory foam mattress topper the refre...\n",
       "1993    0.5 '' polyester mattress pad this luxurious m...\n",
       "1995    alwyn home two-sided 6.5 '' firm memory foam m...\n",
       "1996    8 '' medium innerspring mattress if you want t...\n",
       "1999    betances all in one bed blocker hypoallergenic...\n",
       "Name: text_data, Length: 1269, dtype: object"
      ]
     },
     "execution_count": 81,
     "metadata": {},
     "output_type": "execute_result"
    }
   ],
   "source": [
    "product_df[\"text_data\"]"
   ]
  },
  {
   "cell_type": "code",
   "execution_count": 82,
   "metadata": {
    "id": "vcXg4duWnywK",
    "tags": []
   },
   "outputs": [],
   "source": [
    "# Save the \"text_data\" column to a text file\n",
    "text_file_path = \"combined_text_data.txt\"\n",
    "product_df['text_data'].to_csv(text_file_path, sep='\\t', index=False, header=False)\n"
   ]
  },
  {
   "cell_type": "code",
   "execution_count": 83,
   "metadata": {
    "id": "HgabFckIn4ML",
    "tags": []
   },
   "outputs": [],
   "source": [
    "# load the document and split it into chunks\n",
    "loader = TextLoader(\"combined_text_data.txt\")\n",
    "documents = loader.load()"
   ]
  },
  {
   "cell_type": "markdown",
   "metadata": {
    "id": "WwLsDcG-Ph-t"
   },
   "source": []
  },
  {
   "cell_type": "markdown",
   "metadata": {
    "id": "5__alNyWPiG4"
   },
   "source": [
    "### Text splitter\n",
    "\n",
    "Splitting text is common when working with LangChain and LLMs in general. This practice means we can feed large amounts of data to LLMs for parsing or embedding in chunks, or batches.\n",
    "\n",
    "Ideally, we want to do so in a way that keeps meaningful chunks together. We will use the default recommended <font color='blue' face=\"Courier New\" size=\"+2\">RecursiveCharacterTextSplitter</font>. We specify a <font color='blue' face=\"Courier New\" size=\"+2\">chunk_size</font> and <font color='blue' face=\"Courier New\" size=\"+2\">chunk_overlap</font> to set an upper limit on the size and overlap between the splits / chunks."
   ]
  },
  {
   "cell_type": "code",
   "execution_count": 84,
   "metadata": {
    "id": "-w5bcOjgn5oc",
    "tags": []
   },
   "outputs": [],
   "source": [
    "from langchain.text_splitter import RecursiveCharacterTextSplitter\n",
    "text_splitter = RecursiveCharacterTextSplitter(\n",
    "    chunk_size = 1500,\n",
    "    chunk_overlap = 150\n",
    ")\n",
    "\n",
    "docs = text_splitter.split_documents(documents)"
   ]
  },
  {
   "cell_type": "code",
   "execution_count": 85,
   "metadata": {
    "id": "TUGo_V-Zn6yS",
    "tags": []
   },
   "outputs": [
    {
     "data": {
      "text/plain": [
       "528"
      ]
     },
     "execution_count": 85,
     "metadata": {},
     "output_type": "execute_result"
    }
   ],
   "source": [
    "len(docs)"
   ]
  },
  {
   "cell_type": "code",
   "execution_count": 86,
   "metadata": {
    "id": "MBAQIkTEn8MP",
    "tags": []
   },
   "outputs": [],
   "source": [
    "from langchain.vectorstores import Chroma\n",
    "\n",
    "# Clear any previous vector store\n",
    "!rm -rf ./docs/chroma"
   ]
  },
  {
   "cell_type": "code",
   "execution_count": 87,
   "metadata": {
    "id": "aZsonVgen9rk",
    "tags": []
   },
   "outputs": [
    {
     "name": "stderr",
     "output_type": "stream",
     "text": [
      "/var/tmp/ipykernel_9420/745514581.py:2: LangChainDeprecationWarning: The class `HuggingFaceEmbeddings` was deprecated in LangChain 0.2.2 and will be removed in 1.0. An updated version of the class exists in the langchain-huggingface package and should be used instead. To use it run `pip install -U langchain-huggingface` and import as `from langchain_huggingface import HuggingFaceEmbeddings`.\n",
      "  embedding_function = SentenceTransformerEmbeddings(model_name=\"all-MiniLM-L6-v2\")\n",
      "/opt/conda/lib/python3.10/site-packages/sentence_transformers/cross_encoder/CrossEncoder.py:11: TqdmExperimentalWarning: Using `tqdm.autonotebook.tqdm` in notebook mode. Use `tqdm.tqdm` instead to force console mode (e.g. in jupyter console)\n",
      "  from tqdm.autonotebook import tqdm, trange\n"
     ]
    },
    {
     "data": {
      "application/vnd.jupyter.widget-view+json": {
       "model_id": "321e3921f7fe4e1db42cf2c9a17c74e4",
       "version_major": 2,
       "version_minor": 0
      },
      "text/plain": [
       "modules.json:   0%|          | 0.00/349 [00:00<?, ?B/s]"
      ]
     },
     "metadata": {},
     "output_type": "display_data"
    },
    {
     "data": {
      "application/vnd.jupyter.widget-view+json": {
       "model_id": "139eb912ea99496d9eca0dd18452a1e9",
       "version_major": 2,
       "version_minor": 0
      },
      "text/plain": [
       "config_sentence_transformers.json:   0%|          | 0.00/116 [00:00<?, ?B/s]"
      ]
     },
     "metadata": {},
     "output_type": "display_data"
    },
    {
     "data": {
      "application/vnd.jupyter.widget-view+json": {
       "model_id": "3a6f06b9a74e4609b1bc6f72026f0f50",
       "version_major": 2,
       "version_minor": 0
      },
      "text/plain": [
       "README.md:   0%|          | 0.00/10.7k [00:00<?, ?B/s]"
      ]
     },
     "metadata": {},
     "output_type": "display_data"
    },
    {
     "data": {
      "application/vnd.jupyter.widget-view+json": {
       "model_id": "5800ad9532ba4199a47438ebf447d701",
       "version_major": 2,
       "version_minor": 0
      },
      "text/plain": [
       "sentence_bert_config.json:   0%|          | 0.00/53.0 [00:00<?, ?B/s]"
      ]
     },
     "metadata": {},
     "output_type": "display_data"
    },
    {
     "data": {
      "application/vnd.jupyter.widget-view+json": {
       "model_id": "06cfba6f40c84ddebba37fec6982ea31",
       "version_major": 2,
       "version_minor": 0
      },
      "text/plain": [
       "config.json:   0%|          | 0.00/612 [00:00<?, ?B/s]"
      ]
     },
     "metadata": {},
     "output_type": "display_data"
    },
    {
     "data": {
      "application/vnd.jupyter.widget-view+json": {
       "model_id": "f9b6f350f32b4a5dabf5647874ef6c7d",
       "version_major": 2,
       "version_minor": 0
      },
      "text/plain": [
       "model.safetensors:   0%|          | 0.00/90.9M [00:00<?, ?B/s]"
      ]
     },
     "metadata": {},
     "output_type": "display_data"
    },
    {
     "data": {
      "application/vnd.jupyter.widget-view+json": {
       "model_id": "2dc3871ad6c741fdbc0cc1ad6b9f8f2e",
       "version_major": 2,
       "version_minor": 0
      },
      "text/plain": [
       "tokenizer_config.json:   0%|          | 0.00/350 [00:00<?, ?B/s]"
      ]
     },
     "metadata": {},
     "output_type": "display_data"
    },
    {
     "data": {
      "application/vnd.jupyter.widget-view+json": {
       "model_id": "2d44f4e07c7d4e45bf63bb706c251cd9",
       "version_major": 2,
       "version_minor": 0
      },
      "text/plain": [
       "vocab.txt:   0%|          | 0.00/232k [00:00<?, ?B/s]"
      ]
     },
     "metadata": {},
     "output_type": "display_data"
    },
    {
     "data": {
      "application/vnd.jupyter.widget-view+json": {
       "model_id": "3d6a3b6385aa4b6abf552c0897f1dc9e",
       "version_major": 2,
       "version_minor": 0
      },
      "text/plain": [
       "tokenizer.json:   0%|          | 0.00/466k [00:00<?, ?B/s]"
      ]
     },
     "metadata": {},
     "output_type": "display_data"
    },
    {
     "data": {
      "application/vnd.jupyter.widget-view+json": {
       "model_id": "634ad8b3131c4bf3895ce1bf32d85bbc",
       "version_major": 2,
       "version_minor": 0
      },
      "text/plain": [
       "special_tokens_map.json:   0%|          | 0.00/112 [00:00<?, ?B/s]"
      ]
     },
     "metadata": {},
     "output_type": "display_data"
    },
    {
     "name": "stderr",
     "output_type": "stream",
     "text": [
      "/opt/conda/lib/python3.10/site-packages/transformers/tokenization_utils_base.py:1601: FutureWarning: `clean_up_tokenization_spaces` was not set. It will be set to `True` by default. This behavior will be depracted in transformers v4.45, and will be then set to `False` by default. For more details check this issue: https://github.com/huggingface/transformers/issues/31884\n",
      "  warnings.warn(\n"
     ]
    },
    {
     "data": {
      "application/vnd.jupyter.widget-view+json": {
       "model_id": "bd5860d9f6954874a95a16e73a6899d4",
       "version_major": 2,
       "version_minor": 0
      },
      "text/plain": [
       "1_Pooling/config.json:   0%|          | 0.00/190 [00:00<?, ?B/s]"
      ]
     },
     "metadata": {},
     "output_type": "display_data"
    }
   ],
   "source": [
    "# Takes ~3 mins to run\n",
    "embedding_function = SentenceTransformerEmbeddings(model_name=\"all-MiniLM-L6-v2\")\n",
    "db = Chroma.from_documents(docs, embedding_function)"
   ]
  },
  {
   "cell_type": "code",
   "execution_count": 88,
   "metadata": {
    "id": "pLHE2R5kolYN",
    "tags": []
   },
   "outputs": [],
   "source": [
    "query = \"Is there a slow cooker?\"\n",
    "docs = db.similarity_search(query, 2)"
   ]
  },
  {
   "cell_type": "code",
   "execution_count": 89,
   "metadata": {
    "id": "ePkNsfD_olbH",
    "tags": []
   },
   "outputs": [
    {
     "data": {
      "text/plain": [
       "Document(metadata={'source': 'combined_text_data.txt'}, page_content=\"all-clad 7 qt . slow cooker create delicious slow-cooked meals , from tender meat to flavorful veggies , with this easy-to-use slow cooker . the unit features a nonstick cast-aluminum insert that moves seamlessly from the oven or stovetop to the electric base to the table . you can use the insert alone or with the slow cooker to make a variety of one-pot dishes from soup to desserts , and much more . you can even prepare your ingredients in the morning , place everything in the slow cooker , and walk away to come home to the aroma of a hot , healthy dinner at the end of a busy day . with its sleek stainless-steel finish , the slow cooker not only presents beautifully , but it ’ s also the perfect size to accommodate the whole family or a large group when entertaining .\\nall-clad electrics 6.5 qt . slow cooker prepare home-cooked meals on any schedule with this essential slow cooker , featuring a dishwasher-safe insert and 26-hour timer .\\nall-clad all professional tools pizza cutter this original stainless tool was designed to complement manufacturer 's cookware . the pizza cutter features a sharp rotary blade to easily cut through pizza crust , pasta dough and pastries .\")"
      ]
     },
     "execution_count": 89,
     "metadata": {},
     "output_type": "execute_result"
    }
   ],
   "source": [
    "docs[0]"
   ]
  },
  {
   "cell_type": "code",
   "execution_count": 90,
   "metadata": {
    "id": "zhmN82xyn-pR",
    "tags": []
   },
   "outputs": [],
   "source": [
    "query = \"Recommend a durable door mat\"\n",
    "docs = db.similarity_search(query, 2)"
   ]
  },
  {
   "cell_type": "code",
   "execution_count": 91,
   "metadata": {
    "id": "x8uYSe_eRG9K",
    "tags": []
   },
   "outputs": [
    {
     "data": {
      "text/plain": [
       "Document(metadata={'source': 'combined_text_data.txt'}, page_content=\"keppler pineapple 36 in . x 15 in . non-slip outdoor boot tray when life becomes a revolving door of muddy feet , dirty paws , and whatever else mother nature can throw your way ; you need more than just a mat . you need a boot tray . built to tackle the rain , snow , and mud your lovable messes bring in on their feet , the boot tray features tough pet fiber , a durable rubber backing , and the unique water dam border ; keeping dust , dirt , grime and moisture contained and off your floors . we make this rugged beauty right here in the usa from industrial-grade materials designed for the most demanding environments , inside or outside . and because we use post-consumer materials in our rubber backing and fiber tops , you 'll appreciate this environmentally friendly solution for years to come .\\nhulcott single curtain rod decorate your windows with this kerby knob single curtain rod & hardware set . the rich finish is perfect for any home or patio decor . durable steel rod construction ensures long-lasting use . perfect for any bedroom , living room , kitchen , guest room , or patio . includes brackets , mounting hardware and instructions for easy installation .\")"
      ]
     },
     "execution_count": 91,
     "metadata": {},
     "output_type": "execute_result"
    }
   ],
   "source": [
    "docs[0]"
   ]
  },
  {
   "cell_type": "markdown",
   "metadata": {
    "id": "hNN4-OPjop3Y"
   },
   "source": [
    "### Retrieval\n",
    "\n",
    "A <font color='blue' face=\"Courier New\" size=\"+2\">Retriever</font> is a method for answering questions based on information in an index.\n",
    "\n",
    "Here, we use <font color='blue' face=\"Courier New\" size=\"+2\">RetrievalQA</font> this ability with a question and answering chain."
   ]
  },
  {
   "cell_type": "code",
   "execution_count": 92,
   "metadata": {
    "id": "MhaPqMI1opLR",
    "tags": []
   },
   "outputs": [],
   "source": [
    "from langchain.chains import RetrievalQA\n",
    "\n",
    "llm = VertexAI(\n",
    "    model_name=\"text-bison@001\",\n",
    "    max_output_tokens=1024,\n",
    "    temperature=0.1,\n",
    "    top_p=0.8,\n",
    "    top_k=40,\n",
    "    verbose=True,\n",
    ")\n",
    "\n",
    "qa_chain = RetrievalQA.from_chain_type(\n",
    "    llm,\n",
    "    retriever=db.as_retriever()\n",
    ")"
   ]
  },
  {
   "cell_type": "markdown",
   "metadata": {
    "id": "rIhv6u72ovGo"
   },
   "source": [
    "### Prompt"
   ]
  },
  {
   "cell_type": "code",
   "execution_count": 93,
   "metadata": {
    "id": "G2LlRGVKopO_",
    "tags": []
   },
   "outputs": [],
   "source": [
    "from langchain.prompts import PromptTemplate\n",
    "\n",
    "# Build prompt\n",
    "template = \"\"\"Use the following pieces of context to answer the question at the end. \\\n",
    "If you don't know the answer, just say that you don't know, \\\n",
    "don't try to make up an answer. Use three sentences maximum. \\\n",
    "{context}\n",
    "Question: {question}\n",
    "Helpful Answer:\"\"\"\n",
    "QA_CHAIN_PROMPT = PromptTemplate(input_variables=[\"context\", \"question\"],template=template,)\n"
   ]
  },
  {
   "cell_type": "code",
   "execution_count": 94,
   "metadata": {
    "id": "dpTMb0zZozCX",
    "tags": []
   },
   "outputs": [],
   "source": [
    "# Run chain\n",
    "qa_chain = RetrievalQA.from_chain_type(\n",
    "    llm,\n",
    "    retriever=db.as_retriever(),\n",
    "    return_source_documents=True,\n",
    "    chain_type_kwargs={\"prompt\": QA_CHAIN_PROMPT}\n",
    ")"
   ]
  },
  {
   "cell_type": "code",
   "execution_count": 95,
   "metadata": {
    "id": "F2rLBHDYozE0",
    "tags": []
   },
   "outputs": [
    {
     "data": {
      "text/plain": [
       "'The torain comforter set is a good choice for comfortable bed sheets. It is made of short furry plush material that will most certainly be your most touchable bedding addition yet.'"
      ]
     },
     "execution_count": 95,
     "metadata": {},
     "output_type": "execute_result"
    }
   ],
   "source": [
    "question = \"Can you recommend comfortable bed sheets?\"\n",
    "result = qa_chain({\"query\": question})\n",
    "result[\"result\"]"
   ]
  },
  {
   "cell_type": "markdown",
   "metadata": {},
   "source": [
    "### Try to have it answer this question: \"How about a Persian-style rug for my living room.\"\n",
    "<br>\n",
    "<details><summary>Click for <b>code</b></summary>\n",
    "<p>\n",
    "\n",
    "```python\n",
    "question = \"How about a Persian-style rug for my living room.\"\n",
    "result = qa_chain({\"query\": question})\n",
    "result[\"result\"]\n",
    "```\n",
    "</p>\n",
    "</details>\n"
   ]
  },
  {
   "cell_type": "code",
   "execution_count": 96,
   "metadata": {
    "id": "u5IFVCxbRNqa",
    "tags": []
   },
   "outputs": [
    {
     "data": {
      "text/plain": [
       "'The mayna shag bright ivory rug is a great option for a Persian-style rug for your living room. It is made in Turkey and features a traditional theme. It is in a bright ivory hue, with cotton backing, and is fade and stain resistant, and safe on heated floors. To clean this piece, we recommend regular vacuuming and spot cleaning.'"
      ]
     },
     "execution_count": 96,
     "metadata": {},
     "output_type": "execute_result"
    }
   ],
   "source": []
  },
  {
   "cell_type": "markdown",
   "metadata": {
    "id": "iHr7hwltRiMc"
   },
   "source": [
    "## Summary\n",
    "\n",
    "In this whirlwind tour of some of LangChain's features, we covered:\n",
    "\n",
    "* Memory\n",
    "* Chains\n",
    "* Agents\n",
    "* Vector stores\n",
    "\n",
    "LangChain is a fast-evolving project. To explore more features and keep up-to-date with developments, please see the [website](https://www.langchain.com/) or [Python documentation](https://python.langchain.com/docs/get_started/introduction).\n",
    "\n",
    "With thanks to Harrison Chase and the excellent LangChain courses at [deeplearning.ai](https://deeplearning.ai/short-courses)"
   ]
  }
 ],
 "metadata": {
  "colab": {
   "provenance": []
  },
  "environment": {
   "kernel": "conda-base-py",
   "name": "workbench-notebooks.m124",
   "type": "gcloud",
   "uri": "us-docker.pkg.dev/deeplearning-platform-release/gcr.io/workbench-notebooks:m124"
  },
  "kernelspec": {
   "display_name": "Python 3 (ipykernel) (Local) (Local)",
   "language": "python",
   "name": "conda-base-py"
  },
  "language_info": {
   "codemirror_mode": {
    "name": "ipython",
    "version": 3
   },
   "file_extension": ".py",
   "mimetype": "text/x-python",
   "name": "python",
   "nbconvert_exporter": "python",
   "pygments_lexer": "ipython3",
   "version": "3.10.14"
  }
 },
 "nbformat": 4,
 "nbformat_minor": 4
}
